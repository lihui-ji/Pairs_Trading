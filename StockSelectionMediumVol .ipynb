{
 "cells": [
  {
   "cell_type": "code",
   "execution_count": 1,
   "metadata": {},
   "outputs": [],
   "source": [
    "from ib_insync import *\n",
    "from datetime import datetime\n",
    "import numpy as np\n",
    "import pandas as pd\n",
    "from trading_stratigies import intersection, sort_first_by_second, get_medium_vol_stocks, calculate_vol, write_file"
   ]
  },
  {
   "cell_type": "code",
   "execution_count": 2,
   "metadata": {},
   "outputs": [],
   "source": [
    "# The function to get contract historical data\n",
    "def get_contract_data(contract, look_back, resolution, side, end_time):\n",
    "    bar = ib.reqHistoricalData(contract, endDateTime = end_time, durationStr=look_back,\n",
    "        barSizeSetting= resolution, whatToShow=side, useRTH=True, formatDate=1)\n",
    "# use util in ib-insync to convert bar data into pandas dataframe    \n",
    "    df = util.df(bar)\n",
    "    return df "
   ]
  },
  {
   "cell_type": "code",
   "execution_count": 3,
   "metadata": {},
   "outputs": [],
   "source": [
    "# The function to get stock historical data\n",
    "def get_stock_data(ticker, look_back, resolution, side, end_time):\n",
    "    contract = Contract(symbol = ticker, secType = 'STK', exchange = 'SMART',currency = 'USD')   \n",
    "    if len(ib.qualifyContracts(contract)) == 0:\n",
    "        return pd.DataFrame()\n",
    "    return get_contract_data(contract, look_back, resolution, side, end_time)"
   ]
  },
  {
   "cell_type": "code",
   "execution_count": 4,
   "metadata": {},
   "outputs": [
    {
     "data": {
      "text/plain": [
       "<IB connected to 127.0.0.1:7497 clientId=10>"
      ]
     },
     "execution_count": 4,
     "metadata": {},
     "output_type": "execute_result"
    }
   ],
   "source": [
    "# Connect to IB Server\n",
    "ib=IB()\n",
    "util.startLoop()\n",
    "ib.connect('127.0.0.1',7497, clientId= 10)"
   ]
  },
  {
   "cell_type": "code",
   "execution_count": 5,
   "metadata": {},
   "outputs": [],
   "source": [
    "SectorNames = (\"BasicMaterials, ConsumerCyclical, FinancialServices, RealEstate, ConsumerDefensive, Healthcare, \\\n",
    "Utilities, CommunicationServices, Energy, Industrials, Technology\").split(', ')"
   ]
  },
  {
   "cell_type": "markdown",
   "metadata": {},
   "source": [
    "The stock screening:\n",
    "\n",
    "1 feed the stocks list selected by main.py (dollar_volume_min_price)\n",
    "\n",
    "2 Find the intersection of lists (get stocks with continuous behavior, rule out temporarily hot stocks)\n",
    "\n",
    "3 Use historical data to exculde top high-volatile stocks"
   ]
  },
  {
   "cell_type": "code",
   "execution_count": 6,
   "metadata": {},
   "outputs": [],
   "source": [
    "# April 1 filtered_stocks (dollar_volume_min_price)\n",
    "BasicMaterials = ['CLF' ,'X' ,'PX' ,'NUE' ,'RIO' ,'NEM' ,'FCX' ,'SHW' ,'ALB' ,'IST' ,'MLM' ,'ABX' ,'PPG' ,'VMC' ,'MOS' ,'APD' ,'ECL' ,'POT' ,'AA' ,'DOW' ,'GEVO' ,'STLD' ,'IFF' ,'RTP' ,'FVAC' ,'RKDA' ,'DOW' ,'CF' ,'BHP' ,'SLW' ,'GGB' ,'AMRS' ,'USCR' ,'LOAK' ,'CE' ,'EMN' ,'CTVA' ,'TCK' ,'AVTR' ,'CX' ,'BBL' ,'LAC' ,'KL' ,'FMC' ,'AXTA' ,'KGC' ,'FNV' ,'RS' ,'SUM' ,'AU' ,'SMG' ,'RPOW' ,'PLLL' ,'LYB' ,'CXP' ,'AEM' ,'PAASF' ,'PCU' ,'LTHM' ,'DRFNY' ,'OLN' ,'CC' ,'CRHCY' ,'HUN' ,'HL' ,'SQM' ,'MDU' ,'AG' ,'WFG' ,'KWR' ,'AUY' ,'RGLD' ,'CMC' ,'WLK' ,'FULL' ,'UFPI' ,'SBSW' ,'GPRE' ,'BTG' ,'UNVR' ,'UFS' ,'ASH' ,'CDE' ,'TROX' ,'FSM' ,'WDFC' ,'UFC' ,'AGI' ,'MTX' ,'TMST' ,'TSE' ,'KALU' ,'KRA' ,'SSRIF' ,'ESI' ,'POL' ,'HGMCY' ,'EXK' ,'CBT' ,'CMP' ,'IAG' ,'SID' ,'NGVT' ,'OTL' ,'EGO' ,'BCC' ,'SCL' ,'SWM' ,'EY' ,'BW' ,'FPGP' ,'PKX' ,'HCC' ,'GRA' ,'CENX' ,'ABH' ,'CSTM' ,'MWGP' ,'SCHN' ,'ZKIN' ,'BCP' ,'NG' ,'MVG' ,'RYAM' ,'DRJ' ,'SAND' ,'HBM' ,'ZEUS' ,'GSM' ,'NP' ,'SXC' ,'MEOHF' ,'SSLT' ,'UAMY' ,'ASIX' ,'URIX' ,'GCP' ,'PVG' ,'SVM' ,'HUGO' ,'SILV' ,'OR' ,'EQX' ,'BVN' ,'IPI' ,'SUZ' ,'KOP']\n",
    "ConsumerCyclical = ['TSLA' ,'AMZN' ,'CHWY' ,'LULU' ,'GME' ,'BABA' ,'GM' ,'PCLN' ,'HD' ,'JD' ,'NKE' ,'PTON' ,'FTCH' ,'MCD' ,'F' ,'SBUX' ,'MELI' ,'LOW' ,'W' ,'CCL' ,'RH' ,'EBAY' ,'CPNG' ,'CMG' ,'DKNG' ,'KCAC' ,'EXPE' ,'MAR' ,'AZO' ,'NCLH' ,'PENN' ,'FD' ,'RCL' ,'TJX' ,'DLPH' ,'FIVE' ,'WSGC' ,'CVNA' ,'MGG' ,'HLT' ,'DHI' ,'ERI' ,'ORLY' ,'ULTA' ,'BLNK' ,'CTRP' ,'LVS' ,'BBY' ,'WYNN' ,'BURL' ,'LTD' ,'BLL' ,'UA' ,'DRI' ,'KMX' ,'TSCO' ,'DPZ' ,'SPAQ' ,'MGA' ,'GRWG' ,'YUM' ,'LEN' ,'PVH' ,'VTIQ' ,'RMG' ,'ROST' ,'YUMC' ,'ETSY' ,'WKHS' ,'KSS' ,'IP' ,'ASO' ,'HAS' ,'AAP' ,'GPS' ,'HDI' ,'VFC' ,'NVR' ,'COH' ,'SKX' ,'FBHS' ,'RL' ,'WHR' ,'LMTR' ,'UARM' ,'TRIP' ,'PHM' ,'DKS' ,'NOBE' ,'KORS' ,'Z' ,'GOEV' ,'OSTK' ,'QSR' ,'AIRB' ,'LEA' ,'GPC' ,'SFIX' ,'PII' ,'AEOS' ,'MTN' ,'WRK' ,'THO' ,'CROX' ,'MHK' ,'BYD' ,'CCK' ,'BWA' ,'VAC' ,'PLAY' ,'ARVL' ,'HTHT' ,'AMCR' ,'TOL' ,'WISH' ,'HBI' ,'RACE' ,'SIX' ,'ANF' ,'REAL' ,'BLMN' ,'EAT' ,'ATR' ,'YETI' ,'RII' ,'PLNT' ,'TXRH' ,'ROL' ,'VRM' ,'QRTEA' ,'WH' ,'RIDE' ,'FND' ,'TPX' ,'ALV' ,'BFAM' ,'PKG' ,'CBRL' ,'BC' ,'WING' ,'GNTX' ,'BBBY' ,'MUSA' ,'CONN' ,'SEE' ,'ABG' ,'POOL' ,'WOOF' ,'STAY' ,'XL' ,'HOME' ,'PZZA' ,'SERV' ,'MDC' ,'RVLV' ,'SIGYY' ,'ADNT' ,'ARMK' ,'HRB' ,'DECK' ,'LKQX' ,'WGO' ,'GT' ,'FLWS' ,'KBH' ,'VC' ,'CRI' ,'FCAU' ,'MTH' ,'FOXF' ,'VSTO' ,'TOYOY' ,'TKAT' ,'BZUN' ,'SHAK' ,'SRV' ,'FM' ,'ELY' ,'PLCE' ,'COLM' ,'IGT' ,'SHLL' ,'SEAS' ,'BERY' ,'CCS' ,'GPK' ,'DRVN' ,'LGIH' ,'CTB' ,'MED' ,'TRY' ,'LEG' ,'MAT' ,'H' ,'CUK' ,'FNKO' ,'SON' ,'CHDN' ,'GPI' ,'MPEL' ,'GAN' ,'BOOT' ,'TPH' ,'HGV' ,'OI' ,'TDUP' ,'CNNE' ,'WWW' ,'TUP' ,'CHGO' ,'URBN' ,'DAN' ,'DSW' ,'HZO' ,'FUV' ,'DDS' ,'FUN' ,'LESL' ,'NAKD' ,'TRWH' ,'CAKE' ,'DMYT' ,'GIII' ,'IHOP' ,'RUSHA' ,'GMBL' ,'MNRO' ,'PRTS' ,'LCII' ,'KTB' ,'CBD' ,'GOOS' ,'GES' ,'ALSN' ,'KAR' ,'POSH' ,'TTE' ,'BGFV' ,'UAG' ,'CWH' ,'PRTY' ,'SMP' ,'ARGNA' ,'SHOO' ,'EYE' ,'KIRK' ,'TTM' ,'DSEY' ,'HIBB' ,'ODP' ,'SBH' ,'TMHC' ,'RBIN' ,'CLAC' ,'EXPR' ,'WTW' ,'SLGN' ,'WPRT' ,'GCA' ,'FTDRV' ,'HMC' ,'BIOF' ,'LCA' ,'ACAM' ,'TCS' ,'RRGB' ,'SOLO' ,'BZH' ,'CHH' ,'DFXI' ,'RRR' ,'KNDI' ,'GPAC' ,'LZB' ,'SAH' ,'MHO' ,'DINE' ,'DOOO' ,'HOV' ,'AMWD' ,'REYN' ,'GP' ,'LL' ,'MRA' ,'MMYT' ,'VNE' ,'AXL' ,'OXM' ,'BKE' ,'MLHR' ,'GOLF' ,'SPWH' ,'SKY' ,'TEN' ,'HAVT' ,'RUTH' ,'FOSL' ,'CTRN' ,'CHUY' ,'GIL' ,'AYRO' ,'ZUMZ' ,'BG' ,'DLTH' ,'GBCOA' ,'PATK' ,'MBUU' ,'AIN' ,'LOVE' ,'LEVI' ,'VRNG' ,'PLYA' ,'CNGR' ,'ETH' ,'OCG' ,'BNED' ,'MCRI' ,'RNTA' ,'JWAIA' ,'RICK' ,'GCO' ,'CVCO' ,'FRSX' ,'FRG' ,'LEDMV' ,'CARS' ,'XPEL' ,'CPS' ,'SCVL' ,'LQDT' ,'MOVA' ,'DESP' ,'LAZY' ,'CRSV' ,'ONEW']\n",
    "FinancialServices = ['V' ,'MARA' ,'PYPL' ,'MA' ,'GS' ,'BRKB' ,'NOB' ,'TRV' ,'CMB' ,'NB' ,'BRKA' ,'MWD' ,'BLK' ,'MHP' ,'SCH' ,'ACL' ,'TFC' ,'CCIV' ,'USB' ,'AOC' ,'PNC' ,'AXP' ,'CME' ,'PGR' ,'MET' ,'COF' ,'RKT' ,'PRU' ,'BK' ,'MMC' ,'HDB' ,'HIG' ,'SYF' ,'ALL' ,'SPC' ,'FITB' ,'SI' ,'ICE' ,'ITUB' ,'KEY' ,'STT' ,'CSR' ,'TROW' ,'WLTW' ,'FES' ,'AIG' ,'SIVB' ,'CFG' ,'DFS' ,'SBNY' ,'MKTX' ,'ALLY' ,'EQH' ,'RGBK' ,'BX' ,'UPST' ,'DNB' ,'LMND' ,'HBAN' ,'EBC' ,'AFL' ,'TCBI' ,'AMP' ,'PBCP' ,'FRC' ,'TD' ,'KKR' ,'AJG' ,'PBCT' ,'APO' ,'RCHI' ,'SLM' ,'WAL' ,'ROOT' ,'VIRT' ,'CMA' ,'EVR' ,'FNT' ,'IBN' ,'BBD' ,'NTRS' ,'ATH' ,'PFG' ,'RY' ,'ARES' ,'EWBC' ,'NDAQ' ,'BEN' ,'FFIN' ,'VOYA' ,'ING' ,'FTEN' ,'PSLV' ,'AVZ' ,'RJF' ,'LUK' ,'ADS' ,'FDS' ,'LPLA' ,'MXB' ,'RE' ,'WU' ,'CINF' ,'FRHC' ,'LNC' ,'ESPD' ,'DB' ,'TREE' ,'BNS' ,'BMO' ,'LPRO' ,'AIZ' ,'BCS' ,'ZION' ,'HBC' ,'CG' ,'CBOE' ,'CIT' ,'ESNT' ,'FAF' ,'MKL' ,'BKLY' ,'KNSL' ,'AFG' ,'RNR' ,'ARCC' ,'FCBP' ,'MTG' ,'BAP' ,'ISBC' ,'LC' ,'RGA' ,'BOWX' ,'BCM' ,'PFSI' ,'IBKR' ,'MFC' ,'UNM' ,'SLQT' ,'LTR' ,'HBANP' ,'AMG' ,'ORI' ,'XP' ,'TW' ,'EHTH' ,'Y' ,'PBR' ,'BPOP' ,'WTFC' ,'BHFWV' ,'CFR' ,'FCNCA' ,'PSTH' ,'TMK' ,'QCSB' ,'UBS' ,'PNFP' ,'SC' ,'SNV' ,'GDOT' ,'VLY' ,'AGO' ,'FBP' ,'CACC' ,'PHYS' ,'CBSH' ,'SLC' ,'TRUP' ,'AEL' ,'MORN' ,'SNPR' ,'SF' ,'ASB' ,'UMPQ' ,'PRSP' ,'CNO' ,'FHI' ,'FFC' ,'JHG' ,'TPGY' ,'WBST' ,'COWND' ,'BOKF' ,'LATN' ,'ACTC' ,'HLI' ,'SFNCA' ,'QELL' ,'AXS' ,'WD' ,'LFCO' ,'OZRK' ,'BKU' ,'MC' ,'APAM' ,'ERIE' ,'AFC' ,'OMF' ,'CMT' ,'FNC' ,'GHIV' ,'LAZ' ,'PRI' ,'CBU' ,'CHFC' ,'ABCB' ,'INDB' ,'UNIT' ,'LOB' ,'FOCS' ,'SAN' ,'FULT' ,'STD' ,'OLDB' ,'PLMR' ,'WSFS' ,'NAVIV' ,'CADE' ,'SEIC' ,'FBAN' ,'HBHC' ,'NMIH' ,'GBCI' ,'FLGS' ,'ARC' ,'CLII' ,'ACIC' ,'OMAM' ,'UBSI' ,'GSHD' ,'FRX' ,'AJAX' ,'KB' ,'EBC' ,'COLB' ,'ASPL' ,'WFSL' ,'HOL' ,'HLNE' ,'MCY' ,'UMBF' ,'IBTX' ,'PSEC' ,'SFTW' ,'CVB' ,'GOF' ,'IBOC' ,'ORCC' ,'GSVC' ,'MGI' ,'RTP' ,'BOH' ,'PRAA' ,'HOMB' ,'THBR' ,'UTF' ,'VRTS' ,'PFS' ,'PJT' ,'FSKR' ,'JRVR' ,'RA' ,'FFBC' ,'FSIC' ,'TBK' ,'FHB' ,'SIGI' ,'FMBI' ,'MAIN' ,'CNA' ,'CNS' ,'AC' ,'WPF' ,'NMR' ,'CATY' ,'BBV' ,'GNW' ,'SMFG' ,'FCF' ,'CFFN' ,'CEF' ,'MUFG' ,'AACQ' ,'TBBKD' ,'GHVI' ,'EIG' ,'FTOC' ,'CCX' ,'NARA' ,'BOFI' ,'VBTX' ,'RILY' ,'BPBC' ,'CMLF' ,'TYP' ,'PHC' ,'FRME' ,'VACQ' ,'SFBS' ,'WSBC' ,'PNTM.U' ,'ESGRD' ,'WTRE' ,'UCBI' ,'APSG' ,'GWB' ,'SPFR' ,'NMFC' ,'DSL' ,'FTCV' ,'PAWN' ,'MCMC' ,'FWWB' ,'RLI' ,'HYT' ,'UBSH' ,'PIPR' ,'ENVA' ,'GSAH' ,'ACEV' ,'AEG' ,'IAAC' ,'HMN' ,'CUBI' ,'EFC' ,'BXS' ,'OFG' ,'RMGB' ,'GOCO' ,'PDI' ,'UTG' ,'KYN' ,'PCI' ,'NEA' ,'THCB' ,'CASH' ,'NAD' ,'MAI' ,'FIBK' ,'EXG' ,'DFIN' ,'IPOF' ,'STIC' ,'PTY' ,'FFIC' ,'HTGC' ,'RBS' ,'CLM' ,'PXT' ,'NWSB' ,'JPS' ,'DCRB' ,'SCPE' ,'STEP' ,'BHL' ,'ASAQ' ,'TRMK' ,'PRK' ,'PRPB' ,'AMSF' ,'SHG' ,'JWS' ,'LFC' ,'SSPK' ,'SAFT' ,'LYG' ,'HTLF' ,'VGAC' ,'FSC' ,'WABC' ,'HPF' ,'SASR' ,'TWOA' ,'JIH' ,'FBNC' ,'GBDC' ,'BHFAN' ,'FSRV' ,'CPBI' ,'OCFC' ,'SBNYP' ,'PUK' ,'HEC' ,'EQOS' ,'BMA' ,'PFBC' ,'PAX' ,'BSBR' ,'BMEZ' ,'BRP' ,'BSTZ' ,'FAMCK' ,'DNP' ,'MOTV.U' ,'CHCO' ,'SBSI' ,'SBCFA' ,'CRHC' ,'FAX' ,'CFAC' ,'EDD' ,'NBTB' ,'EFSC' ,'HCII' ,'LKFN' ,'SPRQ' ,'BCX' ,'SRAC' ,'CIB' ,'STC' ,'INDI' ,'EGBN' ,'NBHC' ,'BRKL' ,'NTB' ,'INSP']\n",
    "RealEstate = ['AMT' ,'TWRS' ,'SPG' ,'EQIXD' ,'PSA' ,'AMB' ,'RIGX' ,'UDR' ,'DLR' ,'ESS' ,'HCN' ,'ARE' ,'EXR' ,'OPEN' ,'SBAC' ,'VICI' ,'EQR' ,'BYA' ,'INVH' ,'O' ,'WY' ,'MAA' ,'RDFN' ,'NLY' ,'CDC' ,'VC' ,'PEAK' ,'AGNC' ,'EXPI' ,'ARCP' ,'BXP' ,'CBRE' ,'DRE' ,'FRT' ,'SUI' ,'MHC' ,'VNO' ,'REG' ,'MPW' ,'SLG' ,'OHI' ,'IIPR' ,'HR' ,'AMH' ,'CPT' ,'KIM' ,'COLD' ,'DOC' ,'BRX' ,'QTS' ,'MAC' ,'LAP' ,'DDR' ,'NRZ' ,'STOR' ,'NNN' ,'AIV' ,'YSI' ,'LSI' ,'AIRC' ,'HIW' ,'IMTN' ,'PK' ,'DEI' ,'ACC' ,'STWD' ,'REXR' ,'CONE' ,'CUZ' ,'GLPIV' ,'KRC' ,'STIR' ,'FR' ,'NSA' ,'MGP' ,'ADC' ,'HASI' ,'HPP' ,'CT' ,'HRP' ,'LAMR' ,'EGP' ,'HTA' ,'CLNY' ,'PEB' ,'COR' ,'LXP' ,'CIM' ,'CSALV' ,'SUNH' ,'SHO' ,'TRNO' ,'CBSO' ,'APLE' ,'NHI' ,'BDN' ,'PSM' ,'GET' ,'DEA' ,'COPT' ,'PCH' ,'RPAI' ,'PGRE' ,'ABR' ,'PDM' ,'WRE' ,'TWO' ,'SKT' ,'RLGY' ,'NAQ' ,'HHC' ,'EPR' ,'RYN' ,'FSRVF' ,'RLJ' ,'SRC' ,'WHC' ,'PMT' ,'JBGS' ,'EPRT' ,'DRH' ,'CTREV' ,'WRI' ,'ESRT' ,'MCT' ,'FCPT' ,'CXP' ,'EST' ,'LTC' ,'IVR' ,'BPY' ,'MFA' ,'AHT' ,'APT' ,'ARI' ,'XHR' ,'PZN' ,'AAT' ,'NTR' ,'PAX' ,'CWK' ,'RWTI' ,'SVC' ,'GNL' ,'UE' ,'IRT' ,'KRG' ,'ILPT' ,'SJP' ,'LADR' ,'ZFC' ,'ORC' ,'SAFE' ,'INN' ,'DX' ,'ACRE' ,'CLI' ,'RPT' ,'CLDT' ,'GPMT' ,'GTY' ,'NMRK' ,'BRMK' ,'ALEX' ,'UMH' ,'SNH' ,'BNL' ,'CMO' ,'LAND' ,'GMRE' ,'MNRTA' ,'FSV' ,'GOV' ,'NTST' ,'CHCT' ,'NXRT']\n",
    "ConsumerDefensive = ['WMT' ,'COST' ,'PG' ,'WAFU' ,'PEP' ,'KR' ,'KO' ,'DH' ,'PM' ,'KMB' ,'KFT' ,'DG' ,'MO' ,'EL' ,'CL' ,'BYND' ,'DLTR' ,'GIS' ,'CBRNA' ,'CLX' ,'EDU' ,'DPS' ,'SAM' ,'HANS' ,'KHC' ,'TSN' ,'HSY' ,'CHD' ,'ADM' ,'MCCRK' ,'K' ,'CAG' ,'LW' ,'SYY' ,'FRPT' ,'TWOU' ,'BTI' ,'DAR' ,'CPB' ,'SJMA' ,'CHGG' ,'BFB' ,'SFM' ,'BUD' ,'UL' ,'BG' ,'EEIQ' ,'HRL' ,'CCEP' ,'BJ' ,'PFGC' ,'USFD' ,'ACCOB' ,'HELE' ,'COTY' ,'NWL' ,'CNS' ,'FMX' ,'HLF' ,'DEO' ,'CLEU' ,'BGS' ,'LOPE' ,'CELH' ,'OLLI' ,'FIZ' ,'CASY' ,'GO' ,'CPO' ,'ABEV' ,'POST' ,'UNFI' ,'HAIN' ,'THS' ,'FMCI' ,'EPC' ,'SAFM' ,'STRA' ,'NUS' ,'FLO' ,'HMHC' ,'JJSF' ,'NOMD' ,'CENTA' ,'ARCE' ,'LANC' ,'NOVS' ,'ACI' ,'LRN' ,'SPB' ,'PRMW' ,'OAC' ,'SMPL' ,'GRSH' ,'DV' ,'VITL' ,'VFF' ,'PDA' ,'NTCO' ,'CENT' ,'WPO' ,'NAPA' ,'PSMT' ,'USNA' ,'ELF' ,'COKE' ,'CALM' ,'BGL' ,'CHEF' ,'METX' ,'TPB' ,'PPC' ,'TR' ,'SPTN' ,'KOF' ,'JEAN' ,'UVV' ,'IMKTA' ,'CVGW' ,'LAUR' ,'STKLF' ,'AFYA' ,'UTZ' ,'WMK' ,'AQBTV' ,'CORE']\n",
    "Healthcare = ['JNJ' ,'MRNA' ,'UNH' ,'ILMN' ,'BMY' ,'ABBV' ,'MRK' ,'TMO' ,'PFE' ,'LLY' ,'WAG' ,'AMGN' ,'MDT' ,'GILD' ,'TDOC' ,'ABT' ,'ATH' ,'ISRG' ,'NOX' ,'TLRY' ,'EXAS' ,'CVS' ,'DHR' ,'HUM' ,'REGN' ,'ALGN' ,'VEEV' ,'HCA' ,'EW' ,'IDPH' ,'HZNP' ,'BDX' ,'IDXX' ,'ALXN' ,'DXCM' ,'CRSP' ,'SYK' ,'NVS' ,'SNDL' ,'ZEN' ,'SGEN' ,'ZMH' ,'MCK' ,'VRTX' ,'PACB' ,'A' ,'BAX' ,'GLX' ,'WST' ,'TWST' ,'BSX' ,'GH' ,'VTRSV' ,'LH' ,'ZTS' ,'ICLRY' ,'HSGX' ,'IQV' ,'NVTA' ,'MRTX' ,'NTLA' ,'RESM' ,'HGEN' ,'KBIO' ,'CI' ,'PRAH' ,'BNGO' ,'PODD' ,'CNTE' ,'ELAN' ,'WAT' ,'CERN' ,'AAS' ,'HOLX' ,'BEAM' ,'MTD' ,'TXG' ,'BGNE' ,'CRL' ,'RGEN' ,'CAH' ,'ABCL' ,'CGC' ,'GDRX' ,'XRAY' ,'JAZZ' ,'FLGT' ,'SWAV' ,'FATE' ,'TECH' ,'UTHR' ,'NTRA' ,'AMED' ,'COO' ,'INCY' ,'AMWL' ,'TFX' ,'UHS' ,'SEEL' ,'NEO' ,'AVII' ,'DGX' ,'GNLN' ,'MASI' ,'BIOA' ,'EGG' ,'TGTX' ,'MOH' ,'QDEL' ,'EDIT' ,'STRL' ,'SDGR' ,'KOD' ,'BVF' ,'ASTM' ,'IOVA' ,'HTI' ,'ALNY' ,'INCR' ,'NBIX' ,'NVST' ,'TRL' ,'NVCR' ,'ABMD' ,'OMCL' ,'CDNA' ,'TNDM' ,'NARI' ,'CYH' ,'IRTC' ,'NNOX' ,'CTLT' ,'HQY' ,'NVO' ,'ACB' ,'CNAC' ,'VCYT' ,'ZLAB' ,'BMRN' ,'CNMD' ,'MRVI' ,'THC' ,'GEB' ,'RPRX' ,'HSIC' ,'PVTR' ,'PTIE' ,'AXNX' ,'ZOM' ,'ARGX' ,'BLI' ,'ARWR' ,'PTCT' ,'PEN' ,'XLRN' ,'BCRX' ,'RARE' ,'BLUE' ,'NSTG' ,'GRTS' ,'TEVIY' ,'DCTH' ,'PETS' ,'ACHC' ,'ENSG' ,'TAK' ,'NVRO' ,'SRNE' ,'INSP' ,'MMSI' ,'ARVN' ,'MGLN' ,'LIVN' ,'SNY' ,'KYMR' ,'ACAD' ,'CLVS' ,'CRIS' ,'ISIP' ,'CVAC' ,'NUVA' ,'NMTR' ,'TMDX' ,'OMI' ,'PHR' ,'ACRS' ,'PSNL' ,'SENS' ,'ARNA' ,'HB' ,'FGEN' ,'IGMS' ,'CHNG' ,'OCUL' ,'PPD' ,'EBS' ,'RAD' ,'STAA' ,'GKOS' ,'MEDP' ,'ENMD' ,'OSH' ,'AGIO' ,'HAE' ,'ALC' ,'EXEL' ,'CHE' ,'PRGO' ,'MRSN' ,'IPOC' ,'TPTX' ,'GBT' ,'HRC' ,'BPMC' ,'OCDX' ,'SHC' ,'BBIO' ,'CSTL' ,'AVXL' ,'FOLD' ,'INOV' ,'ITEK' ,'SEM' ,'CCXI' ,'NEOG' ,'SDC' ,'ADPT' ,'OSCR' ,'SEER' ,'CVETV' ,'PGNY' ,'VIR' ,'QGLY' ,'AVIR' ,'ITCI' ,'RCUS' ,'CRON' ,'CYPH' ,'HYH' ,'AHCO' ,'ATRC' ,'OM' ,'INSM' ,'TCRR' ,'GLPG' ,'AXSM' ,'AHS' ,'PDCO' ,'CERT' ,'ACCD' ,'EOLS' ,'FHC' ,'LUNG' ,'IART' ,'RUBY' ,'FMTX' ,'BHVN' ,'SGRY' ,'ALHC' ,'APLS' ,'EVH' ,'BDAL' ,'CNTL' ,'QTRX' ,'PRSC' ,'GB' ,'AHPA' ,'ZYME' ,'INMD' ,'GTXI' ,'EPIX' ,'ONEM' ,'INHL' ,'LHCG' ,'PAVM' ,'PHG' ,'CLN' ,'RLAY' ,'KURA' ,'SAGE' ,'PINC' ,'DCPH' ,'EYES' ,'ICPT' ,'RCM' ,'FREQ' ,'PRTA' ,'SRRK' ,'DNLI' ,'SWTX' ,'KITS' ,'GMED' ,'PDX' ,'AUPH' ,'SGFY' ,'BLFS' ,'SURF' ,'QGENF' ,'IMGN' ,'IRWD' ,'ARCT' ,'RETA' ,'ALKS' ,'GMAB' ,'ICUI' ,'MYGN' ,'PRQR' ,'AKBA' ,'SNDX' ,'OGI' ,'TCEL' ,'REPL' ,'ALLK' ,'MNKD' ,'DVAX' ,'MCRB' ,'RVMD' ,'PCRX' ,'CYTK' ,'BKD' ,'MASS' ,'HCAT' ,'KRTX' ,'LGND' ,'HCSG' ,'ANX' ,'CDXC' ,'ALT' ,'MGNX' ,'EPTO' ,'MDRX' ,'TCLN' ,'ANGO' ,'GTHX' ,'OPCH' ,'CCCC' ,'HSAC' ,'TNXP' ,'ALEC' ,'SGMO' ,'HEXO' ,'QURE' ,'ATEC' ,'HSKA' ,'MREO' ,'GRFS' ,'CNST' ,'RDYN' ,'TBIO' ,'CARA' ,'BTAI' ,'CERS' ,'AQST' ,'NABI' ,'MORF' ,'OPRX' ,'PBH' ,'PNTG' ,'CODX' ,'EAR' ,'RVNC' ,'AMHC' ,'TVTX' ,'PRVB' ,'ALXO' ,'HRTX' ,'CATS' ,'CORT' ,'ATRA' ,'RDY' ,'STRO' ,'CLVR' ,'ENDP' ,'ZGNX' ,'EPZM' ,'USPH' ,'KPTI' ,'ALLO' ,'AGEN' ,'SUPN' ,'PCVX' ,'DRNA' ,'TRHC' ,'TCMD' ,'MYOV' ,'KIN' ,'SILK' ,'ITRM' ,'CGEN' ,'RDUS' ,'APTO' ,'CCXX' ,'TRIL' ,'NRIX' ,'ARDX' ,'RGNX' ,'CHRS' ,'LNTH' ,'CBYL' ,'ATOS' ,'EWTX' ,'AFMD' ,'AMRX' ,'BNTC' ,'APR' ,'GBIO' ,'FLXN' ,'SIBN' ,'MRIC' ,'PLCC' ,'VNDA' ,'PETQ' ,'IKNA' ,'LMNX' ,'JYNT' ,'ADUS' ,'CRTX' ,'SYRS' ,'WVE' ,'KDMN' ,'SNN' ,'CDXS' ,'XNCR' ,'ESPR' ,'ANIK' ,'ORIC' ,'BDXB' ,'BOLT' ,'SANA' ,'KRG' ,'KALA' ,'RYTM' ,'XON' ,'AMTI' ,'SIMU' ,'CMRX' ,'DSGN' ,'NEOT' ,'TXMD' ,'GOSS' ,'ZNTL' ,'EBIO' ,'BDTX' ,'XERS' ,'CRMD' ,'NOVN' ,'PTGX' ,'YMAB' ,'BCAB' ,'PRLD' ,'AERI' ,'FBRX' ,'XXII' ,'LMAT' ,'ZIOP' ,'THLD' ,'STOK' ,'CLLS' ,'CRDF' ,'KRYS' ,'ALVR' ,'SIEN' ,'ATHA' ,'HCCO' ,'PMVP' ,'QSII' ,'OMER' ,'ITOS' ,'MTEC' ,'AVEO' ,'VREX' ,'BDSI' ,'KNSA' ,'ANVS' ,'NGM' ,'AAVL' ,'MBRX' ,'HIV' ,'XOMA' ,'VSTM' ,'INGN' ,'GLSI' ,'MDGL' ,'KIDS' ,'VOR' ,'RIGL' ,'IDYA' ,'SBTX' ,'CTMX' ,'VAPO' ,'TBPHV' ,'ATRI' ,'JAGX' ,'ATHX' ,'MBIO' ,'ATNX' ,'FMS' ,'ENTA' ,'CPRX' ,'KROS' ,'AKRO' ,'NKTX' ,'NEOT' ,'XENT' ,'FLDM' ,'STIM' ,'RNA' ,'SELB' ,'SRDX' ,'CGEM' ,'ADMA' ,'ONTX' ,'FDMT' ,'COLL' ,'VKTX' ,'INFU' ,'CFRX']\n",
    "Utilities = ['FPL' ,'AEP' ,'NSP' ,'PPL' ,'ED' ,'PE' ,'D' ,'DUK' ,'PEG' ,'DTE' ,'AWK' ,'SO' ,'SRE' ,'EIX' ,'AES' ,'ETR' ,'NU' ,'CMS' ,'PCG' ,'NRG' ,'AEE' ,'FE' ,'HOU' ,'WPH' ,'WEC' ,'ABY' ,'ATO' ,'ORA' ,'VST' ,'WR' ,'PNW' ,'NI' ,'UGI' ,'WTRG' ,'IDA' ,'NGG' ,'SJI' ,'BEPC' ,'BEPCW' ,'NEP' ,'CIG' ,'OGE' ,'CWEN' ,'LG' ,'OEG' ,'OGS' ,'MPL' ,'WWP' ,'AGR' ,'POR' ,'PNM' ,'NWEC' ,'HE' ,'SWX' ,'NJR' ,'BKH' ,'ENI' ,'FTS' ,'AQN' ,'AEPPL' ,'BIP' ,'NFE' ,'ELP' ,'SOLN' ,'CWT' ,'SCW' ,'NWNG' ,'SPH' ,'CWEN.A' ,'SBS' ,'CPK' ,'BEP' ,'MSEX' ,'SJW' ,'MDSN' ,'AEPPZ' ,'BIPC' ,'OTTR' ,'MNTK' ,'DTP' ,'AZRE']\n",
    "CommunicationServices = ['FB' ,'BIDU' ,'VIAC' ,'GOOCV' ,'GOOG' ,'NFLX' ,'DISCA' ,'SNAP' ,'ROKU' ,'DIS' ,'CMCSA' ,'SBC' ,'BEL' ,'ZM' ,'TWTR' ,'TWLO' ,'CHTR' ,'PINS' ,'Z' ,'ABNB' ,'BILI' ,'MTCH' ,'DASH' ,'BRIOF' ,'DISCK' ,'FUBO' ,'SPOT' ,'ERTS' ,'AMC' ,'RBLX' ,'FEAC' ,'FOXAV' ,'TTWO' ,'FVRR' ,'NTES' ,'IPG' ,'LBDKV' ,'LYV' ,'PCS' ,'ATUS' ,'ATVI' ,'OMC' ,'DISCB' ,'GNUS' ,'IAC' ,'CTL' ,'DISH' ,'ZG' ,'YNDX' ,'ZNGA' ,'CABO' ,'FOXBV' ,'NWSAV' ,'HOFV' ,'GRUB' ,'LBTYK' ,'CDRD' ,'GRPN' ,'NYT' ,'RUBI' ,'ATHM' ,'BCE' ,'CADC' ,'CNK' ,'VOD' ,'MSGE' ,'MSGEW' ,'GHQ' ,'CDLX' ,'LSXMK' ,'TU' ,'AIX' ,'YELP' ,'WMG' ,'COUP' ,'PLTK' ,'WWFE' ,'VIACA' ,'NXST' ,'GCI' ,'MSGS' ,'LMCKV' ,'CARG' ,'VG' ,'AMCX' ,'AMX' ,'RG' ,'NWSVV' ,'MBT' ,'LBTYA' ,'TTGT' ,'IDC' ,'SAQN' ,'LSXMA' ,'EROS' ,'COI' ,'TV' ,'SBGI' ,'TDS' ,'SJR' ,'DLPN' ,'LBDAV' ,'IZEA' ,'MSG' ,'SLGG' ,'SSTK' ,'SOGO' ,'SCPL' ,'SCHL' ,'JWA' ,'MAX' ,'DLX' ,'IHRT' ,'IMAXF' ,'GOGO' ,'MDP' ,'GCSB' ,'BOMN' ,'SCOR' ,'SKM' ,'VIV' ,'TIMB' ,'RUK' ,'LILKV' ,'NGMS' ,'QNST' ,'KTC' ,'SSP' ,'RADI' ,'LGF.B' ,'GCI' ,'SCR' ,'ORBC' ,'AVID' ,'LGF.A' ,'MOXC' ,'EVER' ,'SHET' ,'VIP' ,'WIFI' ,'BRAC' ,'CSN' ,'MAIL' ,'LIVX' ,'CHT' ,'LTPAV' ,'WOW' ,'TKC' ,'CNSL' ,'TEF' ,'VPRT' ,'MCS']\n",
    "Energy = ['XON' ,'CHV' ,'P' ,'OXY' ,'PXD' ,'SLB' ,'KMI' ,'EOG' ,'PBR' ,'BP' ,'RDSA' ,'VLO' ,'MRO' ,'PSX' ,'MPC' ,'DVN' ,'FANG' ,'WMB' ,'EPD' ,'RDSB' ,'IPPIF' ,'HAL' ,'CCJ' ,'ETE' ,'AHC' ,'COG' ,'EQT' ,'TOT' ,'TPL' ,'REGI' ,'APA' ,'CED' ,'CHEX' ,'BHGE' ,'OKE' ,'SU' ,'AMTX' ,'CLNP' ,'MPLX' ,'AR' ,'CVE' ,'PAA' ,'HOC' ,'SWN' ,'DEN' ,'OVV' ,'PBRA' ,'WEG' ,'RIG' ,'TRP' ,'TRGP' ,'XEC' ,'MARY' ,'CLNE' ,'FTI' ,'PSXP' ,'CNX' ,'ETRN' ,'NOI' ,'MUR' ,'CLR' ,'PBF' ,'MTDR' ,'WGP' ,'PAGP' ,'HP' ,'LOM' ,'VVV' ,'UUUU' ,'DPM' ,'PETD' ,'DNN' ,'UEC' ,'PBA' ,'SRAQ' ,'CPG' ,'STO' ,'TS' ,'WLL' ,'STNG' ,'APY' ,'TPGE' ,'SHLX' ,'TRCH' ,'CHK' ,'AMGP' ,'ARCH' ,'PTEN' ,'DHT' ,'BCEI' ,'BTU' ,'LBRT' ,'RCON' ,'CDIS' ,'DSSI' ,'MPET' ,'GLNG' ,'SUSP' ,'SLCA' ,'WHD' ,'CRLBF' ,'LPI' ,'NRGY' ,'DK' ,'KOS' ,'UDL' ,'IMO' ,'OII' ,'OMP' ,'VET' ,'NBR' ,'NFG' ,'EXH' ,'INT' ,'SGY' ,'ENBL' ,'HEP' ,'EURN' ,'WTI' ,'EC' ,'OAS' ,'ENLC' ,'DNOW' ,'PARR' ,'CRK' ,'DRQ' ,'PUMP' ,'CVI' ,'CQP' ,'SNP' ,'MRC' ,'FRO' ,'GEL' ,'PTR' ,'SASOY' ,'NOG' ,'UGP' ,'NXE' ,'E' ,'ERF' ,'BPMP' ,'VNOM']\n",
    "Industrials = ['BA' ,'PLUG' ,'CAT' ,'GE' ,'DE' ,'UNP' ,'AAL' ,'FDX' ,'ALD' ,'URI' ,'KSU' ,'CP' ,'ERC' ,'AYI' ,'LMT' ,'UTX' ,'UAUA' ,'DAL' ,'LUV' ,'MMM' ,'NOC' ,'CSX' ,'CARR' ,'GNRC' ,'CARRW' ,'AUD' ,'NSC' ,'GPN' ,'ETN' ,'ITW' ,'EMR' ,'CUM' ,'JCI' ,'ROP' ,'SPCE' ,'TDG' ,'UW' ,'RAIL' ,'SWK' ,'PH' ,'GD' ,'PAYX' ,'OTIS' ,'ROK' ,'OTISW' ,'HRS' ,'EFX' ,'ODFL' ,'GWW' ,'AME' ,'SPR' ,'UPS' ,'AOS' ,'CPRT' ,'PCAR' ,'MRKT' ,'CTAS' ,'EXPD' ,'FAST' ,'JBHT' ,'RSG' ,'VRSK' ,'JBLU' ,'MTZ' ,'BLDPF' ,'OC' ,'LII' ,'PWR' ,'XYL' ,'LPX' ,'WAB' ,'CHRW' ,'ZTO' ,'SAVE' ,'HII' ,'KNGT' ,'SNA' ,'TRU' ,'ACM' ,'IR' ,'CNI' ,'IEX' ,'AG' ,'PNR' ,'MIDD' ,'SITE' ,'AA' ,'BLDR' ,'VRT' ,'DOV' ,'CD' ,'WCNX' ,'SZI' ,'BE' ,'MAS' ,'GGG' ,'TXT' ,'FTIC' ,'RHI' ,'KBR' ,'WMS' ,'WGOV' ,'AVY' ,'TTC' ,'BLD' ,'ALK' ,'IIN' ,'PRLB' ,'HEI' ,'OTRKB' ,'LSTR' ,'WFII' ,'TASR' ,'SCST' ,'UPWK' ,'J' ,'TWP' ,'ALLE' ,'NDSN' ,'CFX' ,'AER' ,'BAH' ,'UHAL' ,'WSO' ,'GVA' ,'RYAAY' ,'HYFM' ,'AMRC' ,'HUBB' ,'TPIC' ,'RBC' ,'AEIS' ,'HTZ' ,'ACA' ,'TKR' ,'FLR' ,'AWI' ,'RBA' ,'ALGT' ,'MAN' ,'AAWW' ,'WATR' ,'MMS' ,'DCI' ,'ATKR' ,'NLSN' ,'ABB' ,'ROLL' ,'AQUA' ,'DY' ,'NAV' ,'AL' ,'UNF' ,'PSN' ,'XONE' ,'TAL' ,'WCC' ,'IVAC' ,'TEX' ,'HXL' ,'PRIM' ,'CSL' ,'APG' ,'GFL' ,'MSM' ,'KRNT' ,'EAF' ,'AAN' ,'ADT' ,'PRG' ,'BMI' ,'R' ,'AZEK' ,'HEIA' ,'AIMC' ,'NVT' ,'LECO' ,'BWC' ,'GY' ,'JBT' ,'ENS' ,'RXN' ,'TOC' ,'ABM' ,'EAGL' ,'TGI' ,'CW' ,'WBT' ,'BECN' ,'MIC' ,'GMT' ,'BW' ,'PAC' ,'SKYW' ,'CPA' ,'MRCY' ,'POLA' ,'HEES' ,'KEX' ,'MNES' ,'FAIL' ,'PZB' ,'ENR' ,'CWST' ,'ASGN' ,'ALT' ,'SWBI' ,'BWC' ,'MYRG' ,'BWEN' ,'GBX' ,'WERN' ,'EMCG' ,'WTHG' ,'RCII' ,'AVAV' ,'REZI' ,'CNHI' ,'BLDG' ,'ARNC' ,'ALEX' ,'TRN' ,'VALM' ,'HAYW' ,'SRCL' ,'KIQ' ,'PFMT' ,'SSD' ,'CLHB' ,'FLS' ,'PBI' ,'ERJ' ,'NAT' ,'KMT' ,'FRTA' ,'DAC' ,'ASF' ,'IAA' ,'HI' ,'ROCK' ,'TMI' ,'AZUL' ,'DOOR' ,'MIII' ,'KFY' ,'IBP' ,'GMS' ,'ABFS' ,'ARLO' ,'KODK' ,'CR' ,'MEG' ,'ASR' ,'VTSI' ,'TNET' ,'GSHT' ,'HONI' ,'MWA' ,'AMSC' ,'AAON' ,'GOL' ,'CYRX' ,'FIX' ,'OMAB' ,'LAND' ,'TFT' ,'SBLK' ,'CRS' ,'JELD' ,'TFII' ,'AQMS' ,'TGH' ,'PCR' ,'SCS' ,'SINO' ,'MLI' ,'ICFI' ,'DHC' ,'CSWIV' ,'WTS' ,'BRCOA' ,'HA' ,'RGR' ,'AZZ' ,'POWW' ,'SNDR' ,'ENRJ' ,'FELE' ,'INSW' ,'MTW' ,'SPW' ,'CATM' ,'ROAD' ,'ASTE' ,'HUBG' ,'FLOW' ,'B' ,'CMCO' ,'HURN' ,'WNC' ,'APZ' ,'AGX' ,'VRTV' ,'FSS' ,'MESA' ,'CBIZ' ,'EPAC' ,'NVEE' ,'OPTT' ,'RAVN' ,'MOG.A' ,'LNN' ,'DPW' ,'EOSE' ,'CGT' ,'AIR' ,'FTAI' ,'WIRE' ,'OAKC' ,'CAP' ,'ABXA' ,'CFXA' ,'ACP' ,'HSII' ,'TANT' ,'KNL' ,'GFF' ,'SFL' ,'SXI' ,'VVI' ,'CBAK' ,'SPAB' ,'DCO' ,'ALG' ,'TRNS' ,'CRAI' ,'CIR' ,'HWCC' ,'HTLD' ,'APOG' ,'MGRC' ,'NMM' ,'MRTN' ,'GTES' ,'NX' ,'SHYF' ,'NXTD' ,'PGTI' ,'TWI' ,'HSC' ,'REVG' ,'KELYA' ,'ECHO' ,'DGLY' ,'KAMNA' ,'SGBX' ,'SNCY' ,'WLDN' ,'IDS' ,'ACTG' ,'SNHY' ,'VVNT' ,'GLDD' ,'IEE' ,'NPO' ,'USX' ,'USAK' ,'ROMC' ,'HYRE' ,'LBOR']\n",
    "Technology = ['AAPL' ,'MSFT' ,'NVDA' ,'AMD' ,'AMAT' ,'SQ' ,'INTC' ,'MU' ,'SHOP' ,'CRM' ,'ADBE' ,'LRCX' ,'PLTR' ,'TSM' ,'APPY' ,'CSCO' ,'MVIS' ,'QCOM' ,'TXN' ,'ASMLF' ,'SNOW' ,'UBER' ,'CRWD' ,'AVGO' ,'NOW' ,'FISV' ,'ACN' ,'NXPI' ,'KLAC' ,'IBM' ,'INTU' ,'ORCL' ,'ADI' ,'TTD' ,'ENPH' ,'RNG' ,'ADSK' ,'CEY' ,'DDOG' ,'AHA' ,'DOCU' ,'DOX' ,'RUN' ,'COUP' ,'OKTA' ,'LYFT' ,'SNPS' ,'U' ,'PANW' ,'MCHP' ,'MNDL' ,'WDAY' ,'MSTR' ,'TEAM' ,'CDN' ,'WDC' ,'ON' ,'ZS' ,'SPLK' ,'MDB' ,'TER' ,'PLAN' ,'HUBS' ,'RIMM' ,'CTSH' ,'UBNT' ,'AVLR' ,'AI' ,'VUZI' ,'STNE' ,'MXIM' ,'HWP' ,'TEL' ,'WIX' ,'XLNX' ,'FSLR' ,'STX' ,'QRVO' ,'FTV' ,'ANSS' ,'GLW' ,'NET' ,'SEDG' ,'FLT' ,'EPAM' ,'FSLY' ,'SPWR' ,'TDY' ,'FTNT' ,'INFY' ,'CTXS' ,'APH' ,'CHKPF' ,'PAYC' ,'NOVA' ,'EBON' ,'HPE' ,'CREE' ,'ZBRA' ,'MRVL' ,'AKAM' ,'ZEN' ,'WORK' ,'DELL' ,'ENTG' ,'AFRM' ,'FIVN' ,'MPWR' ,'KEYS' ,'TRMB' ,'DBX' ,'FFIV' ,'GART' ,'BILL' ,'ARW' ,'VSNR' ,'CDW' ,'PMTC' ,'NTAP' ,'AYX' ,'SLTD' ,'FIC' ,'VMW' ,'COHR' ,'VRSN' ,'FAF' ,'BIGC' ,'MOT' ,'IIVI' ,'SAP' ,'ESTC' ,'GDS' ,'DXC' ,'TYL' ,'SSNC' ,'QTWO' ,'GWRE' ,'PSTG' ,'GDDY' ,'IRBT' ,'LITEV' ,'VRNT' ,'BMBL' ,'APPN' ,'CPBY' ,'PAGS' ,'DT' ,'BL' ,'CSIQ' ,'PANL' ,'BRKS' ,'WXS' ,'CDAY' ,'GRMN' ,'PCTY' ,'TDSC' ,'LPSN' ,'JKHY' ,'SAI' ,'NOK' ,'BR' ,'BAND' ,'CGNX' ,'CIEN' ,'GMHI' ,'LAZR' ,'OLO' ,'AZPN' ,'KOPN' ,'PD' ,'SABR' ,'ANET' ,'SYMC' ,'BOX' ,'MKSI' ,'LSCC' ,'FLEXF' ,'UNPH' ,'CLDR' ,'MDLA' ,'VRNS' ,'FEYE' ,'SHLS' ,'ARRY' ,'BKI' ,'SWCH' ,'TENB' ,'CRNCV' ,'KLIC' ,'ST' ,'SYNA' ,'G' ,'STM' ,'SMAR' ,'JFAX' ,'NEWR' ,'ERICY' ,'RXT' ,'ITRI' ,'CLSK' ,'MDA' ,'UCTT' ,'MANH' ,'NCNO' ,'YOD' ,'SAIL' ,'LOGIY' ,'VZIO' ,'AVGOP' ,'DNB' ,'SEAC' ,'JNPR' ,'SONO' ,'GPRO' ,'FOUR' ,'PFPT' ,'EEFT' ,'CCC' ,'TRNE' ,'STMP' ,'ZI' ,'VNT' ,'CRUS' ,'VNTW' ,'NICEY' ,'LFUS' ,'DOMO' ,'SAIC' ,'BSY' ,'WKEY' ,'BEEM' ,'VLDR' ,'JBIL' ,'EVBG' ,'CNXC' ,'AMKR' ,'PEGA' ,'CACI' ,'KOSS' ,'ASAN' ,'DLB' ,'RPD' ,'CDKVV' ,'AMBA' ,'UMC' ,'NCR' ,'XRX' ,'ENV' ,'SNX' ,'IPGP' ,'QLYS' ,'SSYS' ,'EGHT' ,'CCMP' ,'CRCT' ,'NSIT' ,'CYBR' ,'FROG' ,'CALX' ,'CRSR' ,'LSPD' ,'SLAB' ,'GLOB' ,'NTNX' ,'TSAI' ,'POWI' ,'GTNR' ,'MTSI' ,'DIO' ,'AVYA' ,'TTEC' ,'PING' ,'PTC' ,'TLS' ,'SPT' ,'AVT' ,'NPTN' ,'SITM' ,'ICHR' ,'SUMO' ,'COMM' ,'NVMM' ,'TDC' ,'ONTO' ,'ACMR' ,'ALRM' ,'CVLT' ,'EXLS' ,'XM' ,'FORM' ,'EB' ,'DCT' ,'VSAT' ,'NVTL' ,'DNJR' ,'SMTC' ,'ACXM' ,'GIB' ,'APPF' ,'MANT' ,'CSOD' ,'EVTC' ,'ZUO' ,'ATMR' ,'CMBM' ,'PUBM' ,'FN' ,'MXL' ,'UIS' ,'GSCN' ,'SPSC' ,'DOCN' ,'WK' ,'CGNT' ,'NTCT' ,'VSCI' ,'NATI' ,'PTAC' ,'MCFE' ,'DSP' ,'ACLS' ,'PLXS' ,'MX' ,'PCVA' ,'OTEXF' ,'MIME' ,'BLKB' ,'ASX' ,'GILTF' ,'PRFT' ,'SANM' ,'EPAY' ,'ALTR' ,'VSH' ,'INTZ' ,'SMCI' ,'TSEMF' ,'SPU' ,'VCRA' ,'YEXT' ,'ALGM' ,'EMA' ,'PIOS' ,'COHU' ,'INFN' ,'MODN' ,'PRGS' ,'SVMK' ,'TTMI' ,'TSRA' ,'KN' ,'DBD' ,'ROG' ,'MAXNV' ,'SWI' ,'VERI' ,'SATS' ,'XGTI' ,'MOGO' ,'VVPR' ,'CSGS' ,'DLPH' ,'NTGR' ,'PRO' ,'EXTR' ,'TBRG' ,'CNDT' ,'ACVA' ,'PLAB' ,'WIT' ,'UPLD' ,'ESE' ,'CPSH' ,'RMBS' ,'OSIS' ,'SGH' ,'PAMT' ,'BHE' ,'HSTX' ,'DMRC' ,'LASR' ,'VICR' ,'MFGP' ,'ATC' ,'VERX' ,'CAZA' ,'MICT' ,'LPL' ,'SMSI' ,'LCA' ,'JAMF' ,'MLCH' ,'METHA' ,'ONTF' ,'EVOP' ,'VECO' ,'MITK' ,'BCOV' ,'ECOM' ,'IMMR' ,'AOSL' ,'PAYA' ,'SMMC' ,'GBOX' ,'SYKE' ,'VDSI' ,'AKTS' ,'IIIV' ,'CMTL' ,'SSNT' ,'WATT' ,'JSYN' ,'GPIA' ,'AXTI' ,'ZDGE' ,'CTS' ,'RDWR' ,'PI' ,'NVMI' ,'MLAB']\n",
    "April_1 = [BasicMaterials, ConsumerCyclical, FinancialServices, RealEstate, ConsumerDefensive, Healthcare,\\\n",
    "           Utilities, CommunicationServices, Energy, Industrials, Technology]"
   ]
  },
  {
   "cell_type": "code",
   "execution_count": 7,
   "metadata": {},
   "outputs": [],
   "source": [
    "# May 4 filtered_stocks (dollar_volume_min_price)\n",
    "BasicMaterials = ['FCX' ,'X' ,'RIO' ,'NUE' ,'NEM' ,'DOW' ,'ABX' ,'CLF' ,'DOW' ,'SHW' ,'APD' ,'MOS' ,'PX' ,'LYB' ,'RTP' ,'AVTR' ,'AA' ,'GGB' ,'MLM' ,'ECL' ,'STLD' ,'AEM' ,'IST' ,'PPG' ,'IFF' ,'CTVA' ,'ALB' ,'VMC' ,'SLW' ,'OLN' ,'CF' ,'KGC' ,'FMC' ,'AU' ,'GRA' ,'PAASF' ,'BHP' ,'TCK' ,'AXTA' ,'HL' ,'PCU' ,'EMN' ,'AG' ,'POT' ,'CE' ,'FNV' ,'GEVO' ,'CDE' ,'WLK' ,'SMG' ,'FSM' ,'FVAC' ,'HUN' ,'SID' ,'BBL' ,'LOAK' ,'RPOW' ,'CXP' ,'KL' ,'ESI' ,'AMRS' ,'RS' ,'AUY' ,'CX' ,'BCP' ,'CC' ,'CMC' ,'RGLD' ,'PLLL' ,'DRFNY' ,'SCHN' ,'WFG' ,'SBSW' ,'SQM' ,'TROX' ,'NGVT' ,'GPRE' ,'LAC' ,'ASH' ,'ABH' ,'CENX' ,'SSRIF' ,'UFPI' ,'BTG' ,'SVM' ,'EQX' ,'TSE' ,'AGI' ,'MVG' ,'FULL' ,'UFS' ,'LTHM' ,'IAG' ,'SUM' ,'POL' ,'ZEUS' ,'HGMCY' ,'EGO' ,'MDU' ,'EXK' ,'CBT' ,'BCC' ,'HUGO' ,'WDFC' ,'CMP' ,'PQG' ,'SAND' ,'CRHCY' ,'CSTM' ,'EY' ,'UFC' ,'HCC' ,'ZY' ,'SCL' ,'SUZ' ,'BVN' ,'ASIX' ,'BW' ,'MEOHF' ,'PVG' ,'BAK' ,'USGL' ,'KRA' ,'UNVR' ,'FPGP' ,'NG' ,'SILV' ,'DRJ' ,'KALU' ,'KWR' ,'SSLT' ,'PKX' ,'TMST' ,'USCR' ,'OEC' ,'HBM' ,'SXC' ,'MERCS' ,'OR' ,'FRD' ,'SA' ,'MWGP' ,'MTX' ,'KOP' ,'GSM' ,'SWM' ,'TKOCF' ,'GATO' ,'OTL' ,'ASM' ,'GCP' ,'URIX' ,'NAK' ,'IPI']\n",
    "ConsumerCyclical = ['AMZN' ,'TSLA' ,'BABA' ,'HD' ,'DKNG' ,'GME' ,'EBAY' ,'ETSY' ,'F' ,'GM' ,'PTON' ,'LOW' ,'CCL' ,'MCD' ,'SBUX' ,'NCLH' ,'NKE' ,'MELI' ,'PCLN' ,'GPS' ,'W' ,'MHK' ,'JD' ,'PENN' ,'CVNA' ,'CHWY' ,'CMG' ,'DPZ' ,'EXPE' ,'TJX' ,'COH' ,'FD' ,'RH' ,'ORLY' ,'DHI' ,'LULU' ,'KSS' ,'LTD' ,'RCL' ,'MAR' ,'DLPH' ,'ULTA' ,'Z' ,'MGG' ,'LVS' ,'OSTK' ,'LEN' ,'SPAQ' ,'AZO' ,'WYNN' ,'KCAC' ,'FTCH' ,'VFC' ,'HLT' ,'CTRP' ,'ERI' ,'UARM' ,'PHM' ,'DKS' ,'AAP' ,'WHR' ,'FIVE' ,'TSCO' ,'BURL' ,'KMX' ,'BBY' ,'ARMK' ,'TRIP' ,'IP' ,'RL' ,'RII' ,'CROX' ,'ROST' ,'DRI' ,'YUMC' ,'POOL' ,'YUM' ,'WSGC' ,'TTE' ,'KORS' ,'NOBE' ,'AEOS' ,'SEE' ,'CPNG' ,'URBN' ,'CRI' ,'BWA' ,'WKHS' ,'FBHS' ,'MGA' ,'BC' ,'BLL' ,'RACE' ,'GPC' ,'CCK' ,'TXRH' ,'QSR' ,'TPX' ,'PVH' ,'NAKD' ,'VTIQ' ,'WING' ,'AMCR' ,'BFAM' ,'DECK' ,'SKX' ,'WRK' ,'MTN' ,'HAS' ,'KAR' ,'CWH' ,'YETI' ,'LMTR' ,'PLNT' ,'LEVI' ,'EAT' ,'HBI' ,'SRV' ,'BBBY' ,'RVLV' ,'TOL' ,'SIX' ,'FND' ,'BERY' ,'LKQX' ,'WISH' ,'GT' ,'BLNK' ,'PII' ,'HGV' ,'HDI' ,'CCS' ,'COLM' ,'NVR' ,'ANF' ,'SEAS' ,'MPEL' ,'FLWS' ,'ARVL' ,'ELY' ,'KTB' ,'ROL' ,'SHAK' ,'WTW' ,'LEG' ,'BLMN' ,'SIGYY' ,'VAC' ,'DDS' ,'MAT' ,'MTH' ,'CHDN' ,'GRWG' ,'LESL' ,'LGIH' ,'UA' ,'HRB' ,'BYD' ,'LEA' ,'CAKE' ,'MHO' ,'PKG' ,'KBH' ,'FOXF' ,'MDC' ,'DAN' ,'TKAT' ,'SFIX' ,'RRR' ,'GNTX' ,'AIRB' ,'WOOF' ,'CTB' ,'H' ,'RIDE' ,'HZO' ,'THO' ,'TMHC' ,'PLAY' ,'WGO' ,'PLCE' ,'REAL' ,'SBH' ,'ATR' ,'VRM' ,'GPK' ,'PZZA' ,'TOYOY' ,'MUSA' ,'VC' ,'ASO' ,'CBRL' ,'XL' ,'QRTEA' ,'DSEY' ,'SHLL' ,'UAG' ,'WH' ,'MED' ,'HIBB' ,'ALSN' ,'VSTO' ,'HMC' ,'HTHT' ,'GOOS' ,'GCA' ,'TPH' ,'FNKO' ,'HOME' ,'GPAC' ,'BIOF' ,'SOLO' ,'TCS' ,'ALV' ,'ADNT' ,'GIL' ,'STAY' ,'RMG' ,'FCAU' ,'IGT' ,'KIRK' ,'FM' ,'DSW' ,'SERV' ,'SHOO' ,'TRY' ,'MCFT' ,'DMYT' ,'TUP' ,'PRTY' ,'IHOP' ,'EYE' ,'BG' ,'MLHR' ,'BOOT' ,'CHH' ,'FUN' ,'SON' ,'LOVE' ,'ABG' ,'BZH' ,'REYN' ,'ETH' ,'LZB' ,'WWW' ,'CUK' ,'GAN' ,'TRWH' ,'DOOO' ,'GES' ,'BGFV' ,'GPI' ,'HAVT' ,'CTRN' ,'BKE' ,'SLGN' ,'WPRT' ,'DFXI' ,'RBIN' ,'LCII' ,'GIII' ,'RNTA' ,'ACAM' ,'CNNE' ,'SKY' ,'PRTS' ,'SAH' ,'GMBL' ,'VNE' ,'OI' ,'ODP' ,'BZUN' ,'CONN' ,'TTM' ,'CVCO' ,'PATK' ,'ARGNA' ,'GBCOA' ,'CHGO' ,'POSH' ,'FTDRV' ,'AXL' ,'CBD' ,'MRA' ,'HOV' ,'LCA' ,'GOEV' ,'LL' ,'MBUU' ,'FRG' ,'FRSX' ,'FUV' ,'EXPR' ,'AIN' ,'LENB' ,'DRVN' ,'KNDI' ,'MCRI' ,'MMYT' ,'RUSHA' ,'MOVA' ,'DINE' ,'AMWD' ,'CHUY' ,'NCT' ,'ONEW' ,'GDEN' ,'BSET' ,'OXM' ,'GOLF' ,'RRGB' ,'ZUMZ' ,'CARS' ,'SPWH' ,'RUTH' ,'MNRO' ,'JWAIA' ,'FOSL' ,'TEN' ,'RICK' ,'INSU' ,'CSPR' ,'WNW' ,'CNGR' ,'XPEL' ,'LOCO' ,'GCO' ,'JOAN' ,'RCKY' ,'MYE' ,'AYRO']\n",
    "FinancialServices = ['PYPL' ,'V' ,'MA' ,'BRKA' ,'BRKB' ,'TRV' ,'CMB' ,'NB' ,'GS' ,'NOB' ,'MARA' ,'MWD' ,'MHP' ,'COF' ,'AXP' ,'AOC' ,'SCH' ,'BLK' ,'ACL' ,'USB' ,'ICE' ,'TFC' ,'MMC' ,'CCIV' ,'ITUB' ,'SYF' ,'DFS' ,'PNC' ,'PGR' ,'DNB' ,'MET' ,'UPST' ,'BK' ,'BX' ,'ALL' ,'CME' ,'PRU' ,'SI' ,'CFG' ,'SIVB' ,'ALLY' ,'IBN' ,'TROW' ,'SPC' ,'FITB' ,'WLTW' ,'OMF' ,'AFL' ,'PSLV' ,'HBAN' ,'BBD' ,'HIG' ,'AMP' ,'RGBK' ,'KEY' ,'APO' ,'HDB' ,'RKT' ,'LMND' ,'EQH' ,'WU' ,'AIG' ,'TD' ,'AJG' ,'KKR' ,'RE' ,'SBNY' ,'BAP' ,'PBCT' ,'LPLA' ,'CMA' ,'NDAQ' ,'STT' ,'ADS' ,'CINF' ,'FES' ,'SLM' ,'BEN' ,'PFG' ,'QCSB' ,'RJF' ,'MXB' ,'RY' ,'NTRS' ,'AVZ' ,'MKTX' ,'RNR' ,'MTG' ,'CACC' ,'ZION' ,'ATH' ,'LNC' ,'FTEN' ,'CBOE' ,'CIT' ,'PBR' ,'HBC' ,'FDS' ,'BMO' ,'MORN' ,'MUDS' ,'FRC' ,'CG' ,'AMG' ,'PBCP' ,'MAAC' ,'BKLY' ,'WAL' ,'FLGS' ,'EBC' ,'FCNCA' ,'DB' ,'TW' ,'TREE' ,'IBKR' ,'XP' ,'FHI' ,'FMBI' ,'BNS' ,'ORI' ,'FNT' ,'ING' ,'MFC' ,'SF' ,'VOYA' ,'CFR' ,'LTR' ,'BPOP' ,'ARCC' ,'EWBC' ,'ARES' ,'VIRT' ,'EVR' ,'CSR' ,'RCHI' ,'LAZ' ,'MKL' ,'WPF' ,'TCBI' ,'TMK' ,'ASB' ,'UNM' ,'TRUP' ,'ISBC' ,'UMPQ' ,'APAM' ,'WBST' ,'PNFP' ,'LUK' ,'JHG' ,'CMT' ,'PSTH' ,'RGA' ,'AFG' ,'PRSP' ,'GNW' ,'FCBP' ,'SEIC' ,'SNV' ,'GHIV' ,'BCS' ,'BCM' ,'Y' ,'AGC' ,'ESPD' ,'UBS' ,'UNIT' ,'GSHD' ,'PFSI' ,'FAF' ,'BXS' ,'AIZ' ,'NAVIV' ,'AFC' ,'CHFC' ,'ABCB' ,'UMBF' ,'CNO' ,'AXS' ,'WD' ,'GBCI' ,'COWND' ,'BPBC' ,'CONX' ,'LOB' ,'SLC' ,'PCI' ,'VLY' ,'LC' ,'PHYS' ,'FBAN' ,'OZRK' ,'BOH' ,'FULT' ,'HBHC' ,'CIB' ,'FNC' ,'STD' ,'ORCC' ,'FBP' ,'CBU' ,'FRHC' ,'SC' ,'DGNR' ,'INDB' ,'HLI' ,'PSEC' ,'EHTH' ,'PJT' ,'TBK' ,'SLQT' ,'PAWN' ,'BHFWV' ,'AC' ,'RILY' ,'FOCS' ,'FFIN' ,'AGO' ,'WTFC' ,'SEAH' ,'CADE' ,'BKU' ,'BOKF' ,'AAC' ,'GDOT' ,'KNSL' ,'CBSH' ,'ARC' ,'ESNT' ,'FWAA' ,'CATY' ,'NMIH' ,'FFC' ,'MC' ,'EBC' ,'VRTS' ,'RLI' ,'FHB' ,'PLMR' ,'MAIN' ,'PDI' ,'PRI' ,'TIRX' ,'SFNCA' ,'LPRO' ,'ENVA' ,'UBSI' ,'HTGC' ,'CASH' ,'ROOT' ,'HLNE' ,'EBSB' ,'GSBD' ,'LFCO' ,'EFC' ,'PHC' ,'PTY' ,'FTCV' ,'ERIE' ,'ATCO' ,'COLB' ,'UTF' ,'BBV' ,'CEF' ,'STC' ,'SAN' ,'MCY' ,'GOCO' ,'CFAC' ,'RQI' ,'EFSC' ,'GMII' ,'AACQ' ,'SPFR' ,'SIGI' ,'THCB' ,'CNS' ,'RTP' ,'FCBP' ,'OMAM' ,'CUBI' ,'IBTX' ,'SRNG' ,'LDI' ,'PRAA' ,'AEL' ,'WFSL' ,'PIPR' ,'SFBS' ,'GWB' ,'HOMB' ,'LFC' ,'INDI' ,'ESGRD' ,'AJAX' ,'SHG' ,'MCMC' ,'TYP' ,'WSFS' ,'CVII' ,'CRHC' ,'GHL' ,'NARA' ,'PFS' ,'IPOF' ,'CLM' ,'BOFI' ,'GOF' ,'SPRQ' ,'NAD' ,'PXT' ,'CNA' ,'CNBC' ,'OFG' ,'HEC' ,'GBDC' ,'UCBI' ,'FRME' ,'EIG' ,'DFIN' ,'ACTC' ,'NSL' ,'GRSV' ,'FRX' ,'FSC' ,'BTWN' ,'MGI' ,'OLDB' ,'TRMK' ,'SPAQ' ,'DHY' ,'BDGE' ,'MUFG' ,'WSBC' ,'FFBC' ,'GFX' ,'APXT' ,'FWWB' ,'PDO' ,'EQOS' ,'HYT' ,'UBSH' ,'FAMCK' ,'NVG' ,'APGB' ,'TOWN' ,'FTOC' ,'PDAC' ,'SASR' ,'SBCFA' ,'VGAC' ,'EGBN' ,'BCX' ,'GCMG' ,'BDJ' ,'NBHC' ,'BHL' ,'UFCS' ,'HFRO' ,'JQC' ,'HZAC' ,'SMFG' ,'PUCK' ,'VBTX' ,'FMAC' ,'EXG' ,'MAACU' ,'LGAC' ,'CLII' ,'FVH' ,'BGY' ,'BMTC' ,'RA' ,'DNP' ,'EIS' ,'TBA' ,'JRVR' ,'OXLC' ,'OCFC' ,'LCY' ,'HTLF' ,'GSAH' ,'HAFC' ,'TPGY' ,'SCU' ,'NWSB' ,'JWS' ,'NEA' ,'USA' ,'NMFC' ,'FIBK' ,'BANF' ,'ACIC' ,'LYG' ,'BSBR' ,'UTG' ,'FBF' ,'AEG' ,'KB' ,'BOWX' ,'FPTB' ,'FCF' ,'OLA' ,'HMN' ,'AMSF' ,'CVB' ,'SII' ,'GHVI' ,'LUXA' ,'GROW' ,'TREB' ,'NTB' ,'PFN' ,'LKFN' ,'LBAI' ,'FSIC' ,'SFTW' ,'TSLX' ,'GLEO' ,'SRAC' ,'EVT' ,'SNPR' ,'IBOC' ,'FSKR' ,'HOL' ,'PACE' ,'SRCE' ,'BSTZ' ,'FBK' ,'WABC' ,'TBBKD' ,'EVV' ,'RIV' ,'CRVL' ,'FUSE' ,'OCA' ,'BMEZ' ,'BRP' ,'FBMS' ,'RVT']\n",
    "RealEstate = ['AMT' ,'SPG' ,'TWRS' ,'EQIXD' ,'O' ,'AMB' ,'AHT' ,'DLR' ,'ARCP' ,'WY' ,'VICI' ,'KRC' ,'RIGX' ,'HCN' ,'PSA' ,'OPEN' ,'NLY' ,'ARE' ,'SBAC' ,'CBRE' ,'DRE' ,'KIM' ,'EQR' ,'PEAK' ,'VC' ,'CDC' ,'EXR' ,'LAMR' ,'BYA' ,'MAA' ,'RDFN' ,'AGNC' ,'VNO' ,'ESS' ,'INVH' ,'IMTN' ,'MPW' ,'BXP' ,'OHI' ,'CPT' ,'CONE' ,'LAP' ,'COLD' ,'SUI' ,'PK' ,'STWD' ,'NRZ' ,'UDR' ,'DEI' ,'CBSO' ,'YSI' ,'GLPIV' ,'CT' ,'NNN' ,'REG' ,'GET' ,'AMH' ,'HTA' ,'FRT' ,'COR' ,'REXR' ,'APLE' ,'PEB' ,'WRI' ,'CUZ' ,'STOR' ,'LSI' ,'FR' ,'BRX' ,'SLG' ,'EXPI' ,'EST' ,'MHC' ,'IIPR' ,'DOC' ,'MAC' ,'STIR' ,'ADC' ,'SRC' ,'EGP' ,'EPR' ,'HPP' ,'SUNH' ,'PCH' ,'ACC' ,'HIW' ,'BNL' ,'HRP' ,'PZN' ,'DDR' ,'CWK' ,'MCT' ,'MGP' ,'NAQ' ,'RLGY' ,'EPRT' ,'RYN' ,'RLJ' ,'BDN' ,'NHI' ,'QTS' ,'COPT' ,'TRNO' ,'SKT' ,'SHO' ,'CIM' ,'WHC' ,'ESRT' ,'UE' ,'BPY' ,'HR' ,'FCPT' ,'HHC' ,'AIRC' ,'ABR' ,'HASI' ,'IVR' ,'RPAI' ,'DRH' ,'SVC' ,'ORC' ,'AIV' ,'PGRE' ,'IRT' ,'JBGS' ,'TWO' ,'CTREV' ,'LXP' ,'CLNY' ,'NTAIF' ,'AAT' ,'XHR' ,'AHP' ,'DEA' ,'LTC' ,'CSALV' ,'BPR' ,'ARI' ,'CLI' ,'PMT' ,'MFA' ,'GNL' ,'RWTI' ,'PSM' ,'NSA' ,'APT' ,'SJP' ,'NTR' ,'DX' ,'CXP' ,'WRE' ,'KREF' ,'KRG' ,'PDM' ,'GMRE' ,'HT' ,'FSV' ,'NMRK' ,'CHCT' ,'FSRVF' ,'ACRE' ,'FTHM' ,'BRMK' ,'GBR' ,'GOOD' ,'LADR' ,'SAFE' ,'ALEX' ,'ILPT' ,'SRG' ,'ALX' ,'GOV' ,'PSTL' ,'NTST' ,'RMAX' ,'VINO' ,'LAND' ,'UMH' ,'PAX' ,'INN' ,'GTY']\n",
    "ConsumerDefensive = ['EL' ,'WMT' ,'PG' ,'COST' ,'PEP' ,'CLX' ,'KO' ,'KFT' ,'DH' ,'BYND' ,'PM' ,'CL' ,'MO' ,'CHGG' ,'KR' ,'DG' ,'KMB' ,'KHC' ,'CBRNA' ,'HSY' ,'ADM' ,'GIS' ,'TSN' ,'SYY' ,'HANS' ,'BG' ,'ACCOB' ,'DLTR' ,'K' ,'NWL' ,'DPS' ,'CAG' ,'EDU' ,'BTI' ,'FAMI' ,'SAM' ,'LW' ,'OLLI' ,'USFD' ,'MCCRK' ,'DEO' ,'CPB' ,'UNFI' ,'SJMA' ,'DAR' ,'HRL' ,'FRPT' ,'CHD' ,'BUD' ,'UL' ,'COTY' ,'THS' ,'BJ' ,'BFB' ,'SFM' ,'PFGC' ,'ABEV' ,'TWOU' ,'GO' ,'HLF' ,'CPO' ,'FMCI' ,'CNS' ,'HELE' ,'NOMD' ,'SPB' ,'COUR' ,'VFF' ,'ACI' ,'LANC' ,'PPC' ,'LAUR' ,'CASY' ,'SAFM' ,'HAIN' ,'GRSH' ,'PDA' ,'DV' ,'NUS' ,'POST' ,'UTZ' ,'PRMW' ,'LOPE' ,'NOVS' ,'STRA' ,'CELH' ,'FMX' ,'CCEP' ,'ELF' ,'EPC' ,'BGS' ,'STKLF' ,'FIZ' ,'TPB' ,'WPO' ,'JJSF' ,'CENTA' ,'USNA' ,'OAC' ,'SMPL' ,'LRN' ,'BGL' ,'FLO' ,'CHEF' ,'NTCO' ,'HMHC' ,'METX' ,'CECO' ,'KOF' ,'COKE' ,'EEIQ' ,'PSMT' ,'ARCE' ,'JEAN' ,'TR' ,'IMKTA' ,'CORE' ,'ANDE' ,'WAFU' ,'UVV' ,'SPTN' ,'AFYA' ,'NAPA' ,'CVGW' ,'WVVI' ,'WMK' ,'CCUUY' ,'CALM']\n",
    "Healthcare = ['HSGX' ,'MRNA' ,'NOX' ,'PFE' ,'PRPO' ,'JNJ' ,'RHE' ,'UNH' ,'AMGN' ,'ABBV' ,'MRK' ,'TDOC' ,'CVS' ,'TMO' ,'GILD' ,'LLY' ,'NABI' ,'BMY' ,'MDT' ,'TLRY' ,'ALGN' ,'ABT' ,'DHR' ,'ALXN' ,'ATH' ,'ISRG' ,'BSX' ,'ZTS' ,'REGN' ,'IDPH' ,'CI' ,'HCA' ,'HUM' ,'BDX' ,'NVS' ,'SYK' ,'RESM' ,'VRTX' ,'IDXX' ,'ZEN' ,'AVII' ,'CNTE' ,'EW' ,'VEEV' ,'DXCM' ,'WST' ,'WAG' ,'HOLX' ,'ILMN' ,'ZMH' ,'CERN' ,'CRSP' ,'IQV' ,'WAT' ,'AAS' ,'BAX' ,'HSIC' ,'MCK' ,'DGX' ,'SNDL' ,'LH' ,'EXAS' ,'CVAC' ,'CAH' ,'IPOC' ,'EGG' ,'A' ,'CRL' ,'ELAN' ,'PACB' ,'CTLT' ,'STRL' ,'GLX' ,'PPD' ,'QDEL' ,'JAZZ' ,'BNGO' ,'ABMD' ,'HZNP' ,'TFX' ,'BVF' ,'SGEN' ,'TXG' ,'NVO' ,'MRTX' ,'TEVIY' ,'NVTA' ,'NVCR' ,'AMWL' ,'THC' ,'TRL' ,'AMED' ,'BIOA' ,'CGC' ,'MNMD' ,'MTD' ,'XRAY' ,'ICLRY' ,'COO' ,'FLGT' ,'MOH' ,'GH' ,'PODD' ,'NBIX' ,'TWST' ,'GDRX' ,'ALNY' ,'STAA' ,'BGNE' ,'UHS' ,'PEN' ,'NTLA' ,'VTRSV' ,'AUPH' ,'NTRA' ,'KRG' ,'NVRO' ,'MASI' ,'BEAM' ,'TECH' ,'UTHR' ,'RPRX' ,'INCY' ,'PTIE' ,'ZLAB' ,'ISIP' ,'BMRN' ,'SNY' ,'IOVA' ,'PRAH' ,'HB' ,'INCR' ,'TGTX' ,'NARI' ,'NVST' ,'QGENF' ,'FATE' ,'AMS' ,'RGEN' ,'CHE' ,'PTCT' ,'CTXR' ,'ADPT' ,'SWAV' ,'ZOM' ,'EBS' ,'PHG' ,'TNDM' ,'CHNG' ,'OMCL' ,'HCAT' ,'HRC' ,'OSH' ,'SDGR' ,'NNOX' ,'GEB' ,'PRGO' ,'ACHC' ,'FOLD' ,'ALC' ,'MRVI' ,'ACCD' ,'CYH' ,'GMAB' ,'CNMD' ,'NUVA' ,'HGEN' ,'KBIO' ,'OCUL' ,'SRNE' ,'HTI' ,'HAE' ,'EDIT' ,'EXEL' ,'ARNA' ,'ONEM' ,'AXNX' ,'BHVN' ,'ACAD' ,'ACB' ,'ARWR' ,'TPTX' ,'RAD' ,'CNTL' ,'PETS' ,'PRVA' ,'INSP' ,'CNAC' ,'PGNY' ,'NSTG' ,'RARE' ,'SAGE' ,'TAK' ,'IART' ,'GKOS' ,'BBIO' ,'RETA' ,'AVIR' ,'KPTI' ,'INMD' ,'AAVL' ,'OMI' ,'APLS' ,'IRTC' ,'AHS' ,'ARQT' ,'ARGX' ,'AGIO' ,'CARA' ,'ALKS' ,'VCYT' ,'LMNX' ,'QTRX' ,'CDNA' ,'PAVM' ,'KALA' ,'ATRC' ,'AXSM' ,'SHC' ,'CCXI' ,'ATOS' ,'MGNX' ,'TBIO' ,'PVTR' ,'SILK' ,'XLRN' ,'MEDP' ,'BCRX' ,'MGLN' ,'ACRS' ,'GMED' ,'ARCT' ,'CRON' ,'KROS' ,'KOD' ,'PINC' ,'LUNG' ,'XXII' ,'GBT' ,'AHCO' ,'ENSG' ,'LHCG' ,'VIR' ,'ICUI' ,'CYPH' ,'SEEL' ,'EBIO' ,'ARVN' ,'ARDX' ,'SDC' ,'TRIL' ,'OGI' ,'SIBN' ,'MDRX' ,'HOTR' ,'LGND' ,'LIVN' ,'PDX' ,'HIV' ,'INSM' ,'PCRX' ,'INHL' ,'HQY' ,'BLUE' ,'AGL' ,'INOV' ,'BPMC' ,'ALLO' ,'DNLI' ,'ZNTL' ,'SENS' ,'AFMD' ,'BDAL' ,'PHR' ,'AHPA' ,'SEER' ,'CLVS' ,'DRNA' ,'PDCO' ,'CRY' ,'HEXO' ,'CVETV' ,'KIDS' ,'ALDX' ,'NEO' ,'CYTK' ,'DVAX' ,'FGEN' ,'MYGN' ,'CTMX' ,'EAR' ,'TCMD' ,'IRWD' ,'BLI' ,'SEM' ,'ABCL' ,'ASTM' ,'CRIS' ,'GLPG' ,'SANA' ,'SNN' ,'PETQ' ,'KYMR' ,'CHRS' ,'OM' ,'ALLK' ,'GTHX' ,'MOTS' ,'RLAY' ,'TCLN' ,'ITCI' ,'LNTH' ,'PTBI' ,'CDXS' ,'ADUS' ,'ICPT' ,'AVAH' ,'GOVX' ,'RUBY' ,'PSNL' ,'ITEK' ,'SURF' ,'QURE' ,'RCM' ,'OCDX' ,'MMSI' ,'HOTH' ,'ESPR' ,'HCSG' ,'RVNC' ,'GB' ,'CPRX' ,'RDY' ,'HNGR' ,'ENDP' ,'ADMA' ,'HSAC' ,'GRFS' ,'KITS' ,'ALEC' ,'ALT' ,'CCXX' ,'GTBP' ,'ZYME' ,'ALXO' ,'TCEL' ,'SUPN' ,'PRTA' ,'IMGN' ,'EVH' ,'KURA' ,'CNST' ,'CNDO' ,'GBS' ,'RVMD' ,'BTAI' ,'REPL' ,'INGN' ,'GBIO' ,'SGRY' ,'RGNX' ,'AMTI' ,'HSKA' ,'HYH' ,'CERS' ,'SNDX' ,'NEOG' ,'TMDX' ,'CODX' ,'CSTL' ,'VREX' ,'LMAT' ,'OPCH' ,'RGLS' ,'HRTX' ,'PLCC' ,'FLDM' ,'SELB' ,'SGMO' ,'SIMU' ,'AVRO' ,'FREQ' ,'MDGL' ,'IGMS' ,'MCRB' ,'RCUS' ,'CERT' ,'ZGNX' ,'CORT' ,'DCPH' ,'AKRO' ,'MNKD' ,'CRTX' ,'PRSC' ,'FHC' ,'EPZM' ,'PTGX' ,'KRTX' ,'MASS' ,'FMS' ,'GALT' ,'PBH' ,'JAGX' ,'NEOT' ,'VSTM' ,'EYES' ,'MYOV' ,'PLX' ,'ADCT' ,'USPH' ,'HOWL' ,'ADTX' ,'CATS' ,'KDMN' ,'FMTX' ,'STIM' ,'YMAB' ,'TXMD' ,'PRLD' ,'CBYL' ,'TRHC' ,'TIL' ,'EPTO' ,'ATHA' ,'AVXL' ,'NRIX' ,'PRQR' ,'AMRX' ,'ANGO' ,'SRRK' ,'MLSS' ,'GRTX' ,'TVTX' ,'JYNT' ,'TRVN' ,'BKD' ,'OPHT' ,'BDTX' ,'RIGL' ,'AKBA' ,'MTBCP' ,'IVCR' ,'TNXP' ,'ONTX' ,'APTO' ,'BABY' ,'RPTX' ,'ZIOP' ,'AMHC' ,'GTXI' ,'EWTX' ,'AGEN' ,'PRAX' ,'ATEC' ,'XNCR' ,'EPIX' ,'MRSN' ,'PHAT' ,'OPRX' ,'KRYS' ,'BCTX' ,'RDUS' ,'ATRI' ,'CGEN' ,'RDYN' ,'ITOS' ,'HARP' ,'WVE' ,'ITRM' ,'XERS' ,'AERI' ,'ENTA' ,'MORF' ,'TCRR' ,'ATRA' ,'RXRX' ,'BCAB' ,'XON' ,'SWTX' ,'CCCC' ,'NOVN' ,'EOLS' ,'VNDA' ,'SGFY' ,'FLXN' ,'PAHC' ,'VKTX' ,'KBLM' ,'STTK' ,'ESTA' ,'PRVB' ,'ATNX' ,'ZYXI' ,'NEOT' ,'BLFS' ,'AVEO' ,'OSCR' ,'SPNEV' ,'EVLO' ,'CRDF' ,'RYTM' ,'ORMP' ,'SBTX' ,'BIOD' ,'ALHC' ,'NKTX' ,'VTGN' ,'PMVP' ,'OMER']\n",
    "Utilities = ['FPL' ,'DUK' ,'D' ,'FE' ,'PCG' ,'PE' ,'SO' ,'AEP' ,'DTE' ,'AES' ,'EIX' ,'WEC' ,'NU' ,'PEG' ,'PPL' ,'NSP' ,'ED' ,'SRE' ,'CMS' ,'NI' ,'AEE' ,'ETR' ,'WPH' ,'AWK' ,'PNW' ,'ATO' ,'HOU' ,'NRG' ,'VST' ,'WR' ,'SJI' ,'OGE' ,'ORA' ,'BEPC' ,'BEPCW' ,'IDA' ,'PCGU' ,'WWP' ,'ABY' ,'WTRG' ,'UGI' ,'POR' ,'SWX' ,'UTL' ,'OGS' ,'CWEN' ,'PNM' ,'LG' ,'NEP' ,'BKH' ,'NJR' ,'NWEC' ,'AGR' ,'SBS' ,'BEP' ,'NGG' ,'ENI' ,'FTS' ,'ELP' ,'HE' ,'MPL' ,'NWNG' ,'AQN' ,'SCW' ,'CWT' ,'CIG' ,'NFE' ,'BIP' ,'BIPC' ,'AZRE' ,'SJW' ,'CPK' ,'AEPPZ' ,'OTTR']\n",
    "CommunicationServices = ['FB' ,'TWTR' ,'NFLX' ,'GOOCV' ,'GOOG' ,'DIS' ,'VIAC' ,'BIDU' ,'BEL' ,'PINS' ,'ROKU' ,'CMCSA' ,'SNAP' ,'ZM' ,'ATVI' ,'SBC' ,'PCS' ,'ABNB' ,'TWLO' ,'DISCA' ,'MTCH' ,'SPOT' ,'Z' ,'BILI' ,'CHTR' ,'FEAC' ,'AMC' ,'ERTS' ,'EDR' ,'RBLX' ,'DISCK' ,'TTWO' ,'FUBO' ,'DASH' ,'FOXAV' ,'IAC' ,'ZNGA' ,'OMC' ,'IPG' ,'FVRR' ,'DISH' ,'CTL' ,'LBDKV' ,'NYT' ,'ATUS' ,'CDRD' ,'NTES' ,'NXST' ,'GCSB' ,'GRUB' ,'NWSAV' ,'SSTK' ,'LYV' ,'RUBI' ,'MDP' ,'ZG' ,'CABO' ,'AIX' ,'WMG' ,'CNK' ,'YNDX' ,'VOD' ,'ATHM' ,'CDLX' ,'BCE' ,'TDS' ,'AMCX' ,'AMX' ,'GRPN' ,'WWFE' ,'FOXBV' ,'SBGI' ,'MSGS' ,'LBTYA' ,'LSXMA' ,'GNUS' ,'LSXMK' ,'LMCKV' ,'IHRT' ,'YELP' ,'GHQ' ,'HOFV' ,'TU' ,'LBTYK' ,'COI' ,'ORBC' ,'GCI' ,'MAIL' ,'VG' ,'JWA' ,'TV' ,'IMAXF' ,'GOGO' ,'DLX' ,'TEF' ,'NWSVV' ,'IDC' ,'CARG' ,'COUP' ,'MSGE' ,'TTGT' ,'MSGEW' ,'RG' ,'SAQN' ,'LBDAV' ,'WPP' ,'PLTK' ,'SCR' ,'GENI' ,'SCPL' ,'MBT' ,'VIP' ,'EVER' ,'RUK' ,'DLPN' ,'LILKV' ,'SHET' ,'AVID' ,'INTN' ,'SJR' ,'DMD' ,'WIFI' ,'SSP' ,'VPRT' ,'MSG' ,'USM' ,'MCS' ,'ADV' ,'IZEA' ,'KTC' ,'FTE' ,'LGF.B' ,'CNSL' ,'EROS' ,'CCO' ,'LGF.A' ,'VIV' ,'BRIOF' ,'BOMN' ,'NGMS' ,'QNST']\n",
    "Energy = ['XON' ,'CHV' ,'P' ,'MRO' ,'KMI' ,'VLO' ,'SLB' ,'MPC' ,'PBR' ,'EOG' ,'DVN' ,'PSX' ,'BHGE' ,'OXY' ,'HAL' ,'BP' ,'PXD' ,'RDSA' ,'COG' ,'WMB' ,'EPD' ,'CCJ' ,'FANG' ,'SU' ,'AHC' ,'OKE' ,'APA' ,'IPPIF' ,'TOT' ,'RDSB' ,'CHEX' ,'PBF' ,'NOI' ,'CED' ,'REGI' ,'AR' ,'PBRA' ,'MPLX' ,'WEG' ,'LOM' ,'TPL' ,'TRGP' ,'ETE' ,'MARY' ,'HOC' ,'SWN' ,'OVV' ,'EQT' ,'TRP' ,'DEN' ,'FTI' ,'RIG' ,'DNN' ,'IMO' ,'CLR' ,'VVV' ,'CVE' ,'SLCA' ,'MUR' ,'MTDR' ,'CHK' ,'CLNP' ,'ETRN' ,'HP' ,'SRAQ' ,'WLL' ,'STO' ,'XEC' ,'CNX' ,'CLNE' ,'AMGP' ,'BTU' ,'APY' ,'UUUU' ,'TPGE' ,'ARCH' ,'PSXP' ,'STNG' ,'NXE' ,'TRCH' ,'UEC' ,'BRN' ,'PETD' ,'SHLX' ,'GLNG' ,'NFG' ,'FRO' ,'EC' ,'TS' ,'OAS' ,'PAA' ,'DK' ,'PBA' ,'SUSP' ,'LPI' ,'BCEI' ,'AMTX' ,'DHT' ,'PUMP' ,'PTEN' ,'CRK' ,'NBR' ,'PAGP' ,'VET' ,'CVI' ,'KOS' ,'INT' ,'WHD' ,'UDL' ,'MPET' ,'LBRT' ,'NRGY' ,'CPG' ,'OII' ,'NEX' ,'DRQ' ,'KAAC' ,'WGP' ,'EURN' ,'ENLC' ,'HMLP' ,'ERF' ,'NOG' ,'SASOY' ,'ENBL' ,'PTR' ,'GLP' ,'CRLBF' ,'TNK' ,'URG' ,'E' ,'HEP' ,'DPM' ,'VNOM' ,'EXH' ,'OIS' ,'PVAC' ,'CQP' ,'CEIX' ,'DNOW' ,'SGY' ,'LPG' ,'CDIS' ,'FI' ,'RES' ,'WTI' ,'UGP' ,'MRC' ,'SNP' ,'GEL' ,'SOI' ,'BOOM' ,'TTI']\n",
    "Industrials = ['BA' ,'FDX' ,'UPS' ,'GE' ,'PLUG' ,'CAT' ,'AAL' ,'UNP' ,'DAL' ,'UTX' ,'LMT' ,'ALD' ,'UAUA' ,'SWK' ,'NOC' ,'AUD' ,'MRKT' ,'GPN' ,'MMM' ,'PH' ,'LUV' ,'JCI' ,'SPCE' ,'ETN' ,'CSX' ,'ITW' ,'EMR' ,'CUM' ,'DE' ,'ROK' ,'HRS' ,'ERC' ,'NSC' ,'SZI' ,'J' ,'EFX' ,'UW' ,'CD' ,'OTIS' ,'OTISW' ,'CARR' ,'GNRC' ,'WAB' ,'CARRW' ,'JBLU' ,'SAVE' ,'CP' ,'ALLE' ,'LPX' ,'CNI' ,'ODFL' ,'AME' ,'ROP' ,'FAST' ,'GD' ,'URI' ,'IR' ,'TDG' ,'KSU' ,'EXPD' ,'AVY' ,'PCAR' ,'BLDPF' ,'CHRW' ,'VRSK' ,'PAYX' ,'JBHT' ,'AOS' ,'TXT' ,'GWW' ,'XYL' ,'OC' ,'CTAS' ,'AG' ,'RSG' ,'WCNX' ,'TRU' ,'MAS' ,'SBLK' ,'IEX' ,'SNA' ,'BLDR' ,'CFX' ,'PWR' ,'ALK' ,'DOV' ,'UPWK' ,'VRT' ,'OTRKB' ,'MIDD' ,'BLD' ,'CPRT' ,'BE' ,'ATKR' ,'EMCG' ,'DAC' ,'EAF' ,'NLSN' ,'AA' ,'WBT' ,'IAA' ,'MTZ' ,'LII' ,'TWP' ,'AER' ,'IIN' ,'KNGT' ,'HUBB' ,'DGLY' ,'ZIM' ,'RBC' ,'RHI' ,'BAH' ,'HII' ,'SPR' ,'R' ,'TOPT' ,'TKR' ,'AIMC' ,'NDSN' ,'TEX' ,'TOC' ,'GGG' ,'GY' ,'EAGL' ,'WSO' ,'SRG' ,'ZTO' ,'SWBI' ,'CSL' ,'ARNC' ,'TFII' ,'NMM' ,'WMS' ,'AZEK' ,'ACM' ,'PRLB' ,'PRG' ,'AYI' ,'WGOV' ,'FTIC' ,'HYFM' ,'WATR' ,'LSTR' ,'KMT' ,'SRCL' ,'MSM' ,'TPIC' ,'KBR' ,'FLS' ,'ERJ' ,'SITE' ,'KEX' ,'CNHI' ,'TTC' ,'FLR' ,'VALM' ,'PNR' ,'ADT' ,'ALT' ,'SCST' ,'ABB' ,'ASF' ,'PZB' ,'PBI' ,'IBP' ,'DY' ,'RCII' ,'AAN' ,'DOOR' ,'RYAAY' ,'AWI' ,'WFII' ,'GFL' ,'LAND' ,'WTHG' ,'ABM' ,'DCI' ,'GSHT' ,'HAYW' ,'AAWW' ,'ALGT' ,'UHAL' ,'MMS' ,'TASR' ,'SSD' ,'CMCO' ,'TSP' ,'RAIL' ,'DPW' ,'MAN' ,'REZI' ,'WCC' ,'RGR' ,'HEI' ,'TAL' ,'POWW' ,'AQUA' ,'ROCK' ,'KNL' ,'NVT' ,'MIC' ,'CPA' ,'AMRC' ,'ENR' ,'CW' ,'MNES' ,'ASGN' ,'SB' ,'BWC' ,'TNET' ,'FTAI' ,'RBA' ,'BECN' ,'CYRX' ,'DHC' ,'LECO' ,'AVAV' ,'GVA' ,'HTZ' ,'PSN' ,'WERN' ,'AL' ,'GLBS' ,'HUBG' ,'NAV' ,'CR' ,'ABFS' ,'GSTL' ,'HXL' ,'RXN' ,'VLCCF' ,'GBX' ,'JELD' ,'CATM' ,'ENS' ,'YGMZ' ,'CRS' ,'SKYW' ,'ALEX' ,'FELE' ,'MWA' ,'FRTA' ,'ACA' ,'JBT' ,'TRN' ,'AZUL' ,'OMAB' ,'ROLL' ,'HA' ,'AEIS' ,'FIX' ,'ACP' ,'WTS' ,'B' ,'MEG' ,'FAIL' ,'BWC' ,'TGH' ,'ICFI' ,'HEIA' ,'GMS' ,'UNF' ,'BLDG' ,'SFL' ,'PGTI' ,'SNDR' ,'AZZ' ,'EGLE' ,'HSII' ,'APG' ,'SWIM' ,'MAQ' ,'KAMNA' ,'KRNT' ,'HURN' ,'DSX' ,'ULCC' ,'CMRE' ,'CLHB' ,'ABXA' ,'ENRJ' ,'CBIZ' ,'MRCY' ,'GOL' ,'HONI' ,'GMT' ,'BMI' ,'AIR' ,'SPW' ,'MLI' ,'CGT' ,'APZ' ,'FSS' ,'HI' ,'PRIM' ,'DNY' ,'PIXY' ,'KFY' ,'LNN' ,'<NULL>' ,'ECHO' ,'MOG.A' ,'XONE' ,'KODK' ,'GLDD' ,'NAT' ,'APOG' ,'MYRG' ,'CWST' ,'BXC' ,'HEES' ,'EPAC' ,'SHYF' ,'SMED' ,'RADIF' ,'MTW' ,'ROMC' ,'JOB' ,'HSC' ,'VRTV' ,'ECOL' ,'CAP' ,'ERII' ,'SNCY' ,'REVG' ,'BRCOA' ,'AAON' ,'SNHY' ,'TANT' ,'ROAD' ,'HYRE' ,'BULK' ,'TWI' ,'CBAK' ,'MIII' ,'LBOR' ,'NPO' ,'BBCP' ,'MATW' ,'LDL' ,'NVEE' ,'INDU' ,'FLOW' ,'SINO' ,'BW' ,'MGRC' ,'ESEA' ,'TFT' ,'VSEC' ,'GFLU' ,'VTSI' ,'SCS' ,'HTLD' ,'WIRE' ,'GFF' ,'CSWIV' ,'PCR' ,'TGI' ,'GRSHU' ,'RAVN' ,'MESA' ,'ASPN' ,'VVI' ,'TRS' ,'ASTE' ,'EOSE']\n",
    "Technology = ['AAPL' ,'MSFT' ,'AMD' ,'NVDA' ,'SHOP' ,'CRM' ,'MU' ,'SQ' ,'INTC' ,'NOW' ,'FISV' ,'ORCL' ,'AMAT' ,'QCOM' ,'TXN' ,'COIN' ,'TSM' ,'IBM' ,'UBER' ,'LRCX' ,'PFPT' ,'AVGO' ,'ADBE' ,'CSCO' ,'PLTR' ,'AHA' ,'APPY' ,'OKTA' ,'ENPH' ,'SNOW' ,'KLAC' ,'NXPI' ,'ISNS' ,'CRWD' ,'DOCU' ,'CEY' ,'ADI' ,'NET' ,'LYFT' ,'DDOG' ,'TTD' ,'ON' ,'MVIS' ,'ASMLF' ,'FSLR' ,'NOK' ,'XLNX' ,'MRVL' ,'STX' ,'TEAM' ,'WDAY' ,'ZS' ,'CTSH' ,'CHKPF' ,'WDC' ,'RNG' ,'INTU' ,'VSNR' ,'HUBS' ,'SEDG' ,'GLW' ,'U' ,'MSTR' ,'MCHP' ,'FTNT' ,'FSLY' ,'CTXS' ,'PANW' ,'COUP' ,'MNDL' ,'APH' ,'ZBRA' ,'DELL' ,'AI' ,'EPAM' ,'QRVO' ,'ACN' ,'MPWR' ,'CREE' ,'AKAM' ,'HWP' ,'FFIV' ,'FLT' ,'PMTC' ,'ADSK' ,'PATH' ,'RUN' ,'SPLK' ,'MXIM' ,'WORK' ,'IIVI' ,'KEYS' ,'ZEN' ,'FIVN' ,'GDS' ,'CDN' ,'TDY' ,'MDB' ,'TEL' ,'WIX' ,'SPWR' ,'TER' ,'VMW' ,'FTV' ,'ENTG' ,'MOT' ,'VRSN' ,'BILL' ,'TYL' ,'CDW' ,'ANET' ,'ESTC' ,'STNE' ,'TRMB' ,'SNPS' ,'HPE' ,'BR' ,'VUZI' ,'JNPR' ,'AFRM' ,'DBX' ,'IRBT' ,'LOGIY' ,'SYMC' ,'PAYC' ,'NTAP' ,'GART' ,'SAP' ,'SAI' ,'AVLR' ,'CRUS' ,'JKHY' ,'G' ,'IPGP' ,'WXS' ,'DLB' ,'EVBG' ,'LITEV' ,'PLAN' ,'PAGS' ,'LSCC' ,'SSNC' ,'UMC' ,'BOX' ,'AYX' ,'ANSS' ,'GMHI' ,'LAZR' ,'BMBL' ,'AZPN' ,'NCR' ,'SAIL' ,'FEYE' ,'INFY' ,'GDDY' ,'CDAY' ,'CACI' ,'ERICY' ,'GRMN' ,'SABR' ,'STM' ,'ST' ,'ZI' ,'SMAR' ,'PANL' ,'LPSN' ,'APPN' ,'BRKS' ,'DT' ,'COHR' ,'VRNS' ,'FLEXF' ,'DXC' ,'NCNO' ,'QTWO' ,'CRSR' ,'EEFT' ,'FOUR' ,'CGNX' ,'SONO' ,'RIMM' ,'RPD' ,'QLYS' ,'NOVA' ,'KLIC' ,'SYNA' ,'FIC' ,'MDA' ,'BAND' ,'JBIL' ,'NICEY' ,'GWRE' ,'FAF' ,'BKI' ,'ARW' ,'MANH' ,'EBON' ,'BIGC' ,'CSIQ' ,'CCC' ,'TDSC' ,'SLAB' ,'CIEN' ,'XM' ,'PSTG' ,'XRX' ,'SHLS' ,'NATI' ,'NTNX' ,'EGHT' ,'TDC' ,'AMKR' ,'PD' ,'MKSI' ,'VSH' ,'GLOB' ,'MTSI' ,'PCTY' ,'VZIO' ,'AMBA' ,'NEWR' ,'LSPD' ,'UCTT' ,'VSAT' ,'JFAX' ,'VRNT' ,'SGH' ,'ITRI' ,'CYBR' ,'DOX' ,'TENB' ,'VLDR' ,'SPT' ,'CLDR' ,'COMM' ,'COHU' ,'VNT' ,'VNTW' ,'PI' ,'BL' ,'STMP' ,'FROG' ,'CRNCV' ,'PEGA' ,'EDA' ,'CCMP' ,'UNPH' ,'MCFE' ,'CDKVV' ,'MX' ,'BSY' ,'ALTR' ,'YOD' ,'WK' ,'MDLA' ,'KOPN' ,'SWCH' ,'ENV' ,'INFN' ,'NTGR' ,'TSAI' ,'GPRO' ,'SSYS' ,'DIO' ,'ARRY' ,'EXTR' ,'FORM' ,'ALRM' ,'TRNE' ,'DNB' ,'CALX' ,'OTEXF' ,'BLKB' ,'PTAC' ,'DLPH' ,'CLSK' ,'POWI' ,'AVYA' ,'PAMT' ,'MIME' ,'SAIC' ,'CVLT' ,'AVT' ,'MOGO' ,'GILTF' ,'EB' ,'ASAN' ,'LFUS' ,'RXT' ,'APPF' ,'UBNT' ,'ACXM' ,'PING' ,'SNX' ,'SWI' ,'RMBS' ,'NSIT' ,'PTC' ,'NVTL' ,'CNXC' ,'ONTO' ,'TTMI' ,'MXL' ,'PAYA' ,'SPSC' ,'FN' ,'ASX' ,'ROG' ,'AOSL' ,'GSCN' ,'VERI' ,'PUBM' ,'DOMO' ,'DCT' ,'FARO' ,'CNDT' ,'SMTC' ,'DCBO' ,'EXLS' ,'UIS' ,'GIB' ,'SUMO' ,'CSGS' ,'TLS' ,'HSTX' ,'BCOV' ,'SLTD' ,'CGNT' ,'LLNW' ,'VSCI' ,'ICHR' ,'NVMM' ,'TTEC' ,'VICR' ,'SMMC' ,'TSEMF' ,'ATMR' ,'PRFT' ,'MAXNV' ,'PLXS' ,'OSIS' ,'AUDC' ,'AKTS' ,'ZUO' ,'CSOD' ,'SANM' ,'VCRA' ,'NPTN' ,'CMTL' ,'EVTC' ,'VECO' ,'DMRC' ,'ALGM' ,'SEMR' ,'SITM' ,'JAMF' ,'CMBM' ,'BHE' ,'DNJR' ,'KN' ,'SATS' ,'IMMR' ,'EVOP' ,'EPAY' ,'YEXT' ,'MITK' ,'SVMK' ,'CRCT' ,'TBRG' ,'ESE' ,'ACLS' ,'WIT' ,'SPU' ,'XGTI' ,'ACVA' ,'PRGS' ,'MANT' ,'DBD' ,'NTCT' ,'INTZ' ,'UPLD' ,'DV' ,'ACMR' ,'MRIN' ,'BEEM' ,'CASA' ,'PLAB' ,'TSRA' ,'ECOM' ,'MICT' ,'MODN' ,'BOXL' ,'FTCI' ,'MLCH' ,'GGNT' ,'CANNY' ,'DSP' ,'NVMI' ,'AAOI' ,'GBOX' ,'VDSI' ,'MSP' ,'LCA' ,'PIOS' ,'ATEN' ,'WRAP' ,'PCVA' ,'AVGOP' ,'ZDGE' ,'METHA' ,'HLIT' ,'CAMT' ,'PRO' ,'LPL' ,'RDWR' ,'OLO' ,'SMCI' ,'SEAC' ,'AMTC' ,'COMP' ,'CTS' ,'DOCN' ,'ATC']\n",
    "May_4 = [BasicMaterials, ConsumerCyclical, FinancialServices, RealEstate, ConsumerDefensive, Healthcare,\\\n",
    "           Utilities, CommunicationServices, Energy, Industrials, Technology]"
   ]
  },
  {
   "cell_type": "code",
   "execution_count": 8,
   "metadata": {},
   "outputs": [],
   "source": [
    "# June 1 filtered_stocks (dollar_volume_min_price)\n",
    "BasicMaterials = ['RIO' ,'FCX' ,'X' ,'ABX' ,'NEM' ,'NUE' ,'CLF' ,'DOW' ,'SHW' ,'PX' ,'ECL' ,'POT' ,'AA' ,'DOW' ,'AEM' ,'MLM' ,'PPG' ,'LYB' ,'APD' ,'CTVA' ,'RTP' ,'MOS' ,'IFF' ,'CE' ,'PCU' ,'AXTA' ,'STLD' ,'ALB' ,'VMC' ,'IST' ,'TCK' ,'BBL' ,'AVTR' ,'SMG' ,'KGC' ,'BHP' ,'GGB' ,'HL' ,'HUN' ,'SLW' ,'CF' ,'EMN' ,'FMC' ,'AU' ,'DRFNY' ,'KL' ,'GEVO' ,'FVAC' ,'SQM' ,'PAASF' ,'RGLD' ,'UFS' ,'AG' ,'ASH' ,'AUY' ,'FNV' ,'CX' ,'AMRS' ,'LAC' ,'OLN' ,'SSRIF' ,'CDE' ,'GRA' ,'HGMCY' ,'LTHM' ,'SUM' ,'LOAK' ,'FULL' ,'CXP' ,'CC' ,'CENX' ,'SID' ,'BTG' ,'WFG' ,'RPOW' ,'EXK' ,'RS' ,'WLK' ,'ESI' ,'BCC' ,'PLLL' ,'SWM' ,'BVN' ,'UFPI' ,'CRHCY' ,'SBSW' ,'KWR' ,'FSM' ,'CBT' ,'AGI' ,'GPRE' ,'KALU' ,'NGVT' ,'ABH' ,'CMC' ,'SAND' ,'GSM' ,'MDU' ,'UFC' ,'FPGP' ,'TROX' ,'PKX' ,'TSE' ,'EGO' ,'UNVR' ,'ZEUS' ,'WDFC' ,'HBM' ,'TMST' ,'SCHN' ,'PVG' ,'EQX' ,'POL' ,'EY' ,'MEOHF' ,'MTX' ,'SILV' ,'HCC' ,'CSTM' ,'GATO' ,'MVG' ,'BCP' ,'ZY' ,'KRA' ,'SSLT' ,'USCR' ,'USGL' ,'SA' ,'GCP' ,'IAG' ,'DRJ' ,'WRN' ,'HUGO' ,'CMP' ,'OR' ,'SVM' ,'MWGP' ,'SUZ' ,'GLT' ,'PQG' ,'EVA' ,'FF' ,'CTRA' ,'VRS' ,'OTL' ,'MERCS' ,'IPI' ,'SXC' ,'SCL' ,'USAS' ,'NG' ,'GSR' ,'CLW' ,'AXU' ,'ASIX' ,'DROOY']\n",
    "ConsumerCyclical = ['TSLA' ,'AMZN' ,'GME' ,'F' ,'BABA' ,'HD' ,'PTON' ,'GM' ,'DKNG' ,'CCL' ,'ULTA' ,'MCD' ,'LOW' ,'NCLH' ,'JD' ,'EBAY' ,'NKE' ,'FTCH' ,'BBY' ,'PCLN' ,'GPS' ,'TJX' ,'SBUX' ,'KCAC' ,'MELI' ,'BBBY' ,'LVS' ,'W' ,'LULU' ,'EXPE' ,'CMG' ,'ETSY' ,'MGG' ,'RCL' ,'ORLY' ,'VTIQ' ,'AZO' ,'CVNA' ,'ROST' ,'BLL' ,'PENN' ,'MAR' ,'WSGC' ,'LTD' ,'KSS' ,'ERI' ,'DLPH' ,'FD' ,'YUMC' ,'CROX' ,'BURL' ,'CTRP' ,'DPZ' ,'WYNN' ,'NAKD' ,'IP' ,'DKS' ,'DHI' ,'YUM' ,'AEOS' ,'EXPR' ,'GOED' ,'TSCO' ,'WISH' ,'VFC' ,'PHM' ,'OSTK' ,'WHR' ,'NOBE' ,'GRWG' ,'WOOF' ,'RH' ,'AAP' ,'CHWY' ,'POOL' ,'WKHS' ,'DRI' ,'LEN' ,'HLT' ,'SPAQ' ,'LMTR' ,'TXRH' ,'KORS' ,'FBHS' ,'CPNG' ,'COH' ,'CCK' ,'AMCR' ,'MGA' ,'PVH' ,'URBN' ,'SHAK' ,'HIBB' ,'MHK' ,'SEE' ,'YETI' ,'UA' ,'TRIP' ,'DECK' ,'RIDE' ,'FIVE' ,'SFIX' ,'ANF' ,'BFAM' ,'HTHT' ,'RL' ,'GPC' ,'LKQX' ,'Z' ,'ELY' ,'STAY' ,'VAC' ,'LEVI' ,'WTW' ,'RII' ,'BYD' ,'HOME' ,'NVR' ,'BG' ,'THO' ,'EAT' ,'TPX' ,'WH' ,'QSR' ,'WRK' ,'XSPL' ,'UARM' ,'GT' ,'FND' ,'ASO' ,'RMG' ,'RACE' ,'KMX' ,'BWA' ,'FCAU' ,'CBRL' ,'CHDN' ,'CWH' ,'TOL' ,'PII' ,'ARVL' ,'MPEL' ,'LEA' ,'RVLV' ,'CRI' ,'VRM' ,'GPK' ,'TRY' ,'TTE' ,'PKG' ,'BERY' ,'CAKE' ,'HBI' ,'HRB' ,'GNTX' ,'SHLL' ,'BLNK' ,'XL' ,'SIX' ,'GES' ,'MTN' ,'REAL' ,'FOXF' ,'ARMK' ,'CHH' ,'SRV' ,'BC' ,'ALV' ,'VSTO' ,'LGIH' ,'MDC' ,'HDI' ,'DSW' ,'GCA' ,'AIRB' ,'PLCE' ,'BLMN' ,'POSH' ,'ROL' ,'SERV' ,'SIGYY' ,'ADNT' ,'GPI' ,'HAS' ,'PLNT' ,'FLWS' ,'TRWH' ,'KBH' ,'COLM' ,'KAR' ,'ALSN' ,'MTH' ,'HZO' ,'MAT' ,'SKX' ,'PLAY' ,'TEN' ,'CTB' ,'WGO' ,'IGT' ,'MED' ,'LOVE' ,'BZUN' ,'FM' ,'VC' ,'DDS' ,'QRTEA' ,'CUK' ,'GOOS' ,'BGFV' ,'WING' ,'HGV' ,'HMC' ,'RRR' ,'MLHR' ,'SHOO' ,'CCS' ,'MUSA' ,'KTB' ,'FNKO' ,'TOYOY' ,'BBW' ,'GOEV' ,'PZZA' ,'TMHC' ,'MMYT' ,'SON' ,'ABG' ,'TTM' ,'KIRK' ,'FUN' ,'HNST' ,'ACAM' ,'FUV' ,'CNNE' ,'GIL' ,'LEG' ,'SOLO' ,'DAN' ,'BOOT' ,'RBIN' ,'GLBE' ,'SKY' ,'FRSX' ,'GOLF' ,'MHO' ,'FOSL' ,'CTRN' ,'MBUU' ,'TKAT' ,'FTDRV' ,'SBH' ,'XPEL' ,'AMWD' ,'MRA' ,'ATR' ,'TPH' ,'DMYT' ,'H' ,'PRTY' ,'SEAS' ,'BKE' ,'LESL' ,'LCII' ,'GPAC' ,'HOV' ,'IHOP' ,'UAG' ,'CHCS' ,'WWW' ,'EYE' ,'SLGN' ,'OI' ,'LL' ,'REYN' ,'PRTS' ,'FHRI' ,'GIII' ,'BIOF' ,'MODI' ,'MNRO' ,'INSU' ,'RRGB' ,'LEDMV' ,'AIN' ,'GAN' ,'TDUP' ,'ODP' ,'LZB' ,'CVCO' ,'OMAD' ,'QRTEP' ,'GTX' ,'LCA' ,'DFXI' ,'GCO' ,'AXL' ,'SPWH' ,'IFSIA' ,'TCS' ,'SAH' ,'DFH' ,'HAVT' ,'CHGO' ,'CONN' ,'ZUMZ' ,'TUP' ,'ARCO' ,'CNGR' ,'ETH' ,'DRVN' ,'RNTA' ,'EZGO' ,'PATK' ,'AUVI' ,'DELT' ,'GDEN' ,'WPRT' ,'ARGNA' ,'VRA' ,'DOOO' ,'BZH' ,'SCVL' ,'RCKY' ,'PLOW' ,'CBD' ,'DINE' ,'CHUY' ,'MCFT' ,'RICK' ,'GBCOA' ,'NCT' ,'EFOI' ,'MOVA' ,'AYRO' ,'GMBL' ,'CLAC' ,'INVZ' ,'ONEW' ,'LQDT' ,'GRIL' ,'KNDI' ,'CARS' ,'VNE' ,'BNED' ,'PLYA' ,'RUTH' ,'RUSHA' ,'IPW' ,'JOAN' ,'JILL' ,'OXM' ,'DESP']\n",
    "FinancialServices = ['V' ,'PYPL' ,'MA' ,'GS' ,'MWD' ,'BRKB' ,'TRV' ,'CMB' ,'NB' ,'BRKA' ,'NOB' ,'MHP' ,'COF' ,'AXP' ,'UPST' ,'USB' ,'TFC' ,'SCH' ,'BLK' ,'AOC' ,'ICE' ,'ACL' ,'MARA' ,'RKT' ,'WLTW' ,'ALL' ,'LMND' ,'MET' ,'CME' ,'HBAN' ,'DNB' ,'RY' ,'PRU' ,'PGR' ,'MMC' ,'SYF' ,'TROW' ,'RGBK' ,'CFG' ,'AFL' ,'BK' ,'BX' ,'TD' ,'ALLY' ,'FITB' ,'STT' ,'ITUB' ,'AIG' ,'HIG' ,'SPC' ,'MKTX' ,'CSR' ,'SIVB' ,'BAP' ,'AJG' ,'CCIV' ,'AMP' ,'EQH' ,'PNC' ,'DFS' ,'KKR' ,'TW' ,'RJF' ,'BBD' ,'KEY' ,'RE' ,'BMO' ,'EBC' ,'AVZ' ,'FRC' ,'FES' ,'BNS' ,'PFG' ,'MXB' ,'NTRS' ,'BCM' ,'RNR' ,'SI' ,'HBC' ,'HDB' ,'ADS' ,'CBOE' ,'APO' ,'IBN' ,'NDAQ' ,'SBNY' ,'IBKR' ,'UNM' ,'LNC' ,'OMF' ,'CINF' ,'ORI' ,'TREE' ,'ROOT' ,'FTEN' ,'BCS' ,'PSTH' ,'DB' ,'MKL' ,'CMA' ,'ATH' ,'ZION' ,'ING' ,'QCSB' ,'WU' ,'FAF' ,'FNT' ,'VOYA' ,'PBCP' ,'SLM' ,'BEN' ,'XP' ,'GHIV' ,'UBS' ,'EWBC' ,'WBST' ,'CHFC' ,'MFC' ,'ARES' ,'VIRT' ,'AIZ' ,'LPLA' ,'RCHI' ,'AFG' ,'SEIC' ,'MTG' ,'EVR' ,'LUK' ,'LTR' ,'PSLV' ,'CBSH' ,'FHB' ,'CG' ,'Y' ,'ESPD' ,'BKLY' ,'PBCT' ,'STIC' ,'FRHC' ,'FDS' ,'TMK' ,'RGA' ,'ESNT' ,'BPOP' ,'WAL' ,'JHG' ,'AMG' ,'FCNCA' ,'SF' ,'RILY' ,'MCMC' ,'UNIT' ,'ARCC' ,'SNV' ,'NAVIV' ,'COWND' ,'PFSI' ,'TRUP' ,'BXS' ,'PBR' ,'CACC' ,'PRSP' ,'HLI' ,'PNFP' ,'HEC' ,'FCBP' ,'OZRK' ,'FNC' ,'ACTC' ,'EBC' ,'TCBI' ,'FBP' ,'CNO' ,'FSIC' ,'COLB' ,'WPF' ,'PRI' ,'SLC' ,'VLY' ,'PHYS' ,'BHFWV' ,'MGI' ,'CCX' ,'AFC' ,'CIT' ,'ERIE' ,'BTNB' ,'FBAN' ,'BBV' ,'FFC' ,'FRX' ,'MORN' ,'GSHD' ,'RLI' ,'AXS' ,'LPRO' ,'GDOT' ,'TSIA' ,'SRNG' ,'WTFC' ,'HLNE' ,'LAZ' ,'HTGC' ,'FOCS' ,'VRTS' ,'SLQT' ,'ASB' ,'PSEC' ,'TYP' ,'GOCO' ,'FHI' ,'CMT' ,'LOB' ,'BKU' ,'ABCB' ,'UMPQ' ,'LC' ,'ISBC' ,'APAM' ,'FLGS' ,'GBCI' ,'CADE' ,'BOH' ,'CFR' ,'SC' ,'INDB' ,'LYG' ,'GNW' ,'HBHC' ,'MUFG' ,'FFIN' ,'PACX' ,'FRME' ,'MOTV.U' ,'EHTH' ,'MUDS' ,'KNSL' ,'CASH' ,'SIGI' ,'SAN' ,'ORCC' ,'CATY' ,'GHVI' ,'AVK' ,'IPOF' ,'SMFG' ,'SFTW' ,'PLMR' ,'UMBF' ,'UBSI' ,'GOF' ,'DCRN' ,'GOAC' ,'CBU' ,'LCY' ,'GGAL' ,'THBR' ,'SEAH' ,'BOKF' ,'NARA' ,'PDI' ,'SSPK' ,'IBTX' ,'PAWN' ,'LFCO' ,'CUBI' ,'NFJ' ,'CLM' ,'BOFI' ,'ATCO' ,'GCMG' ,'AACQ' ,'PCI' ,'MCY' ,'PUK' ,'FMBI' ,'NRK' ,'CAPA' ,'BMA' ,'CEF' ,'FSKR' ,'ENVA' ,'FBF' ,'AEL' ,'NMIH' ,'TBBKD' ,'HCII' ,'IBOC' ,'EFC' ,'JRS' ,'EIS' ,'EGBN' ,'WFSL' ,'FTOC' ,'PDO' ,'OLDB' ,'OXLC' ,'VGAC' ,'AC' ,'VACQ' ,'TBA' ,'WD' ,'FAII' ,'GSBD' ,'UCBI' ,'RBS' ,'FWWB' ,'FULT' ,'AEG' ,'WSBC' ,'KB' ,'ARC' ,'BHL' ,'DFIN' ,'MC' ,'STD' ,'HPX' ,'AGO' ,'SFNCA' ,'BMEZ' ,'MAIN' ,'AMRK' ,'NSTB' ,'SFBS' ,'HMN' ,'PFS' ,'APGB' ,'PTY' ,'PJT' ,'GBDC' ,'BSTZ' ,'CFFN' ,'HOMB' ,'DNP' ,'CNS' ,'BANF' ,'ESGRD' ,'FIBK' ,'CNA' ,'RTP' ,'WSFS' ,'BDJ' ,'NAD' ,'STEP' ,'JRVR' ,'PTA' ,'PHC' ,'ANAT' ,'FDEF' ,'BSBR' ,'BTWN' ,'JWS' ,'PAX' ,'SHG' ,'ASZ' ,'OHSC' ,'CLII' ,'TSLX' ,'RA' ,'NCZ' ,'PRAA' ,'EIG' ,'GAB' ,'PIPR' ,'INSP' ,'OCFC' ,'FIII' ,'BCAT' ,'THCB' ,'FPTB' ,'WASH' ,'SASR' ,'DSL' ,'GSVC' ,'FPF' ,'TPGY' ,'EXG' ,'CRVL' ,'AGC' ,'LFC' ,'FSRV' ,'FFBC' ,'FAMCK' ,'INDI' ,'NVG' ,'BRP' ,'RQI' ,'BSPE' ,'OMAM' ,'UBSH' ,'CCV' ,'TRMK' ,'NEA' ,'FORE' ,'NCV' ,'GWB' ,'FSC' ,'PXT' ,'HQH' ,'NTB' ,'PSAC' ,'USA' ,'OFG' ,'TRST' ,'CSWC' ,'TFSL' ,'CMLF' ,'STC' ,'CVB' ,'FVH' ,'APXT' ,'UTG' ,'CPUH' ,'UTF' ,'TBK' ,'GDV' ,'NWSB' ,'ETY' ,'EBSB' ,'CIB' ,'GSAH' ,'CHCO' ,'BOWX' ,'AMBC' ,'SRAC' ,'RM']\n",
    "RealEstate = ['AMT' ,'AMB' ,'TWRS' ,'PSA' ,'SPG' ,'O' ,'EQIXD' ,'SBAC' ,'BYA' ,'AHT' ,'WY' ,'EQR' ,'ARE' ,'RIGX' ,'NLY' ,'OPEN' ,'CBRE' ,'HCN' ,'DLR' ,'EXR' ,'ARCP' ,'VICI' ,'DRE' ,'CDC' ,'RLGY' ,'AGNC' ,'ESS' ,'VC' ,'AMH' ,'MPW' ,'BXP' ,'INVH' ,'MAA' ,'MHC' ,'CPT' ,'LAP' ,'KIM' ,'IMTN' ,'SVC' ,'REXR' ,'MAC' ,'YSI' ,'OHI' ,'COLD' ,'RDFN' ,'UDR' ,'CUZ' ,'PEAK' ,'SRC' ,'SUI' ,'REG' ,'STWD' ,'VNO' ,'LSI' ,'ACC' ,'PK' ,'CONE' ,'DOC' ,'SLG' ,'HTA' ,'NRZ' ,'CBSO' ,'SUNH' ,'ADC' ,'STOR' ,'SKT' ,'IVR' ,'FRT' ,'FR' ,'NSA' ,'KRC' ,'NTAIF' ,'BNL' ,'HIW' ,'GLPIV' ,'LAMR' ,'STIR' ,'COR' ,'EPR' ,'BPY' ,'NHI' ,'BRX' ,'EXPI' ,'DEI' ,'CT' ,'RYN' ,'APLE' ,'EGP' ,'NNN' ,'SHO' ,'PGRE' ,'COPT' ,'LTC' ,'WPG' ,'IIPR' ,'ABR' ,'HR' ,'ESRT' ,'HRP' ,'CLNY' ,'WHC' ,'BDN' ,'DDR' ,'HASI' ,'CXP' ,'HPP' ,'GET' ,'WRI' ,'JBGS' ,'TRNO' ,'FCPT' ,'LXP' ,'CSALV' ,'AIRC' ,'PEB' ,'QTS' ,'RLJ' ,'PCH' ,'TWO' ,'CIM' ,'HHC' ,'MGP' ,'PSM' ,'AIV' ,'DRH' ,'NAQ' ,'WRE' ,'KREF' ,'INN' ,'CTREV' ,'NTST' ,'EPRT' ,'AAT' ,'PDM' ,'EST' ,'PAX' ,'GOOD' ,'MNRTA' ,'PMT' ,'IRT' ,'LAND' ,'GNL' ,'ARI' ,'PZN' ,'ORC' ,'RRF' ,'RWTI' ,'CLI' ,'NMRK' ,'AFIN' ,'CWK' ,'UE' ,'XHR' ,'RPAI' ,'APT' ,'NTR' ,'AHH' ,'MCT' ,'MMI' ,'ZFC' ,'SRG' ,'BPR' ,'GPMT' ,'ALEX' ,'MFA' ,'SJP' ,'BRG' ,'DEA' ,'KRG' ,'SAFE' ,'ILPT' ,'SNH' ,'GOV' ,'SNR' ,'NXRT' ,'MITT' ,'HT' ,'GMRE' ,'AHP' ,'DX' ,'MDJH' ,'UMH' ,'BRMK' ,'LADR']\n",
    "ConsumerDefensive = ['BYND' ,'COST' ,'PG' ,'WMT' ,'KO' ,'PEP' ,'DG' ,'DLTR' ,'KFT' ,'DH' ,'KMB' ,'SAM' ,'CL' ,'PM' ,'EL' ,'MO' ,'OLLI' ,'KR' ,'CBRNA' ,'EDU' ,'CNS' ,'GIS' ,'SJMA' ,'K' ,'KHC' ,'ADM' ,'DPS' ,'CLX' ,'HANS' ,'MCCRK' ,'HSY' ,'SYY' ,'BTI' ,'BUD' ,'ACCOB' ,'TSN' ,'CPB' ,'CAG' ,'BG' ,'DAR' ,'NWL' ,'LW' ,'UL' ,'HRL' ,'ABEV' ,'DEO' ,'CELH' ,'CHGG' ,'PFGC' ,'USFD' ,'CHD' ,'COUR' ,'FRPT' ,'CASY' ,'SFM' ,'FMX' ,'BJ' ,'SAFM' ,'CCEP' ,'HLF' ,'COTY' ,'HELE' ,'FLO' ,'BFB' ,'VFF' ,'FIZ' ,'PDA' ,'TPB' ,'BGS' ,'NOMD' ,'OAC' ,'UTZ' ,'BGL' ,'CPO' ,'TWOU' ,'CORE' ,'ARCE' ,'THS' ,'GRSH' ,'NOVS' ,'UVV' ,'LANC' ,'UNFI' ,'GO' ,'AGRO' ,'ACI' ,'LOPE' ,'COKE' ,'SPB' ,'HAIN' ,'SMPL' ,'FMCI' ,'POST' ,'PRMW' ,'STRA' ,'ELF' ,'NUS' ,'EPC' ,'DV' ,'LAUR' ,'LRN' ,'CENTA' ,'JJSF' ,'VITL' ,'WPO' ,'BRBR' ,'HMHC' ,'PPC' ,'CVGW' ,'CALM' ,'CECO' ,'KOF' ,'CHEF' ,'SPTN' ,'TR' ,'FAMI' ,'AFYA' ,'NTCO' ,'BFA' ,'USNA' ,'CENT' ,'EEIQ' ,'FREE' ,'STKLF' ,'IMKTA' ,'WMK' ,'JEAN' ,'PSMT' ,'METX' ,'AQBTV']\n",
    "Healthcare = ['MRNA' ,'JNJ' ,'UNH' ,'TLRY' ,'AMGN' ,'VEEV' ,'TMO' ,'SNDL' ,'CVS' ,'MDT' ,'ABBV' ,'ABT' ,'DHR' ,'ISRG' ,'PFE' ,'ATH' ,'GILD' ,'TDOC' ,'MRK' ,'LLY' ,'VRTX' ,'BDX' ,'ILMN' ,'IQV' ,'CGC' ,'HSGX' ,'DXCM' ,'BAX' ,'ZEN' ,'REGN' ,'BMY' ,'CNTE' ,'CI' ,'IDPH' ,'ZMH' ,'NOX' ,'ZTS' ,'BSX' ,'HUM' ,'MCK' ,'ALGN' ,'HCA' ,'CRL' ,'WAG' ,'EW' ,'ALXN' ,'SYK' ,'STAA' ,'CERN' ,'OSH' ,'ACB' ,'IDXX' ,'A' ,'HZNP' ,'EXAS' ,'WST' ,'SGEN' ,'GLX' ,'UHS' ,'RCM' ,'CRON' ,'LH' ,'TECH' ,'PODD' ,'NVS' ,'NVCR' ,'TXG' ,'BCRX' ,'STRL' ,'CRSP' ,'IPOC' ,'DGX' ,'HOLX' ,'EBS' ,'AAS' ,'RESM' ,'CAH' ,'ZLAB' ,'ICLRY' ,'ELAN' ,'GDRX' ,'INCY' ,'WAT' ,'NTLA' ,'HEXO' ,'ABMD' ,'NTRA' ,'ITRM' ,'AVII' ,'BHVN' ,'EYES' ,'XRAY' ,'PEN' ,'PRAH' ,'RETA' ,'BNGO' ,'HSIC' ,'HQY' ,'BGNE' ,'ALC' ,'MRTX' ,'MTD' ,'EGG' ,'COO' ,'AUPH' ,'PGNY' ,'PTIE' ,'NVTA' ,'BEAM' ,'MASI' ,'NVO' ,'GH' ,'ONVO' ,'NBIX' ,'TRL' ,'THC' ,'PRVB' ,'ARWR' ,'JAZZ' ,'TWST' ,'TFX' ,'PDCO' ,'ALLO' ,'IOVA' ,'OMI' ,'ISIP' ,'SWAV' ,'NVST' ,'SAGE' ,'HB' ,'CTLT' ,'ONEM' ,'VTRSV' ,'BPMC' ,'BIOA' ,'FLGT' ,'HGEN' ,'OGI' ,'KBIO' ,'TEVIY' ,'ALNY' ,'NNOX' ,'QDEL' ,'BVF' ,'EXEL' ,'PPD' ,'CVAC' ,'PACB' ,'SDGR' ,'SRNE' ,'FATE' ,'CDNA' ,'ARGX' ,'MOH' ,'UTHR' ,'CHNG' ,'BMRN' ,'HAE' ,'VIR' ,'INCR' ,'NARI' ,'GEB' ,'RGEN' ,'TGTX' ,'PHG' ,'CNTL' ,'TNDM' ,'ACCD' ,'INMD' ,'RPRX' ,'PRGO' ,'AHPA' ,'ARVN' ,'GTHX' ,'ABCL' ,'HRC' ,'AMWL' ,'INSP' ,'LIVN' ,'HTI' ,'SDC' ,'AMED' ,'PVTR' ,'MNMD' ,'GMED' ,'SYRS' ,'CNAC' ,'NVRO' ,'HRTX' ,'AXNX' ,'NSTG' ,'SENS' ,'PINC' ,'OMCL' ,'SNY' ,'LNTH' ,'PDX' ,'DNLI' ,'BLI' ,'IRTC' ,'BLUE' ,'MRVI' ,'LHCG' ,'RAD' ,'TPTX' ,'PCRX' ,'KRTX' ,'NABI' ,'ANVS' ,'BDAL' ,'PIRS' ,'GBT' ,'CHE' ,'EDIT' ,'RARE' ,'ARNA' ,'ALKS' ,'APLS' ,'AHS' ,'ADPT' ,'FOLD' ,'JYNT' ,'BBIO' ,'EAR' ,'INOV' ,'QGENF' ,'DRNA' ,'XLRN' ,'ZOM' ,'SCYX' ,'EDGE' ,'CCXX' ,'SGRY' ,'RVMD' ,'MNKD' ,'OCDX' ,'ACAD' ,'TTOO' ,'ICUI' ,'INSM' ,'MGLN' ,'NGM' ,'SIBN' ,'GMAB' ,'HCAT' ,'XXII' ,'GRFS' ,'PRLD' ,'PHR' ,'ATOS' ,'CLVR' ,'SNN' ,'SEEL' ,'ENDP' ,'LGND' ,'ICPT' ,'ZNTL' ,'AGEN' ,'PETQ' ,'ZYNE' ,'NUVA' ,'SILK' ,'GKOS' ,'CVETV' ,'MMSI' ,'GLPG' ,'SEM' ,'QTRX' ,'PETS' ,'IMGN' ,'PTCT' ,'MORF' ,'CRBP' ,'JAGX' ,'AXSM' ,'AHCO' ,'SEER' ,'QSII' ,'STOK' ,'MDRX' ,'ETON' ,'HIV' ,'OM' ,'KOD' ,'EBIO' ,'BDTX' ,'ALLK' ,'MDGL' ,'MEDP' ,'MYOV' ,'CERT' ,'AGIO' ,'CYH' ,'TYHT' ,'TMDI' ,'NEOT' ,'CNMD' ,'LCI' ,'ENSG' ,'SHC' ,'VSTM' ,'TVTX' ,'CLVS' ,'KALA' ,'TAK' ,'ASTM' ,'NEO' ,'FGEN' ,'ARCT' ,'VCYT' ,'CRIS' ,'IART' ,'PSNL' ,'ACHC' ,'CYTK' ,'MCRB' ,'CCXI' ,'SWTX' ,'TBIO' ,'ITCI' ,'GLSI' ,'KYMR' ,'PTGX' ,'KURA' ,'GBIO' ,'PRAX' ,'NRIX' ,'AFIB' ,'LMNX' ,'LUNG' ,'RXII' ,'RGNX' ,'SELB' ,'ATEC' ,'CTXR' ,'NEOT' ,'NEOG' ,'SRRK' ,'CCCC' ,'DVAX' ,'THRX' ,'BTAI' ,'TNXP' ,'KBLM' ,'PRVA' ,'CDXS' ,'RTIX' ,'IRWD' ,'NBRV' ,'RLAY' ,'ALDX' ,'DCPH' ,'SOLY' ,'TPIV' ,'PBH' ,'ALHC' ,'CGEN' ,'ATRC' ,'ZYME' ,'NOVN' ,'AVXL' ,'MGNX' ,'AVIR' ,'HSKA' ,'HYH' ,'OCUL' ,'ATHA' ,'CORT' ,'OPCH' ,'ACRS' ,'SGMO' ,'QURE' ,'EVH' ,'ATRA' ,'CHRS' ,'CERS' ,'CTMX' ,'XERS' ,'CHNGU' ,'SNDX' ,'KITS' ,'TCLN' ,'RCUS' ,'RDHL' ,'RUBY' ,'AFMD' ,'SURF' ,'PMVP' ,'PRPO' ,'HRMY' ,'INHL' ,'ADUS' ,'RVNC' ,'FHC' ,'HCSG' ,'CSTL' ,'IGMS' ,'REPL' ,'CYPH' ,'VNDA' ,'TRHC' ,'MASS' ,'ALXO' ,'ALT' ,'TSHA' ,'OSCR' ,'KPTI' ,'TYME' ,'PAVM' ,'MTEC' ,'ESPR' ,'PRTA' ,'XNCR' ,'AGTI' ,'ONTX' ,'OMER' ,'AGL' ,'EPTO' ,'YMAB' ,'MYGN' ,'RXRX' ,'CRTX' ,'FMTX' ,'AKBA' ,'SANA' ,'PRQR' ,'ITEK' ,'IBIO' ,'VAPO' ,'BKD' ,'ANGO' ,'EARS' ,'SUPN' ,'MBIO' ,'FMS' ,'OLMA' ,'CATS' ,'RDYN' ,'CODX' ,'AERI' ,'ARDX' ,'ATRI' ,'KRON' ,'HSAC' ,'BIOD' ,'AKRO' ,'ATNX' ,'PNTG' ,'TCMD' ,'RHE' ,'BLFS' ,'HCCO' ,'ZGNX' ,'EOLS' ,'DPII' ,'TCEL' ,'ALEC' ,'CUTR' ,'PASG' ,'MRUS' ,'ANAB' ,'WVE' ,'PRSC' ,'VRAY' ,'MRSN' ,'KNSA' ,'XON' ,'LIFE' ,'RIGL' ,'ADCT' ,'CPRX' ,'AMTI' ,'CNDO' ,'AVAH' ,'RDY' ,'PLCC' ,'SCPS' ,'COLL' ,'VKTX' ,'ABCM' ,'ALVR' ,'OPRX' ,'DRIO' ,'ESTA' ,'KROS' ,'ELOX' ,'STTK' ,'EGRX' ,'ZIOP' ,'TXMD' ,'ARQT' ,'CGEM' ,'VTGN' ,'MRIC' ,'INGN' ,'AAVL' ,'CNST' ,'CMRX' ,'MNLO' ,'CBYL' ,'ANTR' ,'RYTM' ,'GTBP' ,'CLLS' ,'GB' ,'ENTA' ,'TMCI' ,'FLDM' ,'RVP' ,'HCM' ,'RDUS' ,'MDXG' ,'ACST' ,'ANIK' ,'KIDS' ,'SGFY' ,'KTOV' ,'SIMU' ,'ATNM' ,'DTIL' ,'CARA' ,'BDXB' ,'ODT' ,'TIL' ,'TMDX' ,'MNOV' ,'STRO' ,'RNA' ,'LMAT' ,'GOSS']\n",
    "Utilities = ['FPL' ,'SRE' ,'D' ,'PE' ,'DUK' ,'AEP' ,'NSP' ,'SO' ,'PCG' ,'ED' ,'AEE' ,'CMS' ,'NU' ,'NRG' ,'PEG' ,'HOU' ,'PPL' ,'DTE' ,'WEC' ,'NI' ,'VST' ,'WPH' ,'AWK' ,'AES' ,'OGE' ,'FE' ,'WR' ,'ETR' ,'UGI' ,'EIX' ,'ATO' ,'PNW' ,'PNM' ,'NGG' ,'ORA' ,'WTRG' ,'IDA' ,'NEP' ,'LG' ,'PCGU' ,'AGR' ,'BEPC' ,'BEPCW' ,'OGS' ,'FTS' ,'CWEN' ,'HE' ,'NJR' ,'BIPC' ,'SWX' ,'SJI' ,'POR' ,'WWP' ,'BKH' ,'ABY' ,'NWEC' ,'NFE' ,'SBS' ,'SCW' ,'CPK' ,'CIG' ,'MPL' ,'OEG' ,'NWNG' ,'BIP' ,'AQN' ,'AZRE' ,'ENI' ,'BEP' ,'MSEX' ,'ELP' ,'EBR' ,'CWT' ,'CWEN.A' ,'UTL' ,'CLCI' ,'DCUE' ,'OTTR' ,'MDSN' ,'DTP']\n",
    "CommunicationServices = ['FB' ,'AMC' ,'GOOG' ,'GOOCV' ,'ABNB' ,'NFLX' ,'RBLX' ,'DIS' ,'SBC' ,'ZM' ,'BEL' ,'ROKU' ,'CMCSA' ,'SNAP' ,'VIAC' ,'BIDU' ,'PINS' ,'PCS' ,'TWTR' ,'Z' ,'TWLO' ,'FUBO' ,'DASH' ,'CHTR' ,'BILI' ,'DISCA' ,'ATVI' ,'MTCH' ,'SPOT' ,'FEAC' ,'IAC' ,'OMC' ,'NTES' ,'FVRR' ,'ERTS' ,'DISCK' ,'IPG' ,'TTWO' ,'CNK' ,'CDRD' ,'NWSAV' ,'CTL' ,'DISH' ,'ZNGA' ,'ATUS' ,'LBDKV' ,'YNDX' ,'LYV' ,'FOXAV' ,'CABO' ,'MOXC' ,'LSXMK' ,'ATHM' ,'LSXMA' ,'GRUB' ,'IDC' ,'RUBI' ,'ZG' ,'WWFE' ,'MSGS' ,'VOD' ,'BCE' ,'NYT' ,'FOXBV' ,'NGMS' ,'LBTYK' ,'LBTYA' ,'NXST' ,'TV' ,'AMX' ,'GHQ' ,'GCI' ,'LGF.A' ,'EDR' ,'VG' ,'AMCX' ,'MBT' ,'CDLX' ,'MSGE' ,'CARG' ,'MSGEW' ,'YELP' ,'LMCKV' ,'IMAXF' ,'GENI' ,'GOGO' ,'SBGI' ,'SSTK' ,'TEF' ,'GNUS' ,'RUK' ,'WIFI' ,'TU' ,'TDS' ,'MAX' ,'VIV' ,'SKM' ,'LGF.B' ,'GCSB' ,'IHRT' ,'AIX' ,'GRPN' ,'NWSVV' ,'COI' ,'LBDAV' ,'COUP' ,'KTC' ,'GCI' ,'ROIA' ,'ORBC' ,'RG' ,'MDP' ,'WMG' ,'VPRT' ,'AVID' ,'THRY' ,'SCR' ,'PLTK' ,'SHET' ,'SJR' ,'ROIAK' ,'MCS' ,'JWA' ,'SCPL' ,'RADI' ,'DMD' ,'LILKV' ,'HOFV' ,'TIMB' ,'WOW' ,'IZEA' ,'VIP' ,'SSP' ,'CNSL' ,'TTGT' ,'TRUE' ,'QNST' ,'DLX' ,'EVER' ,'CCO' ,'SAQN' ,'LIVX' ,'USM' ,'TLK' ,'SLGG' ,'OOMA' ,'NCMI' ,'WPP' ,'MAIL' ,'FTE']\n",
    "Energy = ['VTNR' ,'XON' ,'CHV' ,'MPC' ,'PBR' ,'P' ,'BP' ,'OXY' ,'SLB' ,'HOC' ,'PXD' ,'KMI' ,'IPPIF' ,'VLO' ,'MRO' ,'EOG' ,'WMB' ,'RDSA' ,'OKE' ,'DVN' ,'MPET' ,'BHGE' ,'PSX' ,'ETE' ,'PBRA' ,'COG' ,'AHC' ,'FANG' ,'SU' ,'HAL' ,'EPD' ,'CCJ' ,'RDSB' ,'APA' ,'XEC' ,'TPL' ,'CHEX' ,'TOT' ,'SLCA' ,'STO' ,'AMGP' ,'CED' ,'EQT' ,'TRP' ,'CVE' ,'MPLX' ,'LOM' ,'MARY' ,'SWN' ,'RIG' ,'TRGP' ,'AR' ,'UUUU' ,'NOI' ,'WEG' ,'CLNE' ,'APY' ,'TPGE' ,'BTU' ,'SHLX' ,'DEN' ,'REGI' ,'ETRN' ,'OVV' ,'CHK' ,'CLNP' ,'NBR' ,'MUR' ,'PAGP' ,'VVV' ,'SRAQ' ,'CLR' ,'TS' ,'PAA' ,'DNN' ,'PETD' ,'DPM' ,'WGP' ,'CRLBF' ,'PSXP' ,'FTI' ,'DHT' ,'CVI' ,'PBF' ,'INT' ,'MTDR' ,'OMP' ,'HESM' ,'HP' ,'NRGY' ,'ARCH' ,'AMTX' ,'PBA' ,'CNX' ,'STNG' ,'IMO' ,'HEP' ,'ENLC' ,'WLL' ,'CDIS' ,'UEC' ,'LPI' ,'DK' ,'GLNG' ,'KOS' ,'XOG' ,'CRC' ,'BCEI' ,'CPG' ,'FRO' ,'PTEN' ,'CRK' ,'SUSP' ,'NFG' ,'VNOM' ,'ERF' ,'OII' ,'EXH' ,'UDL' ,'NOG' ,'EURN' ,'EC' ,'TRCH' ,'GEL' ,'LBRT' ,'SNP' ,'VET' ,'BPMP' ,'NXE' ,'CQP' ,'RCON' ,'PTR' ,'SGY' ,'OAS' ,'WHD' ,'WTI' ,'CEIX' ,'LPG' ,'PBFX' ,'MNRL' ,'YPF' ,'MCF' ,'ENBL' ,'URG' ,'REI' ,'DKL' ,'UGP' ,'GLOG' ,'E' ,'ERA' ,'DNOW']\n",
    "Industrials = ['BA' ,'SPCE' ,'PLUG' ,'GE' ,'AAL' ,'CNI' ,'CAT' ,'DE' ,'WBT' ,'ALD' ,'UTX' ,'UAUA' ,'UNP' ,'UPS' ,'KSU' ,'TRU' ,'MIDD' ,'FDX' ,'GPN' ,'MMM' ,'NSC' ,'LMT' ,'AUD' ,'CUM' ,'DAL' ,'ETN' ,'LUV' ,'EMR' ,'PH' ,'ERC' ,'CP' ,'CSX' ,'NOC' ,'SWK' ,'HRS' ,'CARR' ,'CARRW' ,'ITW' ,'TDG' ,'VRSK' ,'ROK' ,'MRKT' ,'OTIS' ,'OTISW' ,'ROP' ,'EXPD' ,'GNRC' ,'AZEK' ,'WAB' ,'ODFL' ,'URI' ,'JCI' ,'GD' ,'EFX' ,'UW' ,'AVY' ,'CPRT' ,'CTAS' ,'RSG' ,'AME' ,'FAST' ,'AA' ,'JBLU' ,'PAYX' ,'PCAR' ,'CHRW' ,'SPR' ,'SZI' ,'LPX' ,'JBHT' ,'ALK' ,'MAS' ,'BLDPF' ,'IAA' ,'CD' ,'SAVE' ,'OC' ,'BLDR' ,'BLD' ,'IR' ,'VRT' ,'ZTO' ,'WCNX' ,'ALLE' ,'NAV' ,'SNA' ,'MTZ' ,'NLSN' ,'TXT' ,'DOV' ,'TASR' ,'RHI' ,'J' ,'HEI' ,'IEX' ,'XYL' ,'GWW' ,'WSO' ,'ZIM' ,'PWR' ,'BE' ,'AYI' ,'TGH' ,'NDSN' ,'ABB' ,'AOS' ,'HII' ,'ACM' ,'CNHI' ,'AER' ,'TWP' ,'PNR' ,'BAH' ,'DCI' ,'EAF' ,'KNGT' ,'VALM' ,'TOC' ,'AG' ,'ERJ' ,'UHAL' ,'TTC' ,'HYFM' ,'OTRKB' ,'UPWK' ,'HTZ' ,'WGOV' ,'CPA' ,'LII' ,'CFX' ,'SITE' ,'HA' ,'LSTR' ,'MESA' ,'JELD' ,'MAN' ,'GGG' ,'HXL' ,'RCII' ,'JBT' ,'WATR' ,'WMS' ,'RBC' ,'KRNT' ,'SBLK' ,'HEIA' ,'RBA' ,'PRLB' ,'TKR' ,'EMCG' ,'CW' ,'FLR' ,'GFL' ,'DY' ,'KBR' ,'CSL' ,'EAGL' ,'MMS' ,'ALT' ,'TEX' ,'TAL' ,'MRCY' ,'ENS' ,'HUBB' ,'WTS' ,'ACP' ,'AZUL' ,'R' ,'SNCY' ,'EOSE' ,'VRTV' ,'ULCC' ,'BWC' ,'KMT' ,'LECO' ,'MSM' ,'WERN' ,'AAN' ,'NVT' ,'PRG' ,'FTIC' ,'WCC' ,'LEV' ,'WFII' ,'B' ,'ANDA' ,'RYAAY' ,'IIN' ,'AWI' ,'TITN' ,'TPIC' ,'PAC' ,'SWBI' ,'VLRS' ,'AIMC' ,'ROLL' ,'SCST' ,'FIX' ,'MIC' ,'KODK' ,'APG' ,'CR' ,'ALGT' ,'IBP' ,'FLS' ,'GOL' ,'REZI' ,'FAIL' ,'ASR' ,'AAWW' ,'TRN' ,'TGI' ,'SRCL' ,'ATKR' ,'GSHT' ,'AL' ,'DAC' ,'ARNC' ,'ENR' ,'ASGN' ,'PZB' ,'ADT' ,'AQUA' ,'HI' ,'CATM' ,'AEIS' ,'GBX' ,'PRIM' ,'CYRX' ,'APZ' ,'CRS' ,'TNET' ,'RXN' ,'BLDG' ,'ENRJ' ,'ABFS' ,'DOOR' ,'CLHB' ,'SKYW' ,'ABM' ,'PSN' ,'UNF' ,'GVA' ,'SB' ,'GFF' ,'BECN' ,'TFII' ,'CFXA' ,'ERII' ,'OMAB' ,'ROCK' ,'AVAV' ,'ASF' ,'PBI' ,'KFY' ,'AIR' ,'SSD' ,'AQMS' ,'CMCO' ,'SFL' ,'ALEX' ,'MYRG' ,'ABXA' ,'HAYW' ,'GY' ,'CAP' ,'MWA' ,'BXC' ,'RAIL' ,'SWIM' ,'BWC' ,'AMRC' ,'HUBG' ,'KEX' ,'ACY' ,'VLCCF' ,'CWST' ,'RGR' ,'MLI' ,'XONE' ,'KNL' ,'ROAD' ,'AZZ' ,'TSP' ,'NMM' ,'SHYF' ,'ASTE' ,'BMI' ,'CGT' ,'WTHG' ,'POWW' ,'MTW' ,'FSS' ,'DPW' ,'GTES' ,'ACA' ,'MNES' ,'TANT' ,'AAON' ,'FELE' ,'FLOW' ,'HYRE' ,'LNN' ,'BW' ,'LAND' ,'TFT' ,'ABD' ,'SNDR' ,'SNHY' ,'KAMNA' ,'ECOL' ,'GMT' ,'DCO' ,'GFLU' ,'SPW' ,'FRTA' ,'VVNT' ,'SCS' ,'CCRN' ,'DGLY' ,'IVAC' ,'GRSHU' ,'RAVN' ,'NAT' ,'MOG.A' ,'SXI' ,'EPAC' ,'SMED' ,'GSTL' ,'CMRE' ,'BRCOA' ,'MRTN' ,'WNC' ,'HTLD' ,'ARCI' ,'WIRE' ,'EGLE' ,'GMS' ,'MAQ' ,'DNY' ,'PGTI' ,'MIII' ,'PFMT' ,'HONI' ,'SWT' ,'NPO' ,'MEG' ,'CBAK' ,'HEES' ,'DHC' ,'HURN' ,'ROMC' ,'HSC']\n",
    "Technology = ['NVDA' ,'CRM' ,'MSFT' ,'AAPL' ,'AMD' ,'PLTR' ,'COIN' ,'SNOW' ,'INTC' ,'SHOP' ,'RIMM' ,'ADBE' ,'MU' ,'HWP' ,'NOW' ,'QCOM' ,'AVGO' ,'AMAT' ,'CSCO' ,'UBER' ,'SQ' ,'TSM' ,'OKTA' ,'TXN' ,'CRWD' ,'ACN' ,'INTU' ,'LYFT' ,'ADSK' ,'LRCX' ,'ORCL' ,'ADI' ,'LEDS' ,'NXPI' ,'ASMLF' ,'MVIS' ,'ZS' ,'WDAY' ,'CEY' ,'RNG' ,'DOCU' ,'WORK' ,'VSNR' ,'APPY' ,'TTD' ,'CTSH' ,'IBM' ,'NOK' ,'DELL' ,'VMW' ,'FISV' ,'KLAC' ,'TEAM' ,'ENPH' ,'PANW' ,'AHA' ,'RUN' ,'U' ,'MRVL' ,'XLNX' ,'SPLK' ,'STX' ,'TDSC' ,'AFRM' ,'MSTR' ,'ON' ,'BILL' ,'PLAN' ,'KOSS' ,'FSLY' ,'CTXS' ,'QRVO' ,'TER' ,'WDC' ,'SNPS' ,'CDW' ,'BMBL' ,'HPE' ,'PATH' ,'NET' ,'COUP' ,'MOT' ,'CDN' ,'GLW' ,'HUBS' ,'DDOG' ,'MCHP' ,'FTNT' ,'APH' ,'TEL' ,'MXIM' ,'WIX' ,'VRSN' ,'GART' ,'NTAP' ,'DBX' ,'CREE' ,'ZBRA' ,'MDB' ,'PFPT' ,'YEXT' ,'SYMC' ,'APPN' ,'FTV' ,'BR' ,'JFAX' ,'SEDG' ,'VUZI' ,'MNDL' ,'STNE' ,'KEYS' ,'BKI' ,'AI' ,'AKAM' ,'FLT' ,'WXS' ,'TDY' ,'TRMB' ,'EMA' ,'MOSY' ,'GRMN' ,'CHKPF' ,'ANSS' ,'FSLR' ,'AVLR' ,'BIGC' ,'BOX' ,'EPAM' ,'AVGOP' ,'PSTG' ,'GDS' ,'PAYC' ,'MPWR' ,'TYL' ,'ZEN' ,'CCC' ,'ANET' ,'CIEN' ,'AZPN' ,'SABR' ,'GDDY' ,'ESTC' ,'JKHY' ,'BSY' ,'IIVI' ,'XRX' ,'CDAY' ,'SPWR' ,'G' ,'PAGS' ,'ARRY' ,'GMHI' ,'LAZR' ,'LOGIY' ,'FIC' ,'ARW' ,'FIVN' ,'SAI' ,'CRCT' ,'ERICY' ,'NTNX' ,'DT' ,'FROG' ,'DOMO' ,'FAF' ,'DXC' ,'SSNC' ,'SAP' ,'FEYE' ,'BRKS' ,'IPGP' ,'JNPR' ,'FFIV' ,'NOVA' ,'PMTC' ,'EDA' ,'AYX' ,'CYBR' ,'MKSI' ,'INFY' ,'CGNX' ,'QTWO' ,'YOD' ,'FOUR' ,'STM' ,'LITEV' ,'CSIQ' ,'VLDR' ,'PUBM' ,'SMAR' ,'GWRE' ,'UNPH' ,'NCNO' ,'CRUS' ,'LSPD' ,'IRBT' ,'GPRO' ,'UMC' ,'COHR' ,'ST' ,'ENTG' ,'SONO' ,'JBIL' ,'CRSR' ,'ACXM' ,'TRNE' ,'SAIL' ,'SAIC' ,'FLEXF' ,'DLB' ,'AMBA' ,'GLOB' ,'MANH' ,'VNT' ,'VNTW' ,'PD' ,'COMM' ,'VSAT' ,'PEGA' ,'NCR' ,'DOX' ,'SWCH' ,'PRO' ,'CLDR' ,'OTEXF' ,'LSCC' ,'DCT' ,'EEFT' ,'KOPN' ,'MDLA' ,'ZI' ,'XM' ,'CVLT' ,'LPL' ,'ENV' ,'AVT' ,'CACI' ,'EVBG' ,'ASAN' ,'UCTT' ,'WRAP' ,'SSYS' ,'BAND' ,'CRNCV' ,'BL' ,'DNB' ,'SMTC' ,'PCTY' ,'RPD' ,'EB' ,'PANL' ,'KLIC' ,'RXT' ,'PRFT' ,'QLYS' ,'MIME' ,'ATC' ,'ONTO' ,'NSIT' ,'VRNS' ,'STMP' ,'CDKVV' ,'UBNT' ,'SHLS' ,'DV' ,'TIXT' ,'LPSN' ,'MTSI' ,'ACMR' ,'MANT' ,'TLS' ,'NEWR' ,'CCMP' ,'DNJR' ,'SLTD' ,'SLAB' ,'ALRM' ,'CNXC' ,'POWI' ,'CLSK' ,'ALGM' ,'GIB' ,'SUMO' ,'SPT' ,'WK' ,'TSAI' ,'KN' ,'NTCT' ,'NICEY' ,'VRNT' ,'AMKR' ,'JAMF' ,'CALX' ,'SANM' ,'TTEC' ,'MOGO' ,'VSH' ,'COMP' ,'NTGR' ,'ICHR' ,'PING' ,'SVMK' ,'ITRI' ,'PRGS' ,'FORM' ,'TENB' ,'ONTF' ,'ALTR' ,'MAXNV' ,'AVYA' ,'SITM' ,'FN' ,'SNX' ,'MDA' ,'ZUO' ,'EBON' ,'CMBM' ,'TDC' ,'PTAC' ,'SYNA' ,'SWI' ,'CAMT' ,'BLKB' ,'DIO' ,'NATI' ,'SPSC' ,'VZIO' ,'CNDT' ,'SMMC' ,'FTCI' ,'MICT' ,'OLO' ,'EXLS' ,'EGHT' ,'ASX' ,'CSOD' ,'SEMR' ,'WIT' ,'COHU' ,'SGH' ,'PTC' ,'UIS' ,'VCRA' ,'ACVA' ,'NVTL' ,'CGNT' ,'EVTC' ,'VSCI' ,'MLAB' ,'APPF' ,'CMTL' ,'EXTR' ,'EPAY' ,'DSP' ,'PIOS' ,'ATMR' ,'SATS' ,'MCFE' ,'VERI' ,'TSRA' ,'TTMI' ,'ACLS' ,'TSEMF' ,'BNFT' ,'QMCO' ,'MXL' ,'LFUS' ,'RMBS' ,'MODN' ,'NVMI' ,'ROG' ,'INFN' ,'MX' ,'PAMT' ,'FNTE' ,'TBRG' ,'DOCN' ,'BOXL' ,'PLXS' ,'BEEM' ,'INTZ' ,'DLPH' ,'PCVA' ,'NVMM' ,'SMSI' ,'ESE' ,'HSTX' ,'PAYA' ,'LLNW' ,'ONDS' ,'LASR' ,'VERX' ,'AOSL' ,'VICR' ,'GSCN' ,'XGTI' ,'TAIT' ,'MITK' ,'DBD' ,'HLIT' ,'CTS' ,'ATEN' ,'DSGXF' ,'RESN' ,'SMCI' ,'RDWR' ,'SPU' ,'WISA' ,'MSP' ,'CANNY' ,'ALLT' ,'GILTF' ,'BCOV' ,'PI' ,'AKTS' ,'CPSH' ,'INS' ,'CSGS' ,'NPTN' ,'EVOP' ,'SKYT' ,'METHA' ,'MLCH' ,'IMMR' ,'PLAB' ,'BHE' ,'PAAC' ,'AXTI']\n",
    "June_1 = [BasicMaterials, ConsumerCyclical, FinancialServices, RealEstate, ConsumerDefensive, Healthcare,\\\n",
    "           Utilities, CommunicationServices, Energy, Industrials, Technology]"
   ]
  },
  {
   "cell_type": "code",
   "execution_count": 9,
   "metadata": {},
   "outputs": [],
   "source": [
    "Stocks_dollar_volume_min_price_continuity = []\n",
    "for SectorInd in range(len(SectorNames)):\n",
    "    Stocks_dollar_volume_min_price_continuity.append(intersection([June_1[SectorInd], May_4[SectorInd], April_1[SectorInd]]))\n",
    "output_str = \"\"\n",
    "for SectorInd in range(len(SectorNames)):\n",
    "    curr_str = SectorNames[SectorInd] + ' = ' + str(Stocks_dollar_volume_min_price_continuity[SectorInd])\n",
    "    #print (curr_str)\n",
    "    output_str += curr_str + '\\n'\n",
    "write_file (\"Stocks_dollar_volume_min_price_continuity\", output_str, option = 'w')"
   ]
  },
  {
   "cell_type": "code",
   "execution_count": 10,
   "metadata": {},
   "outputs": [],
   "source": [
    "Stocks_dollar_volume_min_price_continuity_all = []\n",
    "for ticker_lst in Stocks_dollar_volume_min_price_continuity:\n",
    "    Stocks_dollar_volume_min_price_continuity_all += ticker_lst"
   ]
  },
  {
   "cell_type": "code",
   "execution_count": 11,
   "metadata": {},
   "outputs": [
    {
     "name": "stdout",
     "output_type": "stream",
     "text": [
      "Number of stocks after price screening (price>20), dollar volume screening (top 70%) and continuity screening (April 1st, May 4th and June 1st) is 2547\n"
     ]
    }
   ],
   "source": [
    "print(\"Number of stocks after price screening (price>20), dollar volume screening (top 70%) and continuity screening \\\n",
    "(April 1st, May 4th and June 1st) is \" + str(len(Stocks_dollar_volume_min_price_continuity_all)))"
   ]
  },
  {
   "cell_type": "code",
   "execution_count": 12,
   "metadata": {},
   "outputs": [
    {
     "name": "stderr",
     "output_type": "stream",
     "text": [
      "Error 200, reqId 9: No security definition has been found for the request, contract: Contract(secType='STK', symbol='ABX', exchange='SMART', currency='USD')\n",
      "Unknown contract: Contract(secType='STK', symbol='ABX', exchange='SMART', currency='USD')\n"
     ]
    },
    {
     "name": "stdout",
     "output_type": "stream",
     "text": [
      "no history available for ticker ABX\n"
     ]
    },
    {
     "name": "stderr",
     "output_type": "stream",
     "text": [
      "Error 200, reqId 20: No security definition has been found for the request, contract: Contract(secType='STK', symbol='PX', exchange='SMART', currency='USD')\n",
      "Unknown contract: Contract(secType='STK', symbol='PX', exchange='SMART', currency='USD')\n"
     ]
    },
    {
     "name": "stdout",
     "output_type": "stream",
     "text": [
      "no history available for ticker PX\n"
     ]
    },
    {
     "name": "stderr",
     "output_type": "stream",
     "text": [
      "Error 200, reqId 23: No security definition has been found for the request, contract: Contract(secType='STK', symbol='POT', exchange='SMART', currency='USD')\n",
      "Unknown contract: Contract(secType='STK', symbol='POT', exchange='SMART', currency='USD')\n"
     ]
    },
    {
     "name": "stdout",
     "output_type": "stream",
     "text": [
      "no history available for ticker POT\n"
     ]
    },
    {
     "name": "stderr",
     "output_type": "stream",
     "text": [
      "Error 200, reqId 48: No security definition has been found for the request, contract: Contract(secType='STK', symbol='PCU', exchange='SMART', currency='USD')\n",
      "Unknown contract: Contract(secType='STK', symbol='PCU', exchange='SMART', currency='USD')\n"
     ]
    },
    {
     "name": "stdout",
     "output_type": "stream",
     "text": [
      "no history available for ticker PCU\n"
     ]
    },
    {
     "name": "stderr",
     "output_type": "stream",
     "text": [
      "Error 200, reqId 57: No security definition has been found for the request, contract: Contract(secType='STK', symbol='IST', exchange='SMART', currency='USD')\n",
      "Unknown contract: Contract(secType='STK', symbol='IST', exchange='SMART', currency='USD')\n",
      "Error 200, reqId 58: No security definition has been found for the request, contract: Contract(secType='STK', symbol='TCK', exchange='SMART', currency='USD')\n",
      "Unknown contract: Contract(secType='STK', symbol='TCK', exchange='SMART', currency='USD')\n"
     ]
    },
    {
     "name": "stdout",
     "output_type": "stream",
     "text": [
      "no history available for ticker IST\n",
      "no history available for ticker TCK\n"
     ]
    },
    {
     "name": "stderr",
     "output_type": "stream",
     "text": [
      "Error 200, reqId 75: No security definition has been found for the request, contract: Contract(secType='STK', symbol='SLW', exchange='SMART', currency='USD')\n",
      "Unknown contract: Contract(secType='STK', symbol='SLW', exchange='SMART', currency='USD')\n"
     ]
    },
    {
     "name": "stdout",
     "output_type": "stream",
     "text": [
      "no history available for ticker SLW\n"
     ]
    },
    {
     "name": "stderr",
     "output_type": "stream",
     "text": [
      "Error 200, reqId 84: No security definition has been found for the request, contract: Contract(secType='STK', symbol='DRFNY', exchange='SMART', currency='USD')\n",
      "Unknown contract: Contract(secType='STK', symbol='DRFNY', exchange='SMART', currency='USD')\n"
     ]
    },
    {
     "name": "stdout",
     "output_type": "stream",
     "text": [
      "no history available for ticker DRFNY\n"
     ]
    },
    {
     "name": "stderr",
     "output_type": "stream",
     "text": [
      "Error 200, reqId 89: No security definition has been found for the request, contract: Contract(secType='STK', symbol='FVAC', exchange='SMART', currency='USD')\n",
      "Unknown contract: Contract(secType='STK', symbol='FVAC', exchange='SMART', currency='USD')\n"
     ]
    },
    {
     "name": "stdout",
     "output_type": "stream",
     "text": [
      "no history available for ticker FVAC\n"
     ]
    },
    {
     "name": "stderr",
     "output_type": "stream",
     "text": [
      "Error 162, reqId 93: Historical Market Data Service error message:No market data permissions for ARCAEDGE STK, contract: Contract(secType='STK', conId=355087270, symbol='PAASF', exchange='SMART', primaryExchange='PINK', currency='USD', localSymbol='PAASF', tradingClass='CURRENT')\n"
     ]
    },
    {
     "name": "stdout",
     "output_type": "stream",
     "text": [
      "no history available for ticker PAASF\n"
     ]
    },
    {
     "name": "stderr",
     "output_type": "stream",
     "text": [
      "Error 200, reqId 114: No security definition has been found for the request, contract: Contract(secType='STK', symbol='SSRIF', exchange='SMART', currency='USD')\n",
      "Unknown contract: Contract(secType='STK', symbol='SSRIF', exchange='SMART', currency='USD')\n"
     ]
    },
    {
     "name": "stdout",
     "output_type": "stream",
     "text": [
      "no history available for ticker SSRIF\n"
     ]
    },
    {
     "name": "stderr",
     "output_type": "stream",
     "text": [
      "Error 200, reqId 119: No security definition has been found for the request, contract: Contract(secType='STK', symbol='HGMCY', exchange='SMART', currency='USD')\n",
      "Unknown contract: Contract(secType='STK', symbol='HGMCY', exchange='SMART', currency='USD')\n"
     ]
    },
    {
     "name": "stdout",
     "output_type": "stream",
     "text": [
      "no history available for ticker HGMCY\n"
     ]
    },
    {
     "name": "stderr",
     "output_type": "stream",
     "text": [
      "Error 200, reqId 124: No security definition has been found for the request, contract: Contract(secType='STK', symbol='LOAK', exchange='SMART', currency='USD')\n",
      "Unknown contract: Contract(secType='STK', symbol='LOAK', exchange='SMART', currency='USD')\n",
      "Error 200, reqId 125: No security definition has been found for the request, contract: Contract(secType='STK', symbol='FULL', exchange='SMART', currency='USD')\n",
      "Unknown contract: Contract(secType='STK', symbol='FULL', exchange='SMART', currency='USD')\n"
     ]
    },
    {
     "name": "stdout",
     "output_type": "stream",
     "text": [
      "no history available for ticker LOAK\n",
      "no history available for ticker FULL\n"
     ]
    },
    {
     "name": "stderr",
     "output_type": "stream",
     "text": [
      "Error 200, reqId 138: No security definition has been found for the request, contract: Contract(secType='STK', symbol='RPOW', exchange='SMART', currency='USD')\n",
      "Unknown contract: Contract(secType='STK', symbol='RPOW', exchange='SMART', currency='USD')\n"
     ]
    },
    {
     "name": "stdout",
     "output_type": "stream",
     "text": [
      "no history available for ticker RPOW\n"
     ]
    },
    {
     "name": "stderr",
     "output_type": "stream",
     "text": [
      "Error 200, reqId 149: No security definition has been found for the request, contract: Contract(secType='STK', symbol='PLLL', exchange='SMART', currency='USD')\n",
      "Unknown contract: Contract(secType='STK', symbol='PLLL', exchange='SMART', currency='USD')\n"
     ]
    },
    {
     "name": "stdout",
     "output_type": "stream",
     "text": [
      "no history available for ticker PLLL\n"
     ]
    },
    {
     "name": "stderr",
     "output_type": "stream",
     "text": [
      "Error 200, reqId 156: No security definition has been found for the request, contract: Contract(secType='STK', symbol='CRHCY', exchange='SMART', currency='USD')\n",
      "Unknown contract: Contract(secType='STK', symbol='CRHCY', exchange='SMART', currency='USD')\n"
     ]
    },
    {
     "name": "stdout",
     "output_type": "stream",
     "text": [
      "no history available for ticker CRHCY\n"
     ]
    },
    {
     "name": "stderr",
     "output_type": "stream",
     "text": [
      "Error 200, reqId 173: No security definition has been found for the request, contract: Contract(secType='STK', symbol='ABH', exchange='SMART', currency='USD')\n",
      "Unknown contract: Contract(secType='STK', symbol='ABH', exchange='SMART', currency='USD')\n"
     ]
    },
    {
     "name": "stdout",
     "output_type": "stream",
     "text": [
      "no history available for ticker ABH\n"
     ]
    },
    {
     "name": "stderr",
     "output_type": "stream",
     "text": [
      "Error 200, reqId 182: No security definition has been found for the request, contract: Contract(secType='STK', symbol='UFC', exchange='SMART', currency='USD')\n",
      "Unknown contract: Contract(secType='STK', symbol='UFC', exchange='SMART', currency='USD')\n",
      "Error 200, reqId 183: No security definition has been found for the request, contract: Contract(secType='STK', symbol='FPGP', exchange='SMART', currency='USD')\n",
      "Unknown contract: Contract(secType='STK', symbol='FPGP', exchange='SMART', currency='USD')\n"
     ]
    },
    {
     "name": "stdout",
     "output_type": "stream",
     "text": [
      "no history available for ticker UFC\n",
      "no history available for ticker FPGP\n"
     ]
    },
    {
     "name": "stderr",
     "output_type": "stream",
     "text": [
      "Error 200, reqId 208: No security definition has been found for the request, contract: Contract(secType='STK', symbol='POL', exchange='SMART', currency='USD')\n",
      "Unknown contract: Contract(secType='STK', symbol='POL', exchange='SMART', currency='USD')\n",
      "Error 200, reqId 209: No security definition has been found for the request, contract: Contract(secType='STK', symbol='EY', exchange='SMART', currency='USD')\n",
      "Unknown contract: Contract(secType='STK', symbol='EY', exchange='SMART', currency='USD')\n"
     ]
    },
    {
     "name": "stdout",
     "output_type": "stream",
     "text": [
      "no history available for ticker POL\n",
      "no history available for ticker EY\n"
     ]
    },
    {
     "name": "stderr",
     "output_type": "stream",
     "text": [
      "Error 200, reqId 210: No security definition has been found for the request, contract: Contract(secType='STK', symbol='MEOHF', exchange='SMART', currency='USD')\n",
      "Unknown contract: Contract(secType='STK', symbol='MEOHF', exchange='SMART', currency='USD')\n"
     ]
    },
    {
     "name": "stdout",
     "output_type": "stream",
     "text": [
      "no history available for ticker MEOHF\n"
     ]
    },
    {
     "name": "stderr",
     "output_type": "stream",
     "text": [
      "Error 200, reqId 219: No security definition has been found for the request, contract: Contract(secType='STK', symbol='MVG', exchange='SMART', currency='USD')\n",
      "Unknown contract: Contract(secType='STK', symbol='MVG', exchange='SMART', currency='USD')\n",
      "Error 200, reqId 220: No security definition has been found for the request, contract: Contract(secType='STK', symbol='BCP', exchange='SMART', currency='USD')\n",
      "Unknown contract: Contract(secType='STK', symbol='BCP', exchange='SMART', currency='USD')\n"
     ]
    },
    {
     "name": "stdout",
     "output_type": "stream",
     "text": [
      "no history available for ticker MVG\n",
      "no history available for ticker BCP\n"
     ]
    },
    {
     "name": "stderr",
     "output_type": "stream",
     "text": [
      "Error 200, reqId 223: No security definition has been found for the request, contract: Contract(secType='STK', symbol='SSLT', exchange='SMART', currency='USD')\n",
      "Unknown contract: Contract(secType='STK', symbol='SSLT', exchange='SMART', currency='USD')\n"
     ]
    },
    {
     "name": "stdout",
     "output_type": "stream",
     "text": [
      "no history available for ticker SSLT\n"
     ]
    },
    {
     "name": "stderr",
     "output_type": "stream",
     "text": [
      "Error 200, reqId 230: No security definition has been found for the request, contract: Contract(secType='STK', symbol='DRJ', exchange='SMART', currency='USD')\n",
      "Unknown contract: Contract(secType='STK', symbol='DRJ', exchange='SMART', currency='USD')\n",
      "Error 200, reqId 231: No security definition has been found for the request, contract: Contract(secType='STK', symbol='HUGO', exchange='SMART', currency='USD')\n",
      "Unknown contract: Contract(secType='STK', symbol='HUGO', exchange='SMART', currency='USD')\n"
     ]
    },
    {
     "name": "stdout",
     "output_type": "stream",
     "text": [
      "no history available for ticker DRJ\n",
      "no history available for ticker HUGO\n"
     ]
    },
    {
     "name": "stderr",
     "output_type": "stream",
     "text": [
      "Error 200, reqId 238: No security definition has been found for the request, contract: Contract(secType='STK', symbol='MWGP', exchange='SMART', currency='USD')\n",
      "Unknown contract: Contract(secType='STK', symbol='MWGP', exchange='SMART', currency='USD')\n"
     ]
    },
    {
     "name": "stdout",
     "output_type": "stream",
     "text": [
      "no history available for ticker MWGP\n"
     ]
    },
    {
     "name": "stderr",
     "output_type": "stream",
     "text": [
      "Error 200, reqId 241: No security definition has been found for the request, contract: Contract(secType='STK', symbol='OTL', exchange='SMART', currency='USD')\n",
      "Unknown contract: Contract(secType='STK', symbol='OTL', exchange='SMART', currency='USD')\n"
     ]
    },
    {
     "name": "stdout",
     "output_type": "stream",
     "text": [
      "no history available for ticker OTL\n"
     ]
    },
    {
     "name": "stderr",
     "output_type": "stream",
     "text": [
      "Error 200, reqId 290: No security definition has been found for the request, contract: Contract(secType='STK', symbol='PCLN', exchange='SMART', currency='USD')\n",
      "Unknown contract: Contract(secType='STK', symbol='PCLN', exchange='SMART', currency='USD')\n"
     ]
    },
    {
     "name": "stdout",
     "output_type": "stream",
     "text": [
      "no history available for ticker PCLN\n"
     ]
    },
    {
     "name": "stderr",
     "output_type": "stream",
     "text": [
      "Error 200, reqId 315: No security definition has been found for the request, contract: Contract(secType='STK', symbol='MGG', exchange='SMART', currency='USD')\n",
      "Unknown contract: Contract(secType='STK', symbol='MGG', exchange='SMART', currency='USD')\n"
     ]
    },
    {
     "name": "stdout",
     "output_type": "stream",
     "text": [
      "no history available for ticker MGG\n"
     ]
    },
    {
     "name": "stderr",
     "output_type": "stream",
     "text": [
      "Error 200, reqId 334: No security definition has been found for the request, contract: Contract(secType='STK', symbol='WSGC', exchange='SMART', currency='USD')\n",
      "Unknown contract: Contract(secType='STK', symbol='WSGC', exchange='SMART', currency='USD')\n",
      "Error 200, reqId 335: No security definition has been found for the request, contract: Contract(secType='STK', symbol='LTD', exchange='SMART', currency='USD')\n",
      "Unknown contract: Contract(secType='STK', symbol='LTD', exchange='SMART', currency='USD')\n"
     ]
    },
    {
     "name": "stdout",
     "output_type": "stream",
     "text": [
      "no history available for ticker WSGC\n",
      "no history available for ticker LTD\n"
     ]
    },
    {
     "name": "stderr",
     "output_type": "stream",
     "text": [
      "Error 200, reqId 338: No security definition has been found for the request, contract: Contract(secType='STK', symbol='ERI', exchange='SMART', currency='USD')\n",
      "Unknown contract: Contract(secType='STK', symbol='ERI', exchange='SMART', currency='USD')\n",
      "Error 200, reqId 339: No security definition has been found for the request, contract: Contract(secType='STK', symbol='DLPH', exchange='SMART', currency='USD')\n",
      "Unknown contract: Contract(secType='STK', symbol='DLPH', exchange='SMART', currency='USD')\n",
      "Error 200, reqId 340: No security definition has been found for the request, contract: Contract(secType='STK', symbol='FD', exchange='SMART', currency='USD')\n",
      "Unknown contract: Contract(secType='STK', symbol='FD', exchange='SMART', currency='USD')\n"
     ]
    },
    {
     "name": "stdout",
     "output_type": "stream",
     "text": [
      "no history available for ticker ERI\n",
      "no history available for ticker DLPH\n",
      "no history available for ticker FD\n"
     ]
    },
    {
     "name": "stderr",
     "output_type": "stream",
     "text": [
      "Error 200, reqId 347: No security definition has been found for the request, contract: Contract(secType='STK', symbol='CTRP', exchange='SMART', currency='USD')\n",
      "Unknown contract: Contract(secType='STK', symbol='CTRP', exchange='SMART', currency='USD')\n"
     ]
    },
    {
     "name": "stdout",
     "output_type": "stream",
     "text": [
      "no history available for ticker CTRP\n"
     ]
    },
    {
     "name": "stderr",
     "output_type": "stream",
     "text": [
      "Error 200, reqId 362: No security definition has been found for the request, contract: Contract(secType='STK', symbol='AEOS', exchange='SMART', currency='USD')\n",
      "Unknown contract: Contract(secType='STK', symbol='AEOS', exchange='SMART', currency='USD')\n"
     ]
    },
    {
     "name": "stdout",
     "output_type": "stream",
     "text": [
      "no history available for ticker AEOS\n"
     ]
    },
    {
     "name": "stderr",
     "output_type": "stream",
     "text": [
      "Error 200, reqId 377: No security definition has been found for the request, contract: Contract(secType='STK', symbol='NOBE', exchange='SMART', currency='USD')\n",
      "Unknown contract: Contract(secType='STK', symbol='NOBE', exchange='SMART', currency='USD')\n"
     ]
    },
    {
     "name": "stdout",
     "output_type": "stream",
     "text": [
      "no history available for ticker NOBE\n"
     ]
    },
    {
     "name": "stderr",
     "output_type": "stream",
     "text": [
      "Error 200, reqId 400: No security definition has been found for the request, contract: Contract(secType='STK', symbol='LMTR', exchange='SMART', currency='USD')\n",
      "Unknown contract: Contract(secType='STK', symbol='LMTR', exchange='SMART', currency='USD')\n"
     ]
    },
    {
     "name": "stdout",
     "output_type": "stream",
     "text": [
      "no history available for ticker LMTR\n"
     ]
    },
    {
     "name": "stderr",
     "output_type": "stream",
     "text": [
      "Error 200, reqId 403: No security definition has been found for the request, contract: Contract(secType='STK', symbol='KORS', exchange='SMART', currency='USD')\n",
      "Unknown contract: Contract(secType='STK', symbol='KORS', exchange='SMART', currency='USD')\n"
     ]
    },
    {
     "name": "stdout",
     "output_type": "stream",
     "text": [
      "no history available for ticker KORS\n"
     ]
    },
    {
     "name": "stderr",
     "output_type": "stream",
     "text": [
      "Error 200, reqId 408: No security definition has been found for the request, contract: Contract(secType='STK', symbol='COH', exchange='SMART', currency='USD')\n",
      "Unknown contract: Contract(secType='STK', symbol='COH', exchange='SMART', currency='USD')\n"
     ]
    },
    {
     "name": "stdout",
     "output_type": "stream",
     "text": [
      "no history available for ticker COH\n"
     ]
    },
    {
     "name": "stderr",
     "output_type": "stream",
     "text": [
      "Error 200, reqId 451: No security definition has been found for the request, contract: Contract(secType='STK', symbol='LKQX', exchange='SMART', currency='USD')\n",
      "Unknown contract: Contract(secType='STK', symbol='LKQX', exchange='SMART', currency='USD')\n"
     ]
    },
    {
     "name": "stdout",
     "output_type": "stream",
     "text": [
      "no history available for ticker LKQX\n"
     ]
    },
    {
     "name": "stderr",
     "output_type": "stream",
     "text": [
      "Error 200, reqId 462: No security definition has been found for the request, contract: Contract(secType='STK', symbol='WTW', exchange='SMART', currency='USD')\n",
      "Unknown contract: Contract(secType='STK', symbol='WTW', exchange='SMART', currency='USD')\n",
      "Error 200, reqId 463: No security definition has been found for the request, contract: Contract(secType='STK', symbol='RII', exchange='SMART', currency='USD')\n",
      "Unknown contract: Contract(secType='STK', symbol='RII', exchange='SMART', currency='USD')\n"
     ]
    },
    {
     "name": "stdout",
     "output_type": "stream",
     "text": [
      "no history available for ticker WTW\n",
      "no history available for ticker RII\n"
     ]
    },
    {
     "name": "stderr",
     "output_type": "stream",
     "text": [
      "Error 200, reqId 484: No security definition has been found for the request, contract: Contract(secType='STK', symbol='UARM', exchange='SMART', currency='USD')\n",
      "Unknown contract: Contract(secType='STK', symbol='UARM', exchange='SMART', currency='USD')\n"
     ]
    },
    {
     "name": "stdout",
     "output_type": "stream",
     "text": [
      "no history available for ticker UARM\n"
     ]
    },
    {
     "name": "stderr",
     "output_type": "stream",
     "text": [
      "Error 200, reqId 491: No security definition has been found for the request, contract: Contract(secType='STK', symbol='RMG', exchange='SMART', currency='USD')\n",
      "Unknown contract: Contract(secType='STK', symbol='RMG', exchange='SMART', currency='USD')\n"
     ]
    },
    {
     "name": "stdout",
     "output_type": "stream",
     "text": [
      "no history available for ticker RMG\n"
     ]
    },
    {
     "name": "stderr",
     "output_type": "stream",
     "text": [
      "Error 200, reqId 498: No security definition has been found for the request, contract: Contract(secType='STK', symbol='FCAU', exchange='SMART', currency='USD')\n",
      "Unknown contract: Contract(secType='STK', symbol='FCAU', exchange='SMART', currency='USD')\n"
     ]
    },
    {
     "name": "stdout",
     "output_type": "stream",
     "text": [
      "no history available for ticker FCAU\n"
     ]
    },
    {
     "name": "stderr",
     "output_type": "stream",
     "text": [
      "Error 200, reqId 511: No security definition has been found for the request, contract: Contract(secType='STK', symbol='MPEL', exchange='SMART', currency='USD')\n",
      "Unknown contract: Contract(secType='STK', symbol='MPEL', exchange='SMART', currency='USD')\n"
     ]
    },
    {
     "name": "stdout",
     "output_type": "stream",
     "text": [
      "no history available for ticker MPEL\n"
     ]
    },
    {
     "name": "stderr",
     "output_type": "stream",
     "text": [
      "Error 200, reqId 522: No security definition has been found for the request, contract: Contract(secType='STK', symbol='TRY', exchange='SMART', currency='USD')\n",
      "Unknown contract: Contract(secType='STK', symbol='TRY', exchange='SMART', currency='USD')\n",
      "Error 200, reqId 523: No security definition has been found for the request, contract: Contract(secType='STK', symbol='TTE', exchange='SMART', currency='USD')\n",
      "Unknown contract: Contract(secType='STK', symbol='TTE', exchange='SMART', currency='USD')\n"
     ]
    },
    {
     "name": "stdout",
     "output_type": "stream",
     "text": [
      "no history available for ticker TRY\n",
      "no history available for ticker TTE\n"
     ]
    },
    {
     "name": "stderr",
     "output_type": "stream",
     "text": [
      "Error 200, reqId 536: No security definition has been found for the request, contract: Contract(secType='STK', symbol='SHLL', exchange='SMART', currency='USD')\n",
      "Unknown contract: Contract(secType='STK', symbol='SHLL', exchange='SMART', currency='USD')\n"
     ]
    },
    {
     "name": "stdout",
     "output_type": "stream",
     "text": [
      "no history available for ticker SHLL\n"
     ]
    },
    {
     "name": "stderr",
     "output_type": "stream",
     "text": [
      "Error 200, reqId 567: No security definition has been found for the request, contract: Contract(secType='STK', symbol='HDI', exchange='SMART', currency='USD')\n",
      "Unknown contract: Contract(secType='STK', symbol='HDI', exchange='SMART', currency='USD')\n",
      "Error 200, reqId 568: No security definition has been found for the request, contract: Contract(secType='STK', symbol='DSW', exchange='SMART', currency='USD')\n",
      "Unknown contract: Contract(secType='STK', symbol='DSW', exchange='SMART', currency='USD')\n"
     ]
    },
    {
     "name": "stdout",
     "output_type": "stream",
     "text": [
      "no history available for ticker HDI\n",
      "no history available for ticker DSW\n"
     ]
    },
    {
     "name": "stderr",
     "output_type": "stream",
     "text": [
      "Error 200, reqId 569: No security definition has been found for the request, contract: Contract(secType='STK', symbol='GCA', exchange='SMART', currency='USD')\n",
      "Unknown contract: Contract(secType='STK', symbol='GCA', exchange='SMART', currency='USD')\n",
      "Error 200, reqId 570: No security definition has been found for the request, contract: Contract(secType='STK', symbol='AIRB', exchange='SMART', currency='USD')"
     ]
    },
    {
     "name": "stdout",
     "output_type": "stream",
     "text": [
      "no history available for ticker GCA\n"
     ]
    },
    {
     "name": "stderr",
     "output_type": "stream",
     "text": [
      "\n",
      "Unknown contract: Contract(secType='STK', symbol='AIRB', exchange='SMART', currency='USD')\n"
     ]
    },
    {
     "name": "stdout",
     "output_type": "stream",
     "text": [
      "no history available for ticker AIRB\n"
     ]
    },
    {
     "name": "stderr",
     "output_type": "stream",
     "text": [
      "Error 200, reqId 579: No security definition has been found for the request, contract: Contract(secType='STK', symbol='SERV', exchange='SMART', currency='USD')\n",
      "Unknown contract: Contract(secType='STK', symbol='SERV', exchange='SMART', currency='USD')\n",
      "Error 200, reqId 580: No security definition has been found for the request, contract: Contract(secType='STK', symbol='SIGYY', exchange='SMART', currency='USD')\n",
      "Unknown contract: Contract(secType='STK', symbol='SIGYY', exchange='SMART', currency='USD')\n"
     ]
    },
    {
     "name": "stdout",
     "output_type": "stream",
     "text": [
      "no history available for ticker SERV\n",
      "no history available for ticker SIGYY\n"
     ]
    },
    {
     "name": "stderr",
     "output_type": "stream",
     "text": [
      "Error 200, reqId 591: No security definition has been found for the request, contract: Contract(secType='STK', symbol='TRWH', exchange='SMART', currency='USD')\n",
      "Unknown contract: Contract(secType='STK', symbol='TRWH', exchange='SMART', currency='USD')\n"
     ]
    },
    {
     "name": "stdout",
     "output_type": "stream",
     "text": [
      "no history available for ticker TRWH\n"
     ]
    },
    {
     "name": "stderr",
     "output_type": "stream",
     "text": [
      "Error 200, reqId 612: No security definition has been found for the request, contract: Contract(secType='STK', symbol='CTB', exchange='SMART', currency='USD')\n",
      "Unknown contract: Contract(secType='STK', symbol='CTB', exchange='SMART', currency='USD')\n"
     ]
    },
    {
     "name": "stdout",
     "output_type": "stream",
     "text": [
      "no history available for ticker CTB\n"
     ]
    },
    {
     "name": "stderr",
     "output_type": "stream",
     "text": [
      "Error 200, reqId 657: No security definition has been found for the request, contract: Contract(secType='STK', symbol='TOYOY', exchange='SMART', currency='USD')\n",
      "Unknown contract: Contract(secType='STK', symbol='TOYOY', exchange='SMART', currency='USD')\n"
     ]
    },
    {
     "name": "stdout",
     "output_type": "stream",
     "text": [
      "no history available for ticker TOYOY\n"
     ]
    },
    {
     "name": "stderr",
     "output_type": "stream",
     "text": [
      "Error 200, reqId 676: No security definition has been found for the request, contract: Contract(secType='STK', symbol='ACAM', exchange='SMART', currency='USD')\n",
      "Unknown contract: Contract(secType='STK', symbol='ACAM', exchange='SMART', currency='USD')\n"
     ]
    },
    {
     "name": "stdout",
     "output_type": "stream",
     "text": [
      "no history available for ticker ACAM\n"
     ]
    },
    {
     "name": "stderr",
     "output_type": "stream",
     "text": [
      "Error 200, reqId 709: No security definition has been found for the request, contract: Contract(secType='STK', symbol='FTDRV', exchange='SMART', currency='USD')\n",
      "Unknown contract: Contract(secType='STK', symbol='FTDRV', exchange='SMART', currency='USD')\n"
     ]
    },
    {
     "name": "stdout",
     "output_type": "stream",
     "text": [
      "no history available for ticker FTDRV\n"
     ]
    },
    {
     "name": "stderr",
     "output_type": "stream",
     "text": [
      "Error 200, reqId 716: No security definition has been found for the request, contract: Contract(secType='STK', symbol='MRA', exchange='SMART', currency='USD')\n",
      "Unknown contract: Contract(secType='STK', symbol='MRA', exchange='SMART', currency='USD')\n"
     ]
    },
    {
     "name": "stdout",
     "output_type": "stream",
     "text": [
      "no history available for ticker MRA\n"
     ]
    },
    {
     "name": "stderr",
     "output_type": "stream",
     "text": [
      "Error 200, reqId 721: No security definition has been found for the request, contract: Contract(secType='STK', symbol='DMYT', exchange='SMART', currency='USD')\n",
      "Unknown contract: Contract(secType='STK', symbol='DMYT', exchange='SMART', currency='USD')\n"
     ]
    },
    {
     "name": "stdout",
     "output_type": "stream",
     "text": [
      "no history available for ticker DMYT\n"
     ]
    },
    {
     "name": "stderr",
     "output_type": "stream",
     "text": [
      "Error 200, reqId 738: No security definition has been found for the request, contract: Contract(secType='STK', symbol='IHOP', exchange='SMART', currency='USD')\n",
      "Unknown contract: Contract(secType='STK', symbol='IHOP', exchange='SMART', currency='USD')\n",
      "Error 200, reqId 739: No security definition has been found for the request, contract: Contract(secType='STK', symbol='UAG', exchange='SMART', currency='USD')\n",
      "Unknown contract: Contract(secType='STK', symbol='UAG', exchange='SMART', currency='USD')\n"
     ]
    },
    {
     "name": "stdout",
     "output_type": "stream",
     "text": [
      "no history available for ticker IHOP\n",
      "no history available for ticker UAG\n"
     ]
    },
    {
     "name": "stderr",
     "output_type": "stream",
     "text": [
      "Error 200, reqId 756: No security definition has been found for the request, contract: Contract(secType='STK', symbol='BIOF', exchange='SMART', currency='USD')\n",
      "Unknown contract: Contract(secType='STK', symbol='BIOF', exchange='SMART', currency='USD')\n"
     ]
    },
    {
     "name": "stdout",
     "output_type": "stream",
     "text": [
      "no history available for ticker BIOF\n"
     ]
    },
    {
     "name": "stderr",
     "output_type": "stream",
     "text": [
      "Error 200, reqId 773: No security definition has been found for the request, contract: Contract(secType='STK', symbol='DFXI', exchange='SMART', currency='USD')\n",
      "Unknown contract: Contract(secType='STK', symbol='DFXI', exchange='SMART', currency='USD')\n"
     ]
    },
    {
     "name": "stdout",
     "output_type": "stream",
     "text": [
      "no history available for ticker DFXI\n"
     ]
    },
    {
     "name": "stderr",
     "output_type": "stream",
     "text": [
      "Error 200, reqId 784: No security definition has been found for the request, contract: Contract(secType='STK', symbol='HAVT', exchange='SMART', currency='USD')\n",
      "Unknown contract: Contract(secType='STK', symbol='HAVT', exchange='SMART', currency='USD')\n"
     ]
    },
    {
     "name": "stdout",
     "output_type": "stream",
     "text": [
      "no history available for ticker HAVT\n"
     ]
    },
    {
     "name": "stderr",
     "output_type": "stream",
     "text": [
      "Error 200, reqId 785: No security definition has been found for the request, contract: Contract(secType='STK', symbol='CHGO', exchange='SMART', currency='USD')\n",
      "Unknown contract: Contract(secType='STK', symbol='CHGO', exchange='SMART', currency='USD')\n"
     ]
    },
    {
     "name": "stdout",
     "output_type": "stream",
     "text": [
      "no history available for ticker CHGO\n"
     ]
    },
    {
     "name": "stderr",
     "output_type": "stream",
     "text": [
      "Error 200, reqId 792: No security definition has been found for the request, contract: Contract(secType='STK', symbol='CNGR', exchange='SMART', currency='USD')\n",
      "Unknown contract: Contract(secType='STK', symbol='CNGR', exchange='SMART', currency='USD')\n"
     ]
    },
    {
     "name": "stdout",
     "output_type": "stream",
     "text": [
      "no history available for ticker CNGR\n"
     ]
    },
    {
     "name": "stderr",
     "output_type": "stream",
     "text": [
      "Error 200, reqId 797: No security definition has been found for the request, contract: Contract(secType='STK', symbol='RNTA', exchange='SMART', currency='USD')\n",
      "Unknown contract: Contract(secType='STK', symbol='RNTA', exchange='SMART', currency='USD')\n"
     ]
    },
    {
     "name": "stdout",
     "output_type": "stream",
     "text": [
      "no history available for ticker RNTA\n"
     ]
    },
    {
     "name": "stderr",
     "output_type": "stream",
     "text": [
      "Error 200, reqId 802: No security definition has been found for the request, contract: Contract(secType='STK', symbol='ARGNA', exchange='SMART', currency='USD')\n",
      "Unknown contract: Contract(secType='STK', symbol='ARGNA', exchange='SMART', currency='USD')\n"
     ]
    },
    {
     "name": "stdout",
     "output_type": "stream",
     "text": [
      "no history available for ticker ARGNA\n"
     ]
    },
    {
     "name": "stderr",
     "output_type": "stream",
     "text": [
      "Error 200, reqId 809: No security definition has been found for the request, contract: Contract(secType='STK', symbol='DINE', exchange='SMART', currency='USD')\n",
      "Unknown contract: Contract(secType='STK', symbol='DINE', exchange='SMART', currency='USD')\n"
     ]
    },
    {
     "name": "stdout",
     "output_type": "stream",
     "text": [
      "no history available for ticker DINE\n"
     ]
    },
    {
     "name": "stderr",
     "output_type": "stream",
     "text": [
      "Error 200, reqId 814: No security definition has been found for the request, contract: Contract(secType='STK', symbol='GBCOA', exchange='SMART', currency='USD')\n",
      "Unknown contract: Contract(secType='STK', symbol='GBCOA', exchange='SMART', currency='USD')\n",
      "Error 200, reqId 815: No security definition has been found for the request, contract: Contract(secType='STK', symbol='MOVA', exchange='SMART', currency='USD')\n",
      "Unknown contract: Contract(secType='STK', symbol='MOVA', exchange='SMART', currency='USD')\n"
     ]
    },
    {
     "name": "stdout",
     "output_type": "stream",
     "text": [
      "no history available for ticker GBCOA\n",
      "no history available for ticker MOVA\n"
     ]
    },
    {
     "name": "stderr",
     "output_type": "stream",
     "text": [
      "Error 200, reqId 842: No security definition has been found for the request, contract: Contract(secType='STK', symbol='MWD', exchange='SMART', currency='USD')\n",
      "Unknown contract: Contract(secType='STK', symbol='MWD', exchange='SMART', currency='USD')\n",
      "Error 200, reqId 843: No security definition has been found for the request, contract: Contract(secType='STK', symbol='BRKB', exchange='SMART', currency='USD')\n",
      "Unknown contract: Contract(secType='STK', symbol='BRKB', exchange='SMART', currency='USD')\n"
     ]
    },
    {
     "name": "stdout",
     "output_type": "stream",
     "text": [
      "no history available for ticker MWD\n",
      "no history available for ticker BRKB\n"
     ]
    },
    {
     "name": "stderr",
     "output_type": "stream",
     "text": [
      "Error 200, reqId 846: No security definition has been found for the request, contract: Contract(secType='STK', symbol='CMB', exchange='SMART', currency='USD')\n",
      "Unknown contract: Contract(secType='STK', symbol='CMB', exchange='SMART', currency='USD')\n",
      "Error 200, reqId 847: No security definition has been found for the request, contract: Contract(secType='STK', symbol='NB', exchange='SMART', currency='USD')\n",
      "Unknown contract: Contract(secType='STK', symbol='NB', exchange='SMART', currency='USD')\n",
      "Error 200, reqId 848: No security definition has been found for the request, contract: Contract(secType='STK', symbol='BRKA', exchange='SMART', currency='USD')\n",
      "Unknown contract: Contract(secType='STK', symbol='BRKA', exchange='SMART', currency='USD')\n",
      "Error 200, reqId 849: No security definition has been found for the request, contract: Contract(secType='STK', symbol='NOB', exchange='SMART', currency='USD')\n",
      "Unknown contract: Contract(secType='STK', symbol='NOB', exchange='SMART', currency='USD')\n"
     ]
    },
    {
     "name": "stdout",
     "output_type": "stream",
     "text": [
      "no history available for ticker CMB\n",
      "no history available for ticker NB\n",
      "no history available for ticker BRKA\n",
      "no history available for ticker NOB\n"
     ]
    },
    {
     "name": "stderr",
     "output_type": "stream",
     "text": [
      "Error 200, reqId 850: No security definition has been found for the request, contract: Contract(secType='STK', symbol='MHP', exchange='SMART', currency='USD')\n",
      "Unknown contract: Contract(secType='STK', symbol='MHP', exchange='SMART', currency='USD')\n"
     ]
    },
    {
     "name": "stdout",
     "output_type": "stream",
     "text": [
      "no history available for ticker MHP\n"
     ]
    },
    {
     "name": "stderr",
     "output_type": "stream",
     "text": [
      "Error 200, reqId 861: No security definition has been found for the request, contract: Contract(secType='STK', symbol='SCH', exchange='SMART', currency='USD')\n",
      "Unknown contract: Contract(secType='STK', symbol='SCH', exchange='SMART', currency='USD')\n"
     ]
    },
    {
     "name": "stdout",
     "output_type": "stream",
     "text": [
      "no history available for ticker SCH\n"
     ]
    },
    {
     "name": "stderr",
     "output_type": "stream",
     "text": [
      "Error 200, reqId 864: No security definition has been found for the request, contract: Contract(secType='STK', symbol='AOC', exchange='SMART', currency='USD')\n",
      "Unknown contract: Contract(secType='STK', symbol='AOC', exchange='SMART', currency='USD')\n"
     ]
    },
    {
     "name": "stdout",
     "output_type": "stream",
     "text": [
      "no history available for ticker AOC\n"
     ]
    },
    {
     "name": "stderr",
     "output_type": "stream",
     "text": [
      "Error 200, reqId 867: No security definition has been found for the request, contract: Contract(secType='STK', symbol='ACL', exchange='SMART', currency='USD')\n",
      "Unknown contract: Contract(secType='STK', symbol='ACL', exchange='SMART', currency='USD')\n"
     ]
    },
    {
     "name": "stdout",
     "output_type": "stream",
     "text": [
      "no history available for ticker ACL\n"
     ]
    },
    {
     "name": "stderr",
     "output_type": "stream",
     "text": [
      "Error 200, reqId 898: No security definition has been found for the request, contract: Contract(secType='STK', symbol='RGBK', exchange='SMART', currency='USD')\n",
      "Unknown contract: Contract(secType='STK', symbol='RGBK', exchange='SMART', currency='USD')\n"
     ]
    },
    {
     "name": "stdout",
     "output_type": "stream",
     "text": [
      "no history available for ticker RGBK\n"
     ]
    },
    {
     "name": "stderr",
     "output_type": "stream",
     "text": [
      "Error 200, reqId 921: No security definition has been found for the request, contract: Contract(secType='STK', symbol='SPC', exchange='SMART', currency='USD')\n",
      "Unknown contract: Contract(secType='STK', symbol='SPC', exchange='SMART', currency='USD')\n"
     ]
    },
    {
     "name": "stdout",
     "output_type": "stream",
     "text": [
      "no history available for ticker SPC\n"
     ]
    },
    {
     "name": "stderr",
     "output_type": "stream",
     "text": [
      "Error 200, reqId 958: No security definition has been found for the request, contract: Contract(secType='STK', symbol='AVZ', exchange='SMART', currency='USD')\n",
      "Unknown contract: Contract(secType='STK', symbol='AVZ', exchange='SMART', currency='USD')\n"
     ]
    },
    {
     "name": "stdout",
     "output_type": "stream",
     "text": [
      "no history available for ticker AVZ\n"
     ]
    },
    {
     "name": "stderr",
     "output_type": "stream",
     "text": [
      "Error 200, reqId 961: No security definition has been found for the request, contract: Contract(secType='STK', symbol='FES', exchange='SMART', currency='USD')\n",
      "Unknown contract: Contract(secType='STK', symbol='FES', exchange='SMART', currency='USD')\n"
     ]
    },
    {
     "name": "stdout",
     "output_type": "stream",
     "text": [
      "no history available for ticker FES\n"
     ]
    },
    {
     "name": "stderr",
     "output_type": "stream",
     "text": [
      "Error 200, reqId 966: No security definition has been found for the request, contract: Contract(secType='STK', symbol='MXB', exchange='SMART', currency='USD')\n",
      "Unknown contract: Contract(secType='STK', symbol='MXB', exchange='SMART', currency='USD')\n"
     ]
    },
    {
     "name": "stdout",
     "output_type": "stream",
     "text": [
      "no history available for ticker MXB\n"
     ]
    },
    {
     "name": "stderr",
     "output_type": "stream",
     "text": [
      "Error 200, reqId 975: No security definition has been found for the request, contract: Contract(secType='STK', symbol='HBC', exchange='SMART', currency='USD')\n",
      "Unknown contract: Contract(secType='STK', symbol='HBC', exchange='SMART', currency='USD')\n"
     ]
    },
    {
     "name": "stdout",
     "output_type": "stream",
     "text": [
      "no history available for ticker HBC\n"
     ]
    },
    {
     "name": "stderr",
     "output_type": "stream",
     "text": [
      "Error 200, reqId 1006: No security definition has been found for the request, contract: Contract(secType='STK', symbol='FTEN', exchange='SMART', currency='USD')\n",
      "Unknown contract: Contract(secType='STK', symbol='FTEN', exchange='SMART', currency='USD')\n"
     ]
    },
    {
     "name": "stdout",
     "output_type": "stream",
     "text": [
      "no history available for ticker FTEN\n"
     ]
    },
    {
     "name": "stderr",
     "output_type": "stream",
     "text": [
      "Error 200, reqId 1023: No security definition has been found for the request, contract: Contract(secType='STK', symbol='QCSB', exchange='SMART', currency='USD')\n",
      "Unknown contract: Contract(secType='STK', symbol='QCSB', exchange='SMART', currency='USD')\n"
     ]
    },
    {
     "name": "stdout",
     "output_type": "stream",
     "text": [
      "no history available for ticker QCSB\n"
     ]
    },
    {
     "name": "stderr",
     "output_type": "stream",
     "text": [
      "Error 200, reqId 1028: No security definition has been found for the request, contract: Contract(secType='STK', symbol='FNT', exchange='SMART', currency='USD')\n",
      "Unknown contract: Contract(secType='STK', symbol='FNT', exchange='SMART', currency='USD')\n"
     ]
    },
    {
     "name": "stdout",
     "output_type": "stream",
     "text": [
      "no history available for ticker FNT\n"
     ]
    },
    {
     "name": "stderr",
     "output_type": "stream",
     "text": [
      "Error 200, reqId 1031: No security definition has been found for the request, contract: Contract(secType='STK', symbol='PBCP', exchange='SMART', currency='USD')\n",
      "Unknown contract: Contract(secType='STK', symbol='PBCP', exchange='SMART', currency='USD')\n"
     ]
    },
    {
     "name": "stdout",
     "output_type": "stream",
     "text": [
      "no history available for ticker PBCP\n"
     ]
    },
    {
     "name": "stderr",
     "output_type": "stream",
     "text": [
      "Error 200, reqId 1038: No security definition has been found for the request, contract: Contract(secType='STK', symbol='GHIV', exchange='SMART', currency='USD')\n",
      "Unknown contract: Contract(secType='STK', symbol='GHIV', exchange='SMART', currency='USD')\n"
     ]
    },
    {
     "name": "stdout",
     "output_type": "stream",
     "text": [
      "no history available for ticker GHIV\n"
     ]
    },
    {
     "name": "stderr",
     "output_type": "stream",
     "text": [
      "Error 200, reqId 1043: No security definition has been found for the request, contract: Contract(secType='STK', symbol='WBST', exchange='SMART', currency='USD')\n",
      "Unknown contract: Contract(secType='STK', symbol='WBST', exchange='SMART', currency='USD')\n",
      "Error 200, reqId 1044: No security definition has been found for the request, contract: Contract(secType='STK', symbol='CHFC', exchange='SMART', currency='USD')\n",
      "Unknown contract: Contract(secType='STK', symbol='CHFC', exchange='SMART', currency='USD')\n"
     ]
    },
    {
     "name": "stdout",
     "output_type": "stream",
     "text": [
      "no history available for ticker WBST\n",
      "no history available for ticker CHFC\n"
     ]
    },
    {
     "name": "stderr",
     "output_type": "stream",
     "text": [
      "Error 200, reqId 1055: No security definition has been found for the request, contract: Contract(secType='STK', symbol='RCHI', exchange='SMART', currency='USD')\n",
      "Unknown contract: Contract(secType='STK', symbol='RCHI', exchange='SMART', currency='USD')\n"
     ]
    },
    {
     "name": "stdout",
     "output_type": "stream",
     "text": [
      "no history available for ticker RCHI\n"
     ]
    },
    {
     "name": "stderr",
     "output_type": "stream",
     "text": [
      "Error 200, reqId 1064: No security definition has been found for the request, contract: Contract(secType='STK', symbol='LUK', exchange='SMART', currency='USD')\n",
      "Unknown contract: Contract(secType='STK', symbol='LUK', exchange='SMART', currency='USD')\n",
      "Error 200, reqId 1065: No security definition has been found for the request, contract: Contract(secType='STK', symbol='LTR', exchange='SMART', currency='USD')\n",
      "Unknown contract: Contract(secType='STK', symbol='LTR', exchange='SMART', currency='USD')\n"
     ]
    },
    {
     "name": "stdout",
     "output_type": "stream",
     "text": [
      "no history available for ticker LUK\n",
      "no history available for ticker LTR\n"
     ]
    },
    {
     "name": "stderr",
     "output_type": "stream",
     "text": [
      "Error 200, reqId 1076: No security definition has been found for the request, contract: Contract(secType='STK', symbol='ESPD', exchange='SMART', currency='USD')\n",
      "Unknown contract: Contract(secType='STK', symbol='ESPD', exchange='SMART', currency='USD')\n",
      "Error 200, reqId 1077: No security definition has been found for the request, contract: Contract(secType='STK', symbol='BKLY', exchange='SMART', currency='USD')\n",
      "Unknown contract: Contract(secType='STK', symbol='BKLY', exchange='SMART', currency='USD')\n"
     ]
    },
    {
     "name": "stdout",
     "output_type": "stream",
     "text": [
      "no history available for ticker ESPD\n",
      "no history available for ticker BKLY\n"
     ]
    },
    {
     "name": "stderr",
     "output_type": "stream",
     "text": [
      "Error 200, reqId 1084: No security definition has been found for the request, contract: Contract(secType='STK', symbol='TMK', exchange='SMART', currency='USD')\n",
      "Unknown contract: Contract(secType='STK', symbol='TMK', exchange='SMART', currency='USD')\n"
     ]
    },
    {
     "name": "stdout",
     "output_type": "stream",
     "text": [
      "no history available for ticker TMK\n"
     ]
    },
    {
     "name": "stderr",
     "output_type": "stream",
     "text": [
      "Error 200, reqId 1103: No security definition has been found for the request, contract: Contract(secType='STK', symbol='MCMC', exchange='SMART', currency='USD')\n",
      "Unknown contract: Contract(secType='STK', symbol='MCMC', exchange='SMART', currency='USD')\n"
     ]
    },
    {
     "name": "stdout",
     "output_type": "stream",
     "text": [
      "no history available for ticker MCMC\n"
     ]
    },
    {
     "name": "stderr",
     "output_type": "stream",
     "text": [
      "Error 200, reqId 1110: No security definition has been found for the request, contract: Contract(secType='STK', symbol='NAVIV', exchange='SMART', currency='USD')\n",
      "Unknown contract: Contract(secType='STK', symbol='NAVIV', exchange='SMART', currency='USD')\n",
      "Error 200, reqId 1111: No security definition has been found for the request, contract: Contract(secType='STK', symbol='COWND', exchange='SMART', currency='USD')\n",
      "Unknown contract: Contract(secType='STK', symbol='COWND', exchange='SMART', currency='USD')\n"
     ]
    },
    {
     "name": "stdout",
     "output_type": "stream",
     "text": [
      "no history available for ticker NAVIV\n",
      "no history available for ticker COWND\n"
     ]
    },
    {
     "name": "stderr",
     "output_type": "stream",
     "text": [
      "Error 200, reqId 1122: No security definition has been found for the request, contract: Contract(secType='STK', symbol='PRSP', exchange='SMART', currency='USD')\n",
      "Unknown contract: Contract(secType='STK', symbol='PRSP', exchange='SMART', currency='USD')\n"
     ]
    },
    {
     "name": "stdout",
     "output_type": "stream",
     "text": [
      "no history available for ticker PRSP\n"
     ]
    },
    {
     "name": "stderr",
     "output_type": "stream",
     "text": [
      "Error 200, reqId 1131: No security definition has been found for the request, contract: Contract(secType='STK', symbol='OZRK', exchange='SMART', currency='USD')\n",
      "Unknown contract: Contract(secType='STK', symbol='OZRK', exchange='SMART', currency='USD')\n",
      "Error 200, reqId 1132: No security definition has been found for the request, contract: Contract(secType='STK', symbol='FNC', exchange='SMART', currency='USD')\n",
      "Unknown contract: Contract(secType='STK', symbol='FNC', exchange='SMART', currency='USD')\n"
     ]
    },
    {
     "name": "stdout",
     "output_type": "stream",
     "text": [
      "no history available for ticker OZRK\n",
      "no history available for ticker FNC\n"
     ]
    },
    {
     "name": "stderr",
     "output_type": "stream",
     "text": [
      "Error 200, reqId 1143: No security definition has been found for the request, contract: Contract(secType='STK', symbol='FSIC', exchange='SMART', currency='USD')\n",
      "Unknown contract: Contract(secType='STK', symbol='FSIC', exchange='SMART', currency='USD')\n"
     ]
    },
    {
     "name": "stdout",
     "output_type": "stream",
     "text": [
      "no history available for ticker FSIC\n"
     ]
    },
    {
     "name": "stderr",
     "output_type": "stream",
     "text": [
      "Error 200, reqId 1150: No security definition has been found for the request, contract: Contract(secType='STK', symbol='SLC', exchange='SMART', currency='USD')\n",
      "Unknown contract: Contract(secType='STK', symbol='SLC', exchange='SMART', currency='USD')\n"
     ]
    },
    {
     "name": "stdout",
     "output_type": "stream",
     "text": [
      "no history available for ticker SLC\n"
     ]
    },
    {
     "name": "stderr",
     "output_type": "stream",
     "text": [
      "Error 200, reqId 1155: No security definition has been found for the request, contract: Contract(secType='STK', symbol='BHFWV', exchange='SMART', currency='USD')\n",
      "Unknown contract: Contract(secType='STK', symbol='BHFWV', exchange='SMART', currency='USD')\n"
     ]
    },
    {
     "name": "stdout",
     "output_type": "stream",
     "text": [
      "no history available for ticker BHFWV\n"
     ]
    },
    {
     "name": "stderr",
     "output_type": "stream",
     "text": [
      "Error 200, reqId 1158: No security definition has been found for the request, contract: Contract(secType='STK', symbol='AFC', exchange='SMART', currency='USD')\n",
      "Unknown contract: Contract(secType='STK', symbol='AFC', exchange='SMART', currency='USD')\n"
     ]
    },
    {
     "name": "stdout",
     "output_type": "stream",
     "text": [
      "no history available for ticker AFC\n"
     ]
    },
    {
     "name": "stderr",
     "output_type": "stream",
     "text": [
      "Error 200, reqId 1163: No security definition has been found for the request, contract: Contract(secType='STK', symbol='FBAN', exchange='SMART', currency='USD')\n",
      "Unknown contract: Contract(secType='STK', symbol='FBAN', exchange='SMART', currency='USD')\n",
      "Error 200, reqId 1164: No security definition has been found for the request, contract: Contract(secType='STK', symbol='BBV', exchange='SMART', currency='USD')\n",
      "Unknown contract: Contract(secType='STK', symbol='BBV', exchange='SMART', currency='USD')\n"
     ]
    },
    {
     "name": "stdout",
     "output_type": "stream",
     "text": [
      "no history available for ticker FBAN\n",
      "no history available for ticker BBV\n"
     ]
    },
    {
     "name": "stderr",
     "output_type": "stream",
     "text": [
      "Error 200, reqId 1199: No security definition has been found for the request, contract: Contract(secType='STK', symbol='TYP', exchange='SMART', currency='USD')\n",
      "Unknown contract: Contract(secType='STK', symbol='TYP', exchange='SMART', currency='USD')\n"
     ]
    },
    {
     "name": "stdout",
     "output_type": "stream",
     "text": [
      "no history available for ticker TYP\n"
     ]
    },
    {
     "name": "stderr",
     "output_type": "stream",
     "text": [
      "Error 200, reqId 1220: No security definition has been found for the request, contract: Contract(secType='STK', symbol='FLGS', exchange='SMART', currency='USD')\n",
      "Unknown contract: Contract(secType='STK', symbol='FLGS', exchange='SMART', currency='USD')\n"
     ]
    },
    {
     "name": "stdout",
     "output_type": "stream",
     "text": [
      "no history available for ticker FLGS\n"
     ]
    },
    {
     "name": "stderr",
     "output_type": "stream",
     "text": [
      "Error 200, reqId 1237: No security definition has been found for the request, contract: Contract(secType='STK', symbol='HBHC', exchange='SMART', currency='USD')\n",
      "Unknown contract: Contract(secType='STK', symbol='HBHC', exchange='SMART', currency='USD')\n"
     ]
    },
    {
     "name": "stdout",
     "output_type": "stream",
     "text": [
      "no history available for ticker HBHC\n"
     ]
    },
    {
     "name": "stderr",
     "output_type": "stream",
     "text": [
      "Error 200, reqId 1278: No security definition has been found for the request, contract: Contract(secType='STK', symbol='NARA', exchange='SMART', currency='USD')\n",
      "Unknown contract: Contract(secType='STK', symbol='NARA', exchange='SMART', currency='USD')\n"
     ]
    },
    {
     "name": "stdout",
     "output_type": "stream",
     "text": [
      "no history available for ticker NARA\n"
     ]
    },
    {
     "name": "stderr",
     "output_type": "stream",
     "text": [
      "Error 200, reqId 1283: No security definition has been found for the request, contract: Contract(secType='STK', symbol='PAWN', exchange='SMART', currency='USD')\n",
      "Unknown contract: Contract(secType='STK', symbol='PAWN', exchange='SMART', currency='USD')\n",
      "Error 200, reqId 1284: No security definition has been found for the request, contract: Contract(secType='STK', symbol='LFCO', exchange='SMART', currency='USD')\n",
      "Unknown contract: Contract(secType='STK', symbol='LFCO', exchange='SMART', currency='USD')\n"
     ]
    },
    {
     "name": "stdout",
     "output_type": "stream",
     "text": [
      "no history available for ticker PAWN\n",
      "no history available for ticker LFCO\n"
     ]
    },
    {
     "name": "stderr",
     "output_type": "stream",
     "text": [
      "Error 200, reqId 1289: No security definition has been found for the request, contract: Contract(secType='STK', symbol='BOFI', exchange='SMART', currency='USD')\n",
      "Unknown contract: Contract(secType='STK', symbol='BOFI', exchange='SMART', currency='USD')\n"
     ]
    },
    {
     "name": "stdout",
     "output_type": "stream",
     "text": [
      "no history available for ticker BOFI\n"
     ]
    },
    {
     "name": "stderr",
     "output_type": "stream",
     "text": [
      "Error 200, reqId 1308: No security definition has been found for the request, contract: Contract(secType='STK', symbol='TBBKD', exchange='SMART', currency='USD')\n",
      "Unknown contract: Contract(secType='STK', symbol='TBBKD', exchange='SMART', currency='USD')\n"
     ]
    },
    {
     "name": "stdout",
     "output_type": "stream",
     "text": [
      "no history available for ticker TBBKD\n"
     ]
    },
    {
     "name": "stderr",
     "output_type": "stream",
     "text": [
      "Error 200, reqId 1315: No security definition has been found for the request, contract: Contract(secType='STK', symbol='WFSL', exchange='SMART', currency='USD')\n",
      "Unknown contract: Contract(secType='STK', symbol='WFSL', exchange='SMART', currency='USD')\n"
     ]
    },
    {
     "name": "stdout",
     "output_type": "stream",
     "text": [
      "no history available for ticker WFSL\n"
     ]
    },
    {
     "name": "stderr",
     "output_type": "stream",
     "text": [
      "Error 200, reqId 1318: No security definition has been found for the request, contract: Contract(secType='STK', symbol='OLDB', exchange='SMART', currency='USD')\n",
      "Unknown contract: Contract(secType='STK', symbol='OLDB', exchange='SMART', currency='USD')\n"
     ]
    },
    {
     "name": "stdout",
     "output_type": "stream",
     "text": [
      "no history available for ticker OLDB\n"
     ]
    },
    {
     "name": "stderr",
     "output_type": "stream",
     "text": [
      "Error 200, reqId 1327: No security definition has been found for the request, contract: Contract(secType='STK', symbol='FWWB', exchange='SMART', currency='USD')\n",
      "Unknown contract: Contract(secType='STK', symbol='FWWB', exchange='SMART', currency='USD')\n"
     ]
    },
    {
     "name": "stdout",
     "output_type": "stream",
     "text": [
      "no history available for ticker FWWB\n"
     ]
    },
    {
     "name": "stderr",
     "output_type": "stream",
     "text": [
      "Error 200, reqId 1338: No security definition has been found for the request, contract: Contract(secType='STK', symbol='BHL', exchange='SMART', currency='USD')\n",
      "Unknown contract: Contract(secType='STK', symbol='BHL', exchange='SMART', currency='USD')\n"
     ]
    },
    {
     "name": "stdout",
     "output_type": "stream",
     "text": [
      "no history available for ticker BHL\n"
     ]
    },
    {
     "name": "stderr",
     "output_type": "stream",
     "text": [
      "Error 200, reqId 1343: No security definition has been found for the request, contract: Contract(secType='STK', symbol='STD', exchange='SMART', currency='USD')\n",
      "Unknown contract: Contract(secType='STK', symbol='STD', exchange='SMART', currency='USD')\n"
     ]
    },
    {
     "name": "stdout",
     "output_type": "stream",
     "text": [
      "no history available for ticker STD\n"
     ]
    },
    {
     "name": "stderr",
     "output_type": "stream",
     "text": [
      "Error 200, reqId 1346: No security definition has been found for the request, contract: Contract(secType='STK', symbol='SFNCA', exchange='SMART', currency='USD')\n",
      "Unknown contract: Contract(secType='STK', symbol='SFNCA', exchange='SMART', currency='USD')\n"
     ]
    },
    {
     "name": "stdout",
     "output_type": "stream",
     "text": [
      "no history available for ticker SFNCA\n"
     ]
    },
    {
     "name": "stderr",
     "output_type": "stream",
     "text": [
      "Error 200, reqId 1371: No security definition has been found for the request, contract: Contract(secType='STK', symbol='ESGRD', exchange='SMART', currency='USD')\n",
      "Unknown contract: Contract(secType='STK', symbol='ESGRD', exchange='SMART', currency='USD')\n"
     ]
    },
    {
     "name": "stdout",
     "output_type": "stream",
     "text": [
      "no history available for ticker ESGRD\n"
     ]
    },
    {
     "name": "stderr",
     "output_type": "stream",
     "text": [
      "Error 200, reqId 1384: No security definition has been found for the request, contract: Contract(secType='STK', symbol='PHC', exchange='SMART', currency='USD')\n",
      "Unknown contract: Contract(secType='STK', symbol='PHC', exchange='SMART', currency='USD')\n"
     ]
    },
    {
     "name": "stdout",
     "output_type": "stream",
     "text": [
      "no history available for ticker PHC\n"
     ]
    },
    {
     "name": "stderr",
     "output_type": "stream",
     "text": [
      "Error 200, reqId 1387: No security definition has been found for the request, contract: Contract(secType='STK', symbol='JWS', exchange='SMART', currency='USD')\n",
      "Unknown contract: Contract(secType='STK', symbol='JWS', exchange='SMART', currency='USD')\n"
     ]
    },
    {
     "name": "stdout",
     "output_type": "stream",
     "text": [
      "no history available for ticker JWS\n"
     ]
    },
    {
     "name": "stderr",
     "output_type": "stream",
     "text": [
      "Error 200, reqId 1414: No security definition has been found for the request, contract: Contract(secType='STK', symbol='FAMCK', exchange='SMART', currency='USD')\n",
      "Unknown contract: Contract(secType='STK', symbol='FAMCK', exchange='SMART', currency='USD')\n",
      "Error 200, reqId 1415: No security definition has been found for the request, contract: Contract(secType='STK', symbol='INDI', exchange='SMART', currency='USD')\n",
      "Unknown contract: Contract(secType='STK', symbol='INDI', exchange='SMART', currency='USD')\n"
     ]
    },
    {
     "name": "stdout",
     "output_type": "stream",
     "text": [
      "no history available for ticker FAMCK\n",
      "no history available for ticker INDI\n"
     ]
    },
    {
     "name": "stderr",
     "output_type": "stream",
     "text": [
      "Error 200, reqId 1418: No security definition has been found for the request, contract: Contract(secType='STK', symbol='OMAM', exchange='SMART', currency='USD')\n",
      "Unknown contract: Contract(secType='STK', symbol='OMAM', exchange='SMART', currency='USD')\n",
      "Error 200, reqId 1419: No security definition has been found for the request, contract: Contract(secType='STK', symbol='UBSH', exchange='SMART', currency='USD')\n",
      "Unknown contract: Contract(secType='STK', symbol='UBSH', exchange='SMART', currency='USD')\n"
     ]
    },
    {
     "name": "stdout",
     "output_type": "stream",
     "text": [
      "no history available for ticker OMAM\n",
      "no history available for ticker UBSH\n"
     ]
    },
    {
     "name": "stderr",
     "output_type": "stream",
     "text": [
      "Error 200, reqId 1426: No security definition has been found for the request, contract: Contract(secType='STK', symbol='FSC', exchange='SMART', currency='USD')\n",
      "Unknown contract: Contract(secType='STK', symbol='FSC', exchange='SMART', currency='USD')\n",
      "Error 200, reqId 1427: No security definition has been found for the request, contract: Contract(secType='STK', symbol='PXT', exchange='SMART', currency='USD')\n",
      "Unknown contract: Contract(secType='STK', symbol='PXT', exchange='SMART', currency='USD')\n"
     ]
    },
    {
     "name": "stdout",
     "output_type": "stream",
     "text": [
      "no history available for ticker FSC\n",
      "no history available for ticker PXT\n"
     ]
    },
    {
     "name": "stderr",
     "output_type": "stream",
     "text": [
      "Error 200, reqId 1434: No security definition has been found for the request, contract: Contract(secType='STK', symbol='CVB', exchange='SMART', currency='USD')\n",
      "Unknown contract: Contract(secType='STK', symbol='CVB', exchange='SMART', currency='USD')\n"
     ]
    },
    {
     "name": "stdout",
     "output_type": "stream",
     "text": [
      "no history available for ticker CVB\n"
     ]
    },
    {
     "name": "stderr",
     "output_type": "stream",
     "text": [
      "Error 200, reqId 1441: No security definition has been found for the request, contract: Contract(secType='STK', symbol='NWSB', exchange='SMART', currency='USD')\n",
      "Unknown contract: Contract(secType='STK', symbol='NWSB', exchange='SMART', currency='USD')\n"
     ]
    },
    {
     "name": "stdout",
     "output_type": "stream",
     "text": [
      "no history available for ticker NWSB\n"
     ]
    },
    {
     "name": "stderr",
     "output_type": "stream",
     "text": [
      "Error 200, reqId 1452: No security definition has been found for the request, contract: Contract(secType='STK', symbol='AMB', exchange='SMART', currency='USD')\n",
      "Unknown contract: Contract(secType='STK', symbol='AMB', exchange='SMART', currency='USD')\n",
      "Error 200, reqId 1453: No security definition has been found for the request, contract: Contract(secType='STK', symbol='TWRS', exchange='SMART', currency='USD')\n",
      "Unknown contract: Contract(secType='STK', symbol='TWRS', exchange='SMART', currency='USD')\n"
     ]
    },
    {
     "name": "stdout",
     "output_type": "stream",
     "text": [
      "no history available for ticker AMB\n",
      "no history available for ticker TWRS\n"
     ]
    },
    {
     "name": "stderr",
     "output_type": "stream",
     "text": [
      "Error 200, reqId 1460: No security definition has been found for the request, contract: Contract(secType='STK', symbol='EQIXD', exchange='SMART', currency='USD')\n",
      "Unknown contract: Contract(secType='STK', symbol='EQIXD', exchange='SMART', currency='USD')\n"
     ]
    },
    {
     "name": "stdout",
     "output_type": "stream",
     "text": [
      "no history available for ticker EQIXD\n"
     ]
    },
    {
     "name": "stderr",
     "output_type": "stream",
     "text": [
      "Error 200, reqId 1463: No security definition has been found for the request, contract: Contract(secType='STK', symbol='BYA', exchange='SMART', currency='USD')\n",
      "Unknown contract: Contract(secType='STK', symbol='BYA', exchange='SMART', currency='USD')\n"
     ]
    },
    {
     "name": "stdout",
     "output_type": "stream",
     "text": [
      "no history available for ticker BYA\n"
     ]
    },
    {
     "name": "stderr",
     "output_type": "stream",
     "text": [
      "Error 200, reqId 1472: No security definition has been found for the request, contract: Contract(secType='STK', symbol='RIGX', exchange='SMART', currency='USD')\n",
      "Unknown contract: Contract(secType='STK', symbol='RIGX', exchange='SMART', currency='USD')\n"
     ]
    },
    {
     "name": "stdout",
     "output_type": "stream",
     "text": [
      "no history available for ticker RIGX\n"
     ]
    },
    {
     "name": "stderr",
     "output_type": "stream",
     "text": [
      "Error 200, reqId 1479: No security definition has been found for the request, contract: Contract(secType='STK', symbol='HCN', exchange='SMART', currency='USD')\n",
      "Unknown contract: Contract(secType='STK', symbol='HCN', exchange='SMART', currency='USD')\n"
     ]
    },
    {
     "name": "stdout",
     "output_type": "stream",
     "text": [
      "no history available for ticker HCN\n"
     ]
    },
    {
     "name": "stderr",
     "output_type": "stream",
     "text": [
      "Error 200, reqId 1484: No security definition has been found for the request, contract: Contract(secType='STK', symbol='ARCP', exchange='SMART', currency='USD')\n",
      "Unknown contract: Contract(secType='STK', symbol='ARCP', exchange='SMART', currency='USD')\n"
     ]
    },
    {
     "name": "stdout",
     "output_type": "stream",
     "text": [
      "no history available for ticker ARCP\n"
     ]
    },
    {
     "name": "stderr",
     "output_type": "stream",
     "text": [
      "Error 200, reqId 1509: No security definition has been found for the request, contract: Contract(secType='STK', symbol='MHC', exchange='SMART', currency='USD')\n",
      "Unknown contract: Contract(secType='STK', symbol='MHC', exchange='SMART', currency='USD')\n"
     ]
    },
    {
     "name": "stdout",
     "output_type": "stream",
     "text": [
      "no history available for ticker MHC\n"
     ]
    },
    {
     "name": "stderr",
     "output_type": "stream",
     "text": [
      "Error 200, reqId 1512: No security definition has been found for the request, contract: Contract(secType='STK', symbol='LAP', exchange='SMART', currency='USD')\n",
      "Unknown contract: Contract(secType='STK', symbol='LAP', exchange='SMART', currency='USD')\n"
     ]
    },
    {
     "name": "stdout",
     "output_type": "stream",
     "text": [
      "no history available for ticker LAP\n"
     ]
    },
    {
     "name": "stderr",
     "output_type": "stream",
     "text": [
      "Error 200, reqId 1515: No security definition has been found for the request, contract: Contract(secType='STK', symbol='IMTN', exchange='SMART', currency='USD')\n",
      "Unknown contract: Contract(secType='STK', symbol='IMTN', exchange='SMART', currency='USD')\n"
     ]
    },
    {
     "name": "stdout",
     "output_type": "stream",
     "text": [
      "no history available for ticker IMTN\n"
     ]
    },
    {
     "name": "stderr",
     "output_type": "stream",
     "text": [
      "Error 200, reqId 1522: No security definition has been found for the request, contract: Contract(secType='STK', symbol='YSI', exchange='SMART', currency='USD')\n",
      "Unknown contract: Contract(secType='STK', symbol='YSI', exchange='SMART', currency='USD')\n"
     ]
    },
    {
     "name": "stdout",
     "output_type": "stream",
     "text": [
      "no history available for ticker YSI\n"
     ]
    },
    {
     "name": "stderr",
     "output_type": "stream",
     "text": [
      "Error 200, reqId 1561: No security definition has been found for the request, contract: Contract(secType='STK', symbol='CBSO', exchange='SMART', currency='USD')\n",
      "Unknown contract: Contract(secType='STK', symbol='CBSO', exchange='SMART', currency='USD')\n",
      "Error 200, reqId 1562: No security definition has been found for the request, contract: Contract(secType='STK', symbol='SUNH', exchange='SMART', currency='USD')\n",
      "Unknown contract: Contract(secType='STK', symbol='SUNH', exchange='SMART', currency='USD')\n"
     ]
    },
    {
     "name": "stdout",
     "output_type": "stream",
     "text": [
      "no history available for ticker CBSO\n",
      "no history available for ticker SUNH\n"
     ]
    },
    {
     "name": "stderr",
     "output_type": "stream",
     "text": [
      "Error 200, reqId 1583: No security definition has been found for the request, contract: Contract(secType='STK', symbol='GLPIV', exchange='SMART', currency='USD')\n",
      "Unknown contract: Contract(secType='STK', symbol='GLPIV', exchange='SMART', currency='USD')\n"
     ]
    },
    {
     "name": "stdout",
     "output_type": "stream",
     "text": [
      "no history available for ticker GLPIV\n"
     ]
    },
    {
     "name": "stderr",
     "output_type": "stream",
     "text": [
      "Error 200, reqId 1586: No security definition has been found for the request, contract: Contract(secType='STK', symbol='STIR', exchange='SMART', currency='USD')\n",
      "Unknown contract: Contract(secType='STK', symbol='STIR', exchange='SMART', currency='USD')\n"
     ]
    },
    {
     "name": "stdout",
     "output_type": "stream",
     "text": [
      "no history available for ticker STIR\n"
     ]
    },
    {
     "name": "stderr",
     "output_type": "stream",
     "text": [
      "Error 200, reqId 1601: No security definition has been found for the request, contract: Contract(secType='STK', symbol='CT', exchange='SMART', currency='USD')\n",
      "Unknown contract: Contract(secType='STK', symbol='CT', exchange='SMART', currency='USD')\n"
     ]
    },
    {
     "name": "stdout",
     "output_type": "stream",
     "text": [
      "no history available for ticker CT\n"
     ]
    },
    {
     "name": "stderr",
     "output_type": "stream",
     "text": [
      "Error 200, reqId 1614: No security definition has been found for the request, contract: Contract(secType='STK', symbol='COPT', exchange='SMART', currency='USD')\n",
      "Unknown contract: Contract(secType='STK', symbol='COPT', exchange='SMART', currency='USD')\n"
     ]
    },
    {
     "name": "stdout",
     "output_type": "stream",
     "text": [
      "no history available for ticker COPT\n"
     ]
    },
    {
     "name": "stderr",
     "output_type": "stream",
     "text": [
      "Error 200, reqId 1625: No security definition has been found for the request, contract: Contract(secType='STK', symbol='HRP', exchange='SMART', currency='USD')\n",
      "Unknown contract: Contract(secType='STK', symbol='HRP', exchange='SMART', currency='USD')\n"
     ]
    },
    {
     "name": "stdout",
     "output_type": "stream",
     "text": [
      "no history available for ticker HRP\n"
     ]
    },
    {
     "name": "stderr",
     "output_type": "stream",
     "text": [
      "Error 200, reqId 1628: No security definition has been found for the request, contract: Contract(secType='STK', symbol='WHC', exchange='SMART', currency='USD')\n",
      "Unknown contract: Contract(secType='STK', symbol='WHC', exchange='SMART', currency='USD')\n"
     ]
    },
    {
     "name": "stdout",
     "output_type": "stream",
     "text": [
      "no history available for ticker WHC\n"
     ]
    },
    {
     "name": "stderr",
     "output_type": "stream",
     "text": [
      "Error 200, reqId 1631: No security definition has been found for the request, contract: Contract(secType='STK', symbol='DDR', exchange='SMART', currency='USD')\n",
      "Unknown contract: Contract(secType='STK', symbol='DDR', exchange='SMART', currency='USD')\n"
     ]
    },
    {
     "name": "stdout",
     "output_type": "stream",
     "text": [
      "no history available for ticker DDR\n"
     ]
    },
    {
     "name": "stderr",
     "output_type": "stream",
     "text": [
      "Error 200, reqId 1638: No security definition has been found for the request, contract: Contract(secType='STK', symbol='GET', exchange='SMART', currency='USD')\n",
      "Unknown contract: Contract(secType='STK', symbol='GET', exchange='SMART', currency='USD')\n"
     ]
    },
    {
     "name": "stdout",
     "output_type": "stream",
     "text": [
      "no history available for ticker GET\n"
     ]
    },
    {
     "name": "stderr",
     "output_type": "stream",
     "text": [
      "Error 200, reqId 1649: No security definition has been found for the request, contract: Contract(secType='STK', symbol='CSALV', exchange='SMART', currency='USD')\n",
      "Unknown contract: Contract(secType='STK', symbol='CSALV', exchange='SMART', currency='USD')\n"
     ]
    },
    {
     "name": "stdout",
     "output_type": "stream",
     "text": [
      "no history available for ticker CSALV\n"
     ]
    },
    {
     "name": "stderr",
     "output_type": "stream",
     "text": [
      "Error 200, reqId 1668: No security definition has been found for the request, contract: Contract(secType='STK', symbol='PSM', exchange='SMART', currency='USD')\n",
      "Unknown contract: Contract(secType='STK', symbol='PSM', exchange='SMART', currency='USD')\n"
     ]
    },
    {
     "name": "stdout",
     "output_type": "stream",
     "text": [
      "no history available for ticker PSM\n"
     ]
    },
    {
     "name": "stderr",
     "output_type": "stream",
     "text": [
      "Error 200, reqId 1673: No security definition has been found for the request, contract: Contract(secType='STK', symbol='NAQ', exchange='SMART', currency='USD')\n",
      "Unknown contract: Contract(secType='STK', symbol='NAQ', exchange='SMART', currency='USD')\n"
     ]
    },
    {
     "name": "stdout",
     "output_type": "stream",
     "text": [
      "no history available for ticker NAQ\n"
     ]
    },
    {
     "name": "stderr",
     "output_type": "stream",
     "text": [
      "Error 200, reqId 1678: No security definition has been found for the request, contract: Contract(secType='STK', symbol='CTREV', exchange='SMART', currency='USD')\n",
      "Unknown contract: Contract(secType='STK', symbol='CTREV', exchange='SMART', currency='USD')\n"
     ]
    },
    {
     "name": "stdout",
     "output_type": "stream",
     "text": [
      "no history available for ticker CTREV\n"
     ]
    },
    {
     "name": "stderr",
     "output_type": "stream",
     "text": [
      "Error 200, reqId 1687: No security definition has been found for the request, contract: Contract(secType='STK', symbol='EST', exchange='SMART', currency='USD')\n",
      "Unknown contract: Contract(secType='STK', symbol='EST', exchange='SMART', currency='USD')\n"
     ]
    },
    {
     "name": "stdout",
     "output_type": "stream",
     "text": [
      "no history available for ticker EST\n"
     ]
    },
    {
     "name": "stderr",
     "output_type": "stream",
     "text": [
      "Error 200, reqId 1704: No security definition has been found for the request, contract: Contract(secType='STK', symbol='RWTI', exchange='SMART', currency='USD')\n",
      "Unknown contract: Contract(secType='STK', symbol='RWTI', exchange='SMART', currency='USD')\n"
     ]
    },
    {
     "name": "stdout",
     "output_type": "stream",
     "text": [
      "no history available for ticker RWTI\n"
     ]
    },
    {
     "name": "stderr",
     "output_type": "stream",
     "text": [
      "Error 200, reqId 1721: No security definition has been found for the request, contract: Contract(secType='STK', symbol='MCT', exchange='SMART', currency='USD')\n",
      "Unknown contract: Contract(secType='STK', symbol='MCT', exchange='SMART', currency='USD')\n"
     ]
    },
    {
     "name": "stdout",
     "output_type": "stream",
     "text": [
      "no history available for ticker MCT\n"
     ]
    },
    {
     "name": "stderr",
     "output_type": "stream",
     "text": [
      "Error 200, reqId 1726: No security definition has been found for the request, contract: Contract(secType='STK', symbol='SJP', exchange='SMART', currency='USD')\n",
      "Unknown contract: Contract(secType='STK', symbol='SJP', exchange='SMART', currency='USD')\n"
     ]
    },
    {
     "name": "stdout",
     "output_type": "stream",
     "text": [
      "no history available for ticker SJP\n"
     ]
    },
    {
     "name": "stderr",
     "output_type": "stream",
     "text": [
      "Error 200, reqId 1735: No security definition has been found for the request, contract: Contract(secType='STK', symbol='GOV', exchange='SMART', currency='USD')\n",
      "Unknown contract: Contract(secType='STK', symbol='GOV', exchange='SMART', currency='USD')\n"
     ]
    },
    {
     "name": "stdout",
     "output_type": "stream",
     "text": [
      "no history available for ticker GOV\n"
     ]
    },
    {
     "name": "stderr",
     "output_type": "stream",
     "text": [
      "Error 200, reqId 1762: No security definition has been found for the request, contract: Contract(secType='STK', symbol='KFT', exchange='SMART', currency='USD')\n",
      "Unknown contract: Contract(secType='STK', symbol='KFT', exchange='SMART', currency='USD')\n",
      "Error 200, reqId 1763: No security definition has been found for the request, contract: Contract(secType='STK', symbol='DH', exchange='SMART', currency='USD')\n",
      "Unknown contract: Contract(secType='STK', symbol='DH', exchange='SMART', currency='USD')\n"
     ]
    },
    {
     "name": "stdout",
     "output_type": "stream",
     "text": [
      "no history available for ticker KFT\n",
      "no history available for ticker DH\n"
     ]
    },
    {
     "name": "stderr",
     "output_type": "stream",
     "text": [
      "Error 200, reqId 1780: No security definition has been found for the request, contract: Contract(secType='STK', symbol='CBRNA', exchange='SMART', currency='USD')\n",
      "Unknown contract: Contract(secType='STK', symbol='CBRNA', exchange='SMART', currency='USD')\n"
     ]
    },
    {
     "name": "stdout",
     "output_type": "stream",
     "text": [
      "no history available for ticker CBRNA\n"
     ]
    },
    {
     "name": "stderr",
     "output_type": "stream",
     "text": [
      "Error 200, reqId 1787: No security definition has been found for the request, contract: Contract(secType='STK', symbol='SJMA', exchange='SMART', currency='USD')\n",
      "Unknown contract: Contract(secType='STK', symbol='SJMA', exchange='SMART', currency='USD')\n"
     ]
    },
    {
     "name": "stdout",
     "output_type": "stream",
     "text": [
      "no history available for ticker SJMA\n"
     ]
    },
    {
     "name": "stderr",
     "output_type": "stream",
     "text": [
      "Error 200, reqId 1794: No security definition has been found for the request, contract: Contract(secType='STK', symbol='DPS', exchange='SMART', currency='USD')\n",
      "Unknown contract: Contract(secType='STK', symbol='DPS', exchange='SMART', currency='USD')\n"
     ]
    },
    {
     "name": "stdout",
     "output_type": "stream",
     "text": [
      "no history available for ticker DPS\n"
     ]
    },
    {
     "name": "stderr",
     "output_type": "stream",
     "text": [
      "Error 200, reqId 1797: No security definition has been found for the request, contract: Contract(secType='STK', symbol='HANS', exchange='SMART', currency='USD')\n",
      "Unknown contract: Contract(secType='STK', symbol='HANS', exchange='SMART', currency='USD')\n",
      "Error 200, reqId 1798: No security definition has been found for the request, contract: Contract(secType='STK', symbol='MCCRK', exchange='SMART', currency='USD')\n",
      "Unknown contract: Contract(secType='STK', symbol='MCCRK', exchange='SMART', currency='USD')\n"
     ]
    },
    {
     "name": "stdout",
     "output_type": "stream",
     "text": [
      "no history available for ticker HANS\n",
      "no history available for ticker MCCRK\n"
     ]
    },
    {
     "name": "stderr",
     "output_type": "stream",
     "text": [
      "Error 200, reqId 1807: No security definition has been found for the request, contract: Contract(secType='STK', symbol='ACCOB', exchange='SMART', currency='USD')\n",
      "Unknown contract: Contract(secType='STK', symbol='ACCOB', exchange='SMART', currency='USD')\n"
     ]
    },
    {
     "name": "stdout",
     "output_type": "stream",
     "text": [
      "no history available for ticker ACCOB\n"
     ]
    },
    {
     "name": "stderr",
     "output_type": "stream",
     "text": [
      "Error 200, reqId 1862: No security definition has been found for the request, contract: Contract(secType='STK', symbol='BFB', exchange='SMART', currency='USD')\n",
      "Unknown contract: Contract(secType='STK', symbol='BFB', exchange='SMART', currency='USD')\n"
     ]
    },
    {
     "name": "stdout",
     "output_type": "stream",
     "text": [
      "no history available for ticker BFB\n"
     ]
    },
    {
     "name": "stderr",
     "output_type": "stream",
     "text": [
      "Error 200, reqId 1865: No security definition has been found for the request, contract: Contract(secType='STK', symbol='FIZ', exchange='SMART', currency='USD')\n",
      "Unknown contract: Contract(secType='STK', symbol='FIZ', exchange='SMART', currency='USD')\n",
      "Error 200, reqId 1866: No security definition has been found for the request, contract: Contract(secType='STK', symbol='PDA', exchange='SMART', currency='USD')\n",
      "Unknown contract: Contract(secType='STK', symbol='PDA', exchange='SMART', currency='USD')\n"
     ]
    },
    {
     "name": "stdout",
     "output_type": "stream",
     "text": [
      "no history available for ticker FIZ\n",
      "no history available for ticker PDA\n"
     ]
    },
    {
     "name": "stderr",
     "output_type": "stream",
     "text": [
      "Error 200, reqId 1873: No security definition has been found for the request, contract: Contract(secType='STK', symbol='OAC', exchange='SMART', currency='USD')\n",
      "Unknown contract: Contract(secType='STK', symbol='OAC', exchange='SMART', currency='USD')\n"
     ]
    },
    {
     "name": "stdout",
     "output_type": "stream",
     "text": [
      "no history available for ticker OAC\n"
     ]
    },
    {
     "name": "stderr",
     "output_type": "stream",
     "text": [
      "Error 200, reqId 1876: No security definition has been found for the request, contract: Contract(secType='STK', symbol='BGL', exchange='SMART', currency='USD')\n",
      "Unknown contract: Contract(secType='STK', symbol='BGL', exchange='SMART', currency='USD')\n",
      "Error 200, reqId 1877: No security definition has been found for the request, contract: Contract(secType='STK', symbol='CPO', exchange='SMART', currency='USD')\n",
      "Unknown contract: Contract(secType='STK', symbol='CPO', exchange='SMART', currency='USD')\n"
     ]
    },
    {
     "name": "stdout",
     "output_type": "stream",
     "text": [
      "no history available for ticker BGL\n",
      "no history available for ticker CPO\n"
     ]
    },
    {
     "name": "stderr",
     "output_type": "stream",
     "text": [
      "Error 200, reqId 1886: No security definition has been found for the request, contract: Contract(secType='STK', symbol='GRSH', exchange='SMART', currency='USD')\n",
      "Unknown contract: Contract(secType='STK', symbol='GRSH', exchange='SMART', currency='USD')\n",
      "Error 200, reqId 1887: No security definition has been found for the request, contract: Contract(secType='STK', symbol='NOVS', exchange='SMART', currency='USD')\n",
      "Unknown contract: Contract(secType='STK', symbol='NOVS', exchange='SMART', currency='USD')\n"
     ]
    },
    {
     "name": "stdout",
     "output_type": "stream",
     "text": [
      "no history available for ticker GRSH\n",
      "no history available for ticker NOVS\n"
     ]
    },
    {
     "name": "stderr",
     "output_type": "stream",
     "text": [
      "Error 200, reqId 1908: No security definition has been found for the request, contract: Contract(secType='STK', symbol='FMCI', exchange='SMART', currency='USD')\n",
      "Unknown contract: Contract(secType='STK', symbol='FMCI', exchange='SMART', currency='USD')\n"
     ]
    },
    {
     "name": "stdout",
     "output_type": "stream",
     "text": [
      "no history available for ticker FMCI\n"
     ]
    },
    {
     "name": "stderr",
     "output_type": "stream",
     "text": [
      "Error 200, reqId 1931: No security definition has been found for the request, contract: Contract(secType='STK', symbol='WPO', exchange='SMART', currency='USD')\n",
      "Unknown contract: Contract(secType='STK', symbol='WPO', exchange='SMART', currency='USD')\n"
     ]
    },
    {
     "name": "stdout",
     "output_type": "stream",
     "text": [
      "no history available for ticker WPO\n"
     ]
    },
    {
     "name": "stderr",
     "output_type": "stream",
     "text": [
      "Error 200, reqId 1956: No security definition has been found for the request, contract: Contract(secType='STK', symbol='STKLF', exchange='SMART', currency='USD')\n",
      "Unknown contract: Contract(secType='STK', symbol='STKLF', exchange='SMART', currency='USD')\n"
     ]
    },
    {
     "name": "stdout",
     "output_type": "stream",
     "text": [
      "no history available for ticker STKLF\n"
     ]
    },
    {
     "name": "stderr",
     "output_type": "stream",
     "text": [
      "Error 200, reqId 1961: No security definition has been found for the request, contract: Contract(secType='STK', symbol='JEAN', exchange='SMART', currency='USD')\n",
      "Unknown contract: Contract(secType='STK', symbol='JEAN', exchange='SMART', currency='USD')\n"
     ]
    },
    {
     "name": "stdout",
     "output_type": "stream",
     "text": [
      "no history available for ticker JEAN\n"
     ]
    },
    {
     "name": "stderr",
     "output_type": "stream",
     "text": [
      "Error 200, reqId 2016: No security definition has been found for the request, contract: Contract(secType='STK', symbol='HSGX', exchange='SMART', currency='USD')\n",
      "Unknown contract: Contract(secType='STK', symbol='HSGX', exchange='SMART', currency='USD')\n"
     ]
    },
    {
     "name": "stdout",
     "output_type": "stream",
     "text": [
      "no history available for ticker HSGX\n"
     ]
    },
    {
     "name": "stderr",
     "output_type": "stream",
     "text": [
      "Error 200, reqId 2027: No security definition has been found for the request, contract: Contract(secType='STK', symbol='CNTE', exchange='SMART', currency='USD')\n",
      "Unknown contract: Contract(secType='STK', symbol='CNTE', exchange='SMART', currency='USD')\n"
     ]
    },
    {
     "name": "stdout",
     "output_type": "stream",
     "text": [
      "no history available for ticker CNTE\n"
     ]
    },
    {
     "name": "stderr",
     "output_type": "stream",
     "text": [
      "Error 200, reqId 2030: No security definition has been found for the request, contract: Contract(secType='STK', symbol='IDPH', exchange='SMART', currency='USD')\n",
      "Unknown contract: Contract(secType='STK', symbol='IDPH', exchange='SMART', currency='USD')\n",
      "Error 200, reqId 2031: No security definition has been found for the request, contract: Contract(secType='STK', symbol='ZMH', exchange='SMART', currency='USD')\n",
      "Unknown contract: Contract(secType='STK', symbol='ZMH', exchange='SMART', currency='USD')\n",
      "Error 200, reqId 2032: No security definition has been found for the request, contract: Contract(secType='STK', symbol='NOX', exchange='SMART', currency='USD')\n",
      "Unknown contract: Contract(secType='STK', symbol='NOX', exchange='SMART', currency='USD')\n"
     ]
    },
    {
     "name": "stdout",
     "output_type": "stream",
     "text": [
      "no history available for ticker IDPH\n",
      "no history available for ticker ZMH\n",
      "no history available for ticker NOX\n"
     ]
    },
    {
     "name": "stderr",
     "output_type": "stream",
     "text": [
      "Error 200, reqId 2047: No security definition has been found for the request, contract: Contract(secType='STK', symbol='WAG', exchange='SMART', currency='USD')\n",
      "Unknown contract: Contract(secType='STK', symbol='WAG', exchange='SMART', currency='USD')\n"
     ]
    },
    {
     "name": "stdout",
     "output_type": "stream",
     "text": [
      "no history available for ticker WAG\n"
     ]
    },
    {
     "name": "stderr",
     "output_type": "stream",
     "text": [
      "Error 200, reqId 2074: No security definition has been found for the request, contract: Contract(secType='STK', symbol='GLX', exchange='SMART', currency='USD')\n",
      "Unknown contract: Contract(secType='STK', symbol='GLX', exchange='SMART', currency='USD')\n"
     ]
    },
    {
     "name": "stdout",
     "output_type": "stream",
     "text": [
      "no history available for ticker GLX\n"
     ]
    },
    {
     "name": "stderr",
     "output_type": "stream",
     "text": [
      "Error 200, reqId 2099: No security definition has been found for the request, contract: Contract(secType='STK', symbol='IPOC', exchange='SMART', currency='USD')\n",
      "Unknown contract: Contract(secType='STK', symbol='IPOC', exchange='SMART', currency='USD')\n"
     ]
    },
    {
     "name": "stdout",
     "output_type": "stream",
     "text": [
      "no history available for ticker IPOC\n"
     ]
    },
    {
     "name": "stderr",
     "output_type": "stream",
     "text": [
      "Error 200, reqId 2106: No security definition has been found for the request, contract: Contract(secType='STK', symbol='AAS', exchange='SMART', currency='USD')\n",
      "Unknown contract: Contract(secType='STK', symbol='AAS', exchange='SMART', currency='USD')\n",
      "Error 200, reqId 2107: No security definition has been found for the request, contract: Contract(secType='STK', symbol='RESM', exchange='SMART', currency='USD')\n",
      "Unknown contract: Contract(secType='STK', symbol='RESM', exchange='SMART', currency='USD')\n"
     ]
    },
    {
     "name": "stdout",
     "output_type": "stream",
     "text": [
      "no history available for ticker AAS\n",
      "no history available for ticker RESM\n"
     ]
    },
    {
     "name": "stderr",
     "output_type": "stream",
     "text": [
      "Error 200, reqId 2112: No security definition has been found for the request, contract: Contract(secType='STK', symbol='ICLRY', exchange='SMART', currency='USD')\n",
      "Unknown contract: Contract(secType='STK', symbol='ICLRY', exchange='SMART', currency='USD')\n"
     ]
    },
    {
     "name": "stdout",
     "output_type": "stream",
     "text": [
      "no history available for ticker ICLRY\n"
     ]
    },
    {
     "name": "stderr",
     "output_type": "stream",
     "text": [
      "Error 200, reqId 2131: No security definition has been found for the request, contract: Contract(secType='STK', symbol='AVII', exchange='SMART', currency='USD')\n",
      "Unknown contract: Contract(secType='STK', symbol='AVII', exchange='SMART', currency='USD')\n"
     ]
    },
    {
     "name": "stdout",
     "output_type": "stream",
     "text": [
      "no history available for ticker AVII\n"
     ]
    },
    {
     "name": "stderr",
     "output_type": "stream",
     "text": [
      "Error 200, reqId 2158: No security definition has been found for the request, contract: Contract(secType='STK', symbol='EGG', exchange='SMART', currency='USD')\n",
      "Unknown contract: Contract(secType='STK', symbol='EGG', exchange='SMART', currency='USD')\n"
     ]
    },
    {
     "name": "stdout",
     "output_type": "stream",
     "text": [
      "no history available for ticker EGG\n"
     ]
    },
    {
     "name": "stderr",
     "output_type": "stream",
     "text": [
      "Error 200, reqId 2165: No security definition has been found for the request, contract: Contract(secType='STK', symbol='PTIE', exchange='SMART', currency='USD')\n",
      "Unknown contract: Contract(secType='STK', symbol='PTIE', exchange='SMART', currency='USD')\n"
     ]
    },
    {
     "name": "stdout",
     "output_type": "stream",
     "text": [
      "no history available for ticker PTIE\n"
     ]
    },
    {
     "name": "stderr",
     "output_type": "stream",
     "text": [
      "Error 200, reqId 2178: No security definition has been found for the request, contract: Contract(secType='STK', symbol='TRL', exchange='SMART', currency='USD')\n",
      "Unknown contract: Contract(secType='STK', symbol='TRL', exchange='SMART', currency='USD')\n"
     ]
    },
    {
     "name": "stdout",
     "output_type": "stream",
     "text": [
      "no history available for ticker TRL\n"
     ]
    },
    {
     "name": "stderr",
     "output_type": "stream",
     "text": [
      "Error 200, reqId 2199: No security definition has been found for the request, contract: Contract(secType='STK', symbol='ISIP', exchange='SMART', currency='USD')\n",
      "Unknown contract: Contract(secType='STK', symbol='ISIP', exchange='SMART', currency='USD')\n"
     ]
    },
    {
     "name": "stdout",
     "output_type": "stream",
     "text": [
      "no history available for ticker ISIP\n"
     ]
    },
    {
     "name": "stderr",
     "output_type": "stream",
     "text": [
      "Error 200, reqId 2206: No security definition has been found for the request, contract: Contract(secType='STK', symbol='HB', exchange='SMART', currency='USD')\n",
      "Unknown contract: Contract(secType='STK', symbol='HB', exchange='SMART', currency='USD')\n"
     ]
    },
    {
     "name": "stdout",
     "output_type": "stream",
     "text": [
      "no history available for ticker HB\n"
     ]
    },
    {
     "name": "stderr",
     "output_type": "stream",
     "text": [
      "Error 200, reqId 2211: No security definition has been found for the request, contract: Contract(secType='STK', symbol='VTRSV', exchange='SMART', currency='USD')\n",
      "Unknown contract: Contract(secType='STK', symbol='VTRSV', exchange='SMART', currency='USD')\n"
     ]
    },
    {
     "name": "stdout",
     "output_type": "stream",
     "text": [
      "no history available for ticker VTRSV\n"
     ]
    },
    {
     "name": "stderr",
     "output_type": "stream",
     "text": [
      "Error 200, reqId 2214: No security definition has been found for the request, contract: Contract(secType='STK', symbol='BIOA', exchange='SMART', currency='USD')\n",
      "Unknown contract: Contract(secType='STK', symbol='BIOA', exchange='SMART', currency='USD')\n"
     ]
    },
    {
     "name": "stdout",
     "output_type": "stream",
     "text": [
      "no history available for ticker BIOA\n"
     ]
    },
    {
     "name": "stderr",
     "output_type": "stream",
     "text": [
      "Error 200, reqId 2221: No security definition has been found for the request, contract: Contract(secType='STK', symbol='KBIO', exchange='SMART', currency='USD')\n",
      "Unknown contract: Contract(secType='STK', symbol='KBIO', exchange='SMART', currency='USD')\n",
      "Error 200, reqId 2222: No security definition has been found for the request, contract: Contract(secType='STK', symbol='TEVIY', exchange='SMART', currency='USD')\n",
      "Unknown contract: Contract(secType='STK', symbol='TEVIY', exchange='SMART', currency='USD')\n"
     ]
    },
    {
     "name": "stdout",
     "output_type": "stream",
     "text": [
      "no history available for ticker KBIO\n",
      "no history available for ticker TEVIY\n"
     ]
    },
    {
     "name": "stderr",
     "output_type": "stream",
     "text": [
      "Error 200, reqId 2229: No security definition has been found for the request, contract: Contract(secType='STK', symbol='BVF', exchange='SMART', currency='USD')\n",
      "Unknown contract: Contract(secType='STK', symbol='BVF', exchange='SMART', currency='USD')\n"
     ]
    },
    {
     "name": "stdout",
     "output_type": "stream",
     "text": [
      "no history available for ticker BVF\n"
     ]
    },
    {
     "name": "stderr",
     "output_type": "stream",
     "text": [
      "Error 200, reqId 2260: No security definition has been found for the request, contract: Contract(secType='STK', symbol='INCR', exchange='SMART', currency='USD')\n",
      "Unknown contract: Contract(secType='STK', symbol='INCR', exchange='SMART', currency='USD')\n"
     ]
    },
    {
     "name": "stdout",
     "output_type": "stream",
     "text": [
      "no history available for ticker INCR\n"
     ]
    },
    {
     "name": "stderr",
     "output_type": "stream",
     "text": [
      "Error 200, reqId 2263: No security definition has been found for the request, contract: Contract(secType='STK', symbol='GEB', exchange='SMART', currency='USD')\n",
      "Unknown contract: Contract(secType='STK', symbol='GEB', exchange='SMART', currency='USD')\n"
     ]
    },
    {
     "name": "stdout",
     "output_type": "stream",
     "text": [
      "no history available for ticker GEB\n"
     ]
    },
    {
     "name": "stderr",
     "output_type": "stream",
     "text": [
      "Error 200, reqId 2270: No security definition has been found for the request, contract: Contract(secType='STK', symbol='CNTL', exchange='SMART', currency='USD')\n",
      "Unknown contract: Contract(secType='STK', symbol='CNTL', exchange='SMART', currency='USD')\n"
     ]
    },
    {
     "name": "stdout",
     "output_type": "stream",
     "text": [
      "no history available for ticker CNTL\n"
     ]
    },
    {
     "name": "stderr",
     "output_type": "stream",
     "text": [
      "Error 200, reqId 2281: No security definition has been found for the request, contract: Contract(secType='STK', symbol='AHPA', exchange='SMART', currency='USD')\n",
      "Unknown contract: Contract(secType='STK', symbol='AHPA', exchange='SMART', currency='USD')\n"
     ]
    },
    {
     "name": "stdout",
     "output_type": "stream",
     "text": [
      "no history available for ticker AHPA\n"
     ]
    },
    {
     "name": "stderr",
     "output_type": "stream",
     "text": [
      "Error 200, reqId 2296: No security definition has been found for the request, contract: Contract(secType='STK', symbol='HTI', exchange='SMART', currency='USD')\n",
      "Unknown contract: Contract(secType='STK', symbol='HTI', exchange='SMART', currency='USD')\n"
     ]
    },
    {
     "name": "stdout",
     "output_type": "stream",
     "text": [
      "no history available for ticker HTI\n"
     ]
    },
    {
     "name": "stderr",
     "output_type": "stream",
     "text": [
      "Error 200, reqId 2301: No security definition has been found for the request, contract: Contract(secType='STK', symbol='PVTR', exchange='SMART', currency='USD')\n",
      "Unknown contract: Contract(secType='STK', symbol='PVTR', exchange='SMART', currency='USD')\n"
     ]
    },
    {
     "name": "stdout",
     "output_type": "stream",
     "text": [
      "no history available for ticker PVTR\n"
     ]
    },
    {
     "name": "stderr",
     "output_type": "stream",
     "text": [
      "Error 200, reqId 2304: No security definition has been found for the request, contract: Contract(secType='STK', symbol='CNAC', exchange='SMART', currency='USD')\n",
      "Unknown contract: Contract(secType='STK', symbol='CNAC', exchange='SMART', currency='USD')\n"
     ]
    },
    {
     "name": "stdout",
     "output_type": "stream",
     "text": [
      "no history available for ticker CNAC\n"
     ]
    },
    {
     "name": "stderr",
     "output_type": "stream",
     "text": [
      "Error 200, reqId 2323: No security definition has been found for the request, contract: Contract(secType='STK', symbol='PDX', exchange='SMART', currency='USD')\n",
      "Unknown contract: Contract(secType='STK', symbol='PDX', exchange='SMART', currency='USD')\n"
     ]
    },
    {
     "name": "stdout",
     "output_type": "stream",
     "text": [
      "no history available for ticker PDX\n"
     ]
    },
    {
     "name": "stderr",
     "output_type": "stream",
     "text": [
      "Error 200, reqId 2344: No security definition has been found for the request, contract: Contract(secType='STK', symbol='NABI', exchange='SMART', currency='USD')\n",
      "Unknown contract: Contract(secType='STK', symbol='NABI', exchange='SMART', currency='USD')\n",
      "Error 200, reqId 2345: No security definition has been found for the request, contract: Contract(secType='STK', symbol='BDAL', exchange='SMART', currency='USD')\n",
      "Unknown contract: Contract(secType='STK', symbol='BDAL', exchange='SMART', currency='USD')\n"
     ]
    },
    {
     "name": "stdout",
     "output_type": "stream",
     "text": [
      "no history available for ticker NABI\n",
      "no history available for ticker BDAL\n"
     ]
    },
    {
     "name": "stderr",
     "output_type": "stream",
     "text": [
      "Error 200, reqId 2360: No security definition has been found for the request, contract: Contract(secType='STK', symbol='AHS', exchange='SMART', currency='USD')\n",
      "Unknown contract: Contract(secType='STK', symbol='AHS', exchange='SMART', currency='USD')\n"
     ]
    },
    {
     "name": "stdout",
     "output_type": "stream",
     "text": [
      "no history available for ticker AHS\n"
     ]
    },
    {
     "name": "stderr",
     "output_type": "stream",
     "text": [
      "Error 200, reqId 2373: No security definition has been found for the request, contract: Contract(secType='STK', symbol='QGENF', exchange='SMART', currency='USD')\n",
      "Unknown contract: Contract(secType='STK', symbol='QGENF', exchange='SMART', currency='USD')\n"
     ]
    },
    {
     "name": "stdout",
     "output_type": "stream",
     "text": [
      "no history available for ticker QGENF\n"
     ]
    },
    {
     "name": "stderr",
     "output_type": "stream",
     "text": [
      "Error 200, reqId 2380: No security definition has been found for the request, contract: Contract(secType='STK', symbol='CCXX', exchange='SMART', currency='USD')\n",
      "Unknown contract: Contract(secType='STK', symbol='CCXX', exchange='SMART', currency='USD')\n"
     ]
    },
    {
     "name": "stdout",
     "output_type": "stream",
     "text": [
      "no history available for ticker CCXX\n"
     ]
    },
    {
     "name": "stderr",
     "output_type": "stream",
     "text": [
      "Error 200, reqId 2435: No security definition has been found for the request, contract: Contract(secType='STK', symbol='CVETV', exchange='SMART', currency='USD')\n",
      "Unknown contract: Contract(secType='STK', symbol='CVETV', exchange='SMART', currency='USD')\n"
     ]
    },
    {
     "name": "stdout",
     "output_type": "stream",
     "text": [
      "no history available for ticker CVETV\n"
     ]
    },
    {
     "name": "stderr",
     "output_type": "stream",
     "text": [
      "Error 200, reqId 2462: No security definition has been found for the request, contract: Contract(secType='STK', symbol='HIV', exchange='SMART', currency='USD')\n",
      "Unknown contract: Contract(secType='STK', symbol='HIV', exchange='SMART', currency='USD')\n"
     ]
    },
    {
     "name": "stdout",
     "output_type": "stream",
     "text": [
      "no history available for ticker HIV\n"
     ]
    },
    {
     "name": "stderr",
     "output_type": "stream",
     "text": [
      "Error 200, reqId 2467: No security definition has been found for the request, contract: Contract(secType='STK', symbol='EBIO', exchange='SMART', currency='USD')\n",
      "Unknown contract: Contract(secType='STK', symbol='EBIO', exchange='SMART', currency='USD')\n"
     ]
    },
    {
     "name": "stdout",
     "output_type": "stream",
     "text": [
      "no history available for ticker EBIO\n"
     ]
    },
    {
     "name": "stderr",
     "output_type": "stream",
     "text": [
      "Error 200, reqId 2484: No security definition has been found for the request, contract: Contract(secType='STK', symbol='NEOT', exchange='SMART', currency='USD')\n",
      "Unknown contract: Contract(secType='STK', symbol='NEOT', exchange='SMART', currency='USD')\n"
     ]
    },
    {
     "name": "stdout",
     "output_type": "stream",
     "text": [
      "no history available for ticker NEOT\n"
     ]
    },
    {
     "name": "stderr",
     "output_type": "stream",
     "text": [
      "Error 200, reqId 2501: No security definition has been found for the request, contract: Contract(secType='STK', symbol='ASTM', exchange='SMART', currency='USD')\n",
      "Unknown contract: Contract(secType='STK', symbol='ASTM', exchange='SMART', currency='USD')\n"
     ]
    },
    {
     "name": "stdout",
     "output_type": "stream",
     "text": [
      "no history available for ticker ASTM\n"
     ]
    },
    {
     "name": "stderr",
     "output_type": "stream",
     "text": [
      "Error 200, reqId 2550: No security definition has been found for the request, contract: Contract(secType='STK', symbol='NEOT', exchange='SMART', currency='USD')\n",
      "Unknown contract: Contract(secType='STK', symbol='NEOT', exchange='SMART', currency='USD')\n"
     ]
    },
    {
     "name": "stdout",
     "output_type": "stream",
     "text": [
      "no history available for ticker NEOT\n"
     ]
    },
    {
     "name": "stderr",
     "output_type": "stream",
     "text": [
      "Error 200, reqId 2591: No security definition has been found for the request, contract: Contract(secType='STK', symbol='HYH', exchange='SMART', currency='USD')\n",
      "Unknown contract: Contract(secType='STK', symbol='HYH', exchange='SMART', currency='USD')\n"
     ]
    },
    {
     "name": "stdout",
     "output_type": "stream",
     "text": [
      "no history available for ticker HYH\n"
     ]
    },
    {
     "name": "stderr",
     "output_type": "stream",
     "text": [
      "Error 200, reqId 2620: No security definition has been found for the request, contract: Contract(secType='STK', symbol='KITS', exchange='SMART', currency='USD')\n",
      "Unknown contract: Contract(secType='STK', symbol='KITS', exchange='SMART', currency='USD')\n",
      "Error 200, reqId 2621: No security definition has been found for the request, contract: Contract(secType='STK', symbol='TCLN', exchange='SMART', currency='USD')\n",
      "Unknown contract: Contract(secType='STK', symbol='TCLN', exchange='SMART', currency='USD')\n"
     ]
    },
    {
     "name": "stdout",
     "output_type": "stream",
     "text": [
      "no history available for ticker KITS\n",
      "no history available for ticker TCLN\n"
     ]
    },
    {
     "name": "stderr",
     "output_type": "stream",
     "text": [
      "Error 200, reqId 2632: No security definition has been found for the request, contract: Contract(secType='STK', symbol='INHL', exchange='SMART', currency='USD')\n",
      "Unknown contract: Contract(secType='STK', symbol='INHL', exchange='SMART', currency='USD')\n"
     ]
    },
    {
     "name": "stdout",
     "output_type": "stream",
     "text": [
      "no history available for ticker INHL\n"
     ]
    },
    {
     "name": "stderr",
     "output_type": "stream",
     "text": [
      "Error 200, reqId 2637: No security definition has been found for the request, contract: Contract(secType='STK', symbol='FHC', exchange='SMART', currency='USD')\n",
      "Unknown contract: Contract(secType='STK', symbol='FHC', exchange='SMART', currency='USD')\n"
     ]
    },
    {
     "name": "stdout",
     "output_type": "stream",
     "text": [
      "no history available for ticker FHC\n"
     ]
    },
    {
     "name": "stderr",
     "output_type": "stream",
     "text": [
      "Error 200, reqId 2646: No security definition has been found for the request, contract: Contract(secType='STK', symbol='CYPH', exchange='SMART', currency='USD')\n",
      "Unknown contract: Contract(secType='STK', symbol='CYPH', exchange='SMART', currency='USD')\n"
     ]
    },
    {
     "name": "stdout",
     "output_type": "stream",
     "text": [
      "no history available for ticker CYPH\n"
     ]
    },
    {
     "name": "stderr",
     "output_type": "stream",
     "text": [
      "Error 200, reqId 2673: No security definition has been found for the request, contract: Contract(secType='STK', symbol='EPTO', exchange='SMART', currency='USD')\n",
      "Unknown contract: Contract(secType='STK', symbol='EPTO', exchange='SMART', currency='USD')\n"
     ]
    },
    {
     "name": "stdout",
     "output_type": "stream",
     "text": [
      "no history available for ticker EPTO\n"
     ]
    },
    {
     "name": "stderr",
     "output_type": "stream",
     "text": [
      "Error 200, reqId 2688: No security definition has been found for the request, contract: Contract(secType='STK', symbol='ITEK', exchange='SMART', currency='USD')\n",
      "Unknown contract: Contract(secType='STK', symbol='ITEK', exchange='SMART', currency='USD')\n"
     ]
    },
    {
     "name": "stdout",
     "output_type": "stream",
     "text": [
      "no history available for ticker ITEK\n"
     ]
    },
    {
     "name": "stderr",
     "output_type": "stream",
     "text": [
      "Error 200, reqId 2697: No security definition has been found for the request, contract: Contract(secType='STK', symbol='CATS', exchange='SMART', currency='USD')\n",
      "Unknown contract: Contract(secType='STK', symbol='CATS', exchange='SMART', currency='USD')\n",
      "Error 200, reqId 2698: No security definition has been found for the request, contract: Contract(secType='STK', symbol='RDYN', exchange='SMART', currency='USD')\n",
      "Unknown contract: Contract(secType='STK', symbol='RDYN', exchange='SMART', currency='USD')\n"
     ]
    },
    {
     "name": "stdout",
     "output_type": "stream",
     "text": [
      "no history available for ticker CATS\n",
      "no history available for ticker RDYN\n"
     ]
    },
    {
     "name": "stderr",
     "output_type": "stream",
     "text": [
      "Error 200, reqId 2707: No security definition has been found for the request, contract: Contract(secType='STK', symbol='HSAC', exchange='SMART', currency='USD')\n",
      "Unknown contract: Contract(secType='STK', symbol='HSAC', exchange='SMART', currency='USD')\n"
     ]
    },
    {
     "name": "stdout",
     "output_type": "stream",
     "text": [
      "no history available for ticker HSAC\n"
     ]
    },
    {
     "name": "stderr",
     "output_type": "stream",
     "text": [
      "Error 200, reqId 2720: No security definition has been found for the request, contract: Contract(secType='STK', symbol='TCEL', exchange='SMART', currency='USD')\n",
      "Unknown contract: Contract(secType='STK', symbol='TCEL', exchange='SMART', currency='USD')\n"
     ]
    },
    {
     "name": "stdout",
     "output_type": "stream",
     "text": [
      "no history available for ticker TCEL\n"
     ]
    },
    {
     "name": "stderr",
     "output_type": "stream",
     "text": [
      "Error 200, reqId 2725: No security definition has been found for the request, contract: Contract(secType='STK', symbol='PRSC', exchange='SMART', currency='USD')\n",
      "Unknown contract: Contract(secType='STK', symbol='PRSC', exchange='SMART', currency='USD')\n"
     ]
    },
    {
     "name": "stdout",
     "output_type": "stream",
     "text": [
      "no history available for ticker PRSC\n"
     ]
    },
    {
     "name": "stderr",
     "output_type": "stream",
     "text": [
      "Error 200, reqId 2728: No security definition has been found for the request, contract: Contract(secType='STK', symbol='XON', exchange='SMART', currency='USD')\n",
      "Unknown contract: Contract(secType='STK', symbol='XON', exchange='SMART', currency='USD')\n"
     ]
    },
    {
     "name": "stdout",
     "output_type": "stream",
     "text": [
      "no history available for ticker XON\n"
     ]
    },
    {
     "name": "stderr",
     "output_type": "stream",
     "text": [
      "Error 200, reqId 2737: No security definition has been found for the request, contract: Contract(secType='STK', symbol='PLCC', exchange='SMART', currency='USD')\n",
      "Unknown contract: Contract(secType='STK', symbol='PLCC', exchange='SMART', currency='USD')\n"
     ]
    },
    {
     "name": "stdout",
     "output_type": "stream",
     "text": [
      "no history available for ticker PLCC\n"
     ]
    },
    {
     "name": "stderr",
     "output_type": "stream",
     "text": [
      "Error 200, reqId 2750: No security definition has been found for the request, contract: Contract(secType='STK', symbol='AAVL', exchange='SMART', currency='USD')\n",
      "Unknown contract: Contract(secType='STK', symbol='AAVL', exchange='SMART', currency='USD')\n"
     ]
    },
    {
     "name": "stdout",
     "output_type": "stream",
     "text": [
      "no history available for ticker AAVL\n"
     ]
    },
    {
     "name": "stderr",
     "output_type": "stream",
     "text": [
      "Error 200, reqId 2753: No security definition has been found for the request, contract: Contract(secType='STK', symbol='CBYL', exchange='SMART', currency='USD')\n",
      "Unknown contract: Contract(secType='STK', symbol='CBYL', exchange='SMART', currency='USD')\n"
     ]
    },
    {
     "name": "stdout",
     "output_type": "stream",
     "text": [
      "no history available for ticker CBYL\n"
     ]
    },
    {
     "name": "stderr",
     "output_type": "stream",
     "text": [
      "Error 200, reqId 2768: No security definition has been found for the request, contract: Contract(secType='STK', symbol='SIMU', exchange='SMART', currency='USD')\n",
      "Unknown contract: Contract(secType='STK', symbol='SIMU', exchange='SMART', currency='USD')\n"
     ]
    },
    {
     "name": "stdout",
     "output_type": "stream",
     "text": [
      "no history available for ticker SIMU\n"
     ]
    },
    {
     "name": "stderr",
     "output_type": "stream",
     "text": [
      "Error 200, reqId 2781: No security definition has been found for the request, contract: Contract(secType='STK', symbol='PE', exchange='SMART', currency='USD')\n",
      "Unknown contract: Contract(secType='STK', symbol='PE', exchange='SMART', currency='USD')\n"
     ]
    },
    {
     "name": "stdout",
     "output_type": "stream",
     "text": [
      "no history available for ticker PE\n"
     ]
    },
    {
     "name": "stderr",
     "output_type": "stream",
     "text": [
      "Error 200, reqId 2798: No security definition has been found for the request, contract: Contract(secType='STK', symbol='NU', exchange='SMART', currency='USD')\n",
      "Unknown contract: Contract(secType='STK', symbol='NU', exchange='SMART', currency='USD')\n"
     ]
    },
    {
     "name": "stdout",
     "output_type": "stream",
     "text": [
      "no history available for ticker NU\n"
     ]
    },
    {
     "name": "stderr",
     "output_type": "stream",
     "text": [
      "Error 200, reqId 2803: No security definition has been found for the request, contract: Contract(secType='STK', symbol='HOU', exchange='SMART', currency='USD')\n",
      "Unknown contract: Contract(secType='STK', symbol='HOU', exchange='SMART', currency='USD')\n"
     ]
    },
    {
     "name": "stdout",
     "output_type": "stream",
     "text": [
      "no history available for ticker HOU\n"
     ]
    },
    {
     "name": "stderr",
     "output_type": "stream",
     "text": [
      "Error 200, reqId 2814: No security definition has been found for the request, contract: Contract(secType='STK', symbol='WPH', exchange='SMART', currency='USD')\n",
      "Unknown contract: Contract(secType='STK', symbol='WPH', exchange='SMART', currency='USD')\n"
     ]
    },
    {
     "name": "stdout",
     "output_type": "stream",
     "text": [
      "no history available for ticker WPH\n"
     ]
    },
    {
     "name": "stderr",
     "output_type": "stream",
     "text": [
      "Error 200, reqId 2823: No security definition has been found for the request, contract: Contract(secType='STK', symbol='WR', exchange='SMART', currency='USD')\n",
      "Unknown contract: Contract(secType='STK', symbol='WR', exchange='SMART', currency='USD')\n"
     ]
    },
    {
     "name": "stdout",
     "output_type": "stream",
     "text": [
      "no history available for ticker WR\n"
     ]
    },
    {
     "name": "stderr",
     "output_type": "stream",
     "text": [
      "Error 200, reqId 2846: No security definition has been found for the request, contract: Contract(secType='STK', symbol='LG', exchange='SMART', currency='USD')\n",
      "Unknown contract: Contract(secType='STK', symbol='LG', exchange='SMART', currency='USD')\n"
     ]
    },
    {
     "name": "stdout",
     "output_type": "stream",
     "text": [
      "no history available for ticker LG\n"
     ]
    },
    {
     "name": "stderr",
     "output_type": "stream",
     "text": [
      "Error 200, reqId 2851: No security definition has been found for the request, contract: Contract(secType='STK', symbol='BEPCW', exchange='SMART', currency='USD')\n",
      "Unknown contract: Contract(secType='STK', symbol='BEPCW', exchange='SMART', currency='USD')\n"
     ]
    },
    {
     "name": "stdout",
     "output_type": "stream",
     "text": [
      "no history available for ticker BEPCW\n"
     ]
    },
    {
     "name": "stderr",
     "output_type": "stream",
     "text": [
      "Error 200, reqId 2870: No security definition has been found for the request, contract: Contract(secType='STK', symbol='WWP', exchange='SMART', currency='USD')\n",
      "Unknown contract: Contract(secType='STK', symbol='WWP', exchange='SMART', currency='USD')\n"
     ]
    },
    {
     "name": "stdout",
     "output_type": "stream",
     "text": [
      "no history available for ticker WWP\n"
     ]
    },
    {
     "name": "stderr",
     "output_type": "stream",
     "text": [
      "Error 200, reqId 2873: No security definition has been found for the request, contract: Contract(secType='STK', symbol='ABY', exchange='SMART', currency='USD')\n",
      "Unknown contract: Contract(secType='STK', symbol='ABY', exchange='SMART', currency='USD')\n",
      "Error 200, reqId 2874: No security definition has been found for the request, contract: Contract(secType='STK', symbol='NWEC', exchange='SMART', currency='USD')\n",
      "Unknown contract: Contract(secType='STK', symbol='NWEC', exchange='SMART', currency='USD')\n"
     ]
    },
    {
     "name": "stdout",
     "output_type": "stream",
     "text": [
      "no history available for ticker ABY\n",
      "no history available for ticker NWEC\n"
     ]
    },
    {
     "name": "stderr",
     "output_type": "stream",
     "text": [
      "Error 200, reqId 2879: No security definition has been found for the request, contract: Contract(secType='STK', symbol='SCW', exchange='SMART', currency='USD')\n",
      "Unknown contract: Contract(secType='STK', symbol='SCW', exchange='SMART', currency='USD')\n"
     ]
    },
    {
     "name": "stdout",
     "output_type": "stream",
     "text": [
      "no history available for ticker SCW\n"
     ]
    },
    {
     "name": "stderr",
     "output_type": "stream",
     "text": [
      "Error 200, reqId 2884: No security definition has been found for the request, contract: Contract(secType='STK', symbol='MPL', exchange='SMART', currency='USD')\n",
      "Unknown contract: Contract(secType='STK', symbol='MPL', exchange='SMART', currency='USD')\n",
      "Error 200, reqId 2885: No security definition has been found for the request, contract: Contract(secType='STK', symbol='NWNG', exchange='SMART', currency='USD')\n",
      "Unknown contract: Contract(secType='STK', symbol='NWNG', exchange='SMART', currency='USD')\n"
     ]
    },
    {
     "name": "stdout",
     "output_type": "stream",
     "text": [
      "no history available for ticker MPL\n",
      "no history available for ticker NWNG\n"
     ]
    },
    {
     "name": "stderr",
     "output_type": "stream",
     "text": [
      "Error 200, reqId 2892: No security definition has been found for the request, contract: Contract(secType='STK', symbol='ENI', exchange='SMART', currency='USD')\n",
      "Unknown contract: Contract(secType='STK', symbol='ENI', exchange='SMART', currency='USD')\n"
     ]
    },
    {
     "name": "stdout",
     "output_type": "stream",
     "text": [
      "no history available for ticker ENI\n"
     ]
    },
    {
     "name": "stderr",
     "output_type": "stream",
     "text": [
      "Error 200, reqId 2907: No security definition has been found for the request, contract: Contract(secType='STK', symbol='GOOCV', exchange='SMART', currency='USD')\n",
      "Unknown contract: Contract(secType='STK', symbol='GOOCV', exchange='SMART', currency='USD')\n"
     ]
    },
    {
     "name": "stdout",
     "output_type": "stream",
     "text": [
      "no history available for ticker GOOCV\n"
     ]
    },
    {
     "name": "stderr",
     "output_type": "stream",
     "text": [
      "Error 200, reqId 2916: No security definition has been found for the request, contract: Contract(secType='STK', symbol='SBC', exchange='SMART', currency='USD')\n",
      "Unknown contract: Contract(secType='STK', symbol='SBC', exchange='SMART', currency='USD')\n"
     ]
    },
    {
     "name": "stdout",
     "output_type": "stream",
     "text": [
      "no history available for ticker SBC\n"
     ]
    },
    {
     "name": "stderr",
     "output_type": "stream",
     "text": [
      "Error 200, reqId 2919: No security definition has been found for the request, contract: Contract(secType='STK', symbol='BEL', exchange='SMART', currency='USD')\n",
      "Unknown contract: Contract(secType='STK', symbol='BEL', exchange='SMART', currency='USD')\n"
     ]
    },
    {
     "name": "stdout",
     "output_type": "stream",
     "text": [
      "no history available for ticker BEL\n"
     ]
    },
    {
     "name": "stderr",
     "output_type": "stream",
     "text": [
      "Error 200, reqId 2932: No security definition has been found for the request, contract: Contract(secType='STK', symbol='PCS', exchange='SMART', currency='USD')\n",
      "Unknown contract: Contract(secType='STK', symbol='PCS', exchange='SMART', currency='USD')\n"
     ]
    },
    {
     "name": "stdout",
     "output_type": "stream",
     "text": [
      "no history available for ticker PCS\n"
     ]
    },
    {
     "name": "stderr",
     "output_type": "stream",
     "text": [
      "Error 200, reqId 2955: No security definition has been found for the request, contract: Contract(secType='STK', symbol='FEAC', exchange='SMART', currency='USD')\n",
      "Unknown contract: Contract(secType='STK', symbol='FEAC', exchange='SMART', currency='USD')\n"
     ]
    },
    {
     "name": "stdout",
     "output_type": "stream",
     "text": [
      "no history available for ticker FEAC\n"
     ]
    },
    {
     "name": "stderr",
     "output_type": "stream",
     "text": [
      "Error 200, reqId 2964: No security definition has been found for the request, contract: Contract(secType='STK', symbol='ERTS', exchange='SMART', currency='USD')\n",
      "Unknown contract: Contract(secType='STK', symbol='ERTS', exchange='SMART', currency='USD')\n"
     ]
    },
    {
     "name": "stdout",
     "output_type": "stream",
     "text": [
      "no history available for ticker ERTS\n"
     ]
    },
    {
     "name": "stderr",
     "output_type": "stream",
     "text": [
      "Error 200, reqId 2973: No security definition has been found for the request, contract: Contract(secType='STK', symbol='CDRD', exchange='SMART', currency='USD')\n",
      "Unknown contract: Contract(secType='STK', symbol='CDRD', exchange='SMART', currency='USD')\n",
      "Error 200, reqId 2974: No security definition has been found for the request, contract: Contract(secType='STK', symbol='NWSAV', exchange='SMART', currency='USD')\n",
      "Unknown contract: Contract(secType='STK', symbol='NWSAV', exchange='SMART', currency='USD')\n",
      "Error 200, reqId 2975: No security definition has been found for the request, contract: Contract(secType='STK', symbol='CTL', exchange='SMART', currency='USD')\n"
     ]
    },
    {
     "name": "stdout",
     "output_type": "stream",
     "text": [
      "no history available for ticker CDRD\n",
      "no history available for ticker NWSAV\n"
     ]
    },
    {
     "name": "stderr",
     "output_type": "stream",
     "text": [
      "Unknown contract: Contract(secType='STK', symbol='CTL', exchange='SMART', currency='USD')\n"
     ]
    },
    {
     "name": "stdout",
     "output_type": "stream",
     "text": [
      "no history available for ticker CTL\n"
     ]
    },
    {
     "name": "stderr",
     "output_type": "stream",
     "text": [
      "Error 200, reqId 2982: No security definition has been found for the request, contract: Contract(secType='STK', symbol='LBDKV', exchange='SMART', currency='USD')\n",
      "Unknown contract: Contract(secType='STK', symbol='LBDKV', exchange='SMART', currency='USD')\n"
     ]
    },
    {
     "name": "stdout",
     "output_type": "stream",
     "text": [
      "no history available for ticker LBDKV\n"
     ]
    },
    {
     "name": "stderr",
     "output_type": "stream",
     "text": [
      "Error 200, reqId 2987: No security definition has been found for the request, contract: Contract(secType='STK', symbol='FOXAV', exchange='SMART', currency='USD')\n",
      "Unknown contract: Contract(secType='STK', symbol='FOXAV', exchange='SMART', currency='USD')\n"
     ]
    },
    {
     "name": "stdout",
     "output_type": "stream",
     "text": [
      "no history available for ticker FOXAV\n"
     ]
    },
    {
     "name": "stderr",
     "output_type": "stream",
     "text": [
      "Error 200, reqId 2998: No security definition has been found for the request, contract: Contract(secType='STK', symbol='IDC', exchange='SMART', currency='USD')\n",
      "Unknown contract: Contract(secType='STK', symbol='IDC', exchange='SMART', currency='USD')\n",
      "Error 200, reqId 2999: No security definition has been found for the request, contract: Contract(secType='STK', symbol='RUBI', exchange='SMART', currency='USD')\n",
      "Unknown contract: Contract(secType='STK', symbol='RUBI', exchange='SMART', currency='USD')\n"
     ]
    },
    {
     "name": "stdout",
     "output_type": "stream",
     "text": [
      "no history available for ticker IDC\n",
      "no history available for ticker RUBI\n"
     ]
    },
    {
     "name": "stderr",
     "output_type": "stream",
     "text": [
      "Error 200, reqId 3002: No security definition has been found for the request, contract: Contract(secType='STK', symbol='WWFE', exchange='SMART', currency='USD')\n",
      "Unknown contract: Contract(secType='STK', symbol='WWFE', exchange='SMART', currency='USD')\n"
     ]
    },
    {
     "name": "stdout",
     "output_type": "stream",
     "text": [
      "no history available for ticker WWFE\n"
     ]
    },
    {
     "name": "stderr",
     "output_type": "stream",
     "text": [
      "Error 200, reqId 3011: No security definition has been found for the request, contract: Contract(secType='STK', symbol='FOXBV', exchange='SMART', currency='USD')\n",
      "Unknown contract: Contract(secType='STK', symbol='FOXBV', exchange='SMART', currency='USD')\n"
     ]
    },
    {
     "name": "stdout",
     "output_type": "stream",
     "text": [
      "no history available for ticker FOXBV\n"
     ]
    },
    {
     "name": "stderr",
     "output_type": "stream",
     "text": [
      "Error 200, reqId 3024: No security definition has been found for the request, contract: Contract(secType='STK', symbol='GHQ', exchange='SMART', currency='USD')\n",
      "Unknown contract: Contract(secType='STK', symbol='GHQ', exchange='SMART', currency='USD')\n"
     ]
    },
    {
     "name": "stdout",
     "output_type": "stream",
     "text": [
      "no history available for ticker GHQ\n"
     ]
    },
    {
     "name": "stderr",
     "output_type": "stream",
     "text": [
      "Error 200, reqId 3027: No security definition has been found for the request, contract: Contract(secType='STK', symbol='LGF.A', exchange='SMART', currency='USD')\n",
      "Unknown contract: Contract(secType='STK', symbol='LGF.A', exchange='SMART', currency='USD')\n"
     ]
    },
    {
     "name": "stdout",
     "output_type": "stream",
     "text": [
      "no history available for ticker LGF.A\n"
     ]
    },
    {
     "name": "stderr",
     "output_type": "stream",
     "text": [
      "Error 200, reqId 3040: No security definition has been found for the request, contract: Contract(secType='STK', symbol='MSGEW', exchange='SMART', currency='USD')\n",
      "Unknown contract: Contract(secType='STK', symbol='MSGEW', exchange='SMART', currency='USD')\n"
     ]
    },
    {
     "name": "stdout",
     "output_type": "stream",
     "text": [
      "no history available for ticker MSGEW\n"
     ]
    },
    {
     "name": "stderr",
     "output_type": "stream",
     "text": [
      "Error 200, reqId 3043: No security definition has been found for the request, contract: Contract(secType='STK', symbol='LMCKV', exchange='SMART', currency='USD')\n",
      "Unknown contract: Contract(secType='STK', symbol='LMCKV', exchange='SMART', currency='USD')\n",
      "Error 200, reqId 3044: No security definition has been found for the request, contract: Contract(secType='STK', symbol='IMAXF', exchange='SMART', currency='USD')\n",
      "Unknown contract: Contract(secType='STK', symbol='IMAXF', exchange='SMART', currency='USD')\n"
     ]
    },
    {
     "name": "stdout",
     "output_type": "stream",
     "text": [
      "no history available for ticker LMCKV\n",
      "no history available for ticker IMAXF\n"
     ]
    },
    {
     "name": "stderr",
     "output_type": "stream",
     "text": [
      "Error 200, reqId 3055: No security definition has been found for the request, contract: Contract(secType='STK', symbol='RUK', exchange='SMART', currency='USD')\n",
      "Unknown contract: Contract(secType='STK', symbol='RUK', exchange='SMART', currency='USD')\n",
      "Error 200, reqId 3056: No security definition has been found for the request, contract: Contract(secType='STK', symbol='WIFI', exchange='SMART', currency='USD')\n",
      "Unknown contract: Contract(secType='STK', symbol='WIFI', exchange='SMART', currency='USD')\n"
     ]
    },
    {
     "name": "stdout",
     "output_type": "stream",
     "text": [
      "no history available for ticker RUK\n",
      "no history available for ticker WIFI\n"
     ]
    },
    {
     "name": "stderr",
     "output_type": "stream",
     "text": [
      "Error 200, reqId 3063: No security definition has been found for the request, contract: Contract(secType='STK', symbol='LGF.B', exchange='SMART', currency='USD')\n",
      "Unknown contract: Contract(secType='STK', symbol='LGF.B', exchange='SMART', currency='USD')\n",
      "Error 200, reqId 3064: No security definition has been found for the request, contract: Contract(secType='STK', symbol='GCSB', exchange='SMART', currency='USD')\n",
      "Unknown contract: Contract(secType='STK', symbol='GCSB', exchange='SMART', currency='USD')\n"
     ]
    },
    {
     "name": "stdout",
     "output_type": "stream",
     "text": [
      "no history available for ticker LGF.B\n",
      "no history available for ticker GCSB\n"
     ]
    },
    {
     "name": "stderr",
     "output_type": "stream",
     "text": [
      "Error 200, reqId 3067: No security definition has been found for the request, contract: Contract(secType='STK', symbol='AIX', exchange='SMART', currency='USD')\n",
      "Unknown contract: Contract(secType='STK', symbol='AIX', exchange='SMART', currency='USD')\n"
     ]
    },
    {
     "name": "stdout",
     "output_type": "stream",
     "text": [
      "no history available for ticker AIX\n"
     ]
    },
    {
     "name": "stderr",
     "output_type": "stream",
     "text": [
      "Error 200, reqId 3070: No security definition has been found for the request, contract: Contract(secType='STK', symbol='NWSVV', exchange='SMART', currency='USD')\n",
      "Unknown contract: Contract(secType='STK', symbol='NWSVV', exchange='SMART', currency='USD')\n",
      "Error 200, reqId 3071: No security definition has been found for the request, contract: Contract(secType='STK', symbol='COI', exchange='SMART', currency='USD')\n",
      "Unknown contract: Contract(secType='STK', symbol='COI', exchange='SMART', currency='USD')\n"
     ]
    },
    {
     "name": "stdout",
     "output_type": "stream",
     "text": [
      "no history available for ticker NWSVV\n",
      "no history available for ticker COI\n"
     ]
    },
    {
     "name": "stderr",
     "output_type": "stream",
     "text": [
      "Error 200, reqId 3072: No security definition has been found for the request, contract: Contract(secType='STK', symbol='LBDAV', exchange='SMART', currency='USD')\n",
      "Unknown contract: Contract(secType='STK', symbol='LBDAV', exchange='SMART', currency='USD')\n"
     ]
    },
    {
     "name": "stdout",
     "output_type": "stream",
     "text": [
      "no history available for ticker LBDAV\n"
     ]
    },
    {
     "name": "stderr",
     "output_type": "stream",
     "text": [
      "Error 200, reqId 3075: No security definition has been found for the request, contract: Contract(secType='STK', symbol='KTC', exchange='SMART', currency='USD')\n",
      "Unknown contract: Contract(secType='STK', symbol='KTC', exchange='SMART', currency='USD')\n"
     ]
    },
    {
     "name": "stdout",
     "output_type": "stream",
     "text": [
      "no history available for ticker KTC\n"
     ]
    },
    {
     "name": "stderr",
     "output_type": "stream",
     "text": [
      "Error 200, reqId 3080: No security definition has been found for the request, contract: Contract(secType='STK', symbol='RG', exchange='SMART', currency='USD')\n",
      "Unknown contract: Contract(secType='STK', symbol='RG', exchange='SMART', currency='USD')\n"
     ]
    },
    {
     "name": "stdout",
     "output_type": "stream",
     "text": [
      "no history available for ticker RG\n"
     ]
    },
    {
     "name": "stderr",
     "output_type": "stream",
     "text": [
      "Error 200, reqId 3085: No security definition has been found for the request, contract: Contract(secType='STK', symbol='VPRT', exchange='SMART', currency='USD')\n",
      "Unknown contract: Contract(secType='STK', symbol='VPRT', exchange='SMART', currency='USD')\n"
     ]
    },
    {
     "name": "stdout",
     "output_type": "stream",
     "text": [
      "no history available for ticker VPRT\n"
     ]
    },
    {
     "name": "stderr",
     "output_type": "stream",
     "text": [
      "Error 200, reqId 3092: No security definition has been found for the request, contract: Contract(secType='STK', symbol='SHET', exchange='SMART', currency='USD')\n",
      "Unknown contract: Contract(secType='STK', symbol='SHET', exchange='SMART', currency='USD')\n"
     ]
    },
    {
     "name": "stdout",
     "output_type": "stream",
     "text": [
      "no history available for ticker SHET\n"
     ]
    },
    {
     "name": "stderr",
     "output_type": "stream",
     "text": [
      "Error 200, reqId 3097: No security definition has been found for the request, contract: Contract(secType='STK', symbol='JWA', exchange='SMART', currency='USD')\n",
      "Unknown contract: Contract(secType='STK', symbol='JWA', exchange='SMART', currency='USD')\n"
     ]
    },
    {
     "name": "stdout",
     "output_type": "stream",
     "text": [
      "no history available for ticker JWA\n"
     ]
    },
    {
     "name": "stderr",
     "output_type": "stream",
     "text": [
      "Error 200, reqId 3100: No security definition has been found for the request, contract: Contract(secType='STK', symbol='LILKV', exchange='SMART', currency='USD')\n",
      "Unknown contract: Contract(secType='STK', symbol='LILKV', exchange='SMART', currency='USD')\n"
     ]
    },
    {
     "name": "stdout",
     "output_type": "stream",
     "text": [
      "no history available for ticker LILKV\n"
     ]
    },
    {
     "name": "stderr",
     "output_type": "stream",
     "text": [
      "Error 200, reqId 3105: No security definition has been found for the request, contract: Contract(secType='STK', symbol='VIP', exchange='SMART', currency='USD')\n",
      "Unknown contract: Contract(secType='STK', symbol='VIP', exchange='SMART', currency='USD')\n"
     ]
    },
    {
     "name": "stdout",
     "output_type": "stream",
     "text": [
      "no history available for ticker VIP\n"
     ]
    },
    {
     "name": "stderr",
     "output_type": "stream",
     "text": [
      "Error 200, reqId 3118: No security definition has been found for the request, contract: Contract(secType='STK', symbol='SAQN', exchange='SMART', currency='USD')\n",
      "Unknown contract: Contract(secType='STK', symbol='SAQN', exchange='SMART', currency='USD')\n",
      "Error 200, reqId 3119: No security definition has been found for the request, contract: Contract(secType='STK', symbol='MAIL', exchange='SMART', currency='USD')\n",
      "Unknown contract: Contract(secType='STK', symbol='MAIL', exchange='SMART', currency='USD')\n",
      "Error 200, reqId 3120: No security definition has been found for the request, contract: Contract(secType='STK', symbol='XON', exchange='SMART', currency='USD')\n",
      "Unknown contract: Contract(secType='STK', symbol='XON', exchange='SMART', currency='USD')\n"
     ]
    },
    {
     "name": "stdout",
     "output_type": "stream",
     "text": [
      "no history available for ticker SAQN\n",
      "no history available for ticker MAIL\n",
      "no history available for ticker XON\n"
     ]
    },
    {
     "name": "stderr",
     "output_type": "stream",
     "text": [
      "Error 200, reqId 3121: No security definition has been found for the request, contract: Contract(secType='STK', symbol='CHV', exchange='SMART', currency='USD')\n",
      "Unknown contract: Contract(secType='STK', symbol='CHV', exchange='SMART', currency='USD')\n"
     ]
    },
    {
     "name": "stdout",
     "output_type": "stream",
     "text": [
      "no history available for ticker CHV\n"
     ]
    },
    {
     "name": "stderr",
     "output_type": "stream",
     "text": [
      "Error 200, reqId 3126: No security definition has been found for the request, contract: Contract(secType='STK', symbol='P', exchange='SMART', currency='USD')\n",
      "Unknown contract: Contract(secType='STK', symbol='P', exchange='SMART', currency='USD')\n"
     ]
    },
    {
     "name": "stdout",
     "output_type": "stream",
     "text": [
      "no history available for ticker P\n"
     ]
    },
    {
     "name": "stderr",
     "output_type": "stream",
     "text": [
      "Error 200, reqId 3133: No security definition has been found for the request, contract: Contract(secType='STK', symbol='HOC', exchange='SMART', currency='USD')\n",
      "Unknown contract: Contract(secType='STK', symbol='HOC', exchange='SMART', currency='USD')\n"
     ]
    },
    {
     "name": "stdout",
     "output_type": "stream",
     "text": [
      "no history available for ticker HOC\n"
     ]
    },
    {
     "name": "stderr",
     "output_type": "stream",
     "text": [
      "Error 200, reqId 3138: No security definition has been found for the request, contract: Contract(secType='STK', symbol='IPPIF', exchange='SMART', currency='USD')\n",
      "Unknown contract: Contract(secType='STK', symbol='IPPIF', exchange='SMART', currency='USD')\n"
     ]
    },
    {
     "name": "stdout",
     "output_type": "stream",
     "text": [
      "no history available for ticker IPPIF\n"
     ]
    },
    {
     "name": "stderr",
     "output_type": "stream",
     "text": [
      "Error 200, reqId 3147: No security definition has been found for the request, contract: Contract(secType='STK', symbol='RDSA', exchange='SMART', currency='USD')\n",
      "Unknown contract: Contract(secType='STK', symbol='RDSA', exchange='SMART', currency='USD')\n"
     ]
    },
    {
     "name": "stdout",
     "output_type": "stream",
     "text": [
      "no history available for ticker RDSA\n"
     ]
    },
    {
     "name": "stderr",
     "output_type": "stream",
     "text": [
      "Error 200, reqId 3152: No security definition has been found for the request, contract: Contract(secType='STK', symbol='MPET', exchange='SMART', currency='USD')\n",
      "Unknown contract: Contract(secType='STK', symbol='MPET', exchange='SMART', currency='USD')\n",
      "Error 200, reqId 3153: No security definition has been found for the request, contract: Contract(secType='STK', symbol='BHGE', exchange='SMART', currency='USD')\n",
      "Unknown contract: Contract(secType='STK', symbol='BHGE', exchange='SMART', currency='USD')\n"
     ]
    },
    {
     "name": "stdout",
     "output_type": "stream",
     "text": [
      "no history available for ticker MPET\n",
      "no history available for ticker BHGE\n"
     ]
    },
    {
     "name": "stderr",
     "output_type": "stream",
     "text": [
      "Error 200, reqId 3156: No security definition has been found for the request, contract: Contract(secType='STK', symbol='ETE', exchange='SMART', currency='USD')\n",
      "Unknown contract: Contract(secType='STK', symbol='ETE', exchange='SMART', currency='USD')\n",
      "Error 200, reqId 3157: No security definition has been found for the request, contract: Contract(secType='STK', symbol='PBRA', exchange='SMART', currency='USD')\n",
      "Unknown contract: Contract(secType='STK', symbol='PBRA', exchange='SMART', currency='USD')\n"
     ]
    },
    {
     "name": "stdout",
     "output_type": "stream",
     "text": [
      "no history available for ticker ETE\n",
      "no history available for ticker PBRA\n"
     ]
    },
    {
     "name": "stderr",
     "output_type": "stream",
     "text": [
      "Error 200, reqId 3172: No security definition has been found for the request, contract: Contract(secType='STK', symbol='RDSB', exchange='SMART', currency='USD')\n",
      "Unknown contract: Contract(secType='STK', symbol='RDSB', exchange='SMART', currency='USD')\n"
     ]
    },
    {
     "name": "stdout",
     "output_type": "stream",
     "text": [
      "no history available for ticker RDSB\n"
     ]
    },
    {
     "name": "stderr",
     "output_type": "stream",
     "text": [
      "Error 200, reqId 3179: No security definition has been found for the request, contract: Contract(secType='STK', symbol='CHEX', exchange='SMART', currency='USD')\n",
      "Unknown contract: Contract(secType='STK', symbol='CHEX', exchange='SMART', currency='USD')\n"
     ]
    },
    {
     "name": "stdout",
     "output_type": "stream",
     "text": [
      "no history available for ticker CHEX\n"
     ]
    },
    {
     "name": "stderr",
     "output_type": "stream",
     "text": [
      "Error 200, reqId 3184: No security definition has been found for the request, contract: Contract(secType='STK', symbol='STO', exchange='SMART', currency='USD')\n",
      "Unknown contract: Contract(secType='STK', symbol='STO', exchange='SMART', currency='USD')\n",
      "Error 200, reqId 3185: No security definition has been found for the request, contract: Contract(secType='STK', symbol='AMGP', exchange='SMART', currency='USD')\n",
      "Unknown contract: Contract(secType='STK', symbol='AMGP', exchange='SMART', currency='USD')\n",
      "Error 200, reqId 3186: No security definition has been found for the request, contract: Contract(secType='STK', symbol='CED', exchange='SMART', currency='USD')\n"
     ]
    },
    {
     "name": "stdout",
     "output_type": "stream",
     "text": [
      "no history available for ticker STO\n",
      "no history available for ticker AMGP\n"
     ]
    },
    {
     "name": "stderr",
     "output_type": "stream",
     "text": [
      "Unknown contract: Contract(secType='STK', symbol='CED', exchange='SMART', currency='USD')\n"
     ]
    },
    {
     "name": "stdout",
     "output_type": "stream",
     "text": [
      "no history available for ticker CED\n"
     ]
    },
    {
     "name": "stderr",
     "output_type": "stream",
     "text": [
      "Error 200, reqId 3195: No security definition has been found for the request, contract: Contract(secType='STK', symbol='LOM', exchange='SMART', currency='USD')\n",
      "Unknown contract: Contract(secType='STK', symbol='LOM', exchange='SMART', currency='USD')\n",
      "Error 200, reqId 3196: No security definition has been found for the request, contract: Contract(secType='STK', symbol='MARY', exchange='SMART', currency='USD')\n",
      "Unknown contract: Contract(secType='STK', symbol='MARY', exchange='SMART', currency='USD')\n"
     ]
    },
    {
     "name": "stdout",
     "output_type": "stream",
     "text": [
      "no history available for ticker LOM\n",
      "no history available for ticker MARY\n"
     ]
    },
    {
     "name": "stderr",
     "output_type": "stream",
     "text": [
      "Error 200, reqId 3207: No security definition has been found for the request, contract: Contract(secType='STK', symbol='NOI', exchange='SMART', currency='USD')\n",
      "Unknown contract: Contract(secType='STK', symbol='NOI', exchange='SMART', currency='USD')\n",
      "Error 200, reqId 3208: No security definition has been found for the request, contract: Contract(secType='STK', symbol='WEG', exchange='SMART', currency='USD')\n",
      "Unknown contract: Contract(secType='STK', symbol='WEG', exchange='SMART', currency='USD')\n"
     ]
    },
    {
     "name": "stdout",
     "output_type": "stream",
     "text": [
      "no history available for ticker NOI\n",
      "no history available for ticker WEG\n"
     ]
    },
    {
     "name": "stderr",
     "output_type": "stream",
     "text": [
      "Error 200, reqId 3211: No security definition has been found for the request, contract: Contract(secType='STK', symbol='APY', exchange='SMART', currency='USD')\n",
      "Unknown contract: Contract(secType='STK', symbol='APY', exchange='SMART', currency='USD')\n",
      "Error 200, reqId 3212: No security definition has been found for the request, contract: Contract(secType='STK', symbol='TPGE', exchange='SMART', currency='USD')\n"
     ]
    },
    {
     "name": "stdout",
     "output_type": "stream",
     "text": [
      "no history available for ticker APY\n"
     ]
    },
    {
     "name": "stderr",
     "output_type": "stream",
     "text": [
      "Unknown contract: Contract(secType='STK', symbol='TPGE', exchange='SMART', currency='USD')\n"
     ]
    },
    {
     "name": "stdout",
     "output_type": "stream",
     "text": [
      "no history available for ticker TPGE\n"
     ]
    },
    {
     "name": "stderr",
     "output_type": "stream",
     "text": [
      "Error 200, reqId 3227: No security definition has been found for the request, contract: Contract(secType='STK', symbol='CLNP', exchange='SMART', currency='USD')\n",
      "Unknown contract: Contract(secType='STK', symbol='CLNP', exchange='SMART', currency='USD')\n"
     ]
    },
    {
     "name": "stdout",
     "output_type": "stream",
     "text": [
      "no history available for ticker CLNP\n"
     ]
    },
    {
     "name": "stderr",
     "output_type": "stream",
     "text": [
      "Error 200, reqId 3236: No security definition has been found for the request, contract: Contract(secType='STK', symbol='SRAQ', exchange='SMART', currency='USD')\n",
      "Unknown contract: Contract(secType='STK', symbol='SRAQ', exchange='SMART', currency='USD')\n"
     ]
    },
    {
     "name": "stdout",
     "output_type": "stream",
     "text": [
      "no history available for ticker SRAQ\n"
     ]
    },
    {
     "name": "stderr",
     "output_type": "stream",
     "text": [
      "Error 200, reqId 3245: No security definition has been found for the request, contract: Contract(secType='STK', symbol='PETD', exchange='SMART', currency='USD')\n",
      "Unknown contract: Contract(secType='STK', symbol='PETD', exchange='SMART', currency='USD')\n",
      "Error 200, reqId 3246: No security definition has been found for the request, contract: Contract(secType='STK', symbol='DPM', exchange='SMART', currency='USD')\n",
      "Unknown contract: Contract(secType='STK', symbol='DPM', exchange='SMART', currency='USD')\n",
      "Error 200, reqId 3247: No security definition has been found for the request, contract: Contract(secType='STK', symbol='WGP', exchange='SMART', currency='USD')\n",
      "Unknown contract: Contract(secType='STK', symbol='WGP', exchange='SMART', currency='USD')\n"
     ]
    },
    {
     "name": "stdout",
     "output_type": "stream",
     "text": [
      "no history available for ticker PETD\n",
      "no history available for ticker DPM\n",
      "no history available for ticker WGP\n"
     ]
    },
    {
     "name": "stderr",
     "output_type": "stream",
     "text": [
      "Error 162, reqId 3249: Historical Market Data Service error message:No market data permissions for ARCAEDGE STK, contract: Contract(secType='STK', conId=355720852, symbol='CRLBF', exchange='SMART', primaryExchange='PINK', currency='USD', localSymbol='CRLBF', tradingClass='INTPRIMQX')\n"
     ]
    },
    {
     "name": "stdout",
     "output_type": "stream",
     "text": [
      "no history available for ticker CRLBF\n"
     ]
    },
    {
     "name": "stderr",
     "output_type": "stream",
     "text": [
      "Error 200, reqId 3266: No security definition has been found for the request, contract: Contract(secType='STK', symbol='NRGY', exchange='SMART', currency='USD')\n",
      "Unknown contract: Contract(secType='STK', symbol='NRGY', exchange='SMART', currency='USD')\n"
     ]
    },
    {
     "name": "stdout",
     "output_type": "stream",
     "text": [
      "no history available for ticker NRGY\n"
     ]
    },
    {
     "name": "stderr",
     "output_type": "stream",
     "text": [
      "Error 200, reqId 3285: No security definition has been found for the request, contract: Contract(secType='STK', symbol='CDIS', exchange='SMART', currency='USD')\n",
      "Unknown contract: Contract(secType='STK', symbol='CDIS', exchange='SMART', currency='USD')\n"
     ]
    },
    {
     "name": "stdout",
     "output_type": "stream",
     "text": [
      "no history available for ticker CDIS\n"
     ]
    },
    {
     "name": "stderr",
     "output_type": "stream",
     "text": [
      "Error 200, reqId 3306: No security definition has been found for the request, contract: Contract(secType='STK', symbol='SUSP', exchange='SMART', currency='USD')\n",
      "Unknown contract: Contract(secType='STK', symbol='SUSP', exchange='SMART', currency='USD')\n"
     ]
    },
    {
     "name": "stdout",
     "output_type": "stream",
     "text": [
      "no history available for ticker SUSP\n"
     ]
    },
    {
     "name": "stderr",
     "output_type": "stream",
     "text": [
      "Error 200, reqId 3315: No security definition has been found for the request, contract: Contract(secType='STK', symbol='EXH', exchange='SMART', currency='USD')\n",
      "Unknown contract: Contract(secType='STK', symbol='EXH', exchange='SMART', currency='USD')\n",
      "Error 200, reqId 3316: No security definition has been found for the request, contract: Contract(secType='STK', symbol='UDL', exchange='SMART', currency='USD')\n",
      "Unknown contract: Contract(secType='STK', symbol='UDL', exchange='SMART', currency='USD')\n"
     ]
    },
    {
     "name": "stdout",
     "output_type": "stream",
     "text": [
      "no history available for ticker EXH\n",
      "no history available for ticker UDL\n"
     ]
    },
    {
     "name": "stderr",
     "output_type": "stream",
     "text": [
      "Error 200, reqId 3339: No security definition has been found for the request, contract: Contract(secType='STK', symbol='SGY', exchange='SMART', currency='USD')\n",
      "Unknown contract: Contract(secType='STK', symbol='SGY', exchange='SMART', currency='USD')\n"
     ]
    },
    {
     "name": "stdout",
     "output_type": "stream",
     "text": [
      "no history available for ticker SGY\n"
     ]
    },
    {
     "name": "stderr",
     "output_type": "stream",
     "text": [
      "Error 200, reqId 3372: No security definition has been found for the request, contract: Contract(secType='STK', symbol='ALD', exchange='SMART', currency='USD')\n",
      "Unknown contract: Contract(secType='STK', symbol='ALD', exchange='SMART', currency='USD')\n",
      "Error 200, reqId 3373: No security definition has been found for the request, contract: Contract(secType='STK', symbol='UTX', exchange='SMART', currency='USD')\n",
      "Unknown contract: Contract(secType='STK', symbol='UTX', exchange='SMART', currency='USD')\n",
      "Error 200, reqId 3374: No security definition has been found for the request, contract: Contract(secType='STK', symbol='UAUA', exchange='SMART', currency='USD')\n",
      "Unknown contract: Contract(secType='STK', symbol='UAUA', exchange='SMART', currency='USD')\n"
     ]
    },
    {
     "name": "stdout",
     "output_type": "stream",
     "text": [
      "no history available for ticker ALD\n",
      "no history available for ticker UTX\n",
      "no history available for ticker UAUA\n"
     ]
    },
    {
     "name": "stderr",
     "output_type": "stream",
     "text": [
      "Error 200, reqId 3397: No security definition has been found for the request, contract: Contract(secType='STK', symbol='CUM', exchange='SMART', currency='USD')\n",
      "Unknown contract: Contract(secType='STK', symbol='CUM', exchange='SMART', currency='USD')\n"
     ]
    },
    {
     "name": "stdout",
     "output_type": "stream",
     "text": [
      "no history available for ticker CUM\n"
     ]
    },
    {
     "name": "stderr",
     "output_type": "stream",
     "text": [
      "Error 200, reqId 3418: No security definition has been found for the request, contract: Contract(secType='STK', symbol='HRS', exchange='SMART', currency='USD')\n",
      "Unknown contract: Contract(secType='STK', symbol='HRS', exchange='SMART', currency='USD')\n"
     ]
    },
    {
     "name": "stdout",
     "output_type": "stream",
     "text": [
      "no history available for ticker HRS\n"
     ]
    },
    {
     "name": "stderr",
     "output_type": "stream",
     "text": [
      "Error 200, reqId 3421: No security definition has been found for the request, contract: Contract(secType='STK', symbol='CARRW', exchange='SMART', currency='USD')\n",
      "Unknown contract: Contract(secType='STK', symbol='CARRW', exchange='SMART', currency='USD')\n"
     ]
    },
    {
     "name": "stdout",
     "output_type": "stream",
     "text": [
      "no history available for ticker CARRW\n"
     ]
    },
    {
     "name": "stderr",
     "output_type": "stream",
     "text": [
      "Error 200, reqId 3430: No security definition has been found for the request, contract: Contract(secType='STK', symbol='MRKT', exchange='SMART', currency='USD')\n",
      "Unknown contract: Contract(secType='STK', symbol='MRKT', exchange='SMART', currency='USD')\n"
     ]
    },
    {
     "name": "stdout",
     "output_type": "stream",
     "text": [
      "no history available for ticker MRKT\n"
     ]
    },
    {
     "name": "stderr",
     "output_type": "stream",
     "text": [
      "Error 200, reqId 3433: No security definition has been found for the request, contract: Contract(secType='STK', symbol='OTISW', exchange='SMART', currency='USD')\n",
      "Unknown contract: Contract(secType='STK', symbol='OTISW', exchange='SMART', currency='USD')\n"
     ]
    },
    {
     "name": "stdout",
     "output_type": "stream",
     "text": [
      "no history available for ticker OTISW\n"
     ]
    },
    {
     "name": "stderr",
     "output_type": "stream",
     "text": [
      "Error 200, reqId 3454: No security definition has been found for the request, contract: Contract(secType='STK', symbol='UW', exchange='SMART', currency='USD')\n",
      "Unknown contract: Contract(secType='STK', symbol='UW', exchange='SMART', currency='USD')\n"
     ]
    },
    {
     "name": "stdout",
     "output_type": "stream",
     "text": [
      "no history available for ticker UW\n"
     ]
    },
    {
     "name": "stderr",
     "output_type": "stream",
     "text": [
      "Error 200, reqId 3479: No security definition has been found for the request, contract: Contract(secType='STK', symbol='SZI', exchange='SMART', currency='USD')\n",
      "Unknown contract: Contract(secType='STK', symbol='SZI', exchange='SMART', currency='USD')\n"
     ]
    },
    {
     "name": "stdout",
     "output_type": "stream",
     "text": [
      "no history available for ticker SZI\n"
     ]
    },
    {
     "name": "stderr",
     "output_type": "stream",
     "text": [
      "Error 200, reqId 3488: No security definition has been found for the request, contract: Contract(secType='STK', symbol='BLDPF', exchange='SMART', currency='USD')\n",
      "Unknown contract: Contract(secType='STK', symbol='BLDPF', exchange='SMART', currency='USD')\n"
     ]
    },
    {
     "name": "stdout",
     "output_type": "stream",
     "text": [
      "no history available for ticker BLDPF\n"
     ]
    },
    {
     "name": "stderr",
     "output_type": "stream",
     "text": [
      "Error 200, reqId 3507: No security definition has been found for the request, contract: Contract(secType='STK', symbol='WCNX', exchange='SMART', currency='USD')\n",
      "Unknown contract: Contract(secType='STK', symbol='WCNX', exchange='SMART', currency='USD')\n"
     ]
    },
    {
     "name": "stdout",
     "output_type": "stream",
     "text": [
      "no history available for ticker WCNX\n"
     ]
    },
    {
     "name": "stderr",
     "output_type": "stream",
     "text": [
      "Error 200, reqId 3522: No security definition has been found for the request, contract: Contract(secType='STK', symbol='TASR', exchange='SMART', currency='USD')\n",
      "Unknown contract: Contract(secType='STK', symbol='TASR', exchange='SMART', currency='USD')\n"
     ]
    },
    {
     "name": "stdout",
     "output_type": "stream",
     "text": [
      "no history available for ticker TASR\n"
     ]
    },
    {
     "name": "stderr",
     "output_type": "stream",
     "text": [
      "Error 200, reqId 3559: No security definition has been found for the request, contract: Contract(secType='STK', symbol='TWP', exchange='SMART', currency='USD')\n",
      "Unknown contract: Contract(secType='STK', symbol='TWP', exchange='SMART', currency='USD')\n"
     ]
    },
    {
     "name": "stdout",
     "output_type": "stream",
     "text": [
      "no history available for ticker TWP\n"
     ]
    },
    {
     "name": "stderr",
     "output_type": "stream",
     "text": [
      "Error 200, reqId 3568: No security definition has been found for the request, contract: Contract(secType='STK', symbol='KNGT', exchange='SMART', currency='USD')\n",
      "Unknown contract: Contract(secType='STK', symbol='KNGT', exchange='SMART', currency='USD')\n",
      "Error 200, reqId 3569: No security definition has been found for the request, contract: Contract(secType='STK', symbol='VALM', exchange='SMART', currency='USD')\n",
      "Unknown contract: Contract(secType='STK', symbol='VALM', exchange='SMART', currency='USD')\n",
      "Error 200, reqId 3570: No security definition has been found for the request, contract: Contract(secType='STK', symbol='TOC', exchange='SMART', currency='USD')\n",
      "Unknown contract: Contract(secType='STK', symbol='TOC', exchange='SMART', currency='USD')\n"
     ]
    },
    {
     "name": "stdout",
     "output_type": "stream",
     "text": [
      "no history available for ticker KNGT\n",
      "no history available for ticker VALM\n",
      "no history available for ticker TOC\n"
     ]
    },
    {
     "name": "stderr",
     "output_type": "stream",
     "text": [
      "Error 200, reqId 3581: No security definition has been found for the request, contract: Contract(secType='STK', symbol='OTRKB', exchange='SMART', currency='USD')\n",
      "Unknown contract: Contract(secType='STK', symbol='OTRKB', exchange='SMART', currency='USD')\n"
     ]
    },
    {
     "name": "stdout",
     "output_type": "stream",
     "text": [
      "no history available for ticker OTRKB\n"
     ]
    },
    {
     "name": "stderr",
     "output_type": "stream",
     "text": [
      "Error 200, reqId 3584: No security definition has been found for the request, contract: Contract(secType='STK', symbol='HTZ', exchange='SMART', currency='USD')\n",
      "Unknown contract: Contract(secType='STK', symbol='HTZ', exchange='SMART', currency='USD')\n",
      "Error 200, reqId 3585: No security definition has been found for the request, contract: Contract(secType='STK', symbol='WGOV', exchange='SMART', currency='USD')\n",
      "Unknown contract: Contract(secType='STK', symbol='WGOV', exchange='SMART', currency='USD')\n"
     ]
    },
    {
     "name": "stdout",
     "output_type": "stream",
     "text": [
      "no history available for ticker HTZ\n",
      "no history available for ticker WGOV\n"
     ]
    },
    {
     "name": "stderr",
     "output_type": "stream",
     "text": [
      "Error 200, reqId 3612: No security definition has been found for the request, contract: Contract(secType='STK', symbol='WATR', exchange='SMART', currency='USD')\n",
      "Unknown contract: Contract(secType='STK', symbol='WATR', exchange='SMART', currency='USD')\n"
     ]
    },
    {
     "name": "stdout",
     "output_type": "stream",
     "text": [
      "no history available for ticker WATR\n"
     ]
    },
    {
     "name": "stderr",
     "output_type": "stream",
     "text": [
      "Error 200, reqId 3621: No security definition has been found for the request, contract: Contract(secType='STK', symbol='HEIA', exchange='SMART', currency='USD')\n",
      "Unknown contract: Contract(secType='STK', symbol='HEIA', exchange='SMART', currency='USD')\n"
     ]
    },
    {
     "name": "stdout",
     "output_type": "stream",
     "text": [
      "no history available for ticker HEIA\n"
     ]
    },
    {
     "name": "stderr",
     "output_type": "stream",
     "text": [
      "Error 200, reqId 3628: No security definition has been found for the request, contract: Contract(secType='STK', symbol='EMCG', exchange='SMART', currency='USD')\n",
      "Unknown contract: Contract(secType='STK', symbol='EMCG', exchange='SMART', currency='USD')\n"
     ]
    },
    {
     "name": "stdout",
     "output_type": "stream",
     "text": [
      "no history available for ticker EMCG\n"
     ]
    },
    {
     "name": "stderr",
     "output_type": "stream",
     "text": [
      "Error 200, reqId 3641: No security definition has been found for the request, contract: Contract(secType='STK', symbol='EAGL', exchange='SMART', currency='USD')\n",
      "Unknown contract: Contract(secType='STK', symbol='EAGL', exchange='SMART', currency='USD')\n"
     ]
    },
    {
     "name": "stdout",
     "output_type": "stream",
     "text": [
      "no history available for ticker EAGL\n"
     ]
    },
    {
     "name": "stderr",
     "output_type": "stream",
     "text": [
      "Error 200, reqId 3670: No security definition has been found for the request, contract: Contract(secType='STK', symbol='BWC', exchange='SMART', currency='USD')\n",
      "Unknown contract: Contract(secType='STK', symbol='BWC', exchange='SMART', currency='USD')\n"
     ]
    },
    {
     "name": "stdout",
     "output_type": "stream",
     "text": [
      "no history available for ticker BWC\n"
     ]
    },
    {
     "name": "stderr",
     "output_type": "stream",
     "text": [
      "Error 200, reqId 3685: No security definition has been found for the request, contract: Contract(secType='STK', symbol='FTIC', exchange='SMART', currency='USD')\n",
      "Unknown contract: Contract(secType='STK', symbol='FTIC', exchange='SMART', currency='USD')\n"
     ]
    },
    {
     "name": "stdout",
     "output_type": "stream",
     "text": [
      "no history available for ticker FTIC\n"
     ]
    },
    {
     "name": "stderr",
     "output_type": "stream",
     "text": [
      "Error 200, reqId 3688: No security definition has been found for the request, contract: Contract(secType='STK', symbol='WFII', exchange='SMART', currency='USD')\n",
      "Unknown contract: Contract(secType='STK', symbol='WFII', exchange='SMART', currency='USD')\n"
     ]
    },
    {
     "name": "stdout",
     "output_type": "stream",
     "text": [
      "no history available for ticker WFII\n"
     ]
    },
    {
     "name": "stderr",
     "output_type": "stream",
     "text": [
      "Error 200, reqId 3705: No security definition has been found for the request, contract: Contract(secType='STK', symbol='SCST', exchange='SMART', currency='USD')\n",
      "Unknown contract: Contract(secType='STK', symbol='SCST', exchange='SMART', currency='USD')\n"
     ]
    },
    {
     "name": "stdout",
     "output_type": "stream",
     "text": [
      "no history available for ticker SCST\n"
     ]
    },
    {
     "name": "stderr",
     "output_type": "stream",
     "text": [
      "Error 200, reqId 3738: No security definition has been found for the request, contract: Contract(secType='STK', symbol='GSHT', exchange='SMART', currency='USD')\n",
      "Unknown contract: Contract(secType='STK', symbol='GSHT', exchange='SMART', currency='USD')\n"
     ]
    },
    {
     "name": "stdout",
     "output_type": "stream",
     "text": [
      "no history available for ticker GSHT\n"
     ]
    },
    {
     "name": "stderr",
     "output_type": "stream",
     "text": [
      "Error 200, reqId 3749: No security definition has been found for the request, contract: Contract(secType='STK', symbol='PZB', exchange='SMART', currency='USD')\n",
      "Unknown contract: Contract(secType='STK', symbol='PZB', exchange='SMART', currency='USD')\n"
     ]
    },
    {
     "name": "stdout",
     "output_type": "stream",
     "text": [
      "no history available for ticker PZB\n"
     ]
    },
    {
     "name": "stderr",
     "output_type": "stream",
     "text": [
      "Error 200, reqId 3766: No security definition has been found for the request, contract: Contract(secType='STK', symbol='APZ', exchange='SMART', currency='USD')\n",
      "Unknown contract: Contract(secType='STK', symbol='APZ', exchange='SMART', currency='USD')\n"
     ]
    },
    {
     "name": "stdout",
     "output_type": "stream",
     "text": [
      "no history available for ticker APZ\n"
     ]
    },
    {
     "name": "stderr",
     "output_type": "stream",
     "text": [
      "Error 200, reqId 3775: No security definition has been found for the request, contract: Contract(secType='STK', symbol='ENRJ', exchange='SMART', currency='USD')\n",
      "Unknown contract: Contract(secType='STK', symbol='ENRJ', exchange='SMART', currency='USD')\n",
      "Error 200, reqId 3776: No security definition has been found for the request, contract: Contract(secType='STK', symbol='ABFS', exchange='SMART', currency='USD')\n",
      "Unknown contract: Contract(secType='STK', symbol='ABFS', exchange='SMART', currency='USD')\n"
     ]
    },
    {
     "name": "stdout",
     "output_type": "stream",
     "text": [
      "no history available for ticker ENRJ\n",
      "no history available for ticker ABFS\n"
     ]
    },
    {
     "name": "stderr",
     "output_type": "stream",
     "text": [
      "Error 200, reqId 3779: No security definition has been found for the request, contract: Contract(secType='STK', symbol='CLHB', exchange='SMART', currency='USD')\n",
      "Unknown contract: Contract(secType='STK', symbol='CLHB', exchange='SMART', currency='USD')\n"
     ]
    },
    {
     "name": "stdout",
     "output_type": "stream",
     "text": [
      "no history available for ticker CLHB\n"
     ]
    },
    {
     "name": "stderr",
     "output_type": "stream",
     "text": [
      "Error 200, reqId 3802: No security definition has been found for the request, contract: Contract(secType='STK', symbol='ASF', exchange='SMART', currency='USD')\n",
      "Unknown contract: Contract(secType='STK', symbol='ASF', exchange='SMART', currency='USD')\n"
     ]
    },
    {
     "name": "stdout",
     "output_type": "stream",
     "text": [
      "no history available for ticker ASF\n"
     ]
    },
    {
     "name": "stderr",
     "output_type": "stream",
     "text": [
      "Error 200, reqId 3819: No security definition has been found for the request, contract: Contract(secType='STK', symbol='ABXA', exchange='SMART', currency='USD')\n",
      "Unknown contract: Contract(secType='STK', symbol='ABXA', exchange='SMART', currency='USD')\n"
     ]
    },
    {
     "name": "stdout",
     "output_type": "stream",
     "text": [
      "no history available for ticker ABXA\n"
     ]
    },
    {
     "name": "stderr",
     "output_type": "stream",
     "text": [
      "Error 200, reqId 3822: No security definition has been found for the request, contract: Contract(secType='STK', symbol='GY', exchange='SMART', currency='USD')\n",
      "Unknown contract: Contract(secType='STK', symbol='GY', exchange='SMART', currency='USD')\n"
     ]
    },
    {
     "name": "stdout",
     "output_type": "stream",
     "text": [
      "no history available for ticker GY\n"
     ]
    },
    {
     "name": "stderr",
     "output_type": "stream",
     "text": [
      "Error 200, reqId 3829: No security definition has been found for the request, contract: Contract(secType='STK', symbol='BWC', exchange='SMART', currency='USD')\n",
      "Unknown contract: Contract(secType='STK', symbol='BWC', exchange='SMART', currency='USD')\n"
     ]
    },
    {
     "name": "stdout",
     "output_type": "stream",
     "text": [
      "no history available for ticker BWC\n"
     ]
    },
    {
     "name": "stderr",
     "output_type": "stream",
     "text": [
      "Error 200, reqId 3858: No security definition has been found for the request, contract: Contract(secType='STK', symbol='CGT', exchange='SMART', currency='USD')\n",
      "Unknown contract: Contract(secType='STK', symbol='CGT', exchange='SMART', currency='USD')\n",
      "Error 200, reqId 3859: No security definition has been found for the request, contract: Contract(secType='STK', symbol='WTHG', exchange='SMART', currency='USD')\n",
      "Unknown contract: Contract(secType='STK', symbol='WTHG', exchange='SMART', currency='USD')\n"
     ]
    },
    {
     "name": "stdout",
     "output_type": "stream",
     "text": [
      "no history available for ticker CGT\n",
      "no history available for ticker WTHG\n"
     ]
    },
    {
     "name": "stderr",
     "output_type": "stream",
     "text": [
      "Error 200, reqId 3870: No security definition has been found for the request, contract: Contract(secType='STK', symbol='MNES', exchange='SMART', currency='USD')\n",
      "Unknown contract: Contract(secType='STK', symbol='MNES', exchange='SMART', currency='USD')\n",
      "Error 200, reqId 3871: No security definition has been found for the request, contract: Contract(secType='STK', symbol='TANT', exchange='SMART', currency='USD')\n",
      "Unknown contract: Contract(secType='STK', symbol='TANT', exchange='SMART', currency='USD')\n"
     ]
    },
    {
     "name": "stdout",
     "output_type": "stream",
     "text": [
      "no history available for ticker MNES\n",
      "no history available for ticker TANT\n"
     ]
    },
    {
     "name": "stderr",
     "output_type": "stream",
     "text": [
      "Error 200, reqId 3886: No security definition has been found for the request, contract: Contract(secType='STK', symbol='TFT', exchange='SMART', currency='USD')\n",
      "Unknown contract: Contract(secType='STK', symbol='TFT', exchange='SMART', currency='USD')\n"
     ]
    },
    {
     "name": "stdout",
     "output_type": "stream",
     "text": [
      "no history available for ticker TFT\n"
     ]
    },
    {
     "name": "stderr",
     "output_type": "stream",
     "text": [
      "Error 200, reqId 3889: No security definition has been found for the request, contract: Contract(secType='STK', symbol='SNHY', exchange='SMART', currency='USD')\n",
      "Unknown contract: Contract(secType='STK', symbol='SNHY', exchange='SMART', currency='USD')\n",
      "Error 200, reqId 3890: No security definition has been found for the request, contract: Contract(secType='STK', symbol='KAMNA', exchange='SMART', currency='USD')\n",
      "Unknown contract: Contract(secType='STK', symbol='KAMNA', exchange='SMART', currency='USD')\n",
      "Error 200, reqId 3891: No security definition has been found for the request, contract: Contract(secType='STK', symbol='GMT', exchange='SMART', currency='USD')\n",
      "Unknown contract: Contract(secType='STK', symbol='GMT', exchange='SMART', currency='USD')\n",
      "Error 200, reqId 3892: No security definition has been found for the request, contract: Contract(secType='STK', symbol='SPW', exchange='SMART', currency='USD')\n",
      "Unknown contract: Contract(secType='STK', symbol='SPW', exchange='SMART', currency='USD')\n"
     ]
    },
    {
     "name": "stdout",
     "output_type": "stream",
     "text": [
      "no history available for ticker SNHY\n",
      "no history available for ticker KAMNA\n",
      "no history available for ticker GMT\n",
      "no history available for ticker SPW\n"
     ]
    },
    {
     "name": "stderr",
     "output_type": "stream",
     "text": [
      "Error 200, reqId 3903: No security definition has been found for the request, contract: Contract(secType='STK', symbol='MOG.A', exchange='SMART', currency='USD')\n",
      "Unknown contract: Contract(secType='STK', symbol='MOG.A', exchange='SMART', currency='USD')\n"
     ]
    },
    {
     "name": "stdout",
     "output_type": "stream",
     "text": [
      "no history available for ticker MOG.A\n"
     ]
    },
    {
     "name": "stderr",
     "output_type": "stream",
     "text": [
      "Error 200, reqId 3906: No security definition has been found for the request, contract: Contract(secType='STK', symbol='BRCOA', exchange='SMART', currency='USD')\n",
      "Unknown contract: Contract(secType='STK', symbol='BRCOA', exchange='SMART', currency='USD')\n"
     ]
    },
    {
     "name": "stdout",
     "output_type": "stream",
     "text": [
      "no history available for ticker BRCOA\n"
     ]
    },
    {
     "name": "stderr",
     "output_type": "stream",
     "text": [
      "Error 200, reqId 3915: No security definition has been found for the request, contract: Contract(secType='STK', symbol='MIII', exchange='SMART', currency='USD')\n",
      "Unknown contract: Contract(secType='STK', symbol='MIII', exchange='SMART', currency='USD')\n",
      "Error 200, reqId 3916: No security definition has been found for the request, contract: Contract(secType='STK', symbol='HONI', exchange='SMART', currency='USD')\n",
      "Unknown contract: Contract(secType='STK', symbol='HONI', exchange='SMART', currency='USD')\n"
     ]
    },
    {
     "name": "stdout",
     "output_type": "stream",
     "text": [
      "no history available for ticker MIII\n",
      "no history available for ticker HONI\n"
     ]
    },
    {
     "name": "stderr",
     "output_type": "stream",
     "text": [
      "Error 200, reqId 3921: No security definition has been found for the request, contract: Contract(secType='STK', symbol='CBAK', exchange='SMART', currency='USD')\n",
      "Unknown contract: Contract(secType='STK', symbol='CBAK', exchange='SMART', currency='USD')\n"
     ]
    },
    {
     "name": "stdout",
     "output_type": "stream",
     "text": [
      "no history available for ticker CBAK\n"
     ]
    },
    {
     "name": "stderr",
     "output_type": "stream",
     "text": [
      "Error 200, reqId 3928: No security definition has been found for the request, contract: Contract(secType='STK', symbol='ROMC', exchange='SMART', currency='USD')\n",
      "Unknown contract: Contract(secType='STK', symbol='ROMC', exchange='SMART', currency='USD')\n"
     ]
    },
    {
     "name": "stdout",
     "output_type": "stream",
     "text": [
      "no history available for ticker ROMC\n"
     ]
    },
    {
     "name": "stderr",
     "output_type": "stream",
     "text": [
      "Error 200, reqId 3949: No security definition has been found for the request, contract: Contract(secType='STK', symbol='RIMM', exchange='SMART', currency='USD')\n",
      "Unknown contract: Contract(secType='STK', symbol='RIMM', exchange='SMART', currency='USD')\n"
     ]
    },
    {
     "name": "stdout",
     "output_type": "stream",
     "text": [
      "no history available for ticker RIMM\n"
     ]
    },
    {
     "name": "stderr",
     "output_type": "stream",
     "text": [
      "Error 200, reqId 3954: No security definition has been found for the request, contract: Contract(secType='STK', symbol='HWP', exchange='SMART', currency='USD')\n",
      "Unknown contract: Contract(secType='STK', symbol='HWP', exchange='SMART', currency='USD')\n"
     ]
    },
    {
     "name": "stdout",
     "output_type": "stream",
     "text": [
      "no history available for ticker HWP\n"
     ]
    },
    {
     "name": "stderr",
     "output_type": "stream",
     "text": [
      "Error 200, reqId 3993: No security definition has been found for the request, contract: Contract(secType='STK', symbol='ASMLF', exchange='SMART', currency='USD')\n",
      "Unknown contract: Contract(secType='STK', symbol='ASMLF', exchange='SMART', currency='USD')\n"
     ]
    },
    {
     "name": "stdout",
     "output_type": "stream",
     "text": [
      "no history available for ticker ASMLF\n"
     ]
    },
    {
     "name": "stderr",
     "output_type": "stream",
     "text": [
      "Error 200, reqId 4008: No security definition has been found for the request, contract: Contract(secType='STK', symbol='VSNR', exchange='SMART', currency='USD')\n",
      "Unknown contract: Contract(secType='STK', symbol='VSNR', exchange='SMART', currency='USD')\n",
      "Error 200, reqId 4009: No security definition has been found for the request, contract: Contract(secType='STK', symbol='APPY', exchange='SMART', currency='USD')\n",
      "Unknown contract: Contract(secType='STK', symbol='APPY', exchange='SMART', currency='USD')\n"
     ]
    },
    {
     "name": "stdout",
     "output_type": "stream",
     "text": [
      "no history available for ticker VSNR\n",
      "no history available for ticker APPY\n"
     ]
    },
    {
     "name": "stderr",
     "output_type": "stream",
     "text": [
      "Error 200, reqId 4032: No security definition has been found for the request, contract: Contract(secType='STK', symbol='AHA', exchange='SMART', currency='USD')\n",
      "Unknown contract: Contract(secType='STK', symbol='AHA', exchange='SMART', currency='USD')\n"
     ]
    },
    {
     "name": "stdout",
     "output_type": "stream",
     "text": [
      "no history available for ticker AHA\n"
     ]
    },
    {
     "name": "stderr",
     "output_type": "stream",
     "text": [
      "Error 200, reqId 4079: No security definition has been found for the request, contract: Contract(secType='STK', symbol='MOT', exchange='SMART', currency='USD')\n",
      "Unknown contract: Contract(secType='STK', symbol='MOT', exchange='SMART', currency='USD')\n",
      "Error 200, reqId 4080: No security definition has been found for the request, contract: Contract(secType='STK', symbol='CDN', exchange='SMART', currency='USD')\n",
      "Unknown contract: Contract(secType='STK', symbol='CDN', exchange='SMART', currency='USD')\n"
     ]
    },
    {
     "name": "stdout",
     "output_type": "stream",
     "text": [
      "no history available for ticker MOT\n",
      "no history available for ticker CDN\n"
     ]
    },
    {
     "name": "stderr",
     "output_type": "stream",
     "text": [
      "Error 200, reqId 4101: No security definition has been found for the request, contract: Contract(secType='STK', symbol='GART', exchange='SMART', currency='USD')\n",
      "Unknown contract: Contract(secType='STK', symbol='GART', exchange='SMART', currency='USD')\n"
     ]
    },
    {
     "name": "stdout",
     "output_type": "stream",
     "text": [
      "no history available for ticker GART\n"
     ]
    },
    {
     "name": "stderr",
     "output_type": "stream",
     "text": [
      "Error 200, reqId 4116: No security definition has been found for the request, contract: Contract(secType='STK', symbol='SYMC', exchange='SMART', currency='USD')\n",
      "Unknown contract: Contract(secType='STK', symbol='SYMC', exchange='SMART', currency='USD')\n"
     ]
    },
    {
     "name": "stdout",
     "output_type": "stream",
     "text": [
      "no history available for ticker SYMC\n"
     ]
    },
    {
     "name": "stderr",
     "output_type": "stream",
     "text": [
      "Error 200, reqId 4123: No security definition has been found for the request, contract: Contract(secType='STK', symbol='JFAX', exchange='SMART', currency='USD')\n",
      "Unknown contract: Contract(secType='STK', symbol='JFAX', exchange='SMART', currency='USD')\n"
     ]
    },
    {
     "name": "stdout",
     "output_type": "stream",
     "text": [
      "no history available for ticker JFAX\n"
     ]
    },
    {
     "name": "stderr",
     "output_type": "stream",
     "text": [
      "Error 200, reqId 4128: No security definition has been found for the request, contract: Contract(secType='STK', symbol='MNDL', exchange='SMART', currency='USD')\n",
      "Unknown contract: Contract(secType='STK', symbol='MNDL', exchange='SMART', currency='USD')\n"
     ]
    },
    {
     "name": "stdout",
     "output_type": "stream",
     "text": [
      "no history available for ticker MNDL\n"
     ]
    },
    {
     "name": "stderr",
     "output_type": "stream",
     "text": [
      "Error 200, reqId 4141: No security definition has been found for the request, contract: Contract(secType='STK', symbol='WXS', exchange='SMART', currency='USD')\n",
      "Unknown contract: Contract(secType='STK', symbol='WXS', exchange='SMART', currency='USD')\n"
     ]
    },
    {
     "name": "stdout",
     "output_type": "stream",
     "text": [
      "no history available for ticker WXS\n"
     ]
    },
    {
     "name": "stderr",
     "output_type": "stream",
     "text": [
      "Error 200, reqId 4148: No security definition has been found for the request, contract: Contract(secType='STK', symbol='CHKPF', exchange='SMART', currency='USD')\n",
      "Unknown contract: Contract(secType='STK', symbol='CHKPF', exchange='SMART', currency='USD')\n"
     ]
    },
    {
     "name": "stdout",
     "output_type": "stream",
     "text": [
      "no history available for ticker CHKPF\n"
     ]
    },
    {
     "name": "stderr",
     "output_type": "stream",
     "text": [
      "Error 200, reqId 4175: No security definition has been found for the request, contract: Contract(secType='STK', symbol='CCC', exchange='SMART', currency='USD')\n",
      "Unknown contract: Contract(secType='STK', symbol='CCC', exchange='SMART', currency='USD')\n"
     ]
    },
    {
     "name": "stdout",
     "output_type": "stream",
     "text": [
      "no history available for ticker CCC\n"
     ]
    },
    {
     "name": "stderr",
     "output_type": "stream",
     "text": [
      "Error 200, reqId 4206: No security definition has been found for the request, contract: Contract(secType='STK', symbol='GMHI', exchange='SMART', currency='USD')\n",
      "Unknown contract: Contract(secType='STK', symbol='GMHI', exchange='SMART', currency='USD')\n"
     ]
    },
    {
     "name": "stdout",
     "output_type": "stream",
     "text": [
      "no history available for ticker GMHI\n"
     ]
    },
    {
     "name": "stderr",
     "output_type": "stream",
     "text": [
      "Error 200, reqId 4209: No security definition has been found for the request, contract: Contract(secType='STK', symbol='LOGIY', exchange='SMART', currency='USD')\n",
      "Unknown contract: Contract(secType='STK', symbol='LOGIY', exchange='SMART', currency='USD')\n",
      "Error 200, reqId 4210: No security definition has been found for the request, contract: Contract(secType='STK', symbol='FIC', exchange='SMART', currency='USD')\n",
      "Unknown contract: Contract(secType='STK', symbol='FIC', exchange='SMART', currency='USD')\n"
     ]
    },
    {
     "name": "stdout",
     "output_type": "stream",
     "text": [
      "no history available for ticker LOGIY\n",
      "no history available for ticker FIC\n"
     ]
    },
    {
     "name": "stderr",
     "output_type": "stream",
     "text": [
      "Error 200, reqId 4215: No security definition has been found for the request, contract: Contract(secType='STK', symbol='SAI', exchange='SMART', currency='USD')\n",
      "Unknown contract: Contract(secType='STK', symbol='SAI', exchange='SMART', currency='USD')\n"
     ]
    },
    {
     "name": "stdout",
     "output_type": "stream",
     "text": [
      "no history available for ticker SAI\n"
     ]
    },
    {
     "name": "stderr",
     "output_type": "stream",
     "text": [
      "Error 200, reqId 4218: No security definition has been found for the request, contract: Contract(secType='STK', symbol='ERICY', exchange='SMART', currency='USD')\n",
      "Unknown contract: Contract(secType='STK', symbol='ERICY', exchange='SMART', currency='USD')\n"
     ]
    },
    {
     "name": "stdout",
     "output_type": "stream",
     "text": [
      "no history available for ticker ERICY\n"
     ]
    },
    {
     "name": "stderr",
     "output_type": "stream",
     "text": [
      "Error 200, reqId 4247: No security definition has been found for the request, contract: Contract(secType='STK', symbol='PMTC', exchange='SMART', currency='USD')\n",
      "Unknown contract: Contract(secType='STK', symbol='PMTC', exchange='SMART', currency='USD')\n"
     ]
    },
    {
     "name": "stdout",
     "output_type": "stream",
     "text": [
      "no history available for ticker PMTC\n"
     ]
    },
    {
     "name": "stderr",
     "output_type": "stream",
     "text": [
      "Error 200, reqId 4260: No security definition has been found for the request, contract: Contract(secType='STK', symbol='YOD', exchange='SMART', currency='USD')\n",
      "Unknown contract: Contract(secType='STK', symbol='YOD', exchange='SMART', currency='USD')\n"
     ]
    },
    {
     "name": "stdout",
     "output_type": "stream",
     "text": [
      "no history available for ticker YOD\n"
     ]
    },
    {
     "name": "stderr",
     "output_type": "stream",
     "text": [
      "Error 200, reqId 4265: No security definition has been found for the request, contract: Contract(secType='STK', symbol='LITEV', exchange='SMART', currency='USD')\n",
      "Unknown contract: Contract(secType='STK', symbol='LITEV', exchange='SMART', currency='USD')\n"
     ]
    },
    {
     "name": "stdout",
     "output_type": "stream",
     "text": [
      "no history available for ticker LITEV\n"
     ]
    },
    {
     "name": "stderr",
     "output_type": "stream",
     "text": [
      "Error 200, reqId 4276: No security definition has been found for the request, contract: Contract(secType='STK', symbol='UNPH', exchange='SMART', currency='USD')\n",
      "Unknown contract: Contract(secType='STK', symbol='UNPH', exchange='SMART', currency='USD')\n"
     ]
    },
    {
     "name": "stdout",
     "output_type": "stream",
     "text": [
      "no history available for ticker UNPH\n"
     ]
    },
    {
     "name": "stderr",
     "output_type": "stream",
     "text": [
      "Error 200, reqId 4297: No security definition has been found for the request, contract: Contract(secType='STK', symbol='JBIL', exchange='SMART', currency='USD')\n",
      "Unknown contract: Contract(secType='STK', symbol='JBIL', exchange='SMART', currency='USD')\n"
     ]
    },
    {
     "name": "stdout",
     "output_type": "stream",
     "text": [
      "no history available for ticker JBIL\n"
     ]
    },
    {
     "name": "stderr",
     "output_type": "stream",
     "text": [
      "Error 200, reqId 4300: No security definition has been found for the request, contract: Contract(secType='STK', symbol='ACXM', exchange='SMART', currency='USD')\n",
      "Unknown contract: Contract(secType='STK', symbol='ACXM', exchange='SMART', currency='USD')\n",
      "Error 200, reqId 4301: No security definition has been found for the request, contract: Contract(secType='STK', symbol='TRNE', exchange='SMART', currency='USD')\n",
      "Unknown contract: Contract(secType='STK', symbol='TRNE', exchange='SMART', currency='USD')\n"
     ]
    },
    {
     "name": "stdout",
     "output_type": "stream",
     "text": [
      "no history available for ticker ACXM\n",
      "no history available for ticker TRNE\n"
     ]
    },
    {
     "name": "stderr",
     "output_type": "stream",
     "text": [
      "Error 200, reqId 4306: No security definition has been found for the request, contract: Contract(secType='STK', symbol='FLEXF', exchange='SMART', currency='USD')\n",
      "Unknown contract: Contract(secType='STK', symbol='FLEXF', exchange='SMART', currency='USD')\n"
     ]
    },
    {
     "name": "stdout",
     "output_type": "stream",
     "text": [
      "no history available for ticker FLEXF\n"
     ]
    },
    {
     "name": "stderr",
     "output_type": "stream",
     "text": [
      "Error 200, reqId 4317: No security definition has been found for the request, contract: Contract(secType='STK', symbol='VNTW', exchange='SMART', currency='USD')\n",
      "Unknown contract: Contract(secType='STK', symbol='VNTW', exchange='SMART', currency='USD')\n"
     ]
    },
    {
     "name": "stdout",
     "output_type": "stream",
     "text": [
      "no history available for ticker VNTW\n"
     ]
    },
    {
     "name": "stderr",
     "output_type": "stream",
     "text": [
      "Error 200, reqId 4336: No security definition has been found for the request, contract: Contract(secType='STK', symbol='OTEXF', exchange='SMART', currency='USD')\n",
      "Unknown contract: Contract(secType='STK', symbol='OTEXF', exchange='SMART', currency='USD')\n"
     ]
    },
    {
     "name": "stdout",
     "output_type": "stream",
     "text": [
      "no history available for ticker OTEXF\n"
     ]
    },
    {
     "name": "stderr",
     "output_type": "stream",
     "text": [
      "Error 200, reqId 4371: No security definition has been found for the request, contract: Contract(secType='STK', symbol='CRNCV', exchange='SMART', currency='USD')\n",
      "Unknown contract: Contract(secType='STK', symbol='CRNCV', exchange='SMART', currency='USD')\n"
     ]
    },
    {
     "name": "stdout",
     "output_type": "stream",
     "text": [
      "no history available for ticker CRNCV\n"
     ]
    },
    {
     "name": "stderr",
     "output_type": "stream",
     "text": [
      "Error 200, reqId 4406: No security definition has been found for the request, contract: Contract(secType='STK', symbol='CDKVV', exchange='SMART', currency='USD')\n",
      "Unknown contract: Contract(secType='STK', symbol='CDKVV', exchange='SMART', currency='USD')\n",
      "Error 200, reqId 4407: No security definition has been found for the request, contract: Contract(secType='STK', symbol='UBNT', exchange='SMART', currency='USD')\n",
      "Unknown contract: Contract(secType='STK', symbol='UBNT', exchange='SMART', currency='USD')\n"
     ]
    },
    {
     "name": "stdout",
     "output_type": "stream",
     "text": [
      "no history available for ticker CDKVV\n",
      "no history available for ticker UBNT\n"
     ]
    },
    {
     "name": "stderr",
     "output_type": "stream",
     "text": [
      "Error 200, reqId 4424: No security definition has been found for the request, contract: Contract(secType='STK', symbol='DNJR', exchange='SMART', currency='USD')\n",
      "Unknown contract: Contract(secType='STK', symbol='DNJR', exchange='SMART', currency='USD')\n",
      "Error 200, reqId 4425: No security definition has been found for the request, contract: Contract(secType='STK', symbol='SLTD', exchange='SMART', currency='USD')\n",
      "Unknown contract: Contract(secType='STK', symbol='SLTD', exchange='SMART', currency='USD')\n"
     ]
    },
    {
     "name": "stdout",
     "output_type": "stream",
     "text": [
      "no history available for ticker DNJR\n",
      "no history available for ticker SLTD\n"
     ]
    },
    {
     "name": "stderr",
     "output_type": "stream",
     "text": [
      "Error 200, reqId 4446: No security definition has been found for the request, contract: Contract(secType='STK', symbol='TSAI', exchange='SMART', currency='USD')\n",
      "Unknown contract: Contract(secType='STK', symbol='TSAI', exchange='SMART', currency='USD')\n"
     ]
    },
    {
     "name": "stdout",
     "output_type": "stream",
     "text": [
      "no history available for ticker TSAI\n"
     ]
    },
    {
     "name": "stderr",
     "output_type": "stream",
     "text": [
      "Error 200, reqId 4451: No security definition has been found for the request, contract: Contract(secType='STK', symbol='NICEY', exchange='SMART', currency='USD')\n",
      "Unknown contract: Contract(secType='STK', symbol='NICEY', exchange='SMART', currency='USD')\n"
     ]
    },
    {
     "name": "stdout",
     "output_type": "stream",
     "text": [
      "no history available for ticker NICEY\n"
     ]
    },
    {
     "name": "stderr",
     "output_type": "stream",
     "text": [
      "Error 200, reqId 4486: No security definition has been found for the request, contract: Contract(secType='STK', symbol='MAXNV', exchange='SMART', currency='USD')\n",
      "Unknown contract: Contract(secType='STK', symbol='MAXNV', exchange='SMART', currency='USD')\n"
     ]
    },
    {
     "name": "stdout",
     "output_type": "stream",
     "text": [
      "no history available for ticker MAXNV\n"
     ]
    },
    {
     "name": "stderr",
     "output_type": "stream",
     "text": [
      "Error 200, reqId 4495: No security definition has been found for the request, contract: Contract(secType='STK', symbol='MDA', exchange='SMART', currency='USD')\n",
      "Unknown contract: Contract(secType='STK', symbol='MDA', exchange='SMART', currency='USD')\n"
     ]
    },
    {
     "name": "stdout",
     "output_type": "stream",
     "text": [
      "no history available for ticker MDA\n"
     ]
    },
    {
     "name": "stderr",
     "output_type": "stream",
     "text": [
      "Error 200, reqId 4504: No security definition has been found for the request, contract: Contract(secType='STK', symbol='PTAC', exchange='SMART', currency='USD')\n",
      "Unknown contract: Contract(secType='STK', symbol='PTAC', exchange='SMART', currency='USD')\n"
     ]
    },
    {
     "name": "stdout",
     "output_type": "stream",
     "text": [
      "no history available for ticker PTAC\n"
     ]
    },
    {
     "name": "stderr",
     "output_type": "stream",
     "text": [
      "Error 200, reqId 4511: No security definition has been found for the request, contract: Contract(secType='STK', symbol='DIO', exchange='SMART', currency='USD')\n",
      "Unknown contract: Contract(secType='STK', symbol='DIO', exchange='SMART', currency='USD')\n"
     ]
    },
    {
     "name": "stdout",
     "output_type": "stream",
     "text": [
      "no history available for ticker DIO\n"
     ]
    },
    {
     "name": "stderr",
     "output_type": "stream",
     "text": [
      "Error 200, reqId 4520: No security definition has been found for the request, contract: Contract(secType='STK', symbol='SMMC', exchange='SMART', currency='USD')\n",
      "Unknown contract: Contract(secType='STK', symbol='SMMC', exchange='SMART', currency='USD')\n"
     ]
    },
    {
     "name": "stdout",
     "output_type": "stream",
     "text": [
      "no history available for ticker SMMC\n"
     ]
    },
    {
     "name": "stderr",
     "output_type": "stream",
     "text": [
      "Error 200, reqId 4547: No security definition has been found for the request, contract: Contract(secType='STK', symbol='NVTL', exchange='SMART', currency='USD')\n",
      "Unknown contract: Contract(secType='STK', symbol='NVTL', exchange='SMART', currency='USD')\n"
     ]
    },
    {
     "name": "stdout",
     "output_type": "stream",
     "text": [
      "no history available for ticker NVTL\n"
     ]
    },
    {
     "name": "stderr",
     "output_type": "stream",
     "text": [
      "Error 200, reqId 4552: No security definition has been found for the request, contract: Contract(secType='STK', symbol='VSCI', exchange='SMART', currency='USD')\n",
      "Unknown contract: Contract(secType='STK', symbol='VSCI', exchange='SMART', currency='USD')\n"
     ]
    },
    {
     "name": "stdout",
     "output_type": "stream",
     "text": [
      "no history available for ticker VSCI\n"
     ]
    },
    {
     "name": "stderr",
     "output_type": "stream",
     "text": [
      "Error 200, reqId 4563: No security definition has been found for the request, contract: Contract(secType='STK', symbol='PIOS', exchange='SMART', currency='USD')\n",
      "Unknown contract: Contract(secType='STK', symbol='PIOS', exchange='SMART', currency='USD')\n"
     ]
    },
    {
     "name": "stdout",
     "output_type": "stream",
     "text": [
      "no history available for ticker PIOS\n"
     ]
    },
    {
     "name": "stderr",
     "output_type": "stream",
     "text": [
      "Error 200, reqId 4572: No security definition has been found for the request, contract: Contract(secType='STK', symbol='TSRA', exchange='SMART', currency='USD')\n",
      "Unknown contract: Contract(secType='STK', symbol='TSRA', exchange='SMART', currency='USD')\n"
     ]
    },
    {
     "name": "stdout",
     "output_type": "stream",
     "text": [
      "no history available for ticker TSRA\n"
     ]
    },
    {
     "name": "stderr",
     "output_type": "stream",
     "text": [
      "Error 200, reqId 4577: No security definition has been found for the request, contract: Contract(secType='STK', symbol='TSEMF', exchange='SMART', currency='USD')\n",
      "Unknown contract: Contract(secType='STK', symbol='TSEMF', exchange='SMART', currency='USD')\n"
     ]
    },
    {
     "name": "stdout",
     "output_type": "stream",
     "text": [
      "no history available for ticker TSEMF\n"
     ]
    },
    {
     "name": "stderr",
     "output_type": "stream",
     "text": [
      "Error 200, reqId 4594: No security definition has been found for the request, contract: Contract(secType='STK', symbol='PAMT', exchange='SMART', currency='USD')\n",
      "Unknown contract: Contract(secType='STK', symbol='PAMT', exchange='SMART', currency='USD')\n",
      "Error 200, reqId 4595: No security definition has been found for the request, contract: Contract(secType='STK', symbol='TBRG', exchange='SMART', currency='USD')\n",
      "Unknown contract: Contract(secType='STK', symbol='TBRG', exchange='SMART', currency='USD')\n"
     ]
    },
    {
     "name": "stdout",
     "output_type": "stream",
     "text": [
      "no history available for ticker PAMT\n",
      "no history available for ticker TBRG\n"
     ]
    },
    {
     "name": "stderr",
     "output_type": "stream",
     "text": [
      "Error 200, reqId 4604: No security definition has been found for the request, contract: Contract(secType='STK', symbol='DLPH', exchange='SMART', currency='USD')\n",
      "Unknown contract: Contract(secType='STK', symbol='DLPH', exchange='SMART', currency='USD')\n",
      "Error 200, reqId 4605: No security definition has been found for the request, contract: Contract(secType='STK', symbol='PCVA', exchange='SMART', currency='USD')\n",
      "Unknown contract: Contract(secType='STK', symbol='PCVA', exchange='SMART', currency='USD')\n"
     ]
    },
    {
     "name": "stdout",
     "output_type": "stream",
     "text": [
      "no history available for ticker DLPH\n",
      "no history available for ticker PCVA\n"
     ]
    },
    {
     "name": "stderr",
     "output_type": "stream",
     "text": [
      "Error 200, reqId 4606: No security definition has been found for the request, contract: Contract(secType='STK', symbol='NVMM', exchange='SMART', currency='USD')\n",
      "Unknown contract: Contract(secType='STK', symbol='NVMM', exchange='SMART', currency='USD')\n"
     ]
    },
    {
     "name": "stdout",
     "output_type": "stream",
     "text": [
      "no history available for ticker NVMM\n"
     ]
    },
    {
     "name": "stderr",
     "output_type": "stream",
     "text": [
      "Error 200, reqId 4609: No security definition has been found for the request, contract: Contract(secType='STK', symbol='HSTX', exchange='SMART', currency='USD')\n",
      "Unknown contract: Contract(secType='STK', symbol='HSTX', exchange='SMART', currency='USD')\n"
     ]
    },
    {
     "name": "stdout",
     "output_type": "stream",
     "text": [
      "no history available for ticker HSTX\n"
     ]
    },
    {
     "name": "stderr",
     "output_type": "stream",
     "text": [
      "Error 200, reqId 4616: No security definition has been found for the request, contract: Contract(secType='STK', symbol='GSCN', exchange='SMART', currency='USD')\n",
      "Unknown contract: Contract(secType='STK', symbol='GSCN', exchange='SMART', currency='USD')\n",
      "Error 200, reqId 4617: No security definition has been found for the request, contract: Contract(secType='STK', symbol='XGTI', exchange='SMART', currency='USD')\n",
      "Unknown contract: Contract(secType='STK', symbol='XGTI', exchange='SMART', currency='USD')\n"
     ]
    },
    {
     "name": "stdout",
     "output_type": "stream",
     "text": [
      "no history available for ticker GSCN\n",
      "no history available for ticker XGTI\n"
     ]
    },
    {
     "name": "stderr",
     "output_type": "stream",
     "text": [
      "Error 200, reqId 4628: No security definition has been found for the request, contract: Contract(secType='STK', symbol='SPU', exchange='SMART', currency='USD')\n",
      "Unknown contract: Contract(secType='STK', symbol='SPU', exchange='SMART', currency='USD')\n",
      "Error 200, reqId 4629: No security definition has been found for the request, contract: Contract(secType='STK', symbol='GILTF', exchange='SMART', currency='USD')\n",
      "Unknown contract: Contract(secType='STK', symbol='GILTF', exchange='SMART', currency='USD')\n"
     ]
    },
    {
     "name": "stdout",
     "output_type": "stream",
     "text": [
      "no history available for ticker SPU\n",
      "no history available for ticker GILTF\n"
     ]
    },
    {
     "name": "stderr",
     "output_type": "stream",
     "text": [
      "Error 200, reqId 4642: No security definition has been found for the request, contract: Contract(secType='STK', symbol='METHA', exchange='SMART', currency='USD')\n",
      "Unknown contract: Contract(secType='STK', symbol='METHA', exchange='SMART', currency='USD')\n",
      "Error 200, reqId 4643: No security definition has been found for the request, contract: Contract(secType='STK', symbol='MLCH', exchange='SMART', currency='USD')\n",
      "Unknown contract: Contract(secType='STK', symbol='MLCH', exchange='SMART', currency='USD')\n"
     ]
    },
    {
     "name": "stdout",
     "output_type": "stream",
     "text": [
      "no history available for ticker METHA\n",
      "no history available for ticker MLCH\n"
     ]
    }
   ],
   "source": [
    "look_back = '1 M'\n",
    "resolution = '1 day'\n",
    "side ='Trades' # last trade, or ASK, or Bid\n",
    "end_time = datetime.now()\n",
    "vol_lst = []\n",
    "for ticker in Stocks_dollar_volume_min_price_continuity_all:\n",
    "    equity_history = get_stock_data(ticker, look_back, resolution, side, end_time)\n",
    "    vol_lst.append(calculate_vol(equity_history, ticker))"
   ]
  },
  {
   "cell_type": "code",
   "execution_count": 13,
   "metadata": {},
   "outputs": [],
   "source": [
    "[Stocks_dollar_volume_min_price_continuity_all_sorted, Vols_dollar_volume_min_price_continuity_all_sorted] = \\\n",
    "sort_first_by_second (Stocks_dollar_volume_min_price_continuity_all, vol_lst)"
   ]
  },
  {
   "cell_type": "code",
   "execution_count": 14,
   "metadata": {},
   "outputs": [
    {
     "name": "stdout",
     "output_type": "stream",
     "text": [
      "Number of stocks in QuantConnect but can't be found in InteractiveBrokers: 449\n",
      "Number of stocks after price screening (price>20), dollar volume screening (top 70%), continuity screening (April 1st, May 4th and June 1st) and IB availability screening is 2098\n"
     ]
    }
   ],
   "source": [
    "print(\"Number of stocks in QuantConnect but can\\'t be found in InteractiveBrokers: \" + \\\n",
    "      str(len(Stocks_dollar_volume_min_price_continuity_all)-len(Stocks_dollar_volume_min_price_continuity_all_sorted)))\n",
    "print(\"Number of stocks after price screening (price>20), dollar volume screening (top 70%), continuity screening \\\n",
    "(April 1st, May 4th and June 1st) and IB availability screening is \" + str(len(Stocks_dollar_volume_min_price_continuity_all_sorted)))"
   ]
  },
  {
   "cell_type": "code",
   "execution_count": 15,
   "metadata": {
    "scrolled": true
   },
   "outputs": [
    {
     "name": "stdout",
     "output_type": "stream",
     "text": [
      "Stocks_dollar_volume_min_price_continuity_all_sorted = ['CATM', 'NAV', 'PPD', 'GRA', 'HEC', 'MGLN', 'LMNX', 'RTP', 'RTP', 'FRTA', 'SFTW', 'CAP', 'AACQ', 'PNM', 'PFPT', 'NAD', 'ORBC', 'SPWH', 'SPAQ', 'GPAC', 'VTIQ', 'ATMR', 'NEA', 'STAY', 'TTMI', 'KCAC', 'BCE', 'ERC', 'ALXN', 'VGAC', 'NVS', 'TU', 'KO', 'WPF', 'PRAH', 'FTS', 'PHYS', 'SJR', 'RY', 'FM', 'POST', 'UL', 'IPOF', 'CHNG', 'TDSC', 'JNJ', 'AKAM', 'DNP', 'PFE', 'BPY', 'PEP', 'HSY', 'COHR', 'WLTW', 'TSN', 'EXG', 'BNS', 'UTG', 'GIS', 'CLX', 'BDX', 'CHD', 'TD', 'CDC', 'GSAH', 'CL', 'HRC', 'ADM', 'KHC', 'FTOC', 'VRTX', 'RDY', 'UNH', 'PPL', 'DEO', 'GPN', 'BIP', 'KMB', 'SHW', 'PSA', 'BMO', 'BMY', 'CEF', 'CAG', 'ORLY', 'YUM', 'RBIN', 'MMC', 'ATR', 'K', 'CTSH', 'MCD', 'BUD', 'NI', 'FMC', 'V', 'RGA', 'IDA', 'ABBV', 'CEY', 'PM', 'HAIN', 'ED', 'BTI', 'CPB', 'IBM', 'GOF', 'EL', 'QSR', 'UNP', 'OMC', 'BAX', 'PLXS', 'RDWR', 'DLR', 'CACI', 'WTRG', 'DRE', 'TAK', 'SMFG', 'WORK', 'D', 'FRX', 'MO', 'VRSN', 'MANT', 'DUK', 'RACE', 'SSNC', 'CI', 'HE', 'EPD', 'ORCC', 'CSX', 'MDT', 'WMT', 'WEC', 'AMT', 'JKHY', 'SO', 'PG', 'INFY', 'FPL', 'CSCO', 'BLDG', 'AMGN', 'ATO', 'PRMW', 'UBS', 'UHS', 'SRE', 'TRP', 'FE', 'FMS', 'UPS', 'SUI', 'LMT', 'MMM', 'SRCL', 'EMR', 'ROP', 'SON', 'RSG', 'MTD', 'AEE', 'DPZ', 'LSI', 'ITW', 'ZTS', 'CORT', 'AFL', 'BK', 'MUFG', 'AMCR', 'ETN', 'TRNO', 'OTIS', 'CERN', 'CAT', 'NVO', 'MEDP', 'BR', 'NSC', 'AGR', 'HOLX', 'HII', 'INVH', 'EXLS', 'MFC', 'AWK', 'FFC', 'GILD', 'DB', 'MSM', 'REGN', 'POR', 'GMAB', 'GD', 'LCA', 'AQN', 'INCY', 'AEP', 'GIB', 'VVV', 'SNY', 'LMAT', 'REYN', 'PEG', 'ARE', 'AJG', 'MPLX', 'KMI', 'CHE', 'NKE', 'FRC', 'CTXS', 'THS', 'IQV', 'MAA', 'SEIC', 'CPT', 'HUM', 'GRMN', 'FDS', 'FLO', 'PPG', 'BMRN', 'CME', 'DTE', 'MRK', 'PSLV', 'SEE', 'COST', 'MGP', 'VRSK', 'KN', 'SBUX', 'SLGN', 'FAST', 'AXP', 'ORI', 'A', 'AZO', 'EXR', 'MCK', 'NLY', 'FR', 'MMS', 'IEX', 'GNL', 'GBDC', 'ICE', 'ATH', 'SAIC', 'APD', 'CSGS', 'ATH', 'CINF', 'BCM', 'DOV', 'VIRT', 'JAZZ', 'RHI', 'ORC', 'LFC', 'FISV', 'ACN', 'DOC', 'NUVA', 'STT', 'NSIT', 'ETR', 'NOC', 'DIS', 'NLSN', 'NFG', 'BNL', 'GWW', 'ORCL', 'VNT', 'IPG', 'HR', 'TWO', 'CBOE', 'KNL', 'FITB', 'USNA', 'BLKB', 'NFLX', 'OGS', 'USB', 'HUBB', 'AGNC', 'MPW', 'HIW', 'QTWO', 'NTRS', 'COO', 'SBAC', 'FSS', 'PKG', 'ROK', 'MBT', 'OGE', 'PAYX', 'AME', 'BLK', 'DEA', 'E', 'CNA', 'UTF', 'OTTR', 'HIG', 'SRV', 'APH', 'ALL', 'DLB', 'AMZN', 'NOMD', 'SNA', 'O', 'AIZ', 'FAF', 'TFC', 'NDAQ', 'ADC', 'SNDR', 'SYK', 'COLM', 'STOR', 'AMP', 'PRU', 'EFX', 'WMB', 'ARCC', 'FAF', 'HAS', 'AVY', 'ECL', 'PEAK', 'SYY', 'PCI', 'LANC', 'CHH', 'GMED', 'SNN', 'HTLD', 'VMC', 'MA', 'LAMR', 'CWST', 'COLD', 'CSL', 'YNDX', 'ILPT', 'MRCY', 'KSU', 'CDW', 'ALLE', 'FLT', 'BERY', 'CWT', 'MASI', 'MDU', 'CNS', 'CNS', 'GGG', 'EGP', 'PBA', 'BCS', 'WU', 'CMS', 'UDR', 'CSR', 'EXPD', 'CIM', 'JJSF', 'APO', 'CBSH', 'UNIT', 'EQR', 'BSTZ', 'FSKR', 'JBHT', 'HTA', 'NEOG', 'MPC', 'MSGS', 'PBH', 'NBIX', 'RJF', 'FNV', 'SAP', 'KEYS', 'ACM', 'PRAA', 'DGX', 'SRC', 'IDXX', 'TYL', 'NUS', 'CE', 'MCY', 'AXS', 'TDS', 'ERIE', 'TROW', 'CHRW', 'CFR', 'IART', 'CXP', 'WHR', 'ENSG', 'NTST', 'LBTYK', 'CXP', 'AIRC', 'CMA', 'PRFT', 'CCEP', 'FTV', 'SWCH', 'GPC', 'BAH', 'DX', 'AAPL', 'WERN', 'JHG', 'WAB', 'ATVI', 'Y', 'YUMC', 'QCOM', 'MWA', 'TRU', 'PNW', 'BKI', 'IRT', 'MCFE', 'FDX', 'PHG', 'PRI', 'FRT', 'EW', 'LTC', 'LW', 'PSMT', 'MSFT', 'PDI', 'GNTX', 'LH', 'PPC', 'BHE', 'OMCL', 'KEY', 'ISRG', 'AMX', 'SAN', 'IFF', 'EBC', 'PNC', 'EBC', 'VRNT', 'REG', 'ARNA', 'PMT', 'SCL', 'MET', 'NGG', 'ACC', 'SUPN', 'BG', 'INTC', 'BX', 'BG', 'TFX', 'SWK', 'CUZ', 'TRV', 'EURN', 'WIT', 'LBTYA', 'ABB', 'AVAV', 'NJR', 'NWL', 'ROL', 'BPOP', 'SLM', 'COF', 'NXST', 'MOH', 'REXR', 'IP', 'CTVA', 'EIG', 'HOME', 'HCA', 'BKH', 'LIVN', 'CVS', 'CBT', 'NMRK', 'ALC', 'LXP', 'ROAD', 'FB', 'GOOG', 'NVT', 'OR', 'SFBS', 'AAWW', 'OCFC', 'HD', 'ESS', 'CNO', 'BDN', 'CP', 'XRAY', 'SAFM', 'J', 'LII', 'PSN', 'NTR', 'OHI', 'NTCT', 'WST', 'SANM', 'WIRE', 'CGNX', 'CBRE', 'INTU', 'HMN', 'LSTR', 'AIG', 'KRC', 'TEL', 'RGLD', 'NATI', 'MAN', 'VCRA', 'CTAS', 'ING', 'HLF', 'CQP', 'COR', 'JCI', 'HBAN', 'GS', 'KBR', 'TTC', 'LAUR', 'HCSG', 'ARW', 'RGR', 'SIGI', 'INOV', 'ALSN', 'HQY', 'NNN', 'GKOS', 'RYN', 'TS', 'BMEZ', 'STC', 'SJI', 'HSIC', 'LFUS', 'PDM', 'ROLL', 'ATRI', 'AMH', 'CHTR', 'ITRI', 'BSX', 'LOPE', 'AES', 'PCAR', 'LYG', 'FOXF', 'KOF', 'RE', 'KKR', 'ICUI', 'WRI', 'ADBE', 'DHR', 'FULT', 'CFG', 'ASB', 'NVST', 'MANH', 'MLM', 'IBKR', 'CFX', 'BMI', 'VMW', 'MKL', 'TOT', 'CBU', 'CASH', 'KR', 'CPK', 'NEP', 'QLYS', 'PNR', 'JNPR', 'AWI', 'HLT', 'G', 'STWD', 'CATY', 'KNSL', 'NRZ', 'CRUS', 'LEG', 'CWEN', 'WSO', 'ESNT', 'RMBS', 'POOL', 'CF', 'NVRO', 'PZZA', 'RLI', 'SNP', 'GWB', 'PRGO', 'EFC', 'BECN', 'SVMK', 'BLL', 'DOW', 'DOW', 'AGO', 'PH', 'MC', 'CAH', 'STM', 'PINC', 'ODFL', 'XYL', 'RA', 'AIV', 'AMD', 'MKTX', 'IBN', 'UE', 'EWBC', 'RNR', 'ALLY', 'BOH', 'EIX', 'VRT', 'ALNY', 'IR', 'LPLA', 'FCBP', 'DE', 'DOX', 'COMM', 'TMO', 'PGRE', 'CMG', 'ISBC', 'PRGS', 'SPB', 'SWX', 'CR', 'WSBC', 'CALM', 'AEM', 'SNX', 'CASY', 'TRMB', 'WH', 'DG', 'ILMN', 'RBC', 'TNET', 'ABMD', 'UGI', 'CNNE', 'VICI', 'KIM', 'TRMK', 'SWI', 'GLW', 'MORN', 'FCNCA', 'APPF', 'OKE', 'CNMD', 'PYPL', 'EPAM', 'AVT', 'LECO', 'ESE', 'UNF', 'SEM', 'CMP', 'HPE', 'GDDY', 'PBCT', 'PFG', 'CPRT', 'NEM', 'NOW', 'JBGS', 'NSA', 'AGIO', 'GIL', 'WAT', 'TXN', 'CABO', 'CLM', 'ADUS', 'WTS', 'SPSC', 'SYF', 'VOYA', 'AC', 'CTLT', 'ANET', 'AAON', 'CG', 'LSXMK', 'AAP', 'IBTX', 'DNB', 'UMBF', 'CARR', 'PTC', 'DNB', 'AAT', 'ASH', 'EPC', 'ANSS', 'LNC', 'HGV', 'EPAY', 'MTX', 'LOW', 'ESRT', 'VLY', 'OCDX', 'CIT', 'DFS', 'ATUS', 'DEI', 'FIBK', 'SASR', 'FFBC', 'CNI', 'PJT', 'LPRO', 'TSCO', 'FUN', 'MAS', 'EVTC', 'CW', 'SHO', 'APLE', 'TKR', 'ALKS', 'ZBRA', 'FBP', 'AMED', 'SLAB', 'ESI', 'DCI', 'UMPQ', 'FMX', 'ATRC', 'UMH', 'GMRE', 'DRVN', 'BKU', 'SUZ', 'FOCS', 'OMF', 'ZION', 'ALV', 'HOMB', 'SC', 'OFG', 'IMKTA', 'GFL', 'ELAN', 'HMC', 'AVTR', 'VNDA', 'HDB', 'PFS', 'PTR', 'BOKF', 'SATS', 'PCTY', 'HUN', 'VSH', 'MTN', 'TDG', 'EGBN', 'BRX', 'BXP', 'ZNGA', 'CRL', 'TDY', 'GPK', 'CMCSA', 'PGR', 'NHI', 'TR', 'SFM', 'QNST', 'SLG', 'HPP', 'AEG', 'IHRT', 'AEIS', 'WSFS', 'IMO', 'ALEX', 'ALEX', 'TPB', 'AXTA', 'SCPL', 'FMBI', 'BFAM', 'LPSN', 'OI', 'KMT', 'ABM', 'BRMK', 'TXT', 'SAFE', 'SNV', 'ARI', 'IAA', 'EGO', 'TEF', 'QRVO', 'IPGP', 'MLI', 'ENR', 'AOS', 'GOLF', 'BP', 'FRME', 'SNPS', 'FFIV', 'NTAP', 'PNFP', 'AYI', 'WD', 'ORA', 'EQH', 'HEP', 'FFIN', 'ARNC', 'KFY', 'WRE', 'HLNE', 'TJX', 'AZZ', 'ROCK', 'KB', 'BL', 'EMN', 'GWRE', 'INDB', 'FTNT', 'LHCG', 'RPD', 'ACHC', 'FCPT', 'MDRX', 'LCII', 'ASGN', 'ADSK', 'KL', 'EEFT', 'PAA', 'UNVR', 'MUSA', 'NEO', 'SCS', 'WDFC', 'PING', 'MAR', 'NYT', 'SF', 'UVV', 'FLS', 'KWR', 'UNM', 'MITK', 'PSEC', 'CHK', 'IBOC', 'TSM', 'BHP', 'TTGT', 'WLK', 'FHI', 'VST', 'BWA', 'CCK', 'LSXMA', 'ARMK', 'CONE', 'EPRT', 'HZNP', 'ARES', 'SPTN', 'ROST', 'HUBG', 'MMSI', 'ACI', 'BEN', 'CENTA', 'XLRN', 'BOX', 'HRL', 'STRA', 'B', 'ST', 'FBHS', 'STMP', 'WRK', 'AVGO', 'CARA', 'WY', 'H', 'KEX', 'PTCT', 'PIPR', 'NTB', 'XLNX', 'BCOV', 'WTFC', 'CLI', 'HEI', 'HLI', 'TCBI', 'RYAAY', 'TFII', 'NMIH', 'DELL', 'GRFS', 'NTGR', 'CSOD', 'RXN', 'MRSN', 'VIV', 'SHLX', 'FELE', 'AVGOP', 'WYNN', 'SBNY', 'PRG', 'PDCO', 'MAIN', 'SPOT', 'GLPG', 'CVLT', 'MTG', 'AL', 'ARDX', 'WFG', 'CERS', 'ABEV', 'LVS', 'ZGNX', 'HURN', 'ADI', 'GVA', 'MFA', 'NEWR', 'SBGI', 'CMT', 'PWR', 'WAL', 'TNDM', 'BOWX', 'GCP', 'AQUA', 'CRI', 'FLOW', 'AMRC', 'DBX', 'BXS', 'NGVT', 'GLOB', 'EHTH', 'VNO', 'ALGN', 'KRG', 'ANGO', 'PEGA', 'SMCI', 'BA', 'UTHR', 'BCEI', 'MLHR', 'CDAY', 'IRWD', 'LUV', 'EPAC', 'PODD', 'LAZ', 'LYB', 'PSX', 'XPEL', 'FHB', 'TRHC', 'PFSI', 'CRM', 'DXC', 'LADR', 'FN', 'TW', 'DHT', 'PAGP', 'BABA', 'SSD', 'SHG', 'FSLR', 'ITCI', 'MTZ', 'ALRM', 'CNHI', 'BEP', 'VLO', 'CVGW', 'SPG', 'IMMR', 'ENS', 'SMG', 'PTY', 'COKE', 'PCG', 'BBL', 'CMCO', 'HTGC', 'INFN', 'RS', 'MXIM', 'CBRL', 'VG', 'AIMC', 'EBAY', 'EVOP', 'MGA', 'SILK', 'MELI', 'MCHP', 'NRG', 'PLMR', 'PEB', 'LEA', 'MHK', 'LRN', 'FAIL', 'EVR', 'GE', 'RPAI', 'LULU', 'OMAB', 'COLB', 'NPO', 'ROG', 'ATHM', 'HI', 'LNN', 'SMTC', 'CHDN', 'ZEN', 'ZEN', 'ZUO', 'VIAC', 'PRO', 'HELE', 'SAND', 'WDAY', 'ELF', 'BBD', 'TECH', 'TENB', 'CWK', 'DAL', 'BSY', 'TRN', 'ITUB', 'SIVB', 'CIB', 'ATEC', 'NXPI', 'ASIX', 'ALTR', 'CNXC', 'NVMI', 'DISH', 'AIN', 'DRI', 'CIG', 'DISCA', 'PCRX', 'EXPE', 'GBCI', 'AGI', 'RIO', 'SGEN', 'MIDD', 'ZTO', 'DCPH', 'KURA', 'BBY', 'TPL', 'TWTR', 'BURL', 'DISCK', 'POWI', 'XRX', 'R', 'BIPC', 'HAL', 'WMK', 'SBS', 'GMS', 'CHGG', 'PZN', 'OC', 'VRTS', 'SSTK', 'VNOM', 'SSP', 'GDOT', 'GFF', 'DXCM', 'PSXP', 'TXRH', 'PANW', 'URI', 'SAVE', 'XHR', 'AIR', 'FIX', 'PSTG', 'ALK', 'TCMD', 'GM', 'KMX', 'ENBL', 'BTG', 'SKX', 'BPMC', 'THC', 'CADE', 'RLJ', 'VAC', 'AMG', 'RH', 'AVLR', 'HTHT', 'MODN', 'CPA', 'UCBI', 'INN', 'PII', 'PVG', 'FRHC', 'AER', 'RVNC', 'NSP', 'PAYA', 'BC', 'AUY', 'ASTE', 'TV', 'ACA', 'NDSN', 'AMBA', 'HSC', 'PLNT', 'VICR', 'ON', 'JBLU', 'SKYW', 'DOOR', 'EOG', 'TMDX', 'HMHC', 'EXEL', 'WCC', 'MAT', 'FRO', 'AMKR', 'NVR', 'ADT', 'IVR', 'UBSI', 'MOS', 'RPRX', 'NOK', 'MU', 'GOCO', 'FRPT', 'ABCB', 'MPWR', 'KLAC', 'TTM', 'AERI', 'MTCH', 'SHOP', 'SAIL', 'DLX', 'HRB', 'RARE', 'EVBG', 'CUBI', 'AXNX', 'TTWO', 'MX', 'LAND', 'LAND', 'RUSHA', 'IIPR', 'DT', 'MYRG', 'BSBR', 'ENTA', 'JRVR', 'PCH', 'EAF', 'APAM', 'STRL', 'BIDU', 'HXL', 'AYX', 'PAYC', 'LZB', 'RCUS', 'GBT', 'MIME', 'TWOU', 'FND', 'UA', 'ARGX', 'RBA', 'SGMO', 'SFL', 'BEPC', 'TEAM', 'PATK', 'MNRO', 'PKX', 'AKTS', 'HEES', 'AZEK', 'WHD', 'LLY', 'EC', 'DBD', 'CARG', 'TDC', 'ABR', 'ALGT', 'CC', 'MRTX', 'NVDA', 'ASAN', 'SDGR', 'COTY', 'APG', 'CDXS', 'ALB', 'DLTR', 'RGNX', 'DDOG', 'AVYA', 'SU', 'UHAL', 'STLD', 'LEN', 'AEL', 'TBK', 'APT', 'NG', 'LYV', 'CREE', 'WMS', 'HCAT', 'USFD', 'FIVN', 'UFPI', 'CYBR', 'NCR', 'ULTA', 'VOD', 'GH', 'GNW', 'MCS', 'WMG', 'STNE', 'MXL', 'HHC', 'BAND', 'DCT', 'AU', 'GNRC', 'COG', 'LOB', 'XNCR', 'CVCO', 'DRH', 'SUM', 'CARS', 'VSAT', 'ALLK', 'ASO', 'HSKA', 'VFC', 'AZPN', 'TPH', 'KGC', 'IIVI', 'PRIM', 'TROX', 'BRKS', 'SMAR', 'BLUE', 'VRNS', 'KRA', 'GLNG', 'CMTL', 'SGH', 'ABT', 'ZLAB', 'RGEN', 'CORE', 'HUBS', 'MKSI', 'SMPL', 'PINS', 'MTH', 'WK', 'BLDR', 'LESL', 'SWBI', 'CTS', 'TER', 'ALGM', 'YELP', 'CCMP', 'THO', 'PTGX', 'PAX', 'PHM', 'HAYW', 'DFIN', 'WING', 'SIBN', 'IAG', 'DHI', 'TEX', 'BGNE', 'SWM', 'ABG', 'MIC', 'TXG', 'SYNA', 'ENVA', 'PRQR', 'ADS', 'IBP', 'SEAS', 'NVCR', 'KRTX', 'ENTG', 'XP', 'BBIO', 'MDGL', 'SHOO', 'OXM', 'OCUL', 'RDUS', 'NTNX', 'UBER', 'PGTI', 'CMC', 'SIX', 'TTEC', 'INSM', 'ATKR', 'MRVI', 'CUK', 'PLAB', 'MTSI', 'MMYT', 'LPL', 'CLNY', 'ZM', 'Z', 'Z', 'CHEF', 'FIVE', 'BKD', 'ZG', 'ZIOP', 'CNDT', 'CBD', 'KLIC', 'AMWD', 'NTES', 'GPI', 'NTCO', 'BRP', 'JD', 'ACP', 'SGRY', 'MYGN', 'ATC', 'PETQ', 'TTD', 'VNE', 'PBR', 'QRTEA', 'LEVI', 'BYD', 'FOLD', 'LGND', 'CRWD', 'LRCX', 'MDC', 'UTZ', 'CCL', 'AZRE', 'PBR', 'KIDS', 'IRBT', 'QURE', 'EB', 'MORF', 'JELD', 'REZI', 'NPTN', 'INT', 'PK', 'OPRX', 'SNAP', 'RL', 'OLN', 'HASI', 'VEEV', 'PLTK', 'U', 'CGNT', 'ROKU', 'STAA', 'TGTX', 'EVH', 'AAL', 'BJ', 'MRVL', 'EBS', 'PGNY', 'PVH', 'NTRA', 'PXD', 'TMHC', 'FOUR', 'STNG', 'CRSR', 'CCJ', 'PI', 'RVMD', 'UCTT', 'DNOW', 'CROX', 'SLB', 'TDOC', 'BLMN', 'EYE', 'CDNA', 'AAN', 'CIEN', 'AHCO', 'GT', 'CNX', 'DAN', 'RCL', 'SCHN', 'EXAS', 'ACAD', 'SHYF', 'NCNO', 'SAH', 'AFYA', 'RAVN', 'SBH', 'NAT', 'TOL', 'OPCH', 'GB', 'ELP', 'LUNG', 'SPR', 'MED', 'MTDR', 'BHVN', 'INMD', 'INGN', 'FORM', 'AKRO', 'DAR', 'EXTR', 'LSCC', 'ZI', 'KAR', 'COUP', 'COUP', 'ARWR', 'TSE', 'PAGS', 'FANG', 'GGB', 'DECK', 'OLLI', 'RCM', 'ACLS', 'TPX', 'MYOV', 'GBX', 'PRLB', 'TRUP', 'CRSP', 'WGO', 'ESTC', 'LYFT', 'DEN', 'ARCH', 'SVM', 'LL', 'DVAX', 'UGP', 'FROG', 'MSGE', 'ETH', 'RCII', 'ADPT', 'EQX', 'AMAT', 'XEC', 'UIS', 'MDLA', 'NCLH', 'SRRK', 'EGHT', 'ERJ', 'CSTM', 'TREE', 'LGIH', 'VC', 'VC', 'KALU', 'ONTO', 'TSLA', 'PFGC', 'ICHR', 'YETI', 'KPTI', 'VSTO', 'RYTM', 'PEN', 'ENV', 'CVNA', 'TRGP', 'ARVL', 'CERT', 'TRIP', 'SAM', 'GEL', 'CVE', 'RNG', 'AFMD', 'TBIO', 'CLR', 'FCX', 'DOMO', 'PAVM', 'GSHD', 'AVID', 'SHC', 'RILY', 'CHRS', 'SUMO', 'MBUU', 'FSM', 'AOSL', 'AUD', 'GRPN', 'WLL', 'NOG', 'OM', 'W', 'BLFS', 'AXSM', 'KTB', 'GRUB', 'BLD', 'ARVN', 'TPIC', 'EEIQ', 'ETRN', 'GTHX', 'UNFI', 'VRM', 'BCC', 'BEAM', 'RLAY', 'MDP', 'ALLO', 'GOOS', 'COHU', 'FTI', 'KBH', 'CAKE', 'ZUMZ', 'TXMD', 'LOVE', 'LPX', 'SABR', 'MHO', 'MTW', 'UMC', 'QDEL', 'ENDP', 'SQ', 'KRNT', 'PENN', 'BVN', 'EDIT', 'CHWY', 'ETSY', 'PBI', 'EVER', 'OKTA', 'IMGN', 'CPRX', 'ADNT', 'SAGE', 'OVV', 'YMAB', 'TPTX', 'WDC', 'CDLX', 'SNDX', 'ERF', 'SITE', 'KOD', 'DHC', 'NVTA', 'NET', 'FMTX', 'SXC', 'EPR', 'ASX', 'AKBA', 'AG', 'CHUY', 'ENPH', 'AG', 'TWLO', 'FGEN', 'LAC', 'HA', 'MRNA', 'EQT', 'DOOO', 'SILV', 'INSP', 'BILL', 'SWTX', 'CYTK', 'NUE', 'SANA', 'HP', 'GCI', 'GCI', 'TUP', 'GOL', 'SPLK', 'ALHC', 'CLII', 'EOLS', 'HBI', 'WTI', 'RDFN', 'ABNB', 'ATRA', 'SEDG', 'CYRX', 'PHR', 'BZUN', 'ACCD', 'CWH', 'POWW', 'LTHM', 'ACVA', 'ZNTL', 'MEG', 'F', 'CCS', 'AHC', 'BKE', 'IIN', 'CSIQ', 'KIRK', 'GAN', 'ZYME', 'ZS', 'DRNA', 'GOGO', 'AXL', 'BTAI', 'PACB', 'RLGY', 'SNOW', 'BAP', 'NSTG', 'AR', 'TVTX', 'CNSL', 'CALX', 'CLVS', 'DOCN', 'RRR', 'SITM', 'OAS', 'GDS', 'OMER', 'VKTX', 'CTRN', 'APA', 'JBT', 'CRS', 'LC', 'PLAY', 'CD', 'TNXP', 'GPS', 'SID', 'NARI', 'WVE', 'CX', 'UFS', 'MUR', 'SKT', 'FVRR', 'BE', 'BGS', 'AA', 'ESPR', 'SONO', 'CRK', 'DKNG', 'VIR', 'AA', 'SBSW', 'X', 'TGH', 'DK', 'DGLY', 'WWW', 'NRIX', 'SSYS', 'SGFY', 'CGC', 'RIGL', 'GDRX', 'GIII', 'EAT', 'OSH', 'UPWK', 'RUN', 'SPWR', 'ACMR', 'WOOF', 'ARC', 'ARCE', 'SQM', 'MAC', 'PTON', 'ACTC', 'PLAN', 'DVN', 'PSTH', 'MRO', 'SRNE', 'RUBY', 'CCXI', 'CTMX', 'CLF', 'CPG', 'DNLI', 'PLTR', 'RUTH', 'HIBB', 'ALXO', 'KALA', 'ODP', 'ENLC', 'URBN', 'AFG', 'AZUL', 'GSM', 'SELB', 'GES', 'GPRO', 'VET', 'CNK', 'ELY', 'SNCY', 'HBM', 'ATHA', 'AMRS', 'NXE', 'KROS', 'KSS', 'BW', 'XM', 'CSTL', 'PSNL', 'HAE', 'BZH', 'JAMF', 'OXY', 'IGMS', 'SFIX', 'SWN', 'HZO', 'AVXL', 'TWST', 'RKT', 'AMCX', 'BOOT', 'ICPT', 'HYFM', 'THCB', 'BLI', 'KNDI', 'STX', 'BILI', 'HL', 'LBRT', 'VCYT', 'KOPN', 'EXK', 'NTLA', 'DKS', 'PTEN', 'ANF', 'BCRX', 'SHAK', 'ONEW', 'GBIO', 'IGT', 'FLGT', 'AMTI', 'FTCH', 'ONEM', 'SPT', 'MESA', 'CDE', 'PANL', 'CVI', 'LSPD', 'MOGO', 'NOVA', 'TMST', 'FATE', 'CYH', 'MDB', 'KYMR', 'NFE', 'ARCT', 'PBF', 'BIGC', 'DAC', 'HCC', 'HOFV', 'GPRE', 'VFF', 'PRTS', 'CCIV', 'TGI', 'CACC', 'QTS', 'JYNT', 'CCCC', 'MCRB', 'GCO', 'SDC', 'SURF', 'LNTH', 'REPL', 'ITRM', 'FLWS', 'RAD', 'RRGB', 'PUBM', 'SOLO', 'SVC', 'HRTX', 'GNUS', 'PD', 'DOCU', 'QTRX', 'MSTR', 'YEXT', 'ATNX', 'FNKO', 'CGEN', 'MGNX', 'TPGY', 'SKY', 'DPW', 'TCS', 'VZIO', 'ROOT', 'CLNE', 'SWAV', 'ALEC', 'REGI', 'AUPH', 'CRON', 'CPNG', 'OGI', 'DY', 'KOS', 'OSCR', 'XL', 'NMM', 'ALT', 'ALT', 'HEXO', 'RIG', 'UUUU', 'PLCE', 'TRCH', 'GRWG', 'TLRY', 'MASS', 'IPI', 'FSLY', 'SBLK', 'OSTK', 'GO', 'LPI', 'EAR', 'SEER', 'ACB', 'OII', 'PRTY', 'CODX', 'SRAC', 'WPRT', 'CLDR', 'BYND', 'BMBL', 'RICK', 'GHVI', 'DNN', 'PLUG', 'MGI', 'VERI', 'FEYE', 'DV', 'WIX', 'VUZI', 'SCR', 'MNKD', 'ACRS', 'IRTC', 'SHLS', 'OPEN', 'FLDM', 'XONE', 'APPN', 'VRTV', 'RVLV', 'AFRM', 'WBT', 'CVAC', 'EXPI', 'SI', 'CMBM', 'APLS', 'ZEUS', 'ABCL', 'UEC', 'TLS', 'OLO', 'CRTX', 'AYRO', 'CLSK', 'TEN', 'ZOM', 'VSTM', 'SLQT', 'BLNK', 'NGMS', 'FLR', 'JAGX', 'RETA', 'NBR', 'AGEN', 'CENX', 'XERS', 'CELH', 'RXT', 'BGFV', 'LAZR', 'XXII', 'MICT', 'PRLD', 'USCR', 'HGEN', 'AVIR', 'AI', 'GOEV', 'CRCT', 'DASH', 'SLCA', 'HOV', 'PMVP', 'RBLX', 'CONN', 'LMND', 'BEEM', 'REAL', 'DSP', 'FUBO', 'GMBL', 'VLDR', 'EOSE', 'DDS', 'PRTA', 'MVIS', 'KODK', 'AMWL', 'POSH', 'FRSX', 'MARA', 'BNGO', 'FOSL', 'FUV', 'GEVO', 'OMI', 'SNDL', 'RAIL', 'NNOX', 'TAL', 'SPCE', 'EDU', 'UPST', 'EBON', 'GME', 'IZEA', 'AMTX', 'AHT', 'SEEL', 'ATOS', 'WKHS', 'RIDE', 'NAKD', 'SENS', 'TKAT', 'EYES', 'INTZ', 'METX', 'PRVB', 'BTU', 'IAC', 'HYRE', 'BDTX', 'CNST', 'EXPR', 'IOVA', 'CRIS', 'NOVN', 'PETS', 'WISH', 'BBBY', 'ARRY', 'ONTX', 'AMC']\n"
     ]
    }
   ],
   "source": [
    "output_str = \"Stocks_dollar_volume_min_price_continuity_all_sorted = \" + str(Stocks_dollar_volume_min_price_continuity_all_sorted)\n",
    "print (output_str)\n",
    "write_file (\"Stocks_dollar_volume_min_price_continuity_all_sorted\", output_str, \"w\")"
   ]
  },
  {
   "cell_type": "code",
   "execution_count": 16,
   "metadata": {},
   "outputs": [
    {
     "name": "stdout",
     "output_type": "stream",
     "text": [
      "Vols_dollar_volume_min_price_continuity_all_sorted = [0.008910088772477235, 0.017437574753168792, 0.017968821361317208, 0.020176651005872452, 0.021671031040704107, 0.026533067484220282, 0.02834618775285369, 0.02906963423305399, 0.030440279794749513, 0.032802633029848864, 0.03750039655301871, 0.038240350501124606, 0.042726972657927784, 0.04665341979020991, 0.049008253711774905, 0.04966386553606998, 0.05083021373651109, 0.053055283323852204, 0.05414255043434378, 0.059096036993610046, 0.06071798223648112, 0.06800913209643325, 0.0704142034533192, 0.07787087673919238, 0.08202310693409415, 0.08231288889918296, 0.08400203498675941, 0.08629257037666611, 0.08832087161334458, 0.08970595035970502, 0.09054628166142117, 0.090817181143399, 0.09237678544046865, 0.09375319334123343, 0.09497903121791566, 0.09504345169456423, 0.09748697316658934, 0.09814653802784595, 0.09839261615902307, 0.098895710829592, 0.10292223929387447, 0.10315640929975821, 0.10445285321528974, 0.10606866755960205, 0.10611651978052523, 0.10657483402515634, 0.10761247450646808, 0.108987510137128, 0.10992151712990803, 0.11053472026414103, 0.11106995160731248, 0.11158398601146773, 0.11246297025963883, 0.11644280745383712, 0.11677212858824002, 0.1185233839562623, 0.11925919014346824, 0.11957783327885926, 0.12082313597647737, 0.12115760808392216, 0.12120611250744674, 0.12187303162669252, 0.12243444324310773, 0.12269528649977492, 0.12275643932753572, 0.12339310340838522, 0.12435347750957239, 0.12523326002334315, 0.12585658844708084, 0.12594807062037888, 0.12692449280645773, 0.1277058736981685, 0.12772954229908912, 0.12883956569658503, 0.12973100567824586, 0.12974213766167, 0.12999098726226108, 0.13002125275570203, 0.13004725264457323, 0.1301843824864082, 0.13072782132094266, 0.1311276407388666, 0.13146952696826636, 0.13196216636051056, 0.13274245658313338, 0.1329102446881474, 0.1330316645794841, 0.133604576655519, 0.13662765506250305, 0.13678905736598107, 0.13771007191033385, 0.13775246683552253, 0.13863364951530485, 0.13898513722697287, 0.1397111805083653, 0.14136681359257383, 0.14160087275526, 0.14162650188867015, 0.1417632366746427, 0.14179506931534597, 0.14199520502245525, 0.14214581906372853, 0.14357093466942247, 0.14362705325322547, 0.1437041255187197, 0.14434229953777028, 0.14435078021273193, 0.14453694322880362, 0.14473650479789973, 0.14500405979582381, 0.1455510270717972, 0.1457800239712678, 0.1461388088998847, 0.14667715271915138, 0.14723849372161843, 0.14753785173271036, 0.14778372689505986, 0.14784824135519797, 0.1480999440443516, 0.14828268137689277, 0.14833406705513325, 0.14905622432028923, 0.14922234758609787, 0.1502746049562698, 0.1511248883030984, 0.1516591485380104, 0.15172220046896773, 0.1518387239263599, 0.15196175205830878, 0.1530376032482429, 0.15345190105000217, 0.15346439282532914, 0.15348714468411612, 0.15357531762864685, 0.15386666407974048, 0.15397231207827483, 0.15410319638042708, 0.1542917478892296, 0.15445865074853923, 0.15488913237799423, 0.1549645399636184, 0.1552828458660331, 0.1557832604005011, 0.15626305168016663, 0.15629484744061253, 0.156393514605805, 0.1566696402588824, 0.15693553446156241, 0.1570390516728956, 0.15727174116523732, 0.15771458258858106, 0.15775152956867908, 0.15824603332621287, 0.15837013206454528, 0.15853240704430055, 0.1585978510270143, 0.15947750985043058, 0.15954971526085351, 0.15966080737386532, 0.15966540881403188, 0.15976388375693304, 0.15983280276167808, 0.16036452433354362, 0.16049591509984248, 0.16059709538887496, 0.16078341125355827, 0.16082763928124136, 0.1615307849640373, 0.16200032842959577, 0.16211772830498616, 0.1625288990447387, 0.16297011652262552, 0.16316185548576195, 0.163187204756444, 0.16353835184494617, 0.1640943282604521, 0.16416669527978026, 0.16447784062665907, 0.16502672769704735, 0.1651678771233372, 0.16524250404060886, 0.16548338020272993, 0.1656300359589344, 0.16567399743184333, 0.16569291909972284, 0.16581333459464173, 0.1659163247654954, 0.1660595157440463, 0.16627223768213917, 0.1663682877861001, 0.1665324282189212, 0.16720972262135095, 0.1675174232733588, 0.16770136427209295, 0.16825789243369405, 0.16828499792886534, 0.16880104350899347, 0.16924252695676206, 0.16963316650716187, 0.17020296828458387, 0.17021102269476673, 0.17067747431391167, 0.170767611359027, 0.1708377857195735, 0.17083986518305389, 0.17109166708849277, 0.17114380791942801, 0.17144258157282724, 0.17153270355201977, 0.17156909139794643, 0.17175734108825053, 0.1719116638401376, 0.17236987527710385, 0.1724368180076269, 0.17245932645529943, 0.1725500142524899, 0.17273136708267253, 0.17304304625584, 0.17306514483055493, 0.1732839576691036, 0.17392942756900703, 0.17419557209910805, 0.17422673655452028, 0.1742875713488924, 0.17549737412782404, 0.17558144607802564, 0.17580197443238885, 0.17591700409805205, 0.17606133054205672, 0.1761250891193491, 0.17614862205320422, 0.17615413252507472, 0.17623551983150842, 0.17640510156602068, 0.17641254091354786, 0.17658466069912646, 0.1768562400317547, 0.17694162589386472, 0.17716277772732886, 0.1772218257592439, 0.17762145807153135, 0.17795940806870952, 0.17810266762356053, 0.17817627518355078, 0.17830822739170923, 0.17843657226536103, 0.17855742110541167, 0.1787773509535134, 0.17880841969476963, 0.17881510555269925, 0.1793842160009147, 0.17948893142206046, 0.17972055210915533, 0.1798399340121994, 0.1798898778016879, 0.1800953023397466, 0.18015134461158583, 0.18016773494447777, 0.18028291925892082, 0.18050700435327957, 0.18082138228609354, 0.18087257556836922, 0.18099825585536194, 0.18110399618599543, 0.18117017924639361, 0.18121842560037743, 0.1812461749711955, 0.1813932582597529, 0.18166780743628774, 0.18185567667623323, 0.18217419392875495, 0.1824608499119752, 0.18271615297330504, 0.1830288362406016, 0.1830410317571736, 0.18311848579017576, 0.18315708482852225, 0.1832812749625147, 0.18375259806831123, 0.18401966111203008, 0.18417272560448253, 0.18443745687179752, 0.18462492120937324, 0.18471908164198925, 0.18492286598488172, 0.1849481293578076, 0.18516534453120853, 0.18523339027261615, 0.18556801643733004, 0.18559256185886142, 0.18571427436878765, 0.18575479144673748, 0.18592778851700537, 0.185954236121149, 0.18609052602544018, 0.18618773638117125, 0.18636428467821037, 0.18647874024399344, 0.1864811183140887, 0.1865383161436857, 0.1865980001039741, 0.1866959365330892, 0.18674835641145235, 0.18675870908673062, 0.18686189781380055, 0.1870354268773923, 0.1870437020809524, 0.1871446343741062, 0.1873194452122512, 0.18738672355670857, 0.1875620992771, 0.18768826709524705, 0.18787802526682457, 0.18793668850464385, 0.18804432150114747, 0.18819051221081923, 0.1881924354713356, 0.1883447181043775, 0.18850772586828168, 0.18854577219981866, 0.18916650728107728, 0.18917458614056765, 0.1893410799188732, 0.18952729292416742, 0.1895648093725064, 0.189638547218653, 0.18967305102764095, 0.18977101834320378, 0.18989424658820797, 0.18990454355091393, 0.18995699033361718, 0.19024038328926907, 0.19044351468695905, 0.19087807632549209, 0.19094303725006806, 0.1911706966111446, 0.19121655411562752, 0.19145891118038166, 0.19161818109902692, 0.1916411453661686, 0.19184781556762404, 0.1922855853662275, 0.19231732762435502, 0.1923281655598552, 0.19247322619845514, 0.1926530112199239, 0.1929157012064601, 0.19300794060519302, 0.19306435419758639, 0.19307692634570597, 0.19309500723098277, 0.19309815608848993, 0.19311467660692977, 0.1933017613763323, 0.19342345287091114, 0.19385280335465346, 0.1939292746613526, 0.193964796380864, 0.19429085033484728, 0.1944552053185545, 0.19530088448668873, 0.1954465533411168, 0.1959497934525443, 0.19640988944375587, 0.19684790360499987, 0.19687108950612986, 0.19691067598757503, 0.19711298447804032, 0.19731638993955133, 0.19751754754485065, 0.19751990433987843, 0.19753494305875563, 0.19782779663444647, 0.19806626005806335, 0.19815812425233487, 0.19856349588976085, 0.19862177335165598, 0.19864608984132437, 0.19868212511123728, 0.1987025069895457, 0.19874876440126887, 0.19921461119609019, 0.1996100372294407, 0.19964392112098178, 0.1998172906858804, 0.1998183720734893, 0.19981843506480443, 0.19996403303362778, 0.2000103436244351, 0.2000244443593918, 0.20010385936841452, 0.20029323619058734, 0.2002984838342785, 0.20042418819199587, 0.2005088291842049, 0.20077915300663998, 0.20083065753651827, 0.20105526109544128, 0.20122762061786742, 0.20126234516963432, 0.20242890629880578, 0.2025255968305977, 0.20265190451058085, 0.20322307031120046, 0.20323625611019122, 0.203582050913592, 0.20362069130124003, 0.2037654331309648, 0.20398415126218325, 0.2040270813732206, 0.2040522390455704, 0.20406307204640178, 0.20427871334123854, 0.2044239563798467, 0.20451755810476735, 0.20453365464320908, 0.20482444730405328, 0.20488399421659712, 0.20551890341327653, 0.206143584117398, 0.2061883836492243, 0.20620852990804842, 0.20626530246603264, 0.2064610258917982, 0.20661254209336768, 0.20672168143426192, 0.20732315481115143, 0.20753596780768133, 0.20778761096641182, 0.20806826149775465, 0.20808578444056006, 0.20859087191994133, 0.2087224142248832, 0.20884243706410596, 0.20888324713945763, 0.20915793527751572, 0.20938813767413664, 0.20953129585352082, 0.20980881666600754, 0.20986563758665341, 0.2099136330269656, 0.2101839355299028, 0.21034517450555895, 0.210352443503058, 0.2104292282254246, 0.21056283378256385, 0.21059658282476854, 0.21066169674971338, 0.21068474142066546, 0.21070676443712819, 0.21129338464071162, 0.21165055134085886, 0.21189424656085035, 0.2119027613831081, 0.21207708739561898, 0.2121822509324876, 0.21218424602802263, 0.21263611763861365, 0.21276552501904258, 0.21298163615690752, 0.2130506766675259, 0.2134214403587034, 0.21342861646312594, 0.21373022939375294, 0.21382661427544475, 0.21383069198926985, 0.21383186146296748, 0.21386700460672314, 0.21398740457650442, 0.21407380003600515, 0.21428165290526788, 0.21436423241596458, 0.21441194770052857, 0.21451845408329942, 0.21462886900953998, 0.21524462379857204, 0.21524659809004235, 0.2154590927041416, 0.215521188144933, 0.21555743657383794, 0.21572907838443017, 0.21579259754785965, 0.21579977384342205, 0.21595630357565562, 0.21629709830606522, 0.2163780505564026, 0.21697690253678478, 0.21709452366368237, 0.21739129866152632, 0.21767040243471175, 0.217691157341113, 0.21777752636476283, 0.21788829020855693, 0.21803195493677033, 0.2181289288686246, 0.21828150050544437, 0.21850734623661275, 0.2185338994437508, 0.21855971245012482, 0.21892634885370987, 0.21896979081011575, 0.21899241926952323, 0.21941363604972006, 0.21944472783282365, 0.21959539673247672, 0.22007206367899684, 0.22034883761656365, 0.22043806129275612, 0.22075426865419623, 0.2208397587530616, 0.22084780546194685, 0.2210302257330915, 0.22103231074713686, 0.22105733936129962, 0.22112823657674083, 0.22120517437811804, 0.22136573577920454, 0.22183242220982563, 0.22199311673317482, 0.2220289235460905, 0.22223997129880627, 0.22242385129942646, 0.22250206587650465, 0.22262955728874553, 0.22266477799968465, 0.22269254774590946, 0.22328364392160485, 0.22335291043159963, 0.22338925936837115, 0.22341038036647798, 0.22344619788682737, 0.22360301357323706, 0.22383685001282608, 0.22385631410776935, 0.22390841566838285, 0.2242056804599026, 0.22422307181206996, 0.22447003281803235, 0.22452387921922445, 0.22457539660116274, 0.22469735902282123, 0.22479422416440664, 0.2249710876323264, 0.22515621004614503, 0.22516710226609427, 0.22536814273503836, 0.2256548581680783, 0.2259284270067994, 0.22605756884677536, 0.22613481467177834, 0.22637528152932754, 0.22656840677549064, 0.22692967241557657, 0.22706571073398443, 0.2271162857359243, 0.2272510627095889, 0.22728658353990713, 0.2272966659730459, 0.22731165353517657, 0.22740970186440776, 0.2276471633325677, 0.2278589500737215, 0.2279830431267651, 0.2286349348414355, 0.22894036060375245, 0.22904110285429444, 0.22910127979233144, 0.22910314123543166, 0.22926857645763127, 0.22940050239454501, 0.22954942800377304, 0.229619659009554, 0.22967486774111825, 0.2298475588364987, 0.22995511622137113, 0.23006661779139953, 0.23055288363916163, 0.2307821581578963, 0.23080584802866672, 0.2309020551694696, 0.23092141522127488, 0.23120412560058035, 0.2313857924590547, 0.2324079575362894, 0.2325734038290382, 0.232635805918542, 0.23264632115988682, 0.23269845778790146, 0.23272465213061405, 0.23305162681148706, 0.23325606091752107, 0.2333692269833531, 0.2335165489690071, 0.23379677913729585, 0.2338293124758996, 0.2338587234947245, 0.23408914439741327, 0.23408918485434885, 0.23453546131727324, 0.23467238961971482, 0.23474879214163166, 0.23516328855259727, 0.23575785366259774, 0.23597336988063372, 0.23632385591991242, 0.23633466364604513, 0.23634802576134278, 0.2364420099927237, 0.23653097896202935, 0.23683238838824805, 0.23691475126914077, 0.23703080683846925, 0.23712280954401369, 0.23740624066293825, 0.23750069534801183, 0.23775441558207427, 0.2378014552625923, 0.23787859903096958, 0.23806078520931875, 0.238351101875039, 0.2383870472012387, 0.23862432957677504, 0.23865834513488668, 0.23877682229981095, 0.23891228702782125, 0.23917897957667145, 0.239253147583157, 0.2392794123246739, 0.2396841674598415, 0.2398265731091296, 0.23989484152277785, 0.2399979277805738, 0.24009481053796705, 0.24009481053796705, 0.24061071607078957, 0.24091329960577182, 0.24105249234331505, 0.24126322254247567, 0.24151174744663514, 0.24155249947332108, 0.24165904378471598, 0.2418559308888671, 0.24199687407444864, 0.24205263405209193, 0.24215840427284774, 0.2425644686872931, 0.24259291623556425, 0.24269826162148372, 0.24281695707132508, 0.24295208103019314, 0.242976210479497, 0.24355669269241684, 0.24399446089126256, 0.24422028622296535, 0.24422180172863575, 0.24435281113261673, 0.2445004497237843, 0.24458717245129122, 0.24461529289121767, 0.2448335309401307, 0.24484200568945294, 0.24487714110361594, 0.2453036327139406, 0.24530634244876, 0.24534501091142816, 0.24541165097461767, 0.24562686772432912, 0.24563693923117755, 0.24580616155160712, 0.24606178234018125, 0.24609030522015143, 0.24627112263904416, 0.24632729344021098, 0.24642958215852112, 0.24643988174283374, 0.24651865443632837, 0.24663509283689167, 0.24676588418449347, 0.24701236984893013, 0.2471984272727519, 0.2475654044812487, 0.24768316330319023, 0.24773247252091513, 0.24786611501099817, 0.24818429021988722, 0.248216235666445, 0.24827777548032234, 0.24842272253502193, 0.2484581612844255, 0.24860444958017303, 0.2486288470093201, 0.24920795331480075, 0.24921604466447156, 0.2492214113197039, 0.24922794337535017, 0.24941016704993563, 0.24981423049536558, 0.24998133389952518, 0.25022592877104866, 0.25022828462678665, 0.25026309683905645, 0.2503316234935664, 0.2504573010958362, 0.25048292195144894, 0.2505832199113435, 0.25076923530109085, 0.2508804985229673, 0.2512099446153021, 0.2513684497369937, 0.25148787624716856, 0.25158200206564146, 0.2516610842192583, 0.2518851801629589, 0.25206746897392657, 0.25210003970516276, 0.252102578977709, 0.25231136712284574, 0.25235389463343205, 0.25244493394055284, 0.252761210892476, 0.2528227520186481, 0.2528659904200962, 0.2528849488408684, 0.25295711077723215, 0.253079201949053, 0.25327039602947266, 0.25356573112366076, 0.2536630363766794, 0.25377924835417554, 0.2539051648998759, 0.25400161813945504, 0.25405487942046, 0.2540864962437833, 0.2540996248865204, 0.2544115365277593, 0.25458346734508946, 0.2548203908452764, 0.2551146623492889, 0.2551711234543337, 0.2556451048281399, 0.2571932978506073, 0.2572843038661861, 0.25731037665731993, 0.2575116037101287, 0.2576674011086483, 0.2580686208665715, 0.2580912884167226, 0.25819857624961234, 0.25841308003515656, 0.2584180556811599, 0.25880245099962645, 0.2591077286534842, 0.2594467759026744, 0.2595994644973283, 0.2598359291182223, 0.2601981494582804, 0.26035305706603706, 0.2603944243435698, 0.2604018049654029, 0.2605029932571666, 0.26059194893011317, 0.260598703124929, 0.2607085717762074, 0.2608014955621916, 0.26111381488209817, 0.2613204125781976, 0.2614931284211363, 0.2616605661074679, 0.26176540100240975, 0.26182591284174933, 0.26184069877604615, 0.2622744299887107, 0.2625283989661953, 0.2627276069327097, 0.2627642551711502, 0.262998120668182, 0.2630573347373575, 0.2631160513317252, 0.263209881614182, 0.26322707351180646, 0.2632802232055469, 0.26345301818763844, 0.2637851318348487, 0.2639378527200122, 0.2640162267073947, 0.26420424556479416, 0.26444162445484515, 0.2648024985497828, 0.26488349974432274, 0.2653808337621741, 0.26554003984207536, 0.26592888591387465, 0.26599271333208696, 0.26603008870836903, 0.2662995960357658, 0.2666467428267412, 0.26665526012639, 0.26673197008069544, 0.26679321163771524, 0.2668438838208238, 0.2669080015354702, 0.2672075787387192, 0.2673351219206541, 0.267398345534423, 0.2675839809591277, 0.2681153615836654, 0.26817501695814144, 0.2683265331806393, 0.2683348858446955, 0.2688381154117127, 0.2688528945712763, 0.2690140229618517, 0.26936814113193536, 0.2694371197792593, 0.2694666113145624, 0.26950918092055126, 0.26952510301413546, 0.269581191179685, 0.26976573978022284, 0.2699043415038798, 0.270025377162377, 0.2702474275197203, 0.27059897101455976, 0.2708681218036525, 0.2708995416589785, 0.27093554089280913, 0.27147394292993027, 0.2715036133719061, 0.27189400211525755, 0.2724667826209764, 0.27260433807075574, 0.2727972454812446, 0.27287604266759796, 0.2729135362154631, 0.2730969962415342, 0.27318624986253537, 0.2736523928123669, 0.27389311562942104, 0.2741385664787356, 0.27415756039634576, 0.2742501668257397, 0.2743010577185271, 0.27448926702442844, 0.27471770099027104, 0.2747397371806901, 0.2750625250576209, 0.275212445096006, 0.27525730982633134, 0.27559513953878856, 0.2756114295430678, 0.2757173755368081, 0.2758262743030604, 0.27583811044483864, 0.27590276463778407, 0.2760511777058157, 0.2761869427591205, 0.276188082478452, 0.2762030536655858, 0.27640443980122, 0.2768981790574106, 0.2769183169784534, 0.276963477316015, 0.27717320126980644, 0.27730807598715956, 0.27807106256260256, 0.278228250233432, 0.2786770205736652, 0.27870910383184566, 0.27877358834234683, 0.2788187788756937, 0.2790188485397693, 0.2791017628920063, 0.27933555414010725, 0.2799105220355149, 0.28006847407713925, 0.280236744076995, 0.2805242958578554, 0.2808880130033688, 0.2810366317053247, 0.2814157569150888, 0.2815253052217247, 0.2818589328191592, 0.2819537759417018, 0.28204114274262226, 0.2823176055730372, 0.282345499432205, 0.2829108604104347, 0.2829794654056042, 0.28315364232369905, 0.28326339657234373, 0.28328733747287804, 0.2838019672955642, 0.28382771249528604, 0.2839098268215833, 0.284073155426942, 0.2842196307456857, 0.284233264370638, 0.2845405401012927, 0.28461604703850546, 0.28462392368117223, 0.28476430007717485, 0.28487551640030934, 0.28507738758263074, 0.285348937852046, 0.2857622359184205, 0.28588268954771506, 0.286022543200471, 0.2862942678514807, 0.2865086767012754, 0.28670935557274146, 0.286765852942482, 0.28688249503057955, 0.28690593226680533, 0.28709380309578203, 0.28717297663065694, 0.2875733081956282, 0.2878172545150188, 0.28784591340274923, 0.28795251302035, 0.287967364726255, 0.2880962394551697, 0.2887204698164709, 0.2887530342966685, 0.2887954172191196, 0.28900224009702435, 0.28914018070555747, 0.2891948658239547, 0.2898099285863979, 0.2898274616817526, 0.28987441453472684, 0.2900048127881967, 0.29022821530524, 0.2906882727273542, 0.290972260438503, 0.291099406809565, 0.2911754149128671, 0.29142904262696623, 0.2918639210218153, 0.2921765750224499, 0.29241164124644015, 0.29248386317047703, 0.292492781748132, 0.2927171934745545, 0.29274767783420785, 0.29282580703232036, 0.29299777164160123, 0.2930083839797404, 0.29311932629606724, 0.29374198580421224, 0.29380067685130723, 0.293806005225303, 0.2938069232914183, 0.294088570117473, 0.2943310166476287, 0.29442580823053505, 0.2949874550612873, 0.29555123272575634, 0.29606276043967317, 0.29636007880101334, 0.2964760382414599, 0.29649796108448745, 0.29651087391949255, 0.29658894351527737, 0.2966934541718551, 0.2966988099639717, 0.2969477307625546, 0.2970598463166943, 0.2971033292004198, 0.29712233109108943, 0.29714007249673435, 0.2972346472330728, 0.2972539568138565, 0.29738899724074863, 0.2976767557802769, 0.2979631636685292, 0.2979724392423979, 0.29804143077895123, 0.2981411680921742, 0.29815956324747633, 0.2982466256185662, 0.2983525138918244, 0.2984427793207754, 0.2986632263088219, 0.2989505634919637, 0.2990729519595979, 0.2995814836858889, 0.2995958178779414, 0.2996116763284873, 0.29970315930445035, 0.29977843222781964, 0.299838909813567, 0.300371405401968, 0.3003747711803812, 0.30040918159969, 0.30047865059655965, 0.3009789038599369, 0.301143975328597, 0.30114556496730377, 0.3013141464056779, 0.30154786090600905, 0.3015786270667381, 0.3019012737686355, 0.3019187628474937, 0.3021116166923537, 0.3021882943691125, 0.30278944775979577, 0.3031561051826126, 0.3031658889859395, 0.3033337374041906, 0.30366414393718166, 0.30401772401307997, 0.30418014794825005, 0.3043978277370548, 0.3044541058055881, 0.3045125044446158, 0.30462561516358994, 0.3047128182480705, 0.3049882337143689, 0.3054729840230545, 0.3057003975784132, 0.3059776618474231, 0.30631375847734116, 0.3063748831524085, 0.3064521432205397, 0.30675369159296506, 0.30697432226024557, 0.30697672934735726, 0.3072531780394275, 0.30737595236914744, 0.3074056439848401, 0.30780492338835214, 0.3079756676582053, 0.30854782780663476, 0.3086032452849987, 0.30914013435335036, 0.3093458468653476, 0.30954337776398183, 0.3100659755872727, 0.3100830468329095, 0.3101695681295898, 0.3105536365824814, 0.31068936501643213, 0.31146888437187303, 0.311507140222278, 0.31151355199678915, 0.31158719611718744, 0.31164093450569125, 0.3116461923596352, 0.3116762134860849, 0.3116795009064094, 0.312745959088148, 0.3129639475708957, 0.3131208528832176, 0.31342087214221415, 0.31347058897581825, 0.31468827351503825, 0.31509579483528005, 0.3156478033950646, 0.3158478775467366, 0.3160448654314805, 0.3160612815280345, 0.3167025587749871, 0.31710494928915295, 0.31752519045719774, 0.31772182164013546, 0.3180805296421759, 0.318343938263274, 0.31875147023724715, 0.3188932160437316, 0.31911016688180455, 0.31951678972526265, 0.32003849144714147, 0.3210722907895212, 0.3211386629642533, 0.32116493157038173, 0.3211908913849882, 0.32166332410275056, 0.32192156108496944, 0.3219313109408092, 0.322123650374983, 0.32225236042636474, 0.3223843345216249, 0.32239003422598955, 0.3223995618033769, 0.3227267406072386, 0.322885663169259, 0.3228936138062967, 0.32357616749945256, 0.3236793914668476, 0.323977722132654, 0.3240490223243903, 0.32422668561066365, 0.32465205904639427, 0.3248313946053935, 0.32490559682770076, 0.3249521225515104, 0.32502030672347176, 0.32514402762627215, 0.32518568991522195, 0.32550898481647644, 0.32555738167691617, 0.32571096493181084, 0.32603476976255685, 0.32609689843893935, 0.32613351320794953, 0.32659898264199994, 0.32661858826926365, 0.32674561484588455, 0.32675986781414124, 0.32679602828759197, 0.32691498005382896, 0.327237520500139, 0.3273533410420102, 0.3274145119640992, 0.3275758454272891, 0.32757905078718114, 0.327627888187512, 0.3278927485103939, 0.32794990826534565, 0.3282565549177334, 0.3282941442425302, 0.3286905627575893, 0.3289661026064861, 0.32931018327686934, 0.32936639702690645, 0.3295820643222935, 0.32980268781381433, 0.32985196217006285, 0.32991577082770274, 0.33003354322643547, 0.33010395803310216, 0.3301684063236938, 0.33042277791614205, 0.3305618042897399, 0.3305700737285525, 0.3306594589484283, 0.33150066482321605, 0.3315568375539577, 0.331647665780487, 0.33167126720773976, 0.3317158136388353, 0.33178359246433736, 0.33181858355998856, 0.3319959668423456, 0.332075601034152, 0.33222757908124073, 0.3322573506292084, 0.33255356196847285, 0.33260806870019305, 0.3326411312765943, 0.3331268011466467, 0.3338949519371574, 0.3340952271291238, 0.3340980376388853, 0.33461419399810277, 0.3352519284737915, 0.3353441160595546, 0.33559560431940627, 0.3357313284869326, 0.3357447935614288, 0.336129688166732, 0.33616453495060117, 0.3362197367329163, 0.3362766521456691, 0.33653183102286893, 0.3370945849006055, 0.3378498803643928, 0.3380492800371765, 0.3381191736961026, 0.33858549628000495, 0.3387157464292601, 0.33909187778003824, 0.33945184522870897, 0.3395567297371978, 0.34009690250721175, 0.3401552181783658, 0.34033605855828347, 0.3403876969364115, 0.34046286070135345, 0.34061068040125264, 0.3412469676284105, 0.34125344491122866, 0.3416793352666936, 0.3417856955230484, 0.3418649563712899, 0.34258577965052517, 0.34270125569317367, 0.34270898272139627, 0.3428953746684458, 0.34306257172682214, 0.3434300717479488, 0.34349970332240937, 0.3436228652210233, 0.34376007632710026, 0.3437609141849575, 0.34442954359047334, 0.3449355777660016, 0.34496344095593895, 0.34511867310401867, 0.34528015516448, 0.34538083175497525, 0.34549210815393483, 0.3455765338784003, 0.3460079883614996, 0.3461038952369258, 0.34681013398617194, 0.34761837097885606, 0.34777169950581965, 0.34780340339292276, 0.3478445928440565, 0.34789014011608455, 0.3483589341043933, 0.3485867575126049, 0.3488499735752433, 0.34888990049038027, 0.34911139052431445, 0.3495931961464344, 0.349694434925441, 0.3499513612546911, 0.35012643281762007, 0.3504455402151257, 0.3506533559419381, 0.3506687784240269, 0.35084914829453323, 0.35092670496397754, 0.35092670496397754, 0.35109023297584957, 0.3516528731306401, 0.3518121654742403, 0.35184434143106447, 0.3522039342010207, 0.3527446947366218, 0.3530613158583142, 0.3531066485627303, 0.3531158051813681, 0.353492956835353, 0.3536151458610555, 0.35369993934269794, 0.3539336494080586, 0.35413935183878775, 0.3541859265986528, 0.3544309909010688, 0.35450206143403495, 0.3547428823192133, 0.3552476491330487, 0.3554090095841731, 0.35546604192728715, 0.35563062573734666, 0.3558894942790176, 0.356106712628179, 0.3565752934086539, 0.3573827750421772, 0.3578320677183022, 0.35804285491281196, 0.35839865816982347, 0.35868409982874055, 0.35958643610880503, 0.3599548305997899, 0.36079447678358817, 0.36096897565535474, 0.3610823476639977, 0.3616083760704512, 0.3626276534249263, 0.3627035133098473, 0.36305034399179686, 0.36339510890519333, 0.3635459023243962, 0.36372376914764715, 0.36375619252865166, 0.36383157691915335, 0.3655840798498485, 0.36599117774460044, 0.36610418912216297, 0.3664237892054935, 0.36665324933499516, 0.36670969986093943, 0.3669739020535951, 0.36710730834197614, 0.36763183651346987, 0.36771809392290633, 0.3683345526374072, 0.36840342173265406, 0.3691545159247105, 0.3692465318678635, 0.3694164484033723, 0.3697458611457973, 0.37014803698248805, 0.3702109263643389, 0.37031442281860405, 0.3704686391227831, 0.3709873595485978, 0.3711295732550535, 0.37119965174890407, 0.3719576479203699, 0.372353088052241, 0.3723679273577863, 0.3723977411207313, 0.37313772651639804, 0.3734457438057718, 0.37364780022450705, 0.3737200438619347, 0.3740715051144353, 0.3741621736886482, 0.37511889086671446, 0.37533232148664303, 0.37534189943165935, 0.37535191426715814, 0.37560074889974276, 0.3756222378885954, 0.37672511836345435, 0.37677324516364963, 0.37703277238588173, 0.3791245644745466, 0.37928091825237803, 0.3800425679237242, 0.380193756280865, 0.3801954480951924, 0.3804547281109731, 0.38091079521670596, 0.3810105800294956, 0.38125124310014963, 0.3814486097241924, 0.3816100903282204, 0.3818747656613311, 0.38271958027724745, 0.3829491232246986, 0.3831552635741843, 0.3835988368157576, 0.38361472067637326, 0.38412376385954067, 0.38458847120878875, 0.3852897761439658, 0.38555035163658224, 0.38566309786117625, 0.385761824511118, 0.3858579343724255, 0.38692367965613145, 0.3875836077922066, 0.3882403914682026, 0.38825847434363614, 0.38843020663673655, 0.3885976628019637, 0.38908909352149146, 0.3892916858563781, 0.3893394957606911, 0.3897815867115912, 0.3899675722253916, 0.39025985372158706, 0.3906380781871691, 0.3907242341319109, 0.3909288683605885, 0.3914440228031738, 0.3915234455491751, 0.39171117947283624, 0.3922990816848865, 0.3925867872763042, 0.39286258672226354, 0.39353226884929826, 0.3941823034418114, 0.3944557110291366, 0.39495471726102105, 0.39503469547286074, 0.39504103847179295, 0.39520235081252136, 0.3952512297430919, 0.39577447215620726, 0.39614065270031795, 0.3967546399834615, 0.39696034241660283, 0.3974461827289761, 0.3975794531522701, 0.3976213676862238, 0.3987341943597608, 0.3990402943588428, 0.39952109788160856, 0.39956629059170495, 0.39963551868259656, 0.4001636861227992, 0.4002249335981752, 0.40027218402048853, 0.4005910212470868, 0.4006510318154161, 0.4008042460691677, 0.40085217582047133, 0.40094661645952123, 0.40215019969740423, 0.40245978489351225, 0.40283816915513454, 0.4030920206779486, 0.403512624115563, 0.4036390212516717, 0.40381984736783044, 0.4039990374801083, 0.4040623251289241, 0.40452242517312625, 0.4050007845289791, 0.40509118376065467, 0.4054624873998348, 0.40552185820836123, 0.4056553044958423, 0.40619534717920275, 0.4066036214735239, 0.4069119395304636, 0.40709493234458827, 0.40713202518052355, 0.40730059489550147, 0.4074535799870774, 0.40746724281782215, 0.40789737944268856, 0.4085320100849689, 0.40879070599802475, 0.40903349637149256, 0.40938066375255594, 0.4097311463461322, 0.41077518924226347, 0.41085315015636764, 0.411159695024723, 0.4112726361692136, 0.4116735400635394, 0.41174405646631657, 0.41213212596893584, 0.412441744799357, 0.4128235198866688, 0.4130161251197283, 0.41396418635109455, 0.4142318782646652, 0.4147734308388332, 0.415469228901975, 0.4155603872744777, 0.41565995111757614, 0.4157838953960012, 0.415842364471692, 0.4159541964130976, 0.41608270912237855, 0.41626336089465693, 0.4166403785310908, 0.4168721712637752, 0.4172589791948636, 0.41733516817267235, 0.4177402989855503, 0.4179365017674818, 0.41880349450907034, 0.41930605763016776, 0.4194626375136011, 0.42054481229281526, 0.42069444468137895, 0.4208940921342371, 0.4209645826063199, 0.4211553653692217, 0.4213662195771339, 0.42140949537515854, 0.42151802132993854, 0.4216288801014546, 0.4216704976591666, 0.4218190964290339, 0.42186804013807055, 0.4219964187095913, 0.4230697891940258, 0.423594494925753, 0.42389216813130315, 0.42504056490622066, 0.425510314110812, 0.4255863716617071, 0.42592727969879896, 0.42631668660671906, 0.42699581085909694, 0.42704302927896726, 0.42719152409594974, 0.427419290082522, 0.4276623763519279, 0.4282162355301517, 0.4284609031061947, 0.4289404643841715, 0.42901349512458353, 0.4291601959809145, 0.42968171255470994, 0.43077173083496073, 0.43180585123684895, 0.43206120408856097, 0.4328532312121111, 0.43293165688587815, 0.43312273306648336, 0.4338666438741717, 0.4339298496459415, 0.4340451868810203, 0.4341447120365569, 0.43422807824488974, 0.43467590677982726, 0.43467965991530017, 0.4350861797883846, 0.4357218892852311, 0.4365363639029415, 0.4366341364986031, 0.4366731261587642, 0.4371946294284243, 0.4372035574141398, 0.437234740617804, 0.43726052158168843, 0.43758905146385596, 0.43793099111943157, 0.4380007206927026, 0.43821719089116973, 0.4383547272015201, 0.43865012676250953, 0.4389963551483255, 0.43911873128402257, 0.43928750453496734, 0.4394875035432231, 0.4395105301886435, 0.4396653047147715, 0.43982137347337624, 0.4398283447196868, 0.4410180674112033, 0.4412525820666533, 0.4413503980271418, 0.4418354498458931, 0.44271329451610925, 0.4428586635490955, 0.4434586622823514, 0.44347494288920214, 0.4441200071211249, 0.4441200071211249, 0.44430185525855515, 0.44440026850096204, 0.444470509143678, 0.44468592965952436, 0.44479187835270423, 0.44533843494240455, 0.4453826471970618, 0.4461190616799096, 0.4471435962546373, 0.4473391080560165, 0.44747014181387496, 0.4483593607401438, 0.4487120029543445, 0.4489863842811509, 0.44930596001758255, 0.4494165834759923, 0.44953615046794954, 0.4498489137139026, 0.4501126001655912, 0.45048038772712684, 0.4505463215463667, 0.4508000522257551, 0.450980053585698, 0.4512763254845643, 0.45249443545164514, 0.4525961059872188, 0.4529744910377325, 0.452976154261561, 0.4530764123299378, 0.4537826233622989, 0.45383049946680515, 0.4540430222164173, 0.45419242472228055, 0.45508016044804595, 0.4552390859895775, 0.4561921586583617, 0.4563666889343703, 0.4574572586761449, 0.4581460295381831, 0.4582516807614719, 0.45843853992531086, 0.4594464582368003, 0.45959480815209164, 0.4609274284225305, 0.4610725686684339, 0.4615566088306523, 0.4615984551042024, 0.46199081618768584, 0.462230712158923, 0.46233542279086287, 0.4631645423223376, 0.4638901026733787, 0.46459323491248716, 0.4651483487477416, 0.46548831025789733, 0.4657643259951448, 0.46578967484297107, 0.4659453062062169, 0.46753289847789303, 0.46774854986596465, 0.46800600170695483, 0.4680850493325554, 0.4682304522377965, 0.46891585619189685, 0.46908289771443457, 0.4695187633694715, 0.47023078678309627, 0.47037678931304205, 0.4708288293433913, 0.4724455666594545, 0.4725299055039757, 0.4733759136404464, 0.47360489974303743, 0.47380400815216706, 0.4749458574037387, 0.4750822671240302, 0.47535502263580853, 0.47559008354213184, 0.47634753116235035, 0.4768333447615036, 0.477134693565093, 0.4781510571946716, 0.4781889726288086, 0.4783704607567413, 0.47863956209252295, 0.4791988497881895, 0.47929001979121205, 0.4802023968491808, 0.4803021257180842, 0.48129961947831174, 0.48167996435931154, 0.4820460759447453, 0.4821285469154674, 0.48233950179238305, 0.48234801672511696, 0.48248179279990316, 0.4833565219376022, 0.4840382987456953, 0.4843644802978383, 0.48471482511924835, 0.4847212158384151, 0.48485249867138247, 0.48511105158961143, 0.4853633290297941, 0.48584378366101466, 0.486896836622572, 0.4882657322603843, 0.4883150979898401, 0.489214210083952, 0.4893364135865418, 0.49047841743322834, 0.49050325919820914, 0.49053843018112375, 0.4909063393756045, 0.4916791956615118, 0.4918411316907165, 0.4921810809474584, 0.49232806146943986, 0.49420386913019726, 0.49447694629682254, 0.4949819103134721, 0.4954474815812976, 0.4954943609942218, 0.4962208069241915, 0.4978808650301628, 0.49870299497519344, 0.49886621828270356, 0.49953788759410717, 0.5000244259969033, 0.5000590280041518, 0.5001771708725593, 0.5004103808917045, 0.500590080182907, 0.5007012976113107, 0.5015537985053511, 0.5016181317246403, 0.5020716091190556, 0.5021023298008997, 0.5025310707207449, 0.5025731635309875, 0.5028276354073836, 0.503303921142917, 0.5042202004050135, 0.5045946417606142, 0.504831564806431, 0.5049926660412447, 0.5052941985916517, 0.505361117498116, 0.5057923293188811, 0.5063974168229523, 0.5073280366734526, 0.5080038241238888, 0.5091666958196251, 0.5094155381374966, 0.510587623748351, 0.5116778630143334, 0.5123428072429482, 0.5123517560205718, 0.5135462571931251, 0.5150230288668768, 0.5150852108501326, 0.5153389977998101, 0.5158469493543857, 0.5168496479625065, 0.5169449931951523, 0.5182034840429044, 0.5191289474032239, 0.5191289474032239, 0.5191658907363674, 0.5193461021594858, 0.5194422262307545, 0.5198820386026142, 0.5203026019698362, 0.5204882217377551, 0.520973575599588, 0.521515580978287, 0.5218717692217335, 0.5219479483208562, 0.5239830479115181, 0.5249682933048366, 0.525152226581914, 0.5263018542697854, 0.5263060127959505, 0.526311377377086, 0.5263637170330798, 0.5269305387159157, 0.5270232223165369, 0.5313432050875735, 0.5313908872170016, 0.5322487367441935, 0.5328415734855513, 0.5328591624819486, 0.5331969878225623, 0.5332767380885423, 0.5333664573985892, 0.5334816908590333, 0.5336999550637261, 0.5353520343738072, 0.5358465066011017, 0.5361339899824926, 0.5363593355620235, 0.537017399683308, 0.5370876553846117, 0.537404706606369, 0.5378168104121862, 0.5380159327659205, 0.5381429276824032, 0.5381463913907942, 0.5387018314125839, 0.5391734684369709, 0.5401502583133154, 0.5409189263291629, 0.5412735963059515, 0.5417698512981525, 0.543203825896655, 0.5443070927858676, 0.5502330980937958, 0.5504734343934564, 0.5506228695539466, 0.5516090241785162, 0.5554874480444537, 0.5555405874118593, 0.5558195418619881, 0.5560732195764055, 0.5578800201766594, 0.5579039568160693, 0.5584212124033882, 0.5585530634940136, 0.558903481793956, 0.5590985025166322, 0.5597407087748839, 0.5604893180744489, 0.5612640228790059, 0.5616970156456405, 0.5624609822843925, 0.5626793769408502, 0.5628505227588125, 0.5636888324141347, 0.5667490945678892, 0.5678574341142267, 0.5679513634612026, 0.568333303680877, 0.568517119661859, 0.5687154087046411, 0.569271354547286, 0.5716004795931702, 0.5718803955308661, 0.5721619220248795, 0.5732492331721561, 0.5734185574194673, 0.5736997253012728, 0.5738019968370389, 0.5740944599484294, 0.5757258183310164, 0.5765600677007757, 0.5800271598907922, 0.5806098036165215, 0.5819225894963657, 0.5825061167355082, 0.5826454917574768, 0.5827551946530032, 0.5829260888799618, 0.5834708368474185, 0.5835586741670608, 0.5847132655407637, 0.5858038436553368, 0.5892181543353365, 0.5905722387894285, 0.5907205387010165, 0.5907357899909684, 0.590809040784648, 0.5908336462786051, 0.591594964416361, 0.5915950501309527, 0.5926597517606357, 0.5933126781465787, 0.5947037449681969, 0.595949298418004, 0.5966818060478583, 0.5980356805925741, 0.5991406148030017, 0.6006526401760026, 0.6043935568080397, 0.6047212074777065, 0.604836527355095, 0.6050522318214112, 0.6055227736903862, 0.6058998671134229, 0.6060819872243633, 0.6065290475218205, 0.6066037079874028, 0.610243084554191, 0.6105647863551126, 0.6108545457717748, 0.6110448523169696, 0.6135690083682817, 0.6136137219528776, 0.6136213681549739, 0.6137058897697182, 0.6138108531133963, 0.6143625165882124, 0.6146700862953839, 0.6148369981982584, 0.6148636390156268, 0.6151420233349125, 0.615631357585553, 0.6156628378066706, 0.6183256869343992, 0.6183413631627596, 0.6189706795162885, 0.620204717038858, 0.6203458262756036, 0.6205199380643985, 0.6260855332838315, 0.6262195721709637, 0.6263016983909689, 0.6270775515337612, 0.6272572817554922, 0.6307041464672596, 0.6315082695728367, 0.6315225904202568, 0.6358350294965568, 0.6366980185982712, 0.6372467229817693, 0.6374197388919063, 0.6377357659406734, 0.6380373892393425, 0.6380805555900445, 0.6381325243736164, 0.638313133601171, 0.639493940936231, 0.6399168978349101, 0.640505449711709, 0.641204543634843, 0.6415405057932667, 0.6424701109130143, 0.6425895595411693, 0.6426788801445672, 0.6431775113524922, 0.6448795381483846, 0.6467468231660066, 0.6478126321367156, 0.6479019684898909, 0.6491182811375509, 0.6500350990802535, 0.6507860678917795, 0.6534847069637114, 0.6551206851642282, 0.6554000337704378, 0.656494664639751, 0.65702078155178, 0.6590722053420373, 0.6594880536550967, 0.6596995558174116, 0.6616998952585277, 0.6620482040618811, 0.662190166407313, 0.6630149980582439, 0.6646221784399531, 0.6646886571655984, 0.6659644953397785, 0.6666641622012426, 0.6673464767998791, 0.6684449556341845, 0.6696097309977895, 0.6713920619771373, 0.6717458423065913, 0.6718149590992992, 0.6718375260179815, 0.6721072147526014, 0.6750469057757242, 0.6810445396608684, 0.681546073780426, 0.6830026851974285, 0.684218912645007, 0.6844836156236143, 0.684931684908326, 0.688358548511904, 0.6899387076213912, 0.6914241038915948, 0.6957068790618107, 0.6959601509998069, 0.6988657036171538, 0.6999455217085536, 0.7008716586377325, 0.7021939769617475, 0.7042288698842797, 0.705146746642526, 0.7068837280735388, 0.7095173428268793, 0.7107475413942762, 0.7147875206424374, 0.7150761881328149, 0.7171832625065786, 0.7173256578710665, 0.7201172518000017, 0.7242967473833181, 0.7249274290197378, 0.7251184730603247, 0.7286815720035993, 0.7293815846568662, 0.7307803850077498, 0.7327999295133312, 0.7338145815660289, 0.7348717578141241, 0.735306566091054, 0.7365407451354299, 0.73753655353626, 0.7379476475329456, 0.7383381049731099, 0.7393833095369462, 0.7418028633363116, 0.7440217917643399, 0.744546877397907, 0.7449287233646353, 0.7454360707824849, 0.7455109369167288, 0.747070356077626, 0.7474395698883117, 0.7490623376687097, 0.753303248776091, 0.7535421864197365, 0.7560218643802311, 0.7560218643802311, 0.7561916656452382, 0.75732996285079, 0.7574879042758877, 0.7577920678817124, 0.7587950092182884, 0.765774795864923, 0.7666643533054337, 0.7683887187267787, 0.7713369808176169, 0.772369867225895, 0.7755259375931803, 0.7772921800678637, 0.7773134563184579, 0.7854464787944748, 0.7865240085650298, 0.7867945685867833, 0.7877096258303462, 0.7878401022626716, 0.7883841417433428, 0.7956954150487163, 0.7963656836857332, 0.798462440111252, 0.7994809221195326, 0.7995962333734314, 0.8036449207490683, 0.8038711754230843, 0.8060599067556619, 0.8065482426857388, 0.8074679907406813, 0.8086461953413848, 0.8102259720271053, 0.8135430542445786, 0.8145381503003013, 0.8147243169939279, 0.8154038628453705, 0.8175300809124096, 0.8201002667428094, 0.821735254159841, 0.8220799767765086, 0.822684552735973, 0.822723453386025, 0.8310587111737991, 0.8315761519823048, 0.834593307797076, 0.843717851625778, 0.8437753389915194, 0.8466546836422569, 0.8511016330141558, 0.8528408623597012, 0.8561368756034969, 0.8568287163108035, 0.8590616530957009, 0.8604782751454163, 0.8665722544379489, 0.868021214411765, 0.8699920870213207, 0.8705646829505194, 0.8712294289886674, 0.8784651584057245, 0.8794644537334402, 0.8824759220329673, 0.8855245849276542, 0.8881905502179775, 0.8899497277164167, 0.8912537609440699, 0.8948283765272987, 0.907319738496411, 0.9089594684886687, 0.9091661453216221, 0.9096254893301379, 0.9120334482605634, 0.9135822047460427, 0.9177809705250017, 0.9181595506531841, 0.921007297448653, 0.9240346987501448, 0.9337203361676224, 0.9387701309302067, 0.9434788640121086, 0.9521832583890284, 0.953955535914799, 0.9619016686434958, 0.9623269178166033, 0.966058136353301, 0.9737655825104362, 0.9763453288027734, 0.97663860009958, 0.9789854370554182, 0.9832831128640113, 0.988589389814851, 0.988930547303481, 0.9993206184220021, 1.0179901835368368, 1.024436185799216, 1.0250695504555496, 1.0550897097203245, 1.0921884425345432, 1.094176124975761, 1.0996891276315233, 1.1089433980353545, 1.1093472655941483, 1.1330471115668936, 1.1389834140552384, 1.1500145500420247, 1.1509575076324046, 1.1526769615093173, 1.1746815369890888, 1.18579989218561, 1.1869513454839675, 1.2015191012463589, 1.2095509375464082, 1.2206444131306722, 1.2342223259971021, 1.2369370958143615, 1.2377562937101725, 1.2387758688411241, 1.2395973883997256, 1.2540800474733549, 1.303164177366483, 1.3166628632624688, 1.3184589804133693, 1.3331907762384487, 1.3365589224645755, 1.3409326949360503, 1.3588434814427948, 1.4169236873004543, 1.424300578887075, 1.429888065772014, 1.4430986455709842, 1.4605822583545693, 1.479195280155622, 1.4820971138893893, 1.4857811634171065, 1.5191761952107492, 1.5543252484584935, 1.5736291237242468, 1.6243567583316, 1.721292183417426, 1.7237742123431528, 1.7293042465629602, 1.7745784899191461, 1.8292945251264663, 1.9099933387921701, 1.9717630829951482, 2.039427706746755, 2.049206887280963, 2.115891990204866, 2.153758070490058, 2.2192900633689447, 2.2853776634141005, 2.608299429033723, 2.9121175488648867]\n"
     ]
    }
   ],
   "source": [
    "output_str = \"Vols_dollar_volume_min_price_continuity_all_sorted = \" + str(Vols_dollar_volume_min_price_continuity_all_sorted)\n",
    "print (output_str)\n",
    "write_file (\"Stocks_dollar_volume_min_price_continuity_all_sorted\", \"\\r\\n\" + output_str, \"a\")"
   ]
  },
  {
   "cell_type": "code",
   "execution_count": 17,
   "metadata": {},
   "outputs": [],
   "source": [
    "lowpercentile = 0.15\n",
    "highpercentile = 0.85\n",
    "[Stocks_dollar_volume_min_price_continuity_all_medium_vol, Vols_dollar_volume_min_price_continuity_all_medium_vol] = \\\n",
    "get_medium_vol_stocks (Stocks_dollar_volume_min_price_continuity_all_sorted, Vols_dollar_volume_min_price_continuity_all_sorted\\\n",
    "                      , lowpercentile, highpercentile)"
   ]
  },
  {
   "cell_type": "code",
   "execution_count": 18,
   "metadata": {},
   "outputs": [
    {
     "name": "stdout",
     "output_type": "stream",
     "text": [
      "Number of stocks after price screening (price>20), dollar volume screening (top 70%), continuity screening (April 1st, May 4th and June 1st), IB availability screening and volatility (1 month) screening (15%-85%) is 1468\n"
     ]
    }
   ],
   "source": [
    "print(\"Number of stocks after price screening (price>20), dollar volume screening (top 70%), continuity screening \\\n",
    "(April 1st, May 4th and June 1st), IB availability screening and volatility (1 month) screening (15%-85%) is \" \\\n",
    "      + str(len(Stocks_dollar_volume_min_price_continuity_all_medium_vol)))"
   ]
  },
  {
   "cell_type": "code",
   "execution_count": 19,
   "metadata": {
    "scrolled": true
   },
   "outputs": [
    {
     "name": "stdout",
     "output_type": "stream",
     "text": [
      "BasicMaterials = ['RIO', 'FCX', 'X', 'NEM', 'NUE', 'DOW', 'ECL', 'AA', 'DOW', 'AEM', 'MLM', 'LYB', 'CTVA', 'MOS', 'IFF', 'CE', 'AXTA', 'STLD', 'ALB', 'VMC', 'BBL', 'AVTR', 'SMG', 'KGC', 'BHP', 'GGB', 'HUN', 'CF', 'EMN', 'AU', 'KL', 'RGLD', 'UFS', 'AG', 'ASH', 'AUY', 'FNV', 'CX', 'LAC', 'OLN', 'LTHM', 'SUM', 'CXP', 'CC', 'SID', 'BTG', 'WFG', 'RS', 'WLK', 'ESI', 'BCC', 'SWM', 'BVN', 'UFPI', 'SBSW', 'KWR', 'FSM', 'CBT', 'AGI', 'KALU', 'NGVT', 'CMC', 'SAND', 'MDU', 'TROX', 'PKX', 'TSE', 'EGO', 'UNVR', 'WDFC', 'SCHN', 'PVG', 'EQX', 'MTX', 'SILV', 'CSTM', 'KRA', 'GCP', 'IAG', 'CMP', 'OR', 'SVM', 'SUZ', 'SXC', 'SCL', 'NG', 'ASIX']\n",
      "ConsumerCyclical = ['TSLA', 'AMZN', 'F', 'BABA', 'HD', 'GM', 'DKNG', 'CCL', 'ULTA', 'LOW', 'NCLH', 'JD', 'EBAY', 'BBY', 'GPS', 'TJX', 'MELI', 'LVS', 'W', 'LULU', 'EXPE', 'CMG', 'ETSY', 'RCL', 'CVNA', 'ROST', 'BLL', 'PENN', 'MAR', 'YUMC', 'CROX', 'BURL', 'WYNN', 'IP', 'DHI', 'TSCO', 'VFC', 'PHM', 'WHR', 'RH', 'AAP', 'CHWY', 'POOL', 'DRI', 'LEN', 'HLT', 'TXRH', 'FBHS', 'CCK', 'MGA', 'PVH', 'MHK', 'YETI', 'UA', 'TRIP', 'DECK', 'FIVE', 'BFAM', 'HTHT', 'RL', 'GPC', 'Z', 'VAC', 'LEVI', 'BYD', 'HOME', 'NVR', 'BG', 'THO', 'EAT', 'TPX', 'WH', 'WRK', 'GT', 'FND', 'ASO', 'KMX', 'BWA', 'CBRL', 'CHDN', 'CWH', 'TOL', 'PII', 'ARVL', 'LEA', 'CRI', 'VRM', 'GPK', 'BERY', 'CAKE', 'HBI', 'HRB', 'GNTX', 'SIX', 'MTN', 'FOXF', 'ARMK', 'CHH', 'BC', 'ALV', 'VSTO', 'LGIH', 'MDC', 'BLMN', 'ROL', 'ADNT', 'GPI', 'HAS', 'PLNT', 'KBH', 'COLM', 'KAR', 'ALSN', 'MTH', 'MAT', 'SKX', 'PLAY', 'WGO', 'MED', 'LOVE', 'BZUN', 'VC', 'QRTEA', 'CUK', 'GOOS', 'WING', 'HGV', 'HMC', 'RRR', 'MLHR', 'SHOO', 'CCS', 'MUSA', 'KTB', 'PZZA', 'TMHC', 'MMYT', 'ABG', 'TTM', 'KIRK', 'FUN', 'CNNE', 'GIL', 'LEG', 'DAN', 'GOLF', 'MHO', 'CTRN', 'MBUU', 'SBH', 'XPEL', 'AMWD', 'TPH', 'H', 'SEAS', 'BKE', 'LESL', 'LCII', 'WWW', 'EYE', 'OI', 'LL', 'GIII', 'MNRO', 'AIN', 'GAN', 'LZB', 'CVCO', 'AXL', 'SAH', 'ZUMZ', 'TUP', 'ETH', 'DRVN', 'PATK', 'DOOO', 'CBD', 'CHUY', 'CARS', 'VNE', 'RUSHA', 'OXM']\n",
      "FinancialServices = ['PYPL', 'MA', 'GS', 'TRV', 'COF', 'TFC', 'ALL', 'MET', 'HBAN', 'DNB', 'PRU', 'PGR', 'SYF', 'TROW', 'CFG', 'BX', 'ALLY', 'ITUB', 'AIG', 'MKTX', 'CSR', 'SIVB', 'BAP', 'AMP', 'EQH', 'PNC', 'DFS', 'KKR', 'TW', 'RJF', 'BBD', 'KEY', 'RE', 'EBC', 'PFG', 'RNR', 'HDB', 'ADS', 'APO', 'IBN', 'NDAQ', 'SBNY', 'IBKR', 'UNM', 'LNC', 'OMF', 'TREE', 'BCS', 'MKL', 'CMA', 'ZION', 'ING', 'WU', 'FAF', 'VOYA', 'SLM', 'BEN', 'XP', 'EWBC', 'ARES', 'AIZ', 'LPLA', 'MTG', 'EVR', 'CBSH', 'FHB', 'CG', 'Y', 'PBCT', 'FRHC', 'ESNT', 'BPOP', 'WAL', 'JHG', 'AMG', 'FCNCA', 'SF', 'RILY', 'UNIT', 'ARCC', 'SNV', 'PFSI', 'TRUP', 'BXS', 'PBR', 'HLI', 'PNFP', 'FCBP', 'EBC', 'TCBI', 'FBP', 'CNO', 'COLB', 'PRI', 'VLY', 'CIT', 'ERIE', 'MORN', 'GSHD', 'RLI', 'AXS', 'LPRO', 'GDOT', 'WTFC', 'HLNE', 'LAZ', 'HTGC', 'FOCS', 'VRTS', 'ASB', 'PSEC', 'GOCO', 'FHI', 'CMT', 'LOB', 'BKU', 'ABCB', 'UMPQ', 'LC', 'ISBC', 'APAM', 'GBCI', 'CADE', 'BOH', 'CFR', 'SC', 'INDB', 'LYG', 'GNW', 'FFIN', 'FRME', 'EHTH', 'KNSL', 'CASH', 'SIGI', 'SAN', 'CATY', 'PLMR', 'UMBF', 'UBSI', 'CBU', 'BOKF', 'PDI', 'IBTX', 'CUBI', 'CLM', 'PCI', 'MCY', 'FMBI', 'FSKR', 'ENVA', 'AEL', 'NMIH', 'IBOC', 'EFC', 'EGBN', 'AC', 'WD', 'UCBI', 'FULT', 'AEG', 'WSBC', 'KB', 'DFIN', 'MC', 'AGO', 'BMEZ', 'MAIN', 'SFBS', 'HMN', 'PFS', 'PTY', 'PJT', 'BSTZ', 'HOMB', 'CNS', 'FIBK', 'WSFS', 'JRVR', 'BSBR', 'SHG', 'CLII', 'RA', 'PRAA', 'EIG', 'PIPR', 'OCFC', 'SASR', 'FFBC', 'BRP', 'TRMK', 'GWB', 'NTB', 'OFG', 'STC', 'TBK', 'CIB', 'BOWX']\n",
      "RealEstate = ['SPG', 'O', 'WY', 'EQR', 'CBRE', 'VICI', 'RLGY', 'ESS', 'VC', 'AMH', 'BXP', 'KIM', 'REXR', 'OHI', 'COLD', 'RDFN', 'UDR', 'CUZ', 'PEAK', 'SRC', 'REG', 'STWD', 'VNO', 'ACC', 'PK', 'CONE', 'SLG', 'HTA', 'NRZ', 'ADC', 'STOR', 'SKT', 'IVR', 'FRT', 'NSA', 'KRC', 'LAMR', 'COR', 'EPR', 'NHI', 'BRX', 'DEI', 'RYN', 'APLE', 'EGP', 'NNN', 'SHO', 'PGRE', 'LTC', 'IIPR', 'ABR', 'ESRT', 'CLNY', 'BDN', 'HASI', 'CXP', 'HPP', 'WRI', 'JBGS', 'FCPT', 'LXP', 'AIRC', 'PEB', 'RLJ', 'PCH', 'CIM', 'HHC', 'AIV', 'DRH', 'WRE', 'INN', 'NTST', 'EPRT', 'AAT', 'PDM', 'PAX', 'PMT', 'IRT', 'LAND', 'ARI', 'PZN', 'CLI', 'NMRK', 'CWK', 'UE', 'XHR', 'RPAI', 'APT', 'NTR', 'ALEX', 'MFA', 'KRG', 'SAFE', 'ILPT', 'GMRE', 'DX', 'UMH', 'BRMK', 'LADR']\n",
      "ConsumerDefensive = ['DG', 'DLTR', 'SAM', 'OLLI', 'KR', 'CNS', 'SYY', 'BG', 'DAR', 'NWL', 'LW', 'HRL', 'ABEV', 'CHGG', 'PFGC', 'USFD', 'FRPT', 'CASY', 'SFM', 'FMX', 'BJ', 'SAFM', 'CCEP', 'HLF', 'COTY', 'HELE', 'TPB', 'BGS', 'NOMD', 'UTZ', 'TWOU', 'CORE', 'UVV', 'LANC', 'UNFI', 'ACI', 'LOPE', 'COKE', 'SPB', 'SMPL', 'STRA', 'ELF', 'NUS', 'EPC', 'LAUR', 'LRN', 'CENTA', 'JJSF', 'HMHC', 'PPC', 'CVGW', 'CALM', 'KOF', 'CHEF', 'SPTN', 'TR', 'AFYA', 'NTCO', 'EEIQ', 'IMKTA', 'WMK', 'PSMT']\n",
      "Healthcare = ['MRNA', 'VEEV', 'TMO', 'CVS', 'ABT', 'DHR', 'ISRG', 'TDOC', 'LLY', 'ILMN', 'CGC', 'DXCM', 'ZEN', 'BSX', 'ALGN', 'HCA', 'CRL', 'EW', 'SYK', 'STAA', 'IDXX', 'HZNP', 'EXAS', 'WST', 'SGEN', 'RCM', 'LH', 'TECH', 'PODD', 'NVCR', 'TXG', 'STRL', 'CRSP', 'DGX', 'EBS', 'CAH', 'ZLAB', 'ELAN', 'GDRX', 'WAT', 'ABMD', 'NTRA', 'BHVN', 'XRAY', 'PEN', 'HSIC', 'HQY', 'BGNE', 'ALC', 'MRTX', 'PGNY', 'NVTA', 'BEAM', 'MASI', 'GH', 'NBIX', 'THC', 'ARWR', 'TFX', 'PDCO', 'ALLO', 'NVST', 'SAGE', 'CTLT', 'BPMC', 'ALNY', 'QDEL', 'EXEL', 'PACB', 'SDGR', 'CDNA', 'ARGX', 'MOH', 'UTHR', 'VIR', 'NARI', 'RGEN', 'TGTX', 'PHG', 'TNDM', 'ACCD', 'INMD', 'RPRX', 'PRGO', 'ARVN', 'GTHX', 'INSP', 'LIVN', 'AMED', 'GMED', 'NVRO', 'AXNX', 'NSTG', 'PINC', 'OMCL', 'BLUE', 'MRVI', 'LHCG', 'TPTX', 'PCRX', 'KRTX', 'GBT', 'EDIT', 'RARE', 'ARNA', 'ALKS', 'ADPT', 'FOLD', 'BBIO', 'INOV', 'DRNA', 'XLRN', 'SGRY', 'RVMD', 'OCDX', 'ACAD', 'ICUI', 'INSM', 'SIBN', 'HCAT', 'GRFS', 'PHR', 'SNN', 'ENDP', 'LGND', 'ZNTL', 'PETQ', 'SILK', 'GKOS', 'MMSI', 'GLPG', 'SEM', 'IMGN', 'PTCT', 'MORF', 'AXSM', 'AHCO', 'MDRX', 'OM', 'KOD', 'ALLK', 'MDGL', 'MYOV', 'CERT', 'AGIO', 'CNMD', 'ENSG', 'SHC', 'TVTX', 'CLVS', 'NEO', 'FGEN', 'IART', 'ACHC', 'CYTK', 'SWTX', 'TBIO', 'ITCI', 'PTGX', 'KURA', 'NRIX', 'LUNG', 'RGNX', 'ATEC', 'NEOG', 'SRRK', 'DVAX', 'BTAI', 'TNXP', 'CDXS', 'IRWD', 'RLAY', 'DCPH', 'PBH', 'ALHC', 'ATRC', 'ZYME', 'HSKA', 'OCUL', 'OPCH', 'SGMO', 'QURE', 'EVH', 'ATRA', 'CHRS', 'CERS', 'SNDX', 'RCUS', 'AFMD', 'ADUS', 'RVNC', 'HCSG', 'VNDA', 'TRHC', 'KPTI', 'PAVM', 'ESPR', 'XNCR', 'OMER', 'YMAB', 'MYGN', 'FMTX', 'AKBA', 'SANA', 'PRQR', 'BKD', 'ANGO', 'SUPN', 'AERI', 'ARDX', 'ATRI', 'AKRO', 'TCMD', 'BLFS', 'ZGNX', 'EOLS', 'WVE', 'MRSN', 'RIGL', 'CPRX', 'VKTX', 'OPRX', 'ZIOP', 'TXMD', 'INGN', 'RYTM', 'GB', 'ENTA', 'RDUS', 'KIDS', 'SGFY', 'CARA', 'TMDX']\n",
      "Utilities = ['NSP', 'PCG', 'CMS', 'NRG', 'VST', 'AES', 'UGI', 'EIX', 'PNW', 'NGG', 'ORA', 'NEP', 'BEPC', 'CWEN', 'NJR', 'BIPC', 'SWX', 'SJI', 'BKH', 'SBS', 'CPK', 'CIG', 'AZRE', 'BEP', 'ELP', 'CWT']\n",
      "CommunicationServices = ['FB', 'GOOG', 'ABNB', 'ZM', 'ROKU', 'CMCSA', 'SNAP', 'VIAC', 'BIDU', 'PINS', 'TWTR', 'Z', 'TWLO', 'CHTR', 'DISCA', 'ATVI', 'MTCH', 'SPOT', 'NTES', 'FVRR', 'DISCK', 'TTWO', 'DISH', 'ZNGA', 'ATUS', 'YNDX', 'LYV', 'CABO', 'LSXMK', 'ATHM', 'LSXMA', 'GRUB', 'ZG', 'MSGS', 'VOD', 'NYT', 'LBTYK', 'LBTYA', 'NXST', 'TV', 'AMX', 'GCI', 'VG', 'CDLX', 'MSGE', 'CARG', 'YELP', 'GOGO', 'SBGI', 'SSTK', 'TEF', 'TDS', 'VIV', 'IHRT', 'GRPN', 'COUP', 'GCI', 'MDP', 'WMG', 'AVID', 'PLTK', 'MCS', 'SCPL', 'SSP', 'CNSL', 'TTGT', 'QNST', 'DLX', 'EVER']\n",
      "Energy = ['MPC', 'PBR', 'BP', 'SLB', 'PXD', 'VLO', 'EOG', 'WMB', 'OKE', 'PSX', 'COG', 'AHC', 'FANG', 'SU', 'HAL', 'CCJ', 'APA', 'XEC', 'TPL', 'TOT', 'EQT', 'CVE', 'TRGP', 'AR', 'SHLX', 'DEN', 'ETRN', 'OVV', 'CHK', 'MUR', 'PAGP', 'CLR', 'TS', 'PAA', 'PSXP', 'FTI', 'DHT', 'INT', 'MTDR', 'HP', 'ARCH', 'PBA', 'CNX', 'STNG', 'IMO', 'HEP', 'WLL', 'DK', 'GLNG', 'BCEI', 'FRO', 'CRK', 'VNOM', 'ERF', 'NOG', 'EURN', 'EC', 'GEL', 'SNP', 'CQP', 'PTR', 'OAS', 'WHD', 'WTI', 'ENBL', 'UGP', 'DNOW']\n",
      "Industrials = ['BA', 'GE', 'AAL', 'CNI', 'DE', 'KSU', 'TRU', 'MIDD', 'FDX', 'AUD', 'DAL', 'LUV', 'PH', 'CP', 'SWK', 'CARR', 'TDG', 'EXPD', 'GNRC', 'AZEK', 'WAB', 'ODFL', 'URI', 'JCI', 'EFX', 'AVY', 'CPRT', 'CTAS', 'AA', 'JBLU', 'PCAR', 'CHRW', 'SPR', 'LPX', 'JBHT', 'ALK', 'MAS', 'IAA', 'CD', 'SAVE', 'OC', 'BLDR', 'BLD', 'IR', 'VRT', 'ZTO', 'ALLE', 'SNA', 'MTZ', 'TXT', 'J', 'HEI', 'XYL', 'WSO', 'PWR', 'BE', 'AYI', 'TGH', 'NDSN', 'ABB', 'AOS', 'ACM', 'CNHI', 'AER', 'PNR', 'BAH', 'DCI', 'EAF', 'AG', 'ERJ', 'UHAL', 'TTC', 'CPA', 'LII', 'CFX', 'SITE', 'HA', 'LSTR', 'JELD', 'MAN', 'GGG', 'HXL', 'RCII', 'JBT', 'WMS', 'RBC', 'KRNT', 'RBA', 'PRLB', 'TKR', 'CW', 'GFL', 'KBR', 'CSL', 'TEX', 'MRCY', 'ENS', 'WTS', 'ACP', 'R', 'KMT', 'LECO', 'WERN', 'AAN', 'NVT', 'PRG', 'WCC', 'B', 'RYAAY', 'IIN', 'AWI', 'TPIC', 'SWBI', 'AIMC', 'ROLL', 'FIX', 'MIC', 'APG', 'CR', 'ALGT', 'IBP', 'FLS', 'GOL', 'REZI', 'FAIL', 'AAWW', 'TRN', 'ATKR', 'AL', 'ARNC', 'ENR', 'ASGN', 'ADT', 'AQUA', 'HI', 'AEIS', 'GBX', 'PRIM', 'CYRX', 'CRS', 'TNET', 'RXN', 'DOOR', 'SKYW', 'ABM', 'PSN', 'UNF', 'GVA', 'GFF', 'BECN', 'TFII', 'OMAB', 'ROCK', 'AVAV', 'PBI', 'KFY', 'AIR', 'SSD', 'CMCO', 'SFL', 'ALEX', 'MYRG', 'HAYW', 'MWA', 'AMRC', 'HUBG', 'KEX', 'CWST', 'RGR', 'MLI', 'ROAD', 'AZZ', 'SHYF', 'ASTE', 'BMI', 'POWW', 'MTW', 'ACA', 'AAON', 'FELE', 'FLOW', 'LNN', 'LAND', 'SNDR', 'SCS', 'DGLY', 'RAVN', 'NAT', 'EPAC', 'HTLD', 'WIRE', 'GMS', 'PGTI', 'NPO', 'MEG', 'HEES', 'DHC', 'HURN', 'HSC']\n",
      "Technology = ['NVDA', 'CRM', 'MSFT', 'AAPL', 'AMD', 'SNOW', 'INTC', 'SHOP', 'ADBE', 'MU', 'NOW', 'QCOM', 'AVGO', 'AMAT', 'UBER', 'SQ', 'TSM', 'OKTA', 'TXN', 'CRWD', 'INTU', 'LYFT', 'ADSK', 'LRCX', 'ADI', 'NXPI', 'ZS', 'WDAY', 'RNG', 'TTD', 'NOK', 'DELL', 'VMW', 'KLAC', 'TEAM', 'ENPH', 'PANW', 'U', 'MRVL', 'XLNX', 'SPLK', 'ON', 'BILL', 'QRVO', 'TER', 'WDC', 'SNPS', 'CDW', 'HPE', 'NET', 'COUP', 'GLW', 'HUBS', 'DDOG', 'MCHP', 'FTNT', 'TEL', 'MXIM', 'NTAP', 'DBX', 'CREE', 'ZBRA', 'FTV', 'SEDG', 'STNE', 'KEYS', 'BKI', 'FLT', 'TDY', 'TRMB', 'ANSS', 'FSLR', 'AVLR', 'BOX', 'EPAM', 'AVGOP', 'PSTG', 'GDS', 'PAYC', 'MPWR', 'TYL', 'ZEN', 'ANET', 'CIEN', 'AZPN', 'SABR', 'GDDY', 'ESTC', 'BSY', 'IIVI', 'XRX', 'CDAY', 'G', 'PAGS', 'ARW', 'FIVN', 'NTNX', 'DT', 'FROG', 'DOMO', 'FAF', 'DXC', 'SAP', 'BRKS', 'IPGP', 'JNPR', 'FFIV', 'AYX', 'CYBR', 'MKSI', 'CGNX', 'FOUR', 'STM', 'CSIQ', 'SMAR', 'GWRE', 'NCNO', 'CRUS', 'IRBT', 'UMC', 'ST', 'ENTG', 'SONO', 'CRSR', 'SAIL', 'DLB', 'AMBA', 'GLOB', 'MANH', 'COMM', 'VSAT', 'PEGA', 'NCR', 'DOX', 'SWCH', 'PRO', 'LSCC', 'DCT', 'EEFT', 'MDLA', 'ZI', 'CVLT', 'LPL', 'ENV', 'AVT', 'EVBG', 'ASAN', 'UCTT', 'SSYS', 'BAND', 'BL', 'DNB', 'SMTC', 'PCTY', 'RPD', 'EB', 'KLIC', 'PRFT', 'QLYS', 'MIME', 'ATC', 'ONTO', 'VRNS', 'STMP', 'LPSN', 'MTSI', 'NEWR', 'CCMP', 'SLAB', 'ALRM', 'CNXC', 'POWI', 'ALGM', 'SUMO', 'WK', 'NTCT', 'VRNT', 'AMKR', 'CALX', 'SANM', 'TTEC', 'VSH', 'NTGR', 'ICHR', 'PING', 'SVMK', 'ITRI', 'PRGS', 'FORM', 'TENB', 'ALTR', 'AVYA', 'SITM', 'FN', 'SNX', 'ZUO', 'TDC', 'SYNA', 'SWI', 'NATI', 'SPSC', 'CNDT', 'EGHT', 'ASX', 'CSOD', 'WIT', 'COHU', 'SGH', 'PTC', 'UIS', 'VCRA', 'ACVA', 'CGNT', 'EVTC', 'APPF', 'CMTL', 'EXTR', 'EPAY', 'SATS', 'MCFE', 'ACLS', 'MXL', 'LFUS', 'RMBS', 'MODN', 'NVMI', 'ROG', 'INFN', 'MX', 'DOCN', 'ESE', 'PAYA', 'AOSL', 'VICR', 'MITK', 'DBD', 'CTS', 'SMCI', 'BCOV', 'PI', 'AKTS', 'NPTN', 'EVOP', 'IMMR', 'PLAB', 'BHE']\n"
     ]
    }
   ],
   "source": [
    "Stocks_dollar_volume_min_price_continuity_medium_vol = \\\n",
    "[intersection([ticker_lst, Stocks_dollar_volume_min_price_continuity_all_medium_vol])\\\n",
    "for ticker_lst in Stocks_dollar_volume_min_price_continuity]\n",
    "\n",
    "[BasicMaterials, ConsumerCyclical, FinancialServices, RealEstate, ConsumerDefensive, Healthcare,\\\n",
    " Utilities, CommunicationServices, Energy, Industrials, Technology]\\\n",
    " = Stocks_dollar_volume_min_price_continuity_medium_vol\n",
    "\n",
    "output_str = \"\"\n",
    "for SectorInd in range(len(SectorNames)):\n",
    "    curr_str = SectorNames[SectorInd] + ' = ' + str(Stocks_dollar_volume_min_price_continuity_medium_vol[SectorInd])\n",
    "    print (curr_str)\n",
    "    output_str += curr_str + '\\n'\n",
    "write_file (\"Stocks_dollar_volume_min_price_continuity_medium_vol\", output_str, option = 'w')"
   ]
  },
  {
   "cell_type": "code",
   "execution_count": null,
   "metadata": {},
   "outputs": [],
   "source": []
  }
 ],
 "metadata": {
  "kernelspec": {
   "display_name": "Python 3",
   "language": "python",
   "name": "python3"
  },
  "language_info": {
   "codemirror_mode": {
    "name": "ipython",
    "version": 3
   },
   "file_extension": ".py",
   "mimetype": "text/x-python",
   "name": "python",
   "nbconvert_exporter": "python",
   "pygments_lexer": "ipython3",
   "version": "3.7.1"
  }
 },
 "nbformat": 4,
 "nbformat_minor": 2
}
