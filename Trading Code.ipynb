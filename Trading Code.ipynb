{
 "cells": [
  {
   "cell_type": "code",
   "execution_count": 1,
   "id": "b1c90d3f",
   "metadata": {},
   "outputs": [],
   "source": [
    "from ib_insync import *\n",
    "import numpy as np\n",
    "import pandas as pd\n",
    "from datetime import datetime\n",
    "from trading_stratigies import write_file, sort_first_by_second\n",
    "import matplotlib as plt"
   ]
  },
  {
   "cell_type": "code",
   "execution_count": 2,
   "id": "403c0cdc",
   "metadata": {},
   "outputs": [],
   "source": [
    "# The function to get contract historical data\n",
    "def get_contract_data(contract, look_back, resolution, side, end_time):\n",
    "    bar = ib.reqHistoricalData(contract, endDateTime = end_time, durationStr=look_back,\n",
    "        barSizeSetting= resolution, whatToShow=side, useRTH=True, formatDate=1)\n",
    "# use util in ib-insync to convert bar data into pandas dataframe    \n",
    "    df = util.df(bar)\n",
    "    return df \n",
    "\n",
    "# The function to get stock historical data\n",
    "def get_stock_data(ticker, look_back, resolution, side, end_time):\n",
    "    contract = Contract(symbol = ticker, secType = 'STK', exchange = 'SMART',currency = 'USD')   \n",
    "    if len(ib.qualifyContracts(contract)) == 0:\n",
    "        return pd.DataFrame()\n",
    "    return get_contract_data(contract, look_back, resolution, side, end_time)\n",
    "\n",
    "# The function to get stock return historical data\n",
    "def get_return_history(ticker_lst, look_back, resolution, side, end_time):\n",
    "    column_names = np.array(get_stock_data(\"ABC\", look_back, resolution, side, end_time)['date'][1:])\n",
    "    Stocks_return_history_tmp = pd.DataFrame(columns = column_names)\n",
    "    for ticker_index in range(len(ticker_lst)):\n",
    "        ticker = ticker_lst [ticker_index]\n",
    "        stock_data_tmp = get_stock_data(ticker, look_back, resolution, side, end_time)\n",
    "        if type(stock_data_tmp) != type(pd.DataFrame()) or not \"close\" in stock_data_tmp:\n",
    "            print (\"no history available for ticker \" + ticker)\n",
    "            continue \n",
    "        if len(stock_data_tmp) - 1 < len(column_names):\n",
    "            print (\"not long enough history for \" + str(ticker))\n",
    "        elif len(stock_data_tmp) - 1 > len(column_names):\n",
    "            print (\"excessive \" + str(len(stock_data_tmp)-len(column_names)) + \n",
    "                   \" trading days for \" + str(ticker))\n",
    "        else:\n",
    "            equity_close_history_tmp = stock_data_tmp.close\n",
    "            Stocks_return_history_tmp.loc[ticker_lst[ticker_index]] = np.diff(np.log(equity_close_history_tmp))\n",
    "    return Stocks_return_history_tmp"
   ]
  },
  {
   "cell_type": "code",
   "execution_count": 3,
   "id": "bd342a53",
   "metadata": {},
   "outputs": [
    {
     "data": {
      "text/plain": [
       "<IB connected to 127.0.0.1:7497 clientId=11>"
      ]
     },
     "execution_count": 3,
     "metadata": {},
     "output_type": "execute_result"
    }
   ],
   "source": [
    "# Connect to IB Server\n",
    "ib=IB()\n",
    "util.startLoop()\n",
    "ib.connect('127.0.0.1',7497, clientId= 11)"
   ]
  },
  {
   "cell_type": "code",
   "execution_count": 4,
   "id": "d8566c0f",
   "metadata": {},
   "outputs": [],
   "source": [
    "def linear_regress_history(x,y):\n",
    "    from sklearn.linear_model import LinearRegression\n",
    "    x, y = np.array(x), np.array(y)\n",
    "    X = x.reshape((-1, 1))\n",
    "    Y = y\n",
    "    model = LinearRegression().fit(X, Y)\n",
    "    intercept = model.intercept_\n",
    "    slope = model.coef_[0]\n",
    "    res = y - slope*x - intercept\n",
    "    sigma = np.sqrt(np.mean(res**2))\n",
    "    zscore = res/sigma\n",
    "#     print(zscore)\n",
    "    return [slope, intercept, sigma]"
   ]
  },
  {
   "cell_type": "code",
   "execution_count": 5,
   "id": "62472223",
   "metadata": {},
   "outputs": [
    {
     "name": "stderr",
     "output_type": "stream",
     "text": [
      "Peer closed connection\n"
     ]
    }
   ],
   "source": [
    "def initialize_back_test_pair (pair, look_back, num_strategy_look_back, resolution, start_time, end_time):\n",
    "    df_0_bid = get_stock_data(pair[0], look_back, resolution, \"Bid\", end_time)\n",
    "    df_0_ask = get_stock_data(pair[0], look_back, resolution, \"Ask\", end_time)\n",
    "    df_0_trades = get_stock_data(pair[0], look_back, resolution, \"Trades\", end_time)\n",
    "    df_1_bid = get_stock_data(pair[1], look_back, resolution, \"Bid\", end_time)\n",
    "    df_1_ask = get_stock_data(pair[1], look_back, resolution, \"Ask\", end_time)\n",
    "    df_1_trades = get_stock_data(pair[1], look_back, resolution, \"Trades\", end_time)\n",
    "    if df_0_bid is None or df_1_bid is None or len(df_0_bid) == 0 or len(df_1_bid) ==0:\n",
    "        if_success = False\n",
    "        [history_price, history_return, history_operation, history_log] = [pd.DataFrame(),pd.DataFrame(),pd.DataFrame(),pd.DataFrame()]\n",
    "        print(\"Proper history is not available for stock pair \" + str(pair) + \"\\n\")\n",
    "        return [history_price, history_operation, history_log, if_success]\n",
    "    if df_0_bid.date.equals(df_1_bid.date):\n",
    "        history_price = pd.DataFrame({pair[0]+\" Bid Open\": df_0_bid.open, pair[0]+\" Bid Close\": df_0_bid.close, \n",
    "                                    pair[0]+\" Ask Open\": df_0_ask.open, pair[0]+\" Ask Close\": df_0_ask.close,\n",
    "                                    pair[0]+\" Trades Open\": df_0_trades.open, pair[0]+\" Trades Close\": df_0_trades.close, \n",
    "                                    pair[0]+\" Log Trades Open\": np.log(df_0_trades.open), pair[0]+\" Log Trades Close\": np.log(df_0_trades.close), \n",
    "                                    pair[1]+\" Bid Open\": df_1_bid.open, pair[1]+\" Bid Close\": df_1_bid.close, \n",
    "                                    pair[1]+\" Trades Open\": df_1_trades.open, pair[1]+\" Trades Close\": df_1_trades.close,\n",
    "                                    pair[1]+\" Ask Open\": df_1_ask.open, pair[1]+\" Ask Close\": df_1_ask.close,\n",
    "                                    pair[1]+\" Log Trades Open\": np.log(df_1_trades.open), pair[1]+\" Log Trades Close\": np.log(df_1_trades.close)})\n",
    "        #history_all.index = [datetime.strptime(str(date), '%Y-%m-%d') for date in df_0_bid.date]\n",
    "        history_price.index = df_0_bid.date\n",
    "        history_price = history_price.iloc [list(history_price.index).index(start_time) - num_strategy_look_back:, :]\n",
    "        \n",
    "        #history_return = get_return_history(pair, look_back, resolution, \"Trades\", end_time).T\n",
    "        #history_return = history_return.iloc [list(history_return.index).index(start_time) - num_strategy_look_back:, :]\n",
    "        if_success = True\n",
    "        operation_index = history_price.index [(history_price.index >= start_time) * (history_price.index <= end_time)]\n",
    "        columns_name = [pair[0]+\" Shares (Open)\", pair[1]+\" Shares (Open)\", pair[0]+\" Shares (Close)\", pair[1]+\" Shares (Close)\", \\\n",
    "                  \"Hedge Ratio\", \"Zscore (Open)\", \"Zscore (Close)\",\"Pair Operation\", \"If Stop Loss\", \\\n",
    "                  pair[0]+\" Operation on Strategy\", pair[1]+\" Operation on Strategy\", \\\n",
    "                  \"Leverage (Open)\", \"Leverage (Close)\", \"If Margin Call (Close)\",\\\n",
    "                  pair[0]+ \" Operation on Margin Call (Close)\", pair[1]+ \" Operation on Margin Call (Close)\", \\\n",
    "                  \"Portfolio Value (Open)\", \"Portfolio Value (Close)\", \"Cash (Open)\", \"Cash (Close)\", \\\n",
    "                  \"Holdings Value (Open)\", \"Holdings Value (Close)\", \"Net Asset (Open)\" ,\"Net Asset (Close)\", \\\n",
    "                  \"Friction\", \"Day PnL\", \"Night PnL\", \"Daily PnL\", \"Cumulative PnL\", \"Daily Return\", \"Cumulative Return\"]\n",
    "        history_operation = pd.DataFrame(None, index = operation_index, columns = columns_name)\n",
    "        x_array = history_price.loc[history_operation.index[0]:, pair[0]+\" Log Trades Close\"]\n",
    "        y_array = history_price.loc[history_operation.index[0]:, pair[1]+\" Log Trades Close\"]\n",
    "        [slope, intercept, sigma] = linear_regress_history(x_array, y_array)\n",
    "        history_price[\"Zscore\"] = (y_array - slope*x_array - intercept)/sigma\n",
    "        history_log = pd.DataFrame(None, index = operation_index, columns = [\"Type\", \"Message\"])\n",
    "    else:\n",
    "        print(\"Proper history is not available for stock pair \" + str(pair) + \"\\n\")\n",
    "        if_success = False\n",
    "        [history_price, history_return, history_operation, history_log] = [pd.DataFrame(),pd.DataFrame(),pd.DataFrame(),pd.DataFrame()]\n",
    "    return [history_price, history_operation, history_log, if_success]"
   ]
  },
  {
   "cell_type": "code",
   "execution_count": null,
   "id": "98162cb6",
   "metadata": {},
   "outputs": [],
   "source": []
  }
 ],
 "metadata": {
  "kernelspec": {
   "display_name": "Python 3",
   "language": "python",
   "name": "python3"
  },
  "language_info": {
   "codemirror_mode": {
    "name": "ipython",
    "version": 3
   },
   "file_extension": ".py",
   "mimetype": "text/x-python",
   "name": "python",
   "nbconvert_exporter": "python",
   "pygments_lexer": "ipython3",
   "version": "3.7.1"
  }
 },
 "nbformat": 4,
 "nbformat_minor": 5
}
