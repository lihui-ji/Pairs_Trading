{
 "cells": [
  {
   "cell_type": "code",
   "execution_count": 1,
   "id": "e524072c",
   "metadata": {},
   "outputs": [],
   "source": [
    "from ib_insync import *\n",
    "import numpy as np\n",
    "import pandas as pd\n",
    "from datetime import datetime\n",
    "from trading_stratigies import write_file\n",
    "%matplotlib inline"
   ]
  },
  {
   "cell_type": "code",
   "execution_count": 2,
   "id": "9f4522eb",
   "metadata": {},
   "outputs": [],
   "source": [
    "# Stock pair parameters\n",
    "# y = x * slope + intercept + residule\n",
    "def stats_pair_history(x, y):\n",
    "    import statsmodels.api as sm\n",
    "    import math\n",
    "    x = sm.add_constant(x)\n",
    "    model = sm.OLS(y,x)\n",
    "    results = model.fit()\n",
    "    sigma = math.sqrt(results.mse_resid) # standard deviation of the residual\n",
    "    slope = results.params[1]\n",
    "    res = results.resid\n",
    "    zscore = res/sigma\n",
    "    intercept = results.params[0]\n",
    "    return [slope, zscore[-1]]"
   ]
  },
  {
   "cell_type": "code",
   "execution_count": 18,
   "id": "af596e93",
   "metadata": {},
   "outputs": [],
   "source": [
    "x = np.array([10.1, 9.9, 10.2, 9.8, 10, 10, 10, 10, 10, 10])\n",
    "y = np.array([5, 4.9, 5.2, 4.8, 5, 5, 5, 5, 5, 5])"
   ]
  },
  {
   "cell_type": "code",
   "execution_count": 19,
   "id": "795bc059",
   "metadata": {},
   "outputs": [
    {
     "data": {
      "text/plain": [
       "[0.9000000000000243, 0.31622776601649666]"
      ]
     },
     "execution_count": 19,
     "metadata": {},
     "output_type": "execute_result"
    }
   ],
   "source": [
    "stats_pair_history(x, y)"
   ]
  },
  {
   "cell_type": "code",
   "execution_count": 13,
   "id": "4e322f28",
   "metadata": {},
   "outputs": [],
   "source": [
    "import statsmodels.api as sm"
   ]
  },
  {
   "cell_type": "code",
   "execution_count": 21,
   "id": "9c3c662a",
   "metadata": {},
   "outputs": [],
   "source": [
    "x = sm.add_constant(x)\n",
    "model = sm.OLS(y,x)\n",
    "results = model.fit()"
   ]
  },
  {
   "cell_type": "code",
   "execution_count": 22,
   "id": "37032f9d",
   "metadata": {},
   "outputs": [
    {
     "data": {
      "text/plain": [
       "array([-4.01,  0.9 ])"
      ]
     },
     "execution_count": 22,
     "metadata": {},
     "output_type": "execute_result"
    }
   ],
   "source": [
    "results.params"
   ]
  },
  {
   "cell_type": "code",
   "execution_count": 23,
   "id": "894d62ff",
   "metadata": {},
   "outputs": [
    {
     "data": {
      "text/plain": [
       "array([-8.0000000e-02, -8.8817842e-15,  3.0000000e-02, -1.0000000e-02,\n",
       "        1.0000000e-02,  1.0000000e-02,  1.0000000e-02,  1.0000000e-02,\n",
       "        1.0000000e-02,  1.0000000e-02])"
      ]
     },
     "execution_count": 23,
     "metadata": {},
     "output_type": "execute_result"
    }
   ],
   "source": [
    "results.resid"
   ]
  },
  {
   "cell_type": "code",
   "execution_count": null,
   "id": "a86add9a",
   "metadata": {},
   "outputs": [],
   "source": []
  }
 ],
 "metadata": {
  "kernelspec": {
   "display_name": "Python 3",
   "language": "python",
   "name": "python3"
  },
  "language_info": {
   "codemirror_mode": {
    "name": "ipython",
    "version": 3
   },
   "file_extension": ".py",
   "mimetype": "text/x-python",
   "name": "python",
   "nbconvert_exporter": "python",
   "pygments_lexer": "ipython3",
   "version": "3.7.1"
  }
 },
 "nbformat": 4,
 "nbformat_minor": 5
}
